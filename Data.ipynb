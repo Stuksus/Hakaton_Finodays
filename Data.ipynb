{
  "nbformat": 4,
  "nbformat_minor": 0,
  "metadata": {
    "colab": {
      "name": "Data.ipynb",
      "provenance": [],
      "include_colab_link": true
    },
    "kernelspec": {
      "name": "python3",
      "display_name": "Python 3"
    },
    "language_info": {
      "name": "python"
    }
  },
  "cells": [
    {
      "cell_type": "markdown",
      "metadata": {
        "id": "view-in-github",
        "colab_type": "text"
      },
      "source": [
        "<a href=\"https://colab.research.google.com/github/Stuksus/Hakaton_Finodays/blob/main/Data.ipynb\" target=\"_parent\"><img src=\"https://colab.research.google.com/assets/colab-badge.svg\" alt=\"Open In Colab\"/></a>"
      ]
    },
    {
      "cell_type": "code",
      "metadata": {
        "id": "_Fql2zkaha1A"
      },
      "source": [
        "import pandas as pd\n",
        "import matplotlib.pyplot as plt\n",
        "\n",
        "import numpy as np"
      ],
      "execution_count": null,
      "outputs": []
    },
    {
      "cell_type": "code",
      "metadata": {
        "colab": {
          "base_uri": "https://localhost:8080/"
        },
        "id": "9G9AVOU-hfn1",
        "outputId": "6f6da7b7-adfe-486b-bbcb-24d046c1419d"
      },
      "source": [
        "from google.colab import drive\n",
        "drive.mount('/content/drive')"
      ],
      "execution_count": null,
      "outputs": [
        {
          "output_type": "stream",
          "name": "stdout",
          "text": [
            "Drive already mounted at /content/drive; to attempt to forcibly remount, call drive.mount(\"/content/drive\", force_remount=True).\n"
          ]
        }
      ]
    },
    {
      "cell_type": "code",
      "metadata": {
        "id": "0gzh2YI0ihEl"
      },
      "source": [
        "data_1 = pd.read_csv(\"/content/drive/MyDrive/Хакатон/tinkoff_hackathon_data/avk_hackathon_data_account_x_balance.csv\")\n",
        "data_2 = pd.read_csv(\"/content/drive/MyDrive/Хакатон/tinkoff_hackathon_data/avk_hackathon_data_party_products.csv\")\n",
        "data_3 = pd.read_csv(\"/content/drive/MyDrive/Хакатон/tinkoff_hackathon_data/avk_hackathon_data_party_x_socdem.csv\")\n",
        "data_4 = pd.read_csv(\"/content/drive/MyDrive/Хакатон/tinkoff_hackathon_data/avk_hackathon_data_story_logs.csv\")\n",
        "data_5 = pd.read_csv(\"/content/drive/MyDrive/Хакатон/tinkoff_hackathon_data/avk_hackathon_data_story_texts.csv\")\n",
        "data_6 = pd.read_csv(\"/content/drive/MyDrive/Хакатон/tinkoff_hackathon_data/avk_hackathon_data_test_transactions.csv\")\n",
        "data_7 = pd.read_csv(\"/content/drive/MyDrive/Хакатон/tinkoff_hackathon_data/avk_hackathon_data_train_transactions.csv\")"
      ],
      "execution_count": null,
      "outputs": []
    },
    {
      "cell_type": "code",
      "metadata": {
        "colab": {
          "base_uri": "https://localhost:8080/",
          "height": 419
        },
        "id": "fNhf9sS4ix5F",
        "outputId": "183582aa-5588-44f0-dd62-fe28db017050"
      },
      "source": [
        "data_1"
      ],
      "execution_count": null,
      "outputs": [
        {
          "output_type": "execute_result",
          "data": {
            "text/html": [
              "<div>\n",
              "<style scoped>\n",
              "    .dataframe tbody tr th:only-of-type {\n",
              "        vertical-align: middle;\n",
              "    }\n",
              "\n",
              "    .dataframe tbody tr th {\n",
              "        vertical-align: top;\n",
              "    }\n",
              "\n",
              "    .dataframe thead th {\n",
              "        text-align: right;\n",
              "    }\n",
              "</style>\n",
              "<table border=\"1\" class=\"dataframe\">\n",
              "  <thead>\n",
              "    <tr style=\"text-align: right;\">\n",
              "      <th></th>\n",
              "      <th>party_rk</th>\n",
              "      <th>account_rk</th>\n",
              "      <th>prev_month</th>\n",
              "      <th>cur_month</th>\n",
              "      <th>balance_chng</th>\n",
              "    </tr>\n",
              "  </thead>\n",
              "  <tbody>\n",
              "    <tr>\n",
              "      <th>0</th>\n",
              "      <td>51607</td>\n",
              "      <td>55309</td>\n",
              "      <td>2018-12-31</td>\n",
              "      <td>2019-01-31</td>\n",
              "      <td>15000.0</td>\n",
              "    </tr>\n",
              "    <tr>\n",
              "      <th>1</th>\n",
              "      <td>59074</td>\n",
              "      <td>70471</td>\n",
              "      <td>2018-12-31</td>\n",
              "      <td>2019-01-31</td>\n",
              "      <td>0.0</td>\n",
              "    </tr>\n",
              "    <tr>\n",
              "      <th>2</th>\n",
              "      <td>33941</td>\n",
              "      <td>33065</td>\n",
              "      <td>2018-12-31</td>\n",
              "      <td>2019-01-31</td>\n",
              "      <td>-15000.0</td>\n",
              "    </tr>\n",
              "    <tr>\n",
              "      <th>3</th>\n",
              "      <td>9336</td>\n",
              "      <td>8611</td>\n",
              "      <td>2018-12-31</td>\n",
              "      <td>2019-01-31</td>\n",
              "      <td>-50000.0</td>\n",
              "    </tr>\n",
              "    <tr>\n",
              "      <th>4</th>\n",
              "      <td>13958</td>\n",
              "      <td>8421</td>\n",
              "      <td>2018-12-31</td>\n",
              "      <td>2019-01-31</td>\n",
              "      <td>-20000.0</td>\n",
              "    </tr>\n",
              "    <tr>\n",
              "      <th>...</th>\n",
              "      <td>...</td>\n",
              "      <td>...</td>\n",
              "      <td>...</td>\n",
              "      <td>...</td>\n",
              "      <td>...</td>\n",
              "    </tr>\n",
              "    <tr>\n",
              "      <th>614429</th>\n",
              "      <td>13734</td>\n",
              "      <td>124222</td>\n",
              "      <td>NaN</td>\n",
              "      <td>NaN</td>\n",
              "      <td>NaN</td>\n",
              "    </tr>\n",
              "    <tr>\n",
              "      <th>614430</th>\n",
              "      <td>33502</td>\n",
              "      <td>125615</td>\n",
              "      <td>NaN</td>\n",
              "      <td>NaN</td>\n",
              "      <td>NaN</td>\n",
              "    </tr>\n",
              "    <tr>\n",
              "      <th>614431</th>\n",
              "      <td>8735</td>\n",
              "      <td>123871</td>\n",
              "      <td>NaN</td>\n",
              "      <td>NaN</td>\n",
              "      <td>NaN</td>\n",
              "    </tr>\n",
              "    <tr>\n",
              "      <th>614432</th>\n",
              "      <td>91302</td>\n",
              "      <td>122557</td>\n",
              "      <td>NaN</td>\n",
              "      <td>NaN</td>\n",
              "      <td>NaN</td>\n",
              "    </tr>\n",
              "    <tr>\n",
              "      <th>614433</th>\n",
              "      <td>25510</td>\n",
              "      <td>124828</td>\n",
              "      <td>NaN</td>\n",
              "      <td>NaN</td>\n",
              "      <td>NaN</td>\n",
              "    </tr>\n",
              "  </tbody>\n",
              "</table>\n",
              "<p>614434 rows × 5 columns</p>\n",
              "</div>"
            ],
            "text/plain": [
              "        party_rk  account_rk  prev_month   cur_month  balance_chng\n",
              "0          51607       55309  2018-12-31  2019-01-31       15000.0\n",
              "1          59074       70471  2018-12-31  2019-01-31           0.0\n",
              "2          33941       33065  2018-12-31  2019-01-31      -15000.0\n",
              "3           9336        8611  2018-12-31  2019-01-31      -50000.0\n",
              "4          13958        8421  2018-12-31  2019-01-31      -20000.0\n",
              "...          ...         ...         ...         ...           ...\n",
              "614429     13734      124222         NaN         NaN           NaN\n",
              "614430     33502      125615         NaN         NaN           NaN\n",
              "614431      8735      123871         NaN         NaN           NaN\n",
              "614432     91302      122557         NaN         NaN           NaN\n",
              "614433     25510      124828         NaN         NaN           NaN\n",
              "\n",
              "[614434 rows x 5 columns]"
            ]
          },
          "metadata": {},
          "execution_count": 9
        }
      ]
    },
    {
      "cell_type": "code",
      "metadata": {
        "id": "b3PKbhIxjBXR",
        "colab": {
          "base_uri": "https://localhost:8080/",
          "height": 419
        },
        "outputId": "a3fac36d-1ab6-4db4-9f4e-59b44f1dadd3"
      },
      "source": [
        "data_2"
      ],
      "execution_count": null,
      "outputs": [
        {
          "output_type": "execute_result",
          "data": {
            "text/html": [
              "<div>\n",
              "<style scoped>\n",
              "    .dataframe tbody tr th:only-of-type {\n",
              "        vertical-align: middle;\n",
              "    }\n",
              "\n",
              "    .dataframe tbody tr th {\n",
              "        vertical-align: top;\n",
              "    }\n",
              "\n",
              "    .dataframe thead th {\n",
              "        text-align: right;\n",
              "    }\n",
              "</style>\n",
              "<table border=\"1\" class=\"dataframe\">\n",
              "  <thead>\n",
              "    <tr style=\"text-align: right;\">\n",
              "      <th></th>\n",
              "      <th>party_rk</th>\n",
              "      <th>product1</th>\n",
              "      <th>product2</th>\n",
              "      <th>product3</th>\n",
              "      <th>product4</th>\n",
              "      <th>product5</th>\n",
              "      <th>product6</th>\n",
              "      <th>product7</th>\n",
              "    </tr>\n",
              "  </thead>\n",
              "  <tbody>\n",
              "    <tr>\n",
              "      <th>0</th>\n",
              "      <td>74874</td>\n",
              "      <td>1</td>\n",
              "      <td>1</td>\n",
              "      <td>0</td>\n",
              "      <td>0</td>\n",
              "      <td>0</td>\n",
              "      <td>0</td>\n",
              "      <td>0</td>\n",
              "    </tr>\n",
              "    <tr>\n",
              "      <th>1</th>\n",
              "      <td>83618</td>\n",
              "      <td>0</td>\n",
              "      <td>0</td>\n",
              "      <td>1</td>\n",
              "      <td>1</td>\n",
              "      <td>1</td>\n",
              "      <td>0</td>\n",
              "      <td>0</td>\n",
              "    </tr>\n",
              "    <tr>\n",
              "      <th>2</th>\n",
              "      <td>73766</td>\n",
              "      <td>0</td>\n",
              "      <td>0</td>\n",
              "      <td>0</td>\n",
              "      <td>1</td>\n",
              "      <td>1</td>\n",
              "      <td>0</td>\n",
              "      <td>0</td>\n",
              "    </tr>\n",
              "    <tr>\n",
              "      <th>3</th>\n",
              "      <td>60218</td>\n",
              "      <td>0</td>\n",
              "      <td>1</td>\n",
              "      <td>0</td>\n",
              "      <td>0</td>\n",
              "      <td>0</td>\n",
              "      <td>0</td>\n",
              "      <td>0</td>\n",
              "    </tr>\n",
              "    <tr>\n",
              "      <th>4</th>\n",
              "      <td>47253</td>\n",
              "      <td>0</td>\n",
              "      <td>0</td>\n",
              "      <td>0</td>\n",
              "      <td>1</td>\n",
              "      <td>1</td>\n",
              "      <td>0</td>\n",
              "      <td>0</td>\n",
              "    </tr>\n",
              "    <tr>\n",
              "      <th>...</th>\n",
              "      <td>...</td>\n",
              "      <td>...</td>\n",
              "      <td>...</td>\n",
              "      <td>...</td>\n",
              "      <td>...</td>\n",
              "      <td>...</td>\n",
              "      <td>...</td>\n",
              "      <td>...</td>\n",
              "    </tr>\n",
              "    <tr>\n",
              "      <th>49995</th>\n",
              "      <td>52276</td>\n",
              "      <td>0</td>\n",
              "      <td>1</td>\n",
              "      <td>0</td>\n",
              "      <td>0</td>\n",
              "      <td>1</td>\n",
              "      <td>0</td>\n",
              "      <td>0</td>\n",
              "    </tr>\n",
              "    <tr>\n",
              "      <th>49996</th>\n",
              "      <td>53681</td>\n",
              "      <td>0</td>\n",
              "      <td>1</td>\n",
              "      <td>0</td>\n",
              "      <td>0</td>\n",
              "      <td>0</td>\n",
              "      <td>0</td>\n",
              "      <td>0</td>\n",
              "    </tr>\n",
              "    <tr>\n",
              "      <th>49997</th>\n",
              "      <td>13947</td>\n",
              "      <td>0</td>\n",
              "      <td>1</td>\n",
              "      <td>0</td>\n",
              "      <td>1</td>\n",
              "      <td>1</td>\n",
              "      <td>0</td>\n",
              "      <td>1</td>\n",
              "    </tr>\n",
              "    <tr>\n",
              "      <th>49998</th>\n",
              "      <td>94411</td>\n",
              "      <td>0</td>\n",
              "      <td>1</td>\n",
              "      <td>0</td>\n",
              "      <td>0</td>\n",
              "      <td>0</td>\n",
              "      <td>0</td>\n",
              "      <td>0</td>\n",
              "    </tr>\n",
              "    <tr>\n",
              "      <th>49999</th>\n",
              "      <td>56746</td>\n",
              "      <td>0</td>\n",
              "      <td>0</td>\n",
              "      <td>0</td>\n",
              "      <td>1</td>\n",
              "      <td>1</td>\n",
              "      <td>0</td>\n",
              "      <td>0</td>\n",
              "    </tr>\n",
              "  </tbody>\n",
              "</table>\n",
              "<p>50000 rows × 8 columns</p>\n",
              "</div>"
            ],
            "text/plain": [
              "       party_rk  product1  product2  ...  product5  product6  product7\n",
              "0         74874         1         1  ...         0         0         0\n",
              "1         83618         0         0  ...         1         0         0\n",
              "2         73766         0         0  ...         1         0         0\n",
              "3         60218         0         1  ...         0         0         0\n",
              "4         47253         0         0  ...         1         0         0\n",
              "...         ...       ...       ...  ...       ...       ...       ...\n",
              "49995     52276         0         1  ...         1         0         0\n",
              "49996     53681         0         1  ...         0         0         0\n",
              "49997     13947         0         1  ...         1         0         1\n",
              "49998     94411         0         1  ...         0         0         0\n",
              "49999     56746         0         0  ...         1         0         0\n",
              "\n",
              "[50000 rows x 8 columns]"
            ]
          },
          "metadata": {},
          "execution_count": 11
        }
      ]
    },
    {
      "cell_type": "code",
      "metadata": {
        "colab": {
          "base_uri": "https://localhost:8080/",
          "height": 419
        },
        "id": "NzixQSFclN4T",
        "outputId": "b15132a3-e7fa-48b5-e4dd-b230e73b6542"
      },
      "source": [
        "data_3"
      ],
      "execution_count": null,
      "outputs": [
        {
          "output_type": "execute_result",
          "data": {
            "text/html": [
              "<div>\n",
              "<style scoped>\n",
              "    .dataframe tbody tr th:only-of-type {\n",
              "        vertical-align: middle;\n",
              "    }\n",
              "\n",
              "    .dataframe tbody tr th {\n",
              "        vertical-align: top;\n",
              "    }\n",
              "\n",
              "    .dataframe thead th {\n",
              "        text-align: right;\n",
              "    }\n",
              "</style>\n",
              "<table border=\"1\" class=\"dataframe\">\n",
              "  <thead>\n",
              "    <tr style=\"text-align: right;\">\n",
              "      <th></th>\n",
              "      <th>party_rk</th>\n",
              "      <th>gender_cd</th>\n",
              "      <th>age</th>\n",
              "      <th>marital_status_desc</th>\n",
              "      <th>children_cnt</th>\n",
              "      <th>region_flg</th>\n",
              "    </tr>\n",
              "  </thead>\n",
              "  <tbody>\n",
              "    <tr>\n",
              "      <th>0</th>\n",
              "      <td>61243</td>\n",
              "      <td>F</td>\n",
              "      <td>70.0</td>\n",
              "      <td>NaN</td>\n",
              "      <td>0</td>\n",
              "      <td>0</td>\n",
              "    </tr>\n",
              "    <tr>\n",
              "      <th>1</th>\n",
              "      <td>66535</td>\n",
              "      <td>F</td>\n",
              "      <td>25.0</td>\n",
              "      <td>NaN</td>\n",
              "      <td>0</td>\n",
              "      <td>0</td>\n",
              "    </tr>\n",
              "    <tr>\n",
              "      <th>2</th>\n",
              "      <td>83721</td>\n",
              "      <td>M</td>\n",
              "      <td>55.0</td>\n",
              "      <td>Женат/замужем</td>\n",
              "      <td>0</td>\n",
              "      <td>0</td>\n",
              "    </tr>\n",
              "    <tr>\n",
              "      <th>3</th>\n",
              "      <td>88238</td>\n",
              "      <td>F</td>\n",
              "      <td>35.0</td>\n",
              "      <td>NaN</td>\n",
              "      <td>0</td>\n",
              "      <td>0</td>\n",
              "    </tr>\n",
              "    <tr>\n",
              "      <th>4</th>\n",
              "      <td>57179</td>\n",
              "      <td>F</td>\n",
              "      <td>30.0</td>\n",
              "      <td>Женат/замужем</td>\n",
              "      <td>0</td>\n",
              "      <td>0</td>\n",
              "    </tr>\n",
              "    <tr>\n",
              "      <th>...</th>\n",
              "      <td>...</td>\n",
              "      <td>...</td>\n",
              "      <td>...</td>\n",
              "      <td>...</td>\n",
              "      <td>...</td>\n",
              "      <td>...</td>\n",
              "    </tr>\n",
              "    <tr>\n",
              "      <th>49995</th>\n",
              "      <td>54994</td>\n",
              "      <td>M</td>\n",
              "      <td>40.0</td>\n",
              "      <td>Женат/замужем</td>\n",
              "      <td>0</td>\n",
              "      <td>0</td>\n",
              "    </tr>\n",
              "    <tr>\n",
              "      <th>49996</th>\n",
              "      <td>63391</td>\n",
              "      <td>M</td>\n",
              "      <td>35.0</td>\n",
              "      <td>Холост/не замужем</td>\n",
              "      <td>0</td>\n",
              "      <td>0</td>\n",
              "    </tr>\n",
              "    <tr>\n",
              "      <th>49997</th>\n",
              "      <td>5418</td>\n",
              "      <td>F</td>\n",
              "      <td>55.0</td>\n",
              "      <td>Холост/не замужем</td>\n",
              "      <td>0</td>\n",
              "      <td>0</td>\n",
              "    </tr>\n",
              "    <tr>\n",
              "      <th>49998</th>\n",
              "      <td>50273</td>\n",
              "      <td>F</td>\n",
              "      <td>35.0</td>\n",
              "      <td>Женат/замужем</td>\n",
              "      <td>0</td>\n",
              "      <td>0</td>\n",
              "    </tr>\n",
              "    <tr>\n",
              "      <th>49999</th>\n",
              "      <td>77268</td>\n",
              "      <td>F</td>\n",
              "      <td>35.0</td>\n",
              "      <td>NaN</td>\n",
              "      <td>0</td>\n",
              "      <td>0</td>\n",
              "    </tr>\n",
              "  </tbody>\n",
              "</table>\n",
              "<p>50000 rows × 6 columns</p>\n",
              "</div>"
            ],
            "text/plain": [
              "       party_rk gender_cd   age marital_status_desc  children_cnt  region_flg\n",
              "0         61243         F  70.0                 NaN             0           0\n",
              "1         66535         F  25.0                 NaN             0           0\n",
              "2         83721         M  55.0       Женат/замужем             0           0\n",
              "3         88238         F  35.0                 NaN             0           0\n",
              "4         57179         F  30.0       Женат/замужем             0           0\n",
              "...         ...       ...   ...                 ...           ...         ...\n",
              "49995     54994         M  40.0       Женат/замужем             0           0\n",
              "49996     63391         M  35.0   Холост/не замужем             0           0\n",
              "49997      5418         F  55.0   Холост/не замужем             0           0\n",
              "49998     50273         F  35.0       Женат/замужем             0           0\n",
              "49999     77268         F  35.0                 NaN             0           0\n",
              "\n",
              "[50000 rows x 6 columns]"
            ]
          },
          "metadata": {},
          "execution_count": 12
        }
      ]
    },
    {
      "cell_type": "code",
      "metadata": {
        "colab": {
          "base_uri": "https://localhost:8080/"
        },
        "id": "gj5KHtbylPKB",
        "outputId": "c425db4b-6535-4a01-e7e0-391ce0d7e484"
      },
      "source": [
        "data_4['event'].unique()"
      ],
      "execution_count": null,
      "outputs": [
        {
          "output_type": "execute_result",
          "data": {
            "text/plain": [
              "array(['like', 'favorite', 'dislike', '14]', '176', '177', '164', '77]',\n",
              "       '48', '161', '180', '175', '163', '174', '153', '19]', '101]',\n",
              "       '160', '54]', '159', '182', '76', '102]', '170', '173', '55]'],\n",
              "      dtype=object)"
            ]
          },
          "metadata": {},
          "execution_count": 5
        }
      ]
    },
    {
      "cell_type": "code",
      "metadata": {
        "colab": {
          "base_uri": "https://localhost:8080/"
        },
        "id": "W_jsPuiblQre",
        "outputId": "8c45a228-b92f-42ea-bc6f-670ef0811159"
      },
      "source": [
        "data_7.isnull().any()"
      ],
      "execution_count": null,
      "outputs": [
        {
          "output_type": "execute_result",
          "data": {
            "text/plain": [
              "party_rk                     False\n",
              "account_rk                   False\n",
              "financial_account_type_cd    False\n",
              "transaction_dttm             False\n",
              "transaction_type_desc        False\n",
              "transaction_amt_rur           True\n",
              "merchant_rk                   True\n",
              "merchant_type                 True\n",
              "merchant_group_rk             True\n",
              "category                      True\n",
              "dtype: bool"
            ]
          },
          "metadata": {},
          "execution_count": 30
        }
      ]
    },
    {
      "cell_type": "code",
      "metadata": {
        "id": "KR0F6u_HlRew"
      },
      "source": [
        ""
      ],
      "execution_count": null,
      "outputs": []
    },
    {
      "cell_type": "code",
      "metadata": {
        "colab": {
          "base_uri": "https://localhost:8080/",
          "height": 439
        },
        "id": "PYK9fGKBlSqS",
        "outputId": "4b7be121-ef00-42d1-b39c-2290828954e6"
      },
      "source": [
        "data_7"
      ],
      "execution_count": null,
      "outputs": [
        {
          "output_type": "execute_result",
          "data": {
            "text/html": [
              "<div>\n",
              "<style scoped>\n",
              "    .dataframe tbody tr th:only-of-type {\n",
              "        vertical-align: middle;\n",
              "    }\n",
              "\n",
              "    .dataframe tbody tr th {\n",
              "        vertical-align: top;\n",
              "    }\n",
              "\n",
              "    .dataframe thead th {\n",
              "        text-align: right;\n",
              "    }\n",
              "</style>\n",
              "<table border=\"1\" class=\"dataframe\">\n",
              "  <thead>\n",
              "    <tr style=\"text-align: right;\">\n",
              "      <th></th>\n",
              "      <th>party_rk</th>\n",
              "      <th>account_rk</th>\n",
              "      <th>financial_account_type_cd</th>\n",
              "      <th>transaction_dttm</th>\n",
              "      <th>transaction_type_desc</th>\n",
              "      <th>transaction_amt_rur</th>\n",
              "      <th>merchant_rk</th>\n",
              "      <th>merchant_type</th>\n",
              "      <th>merchant_group_rk</th>\n",
              "      <th>category</th>\n",
              "    </tr>\n",
              "  </thead>\n",
              "  <tbody>\n",
              "    <tr>\n",
              "      <th>0</th>\n",
              "      <td>20337</td>\n",
              "      <td>19666</td>\n",
              "      <td>1</td>\n",
              "      <td>2019-01-01</td>\n",
              "      <td>Покупка</td>\n",
              "      <td>84.00</td>\n",
              "      <td>88676.0</td>\n",
              "      <td>348.0</td>\n",
              "      <td>NaN</td>\n",
              "      <td>Сувениры</td>\n",
              "    </tr>\n",
              "    <tr>\n",
              "      <th>1</th>\n",
              "      <td>63404</td>\n",
              "      <td>72991</td>\n",
              "      <td>1</td>\n",
              "      <td>2019-01-01</td>\n",
              "      <td>Покупка</td>\n",
              "      <td>410.00</td>\n",
              "      <td>887248.0</td>\n",
              "      <td>330.0</td>\n",
              "      <td>725.0</td>\n",
              "      <td>Фаст Фуд</td>\n",
              "    </tr>\n",
              "    <tr>\n",
              "      <th>2</th>\n",
              "      <td>24789</td>\n",
              "      <td>23517</td>\n",
              "      <td>2</td>\n",
              "      <td>2019-01-01</td>\n",
              "      <td>Покупка</td>\n",
              "      <td>701.44</td>\n",
              "      <td>830014.0</td>\n",
              "      <td>291.0</td>\n",
              "      <td>NaN</td>\n",
              "      <td>Супермаркеты</td>\n",
              "    </tr>\n",
              "    <tr>\n",
              "      <th>3</th>\n",
              "      <td>57970</td>\n",
              "      <td>64838</td>\n",
              "      <td>2</td>\n",
              "      <td>2019-01-01</td>\n",
              "      <td>Покупка</td>\n",
              "      <td>6203.70</td>\n",
              "      <td>363834.0</td>\n",
              "      <td>278.0</td>\n",
              "      <td>454.0</td>\n",
              "      <td>Дом/Ремонт</td>\n",
              "    </tr>\n",
              "    <tr>\n",
              "      <th>4</th>\n",
              "      <td>12232</td>\n",
              "      <td>11591</td>\n",
              "      <td>2</td>\n",
              "      <td>2019-01-01</td>\n",
              "      <td>Покупка</td>\n",
              "      <td>734.53</td>\n",
              "      <td>85919.0</td>\n",
              "      <td>286.0</td>\n",
              "      <td>878.0</td>\n",
              "      <td>Супермаркеты</td>\n",
              "    </tr>\n",
              "    <tr>\n",
              "      <th>...</th>\n",
              "      <td>...</td>\n",
              "      <td>...</td>\n",
              "      <td>...</td>\n",
              "      <td>...</td>\n",
              "      <td>...</td>\n",
              "      <td>...</td>\n",
              "      <td>...</td>\n",
              "      <td>...</td>\n",
              "      <td>...</td>\n",
              "      <td>...</td>\n",
              "    </tr>\n",
              "    <tr>\n",
              "      <th>11987612</th>\n",
              "      <td>44990</td>\n",
              "      <td>111641</td>\n",
              "      <td>1</td>\n",
              "      <td>2019-12-31</td>\n",
              "      <td>Покупка</td>\n",
              "      <td>121.00</td>\n",
              "      <td>1940970.0</td>\n",
              "      <td>330.0</td>\n",
              "      <td>675.0</td>\n",
              "      <td>Фаст Фуд</td>\n",
              "    </tr>\n",
              "    <tr>\n",
              "      <th>11987613</th>\n",
              "      <td>53023</td>\n",
              "      <td>57593</td>\n",
              "      <td>2</td>\n",
              "      <td>2019-12-31</td>\n",
              "      <td>Покупка</td>\n",
              "      <td>102.29</td>\n",
              "      <td>1198564.0</td>\n",
              "      <td>286.0</td>\n",
              "      <td>NaN</td>\n",
              "      <td>Супермаркеты</td>\n",
              "    </tr>\n",
              "    <tr>\n",
              "      <th>11987614</th>\n",
              "      <td>78716</td>\n",
              "      <td>99133</td>\n",
              "      <td>1</td>\n",
              "      <td>2019-12-31</td>\n",
              "      <td>Покупка</td>\n",
              "      <td>175.00</td>\n",
              "      <td>2688766.0</td>\n",
              "      <td>229.0</td>\n",
              "      <td>901.0</td>\n",
              "      <td>Транспорт</td>\n",
              "    </tr>\n",
              "    <tr>\n",
              "      <th>11987615</th>\n",
              "      <td>73104</td>\n",
              "      <td>91039</td>\n",
              "      <td>2</td>\n",
              "      <td>2019-12-31</td>\n",
              "      <td>Покупка</td>\n",
              "      <td>185.99</td>\n",
              "      <td>1965313.0</td>\n",
              "      <td>286.0</td>\n",
              "      <td>878.0</td>\n",
              "      <td>Супермаркеты</td>\n",
              "    </tr>\n",
              "    <tr>\n",
              "      <th>11987616</th>\n",
              "      <td>42916</td>\n",
              "      <td>125082</td>\n",
              "      <td>1</td>\n",
              "      <td>2019-12-31</td>\n",
              "      <td>Покупка</td>\n",
              "      <td>431.00</td>\n",
              "      <td>2007688.0</td>\n",
              "      <td>330.0</td>\n",
              "      <td>675.0</td>\n",
              "      <td>Фаст Фуд</td>\n",
              "    </tr>\n",
              "  </tbody>\n",
              "</table>\n",
              "<p>11987617 rows × 10 columns</p>\n",
              "</div>"
            ],
            "text/plain": [
              "          party_rk  account_rk  ...  merchant_group_rk      category\n",
              "0            20337       19666  ...                NaN      Сувениры\n",
              "1            63404       72991  ...              725.0      Фаст Фуд\n",
              "2            24789       23517  ...                NaN  Супермаркеты\n",
              "3            57970       64838  ...              454.0    Дом/Ремонт\n",
              "4            12232       11591  ...              878.0  Супермаркеты\n",
              "...            ...         ...  ...                ...           ...\n",
              "11987612     44990      111641  ...              675.0      Фаст Фуд\n",
              "11987613     53023       57593  ...                NaN  Супермаркеты\n",
              "11987614     78716       99133  ...              901.0     Транспорт\n",
              "11987615     73104       91039  ...              878.0  Супермаркеты\n",
              "11987616     42916      125082  ...              675.0      Фаст Фуд\n",
              "\n",
              "[11987617 rows x 10 columns]"
            ]
          },
          "metadata": {},
          "execution_count": 16
        }
      ]
    },
    {
      "cell_type": "code",
      "metadata": {
        "colab": {
          "base_uri": "https://localhost:8080/"
        },
        "id": "LAqOD-DMlTZK",
        "outputId": "27b76484-3efe-4564-c39c-def72fef002e"
      },
      "source": [
        "data_7['category']"
      ],
      "execution_count": null,
      "outputs": [
        {
          "output_type": "execute_result",
          "data": {
            "text/plain": [
              "0               Сувениры\n",
              "1               Фаст Фуд\n",
              "2           Супермаркеты\n",
              "3             Дом/Ремонт\n",
              "4           Супермаркеты\n",
              "                ...     \n",
              "11987612        Фаст Фуд\n",
              "11987613    Супермаркеты\n",
              "11987614       Транспорт\n",
              "11987615    Супермаркеты\n",
              "11987616        Фаст Фуд\n",
              "Name: category, Length: 11987617, dtype: object"
            ]
          },
          "metadata": {},
          "execution_count": 7
        }
      ]
    },
    {
      "cell_type": "code",
      "metadata": {
        "colab": {
          "base_uri": "https://localhost:8080/"
        },
        "id": "UDEt_U7N5Hte",
        "outputId": "8ea69af5-b271-4c9b-9758-63bbc5840fcf"
      },
      "source": [
        "data_7[data_7['account_rk']== 19666]['merchant_rk']"
      ],
      "execution_count": null,
      "outputs": [
        {
          "output_type": "execute_result",
          "data": {
            "text/plain": [
              "0             88676.0\n",
              "28386       1073466.0\n",
              "32011        218889.0\n",
              "32244        803379.0\n",
              "39298        939775.0\n",
              "              ...    \n",
              "11797125     218889.0\n",
              "11800502    3037338.0\n",
              "11940666    2231439.0\n",
              "11956020     901853.0\n",
              "11957151    3036122.0\n",
              "Name: merchant_rk, Length: 305, dtype: float64"
            ]
          },
          "metadata": {},
          "execution_count": 14
        }
      ]
    },
    {
      "cell_type": "code",
      "metadata": {
        "colab": {
          "base_uri": "https://localhost:8080/"
        },
        "id": "DGkxbmY3-HWM",
        "outputId": "f5627130-5aad-40bd-e3c2-9b59090b51ce"
      },
      "source": [
        "data_7[data_7['account_rk']== 19666].count()[1]"
      ],
      "execution_count": null,
      "outputs": [
        {
          "output_type": "execute_result",
          "data": {
            "text/plain": [
              "305"
            ]
          },
          "metadata": {},
          "execution_count": 25
        }
      ]
    },
    {
      "cell_type": "code",
      "metadata": {
        "colab": {
          "base_uri": "https://localhost:8080/",
          "height": 293
        },
        "id": "v7UimfFN8RZM",
        "outputId": "ef3f532f-ffca-4108-87a4-f645a369ea67"
      },
      "source": [
        "plt.plot(np.arange(data_7[data_7['account_rk']== 19666].count()[1]), data_7[data_7['account_rk']== 19666]['merchant_rk'])"
      ],
      "execution_count": null,
      "outputs": [
        {
          "output_type": "execute_result",
          "data": {
            "text/plain": [
              "[<matplotlib.lines.Line2D at 0x7fe98abe9750>]"
            ]
          },
          "metadata": {},
          "execution_count": 26
        },
        {
          "output_type": "display_data",
          "data": {
            "image/png": "[encoded data removed]",
            "text/plain": [
              "<Figure size 432x288 with 1 Axes>"
            ]
          },
          "metadata": {
            "needs_background": "light"
          }
        }
      ]
    },
    {
      "cell_type": "code",
      "metadata": {
        "colab": {
          "base_uri": "https://localhost:8080/"
        },
        "id": "vtwYSG_h9g_J",
        "outputId": "6dfa952e-86e3-4caa-a5a5-dfef05302b31"
      },
      "source": [
        " data_7[data_7['account_rk']== 19666]['merchant_rk']"
      ],
      "execution_count": null,
      "outputs": [
        {
          "output_type": "execute_result",
          "data": {
            "text/plain": [
              "0             88676.0\n",
              "28386       1073466.0\n",
              "32011        218889.0\n",
              "32244        803379.0\n",
              "39298        939775.0\n",
              "              ...    \n",
              "11797125     218889.0\n",
              "11800502    3037338.0\n",
              "11940666    2231439.0\n",
              "11956020     901853.0\n",
              "11957151    3036122.0\n",
              "Name: merchant_rk, Length: 305, dtype: float64"
            ]
          },
          "metadata": {},
          "execution_count": 20
        }
      ]
    },
    {
      "cell_type": "code",
      "metadata": {
        "id": "KehmILI39-67"
      },
      "source": [
        ""
      ],
      "execution_count": null,
      "outputs": []
    }
  ]
}