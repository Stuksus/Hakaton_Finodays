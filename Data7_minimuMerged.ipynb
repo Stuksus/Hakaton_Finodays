{
  "nbformat": 4,
  "nbformat_minor": 0,
  "metadata": {
    "colab": {
      "name": "Копия блокнота \"Data.ipynb\"",
      "provenance": [],
      "collapsed_sections": []
    },
    "kernelspec": {
      "name": "python3",
      "display_name": "Python 3"
    },
    "language_info": {
      "name": "python"
    }
  },
  "cells": [
    {
      "cell_type": "code",
      "metadata": {
        "id": "_Fql2zkaha1A"
      },
      "source": [
        "import pandas as pd\n",
        "import matplotlib.pyplot as plt\n",
        "\n",
        "import numpy as np"
      ],
      "execution_count": null,
      "outputs": []
    },
    {
      "cell_type": "code",
      "metadata": {
        "colab": {
          "base_uri": "https://localhost:8080/"
        },
        "id": "9G9AVOU-hfn1",
        "outputId": "6a738152-2f1d-435c-b03d-bb5fc656abf3"
      },
      "source": [
        "from google.colab import drive\n",
        "drive.mount('/content/drive')"
      ],
      "execution_count": null,
      "outputs": [
        {
          "output_type": "stream",
          "name": "stdout",
          "text": [
            "Drive already mounted at /content/drive; to attempt to forcibly remount, call drive.mount(\"/content/drive\", force_remount=True).\n"
          ]
        }
      ]
    },
    {
      "cell_type": "code",
      "metadata": {
        "id": "0gzh2YI0ihEl"
      },
      "source": [
        "data_1 = pd.read_csv(\"/content/drive/MyDrive/Хакатон/tinkoff_hackathon_data/avk_hackathon_data_account_x_balance.csv\")\n",
        "data_2 = pd.read_csv(\"/content/drive/MyDrive/Хакатон/tinkoff_hackathon_data/avk_hackathon_data_party_products.csv\")\n",
        "data_3 = pd.read_csv(\"/content/drive/MyDrive/Хакатон/tinkoff_hackathon_data/avk_hackathon_data_party_x_socdem.csv\")\n",
        "data_4 = pd.read_csv(\"/content/drive/MyDrive/Хакатон/tinkoff_hackathon_data/avk_hackathon_data_story_logs.csv\")\n",
        "data_5 = pd.read_csv(\"/content/drive/MyDrive/Хакатон/tinkoff_hackathon_data/avk_hackathon_data_story_texts.csv\")\n",
        "data_6 = pd.read_csv(\"/content/drive/MyDrive/Хакатон/tinkoff_hackathon_data/avk_hackathon_data_test_transactions.csv\")\n",
        "data_7 = pd.read_csv(\"/content/drive/MyDrive/Хакатон/tinkoff_hackathon_data/avk_hackathon_data_train_transactions.csv\")"
      ],
      "execution_count": null,
      "outputs": []
    },
    {
      "cell_type": "code",
      "metadata": {
        "id": "0SlvG-C2IIKA"
      },
      "source": [
        "data_7['transaction_dttm'] = pd.to_datetime(data_7['transaction_dttm'])"
      ],
      "execution_count": null,
      "outputs": []
    },
    {
      "cell_type": "code",
      "metadata": {
        "id": "718tnh-KPTto"
      },
      "source": [
        "unique_dates = data_7['transaction_dttm'].map(lambda dt: dt.replace(day=1))"
      ],
      "execution_count": null,
      "outputs": []
    },
    {
      "cell_type": "code",
      "metadata": {
        "id": "r_ciQeqFROxM"
      },
      "source": [
        "\n",
        "u_dat = pd.DataFrame(unique_dates.unique(), columns=['transaction_dttm'])\n",
        "u_cat= pd.DataFrame(data_7.category.unique(), columns=['category'] )\n",
        "u_id = pd.DataFrame(data_7.party_rk.unique(), columns=['party_rk'] )\n",
        "\n",
        "u_dat['key'] = 1\n",
        "u_cat['key'] = 1\n",
        "u_id['key'] = 1\n",
        "\n",
        "u_data7 = pd.merge(u_id, \n",
        "                  pd.merge(u_dat, u_cat, on ='key')).drop(\"key\", 1)\n",
        "\n",
        "# u_data7 = u_data7.drop([0,'0_x','0_y'],1)"
      ],
      "execution_count": null,
      "outputs": []
    },
    {
      "cell_type": "code",
      "metadata": {
        "id": "qztVIDAQb_SV",
        "colab": {
          "base_uri": "https://localhost:8080/",
          "height": 419
        },
        "outputId": "3a4664a6-0cac-4e37-da03-9fad59069ea5"
      },
      "source": [
        "u_data7"
      ],
      "execution_count": null,
      "outputs": [
        {
          "output_type": "execute_result",
          "data": {
            "text/html": [
              "<div>\n",
              "<style scoped>\n",
              "    .dataframe tbody tr th:only-of-type {\n",
              "        vertical-align: middle;\n",
              "    }\n",
              "\n",
              "    .dataframe tbody tr th {\n",
              "        vertical-align: top;\n",
              "    }\n",
              "\n",
              "    .dataframe thead th {\n",
              "        text-align: right;\n",
              "    }\n",
              "</style>\n",
              "<table border=\"1\" class=\"dataframe\">\n",
              "  <thead>\n",
              "    <tr style=\"text-align: right;\">\n",
              "      <th></th>\n",
              "      <th>party_rk</th>\n",
              "      <th>transaction_dttm</th>\n",
              "      <th>category</th>\n",
              "    </tr>\n",
              "  </thead>\n",
              "  <tbody>\n",
              "    <tr>\n",
              "      <th>0</th>\n",
              "      <td>20337</td>\n",
              "      <td>2019-01-01</td>\n",
              "      <td>Сувениры</td>\n",
              "    </tr>\n",
              "    <tr>\n",
              "      <th>1</th>\n",
              "      <td>20337</td>\n",
              "      <td>2019-01-01</td>\n",
              "      <td>Фаст Фуд</td>\n",
              "    </tr>\n",
              "    <tr>\n",
              "      <th>2</th>\n",
              "      <td>20337</td>\n",
              "      <td>2019-01-01</td>\n",
              "      <td>Супермаркеты</td>\n",
              "    </tr>\n",
              "    <tr>\n",
              "      <th>3</th>\n",
              "      <td>20337</td>\n",
              "      <td>2019-01-01</td>\n",
              "      <td>Дом/Ремонт</td>\n",
              "    </tr>\n",
              "    <tr>\n",
              "      <th>4</th>\n",
              "      <td>20337</td>\n",
              "      <td>2019-01-01</td>\n",
              "      <td>Сервисные услуги</td>\n",
              "    </tr>\n",
              "    <tr>\n",
              "      <th>...</th>\n",
              "      <td>...</td>\n",
              "      <td>...</td>\n",
              "      <td>...</td>\n",
              "    </tr>\n",
              "    <tr>\n",
              "      <th>22199995</th>\n",
              "      <td>92718</td>\n",
              "      <td>2019-12-01</td>\n",
              "      <td>Duty Free</td>\n",
              "    </tr>\n",
              "    <tr>\n",
              "      <th>22199996</th>\n",
              "      <td>92718</td>\n",
              "      <td>2019-12-01</td>\n",
              "      <td>Турагентства</td>\n",
              "    </tr>\n",
              "    <tr>\n",
              "      <th>22199997</th>\n",
              "      <td>92718</td>\n",
              "      <td>2019-12-01</td>\n",
              "      <td>Образование</td>\n",
              "    </tr>\n",
              "    <tr>\n",
              "      <th>22199998</th>\n",
              "      <td>92718</td>\n",
              "      <td>2019-12-01</td>\n",
              "      <td>Искусство</td>\n",
              "    </tr>\n",
              "    <tr>\n",
              "      <th>22199999</th>\n",
              "      <td>92718</td>\n",
              "      <td>2019-12-01</td>\n",
              "      <td>Фото/Видео</td>\n",
              "    </tr>\n",
              "  </tbody>\n",
              "</table>\n",
              "<p>22200000 rows × 3 columns</p>\n",
              "</div>"
            ],
            "text/plain": [
              "          party_rk transaction_dttm          category\n",
              "0            20337       2019-01-01          Сувениры\n",
              "1            20337       2019-01-01          Фаст Фуд\n",
              "2            20337       2019-01-01      Супермаркеты\n",
              "3            20337       2019-01-01        Дом/Ремонт\n",
              "4            20337       2019-01-01  Сервисные услуги\n",
              "...            ...              ...               ...\n",
              "22199995     92718       2019-12-01         Duty Free\n",
              "22199996     92718       2019-12-01      Турагентства\n",
              "22199997     92718       2019-12-01       Образование\n",
              "22199998     92718       2019-12-01         Искусство\n",
              "22199999     92718       2019-12-01        Фото/Видео\n",
              "\n",
              "[22200000 rows x 3 columns]"
            ]
          },
          "metadata": {},
          "execution_count": 11
        }
      ]
    },
    {
      "cell_type": "code",
      "metadata": {
        "id": "mag_128EGfEj",
        "colab": {
          "base_uri": "https://localhost:8080/"
        },
        "outputId": "de85d367-dafd-41bf-950f-0b20cbbfcba7"
      },
      "source": [
        "df_main = data_7[['transaction_dttm', 'party_rk', 'category', 'transaction_amt_rur']]\n",
        "df_main.transaction_amt_rur = df_main['transaction_amt_rur'].fillna(-11092021.0)\n",
        "\n",
        "df_main2 = df_main.merge(u_data7, on=['transaction_dttm', 'party_rk', 'category'], how = 'right')\n",
        "df_main2.transaction_amt_rur = df_main2['transaction_amt_rur'].fillna(0)\n",
        "df_main2.transaction_amt_rur = df_main2.transaction_amt_rur.apply(lambda x: np.nan if x ==-11092021.0 else x)"
      ],
      "execution_count": null,
      "outputs": [
        {
          "output_type": "stream",
          "name": "stderr",
          "text": [
            "/usr/local/lib/python3.7/dist-packages/pandas/core/generic.py:5170: SettingWithCopyWarning: \n",
            "A value is trying to be set on a copy of a slice from a DataFrame.\n",
            "Try using .loc[row_indexer,col_indexer] = value instead\n",
            "\n",
            "See the caveats in the documentation: https://pandas.pydata.org/pandas-docs/stable/user_guide/indexing.html#returning-a-view-versus-a-copy\n",
            "  self[name] = value\n"
          ]
        }
      ]
    },
    {
      "cell_type": "code",
      "metadata": {
        "id": "lz3kikViIcOG"
      },
      "source": [
        "df_main_sort = df_main2.sort_values(by=['transaction_dttm','party_rk'])"
      ],
      "execution_count": null,
      "outputs": []
    },
    {
      "cell_type": "code",
      "metadata": {
        "id": "j46Szk4YcM0g"
      },
      "source": [
        "df_main_sort.to_csv(\"df_main_sort.csv\", index=False)"
      ],
      "execution_count": null,
      "outputs": []
    }
  ]
}