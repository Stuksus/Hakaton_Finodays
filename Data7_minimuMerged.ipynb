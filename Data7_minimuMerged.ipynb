{
  "nbformat": 4,
  "nbformat_minor": 0,
  "metadata": {
    "colab": {
      "name": "Копия блокнота \"Data.ipynb\"",
      "provenance": [],
      "collapsed_sections": []
    },
    "kernelspec": {
      "name": "python3",
      "display_name": "Python 3"
    },
    "language_info": {
      "name": "python"
    }
  },
  "cells": [
    {
      "cell_type": "code",
      "metadata": {
        "id": "_Fql2zkaha1A"
      },
      "source": [
        "import pandas as pd\n",
        "import matplotlib.pyplot as plt\n",
        "\n",
        "import numpy as np\n",
        "from datetime import datetime, timedelta\n"
      ],
      "execution_count": 2,
      "outputs": []
    },
    {
      "cell_type": "code",
      "metadata": {
        "colab": {
          "base_uri": "https://localhost:8080/"
        },
        "id": "-PYQq2qI2rCn",
        "outputId": "50d7c8b2-3923-43fa-c369-9e88491557a4"
      },
      "source": [
        "from google.colab import drive\n",
        "drive.mount('/content/drive')"
      ],
      "execution_count": 3,
      "outputs": [
        {
          "output_type": "stream",
          "name": "stdout",
          "text": [
            "Drive already mounted at /content/drive; to attempt to forcibly remount, call drive.mount(\"/content/drive\", force_remount=True).\n"
          ]
        }
      ]
    },
    {
      "cell_type": "code",
      "metadata": {
        "id": "0gzh2YI0ihEl"
      },
      "source": [
        "# data_1 = pd.read_csv(\"/content/drive/MyDrive/Хакатон/tinkoff_hackathon_data/avk_hackathon_data_account_x_balance.csv\")\n",
        "# data_2 = pd.read_csv(\"/content/drive/MyDrive/Хакатон/tinkoff_hackathon_data/avk_hackathon_data_party_products.csv\")\n",
        "# data_3 = pd.read_csv(\"/content/drive/MyDrive/Хакатон/tinkoff_hackathon_data/avk_hackathon_data_party_x_socdem.csv\")\n",
        "# data_4 = pd.read_csv(\"/content/drive/MyDrive/Хакатон/tinkoff_hackathon_data/avk_hackathon_data_story_logs.csv\")\n",
        "# data_5 = pd.read_csv(\"/content/drive/MyDrive/Хакатон/tinkoff_hackathon_data/avk_hackathon_data_story_texts.csv\")\n",
        "# data_6 = pd.read_csv(\"/content/drive/MyDrive/Хакатон/tinkoff_hackathon_data/avk_hackathon_data_test_transactions.csv\")\n",
        "data_7 = pd.read_csv(\"/content/drive/MyDrive/Хакатон/tinkoff_hackathon_data/avk_hackathon_data_train_transactions.csv\")"
      ],
      "execution_count": 4,
      "outputs": []
    },
    {
      "cell_type": "code",
      "metadata": {
        "id": "0SlvG-C2IIKA"
      },
      "source": [
        "# cast transaction_dttm to DateTime data type\n",
        "data_7['transaction_dttm'] = pd.to_datetime(data_7['transaction_dttm'])\n",
        "\n",
        "# HardCoded creation of dates [first date in every month of 2019]\n",
        "unique_dates = np.array(['2019-01-01T00:00:00.000000000', '2019-02-01T00:00:00.000000000',\n",
        "       '2019-03-01T00:00:00.000000000', '2019-04-01T00:00:00.000000000',\n",
        "       '2019-05-01T00:00:00.000000000', '2019-06-01T00:00:00.000000000',\n",
        "       '2019-07-01T00:00:00.000000000', '2019-08-01T00:00:00.000000000',\n",
        "       '2019-09-01T00:00:00.000000000', '2019-10-01T00:00:00.000000000',\n",
        "       '2019-11-01T00:00:00.000000000', '2019-12-01T00:00:00.000000000'],\n",
        "      dtype='datetime64[ns]')"
      ],
      "execution_count": 5,
      "outputs": []
    },
    {
      "cell_type": "code",
      "metadata": {
        "id": "r_ciQeqFROxM",
        "colab": {
          "base_uri": "https://localhost:8080/"
        },
        "outputId": "2272f8d8-248a-4b24-d768-032ba78f6c3c"
      },
      "source": [
        "# Constructing DataFrame of every possible combination tripplet (month,category,human)\n",
        "# through Cartesian product [dates * categories * people_id] \n",
        "# There should be 12*37*50000 = 22 200 000 of such triplets\n",
        "\n",
        "u_dat = pd.DataFrame(unique_dates, columns=['transaction_dttm'])\n",
        "u_cat= pd.DataFrame(data_7.category.unique(), columns=['category'] )\n",
        "u_id = pd.DataFrame(data_7.party_rk.unique(), columns=['party_rk'] )\n",
        "\n",
        "u_dat['key'] = 1\n",
        "u_cat['key'] = 1\n",
        "u_id['key'] = 1\n",
        "\n",
        "u_data7 = pd.merge(u_id, \n",
        "                  pd.merge(u_dat, u_cat, on ='key')).drop(\"key\", 1)\n",
        "\n",
        "# Added zero column for further easy concatation \n",
        "u_data7['transaction_amt_rur'] = 0\n",
        "u_data7.info()"
      ],
      "execution_count": 6,
      "outputs": [
        {
          "output_type": "stream",
          "name": "stdout",
          "text": [
            "<class 'pandas.core.frame.DataFrame'>\n",
            "Int64Index: 22200000 entries, 0 to 22199999\n",
            "Data columns (total 4 columns):\n",
            " #   Column               Dtype         \n",
            "---  ------               -----         \n",
            " 0   party_rk             int64         \n",
            " 1   transaction_dttm     datetime64[ns]\n",
            " 2   category             object        \n",
            " 3   transaction_amt_rur  int64         \n",
            "dtypes: datetime64[ns](1), int64(2), object(1)\n",
            "memory usage: 846.9+ MB\n"
          ]
        }
      ]
    },
    {
      "cell_type": "code",
      "metadata": {
        "id": "mag_128EGfEj",
        "colab": {
          "base_uri": "https://localhost:8080/"
        },
        "outputId": "a9a25be6-6d38-4f6b-8f01-8020485e5444"
      },
      "source": [
        "# Creating minimal sized DataFrame with columns = (transaction_dttm, human_id, category, price)\n",
        "# Every month for every human should have all 37 categories\n",
        "\n",
        "# This implemetation adds 0 expenditure for every month beginning to the main training DataFrame\n",
        "df_main = data_7[['transaction_dttm', 'party_rk', 'category', 'transaction_amt_rur']]\n",
        "df_main = pd.concat([df_main,u_data7])\n",
        "df_main.info()"
      ],
      "execution_count": 9,
      "outputs": [
        {
          "output_type": "stream",
          "name": "stdout",
          "text": [
            "<class 'pandas.core.frame.DataFrame'>\n",
            "Int64Index: 34187617 entries, 0 to 22199999\n",
            "Data columns (total 4 columns):\n",
            " #   Column               Dtype         \n",
            "---  ------               -----         \n",
            " 0   transaction_dttm     datetime64[ns]\n",
            " 1   party_rk             int64         \n",
            " 2   category             object        \n",
            " 3   transaction_amt_rur  float64       \n",
            "dtypes: datetime64[ns](1), float64(1), int64(1), object(1)\n",
            "memory usage: 1.3+ GB\n"
          ]
        }
      ]
    },
    {
      "cell_type": "code",
      "metadata": {
        "id": "lz3kikViIcOG",
        "colab": {
          "base_uri": "https://localhost:8080/",
          "height": 419
        },
        "outputId": "eeb27aa5-8123-45b4-f7f0-38bf54ba3e71"
      },
      "source": [
        "df_main_sort = df_main.sort_values(by=['transaction_dttm','party_rk'])\n",
        "df_main_sort"
      ],
      "execution_count": 14,
      "outputs": [
        {
          "output_type": "execute_result",
          "data": {
            "text/html": [
              "<div>\n",
              "<style scoped>\n",
              "    .dataframe tbody tr th:only-of-type {\n",
              "        vertical-align: middle;\n",
              "    }\n",
              "\n",
              "    .dataframe tbody tr th {\n",
              "        vertical-align: top;\n",
              "    }\n",
              "\n",
              "    .dataframe thead th {\n",
              "        text-align: right;\n",
              "    }\n",
              "</style>\n",
              "<table border=\"1\" class=\"dataframe\">\n",
              "  <thead>\n",
              "    <tr style=\"text-align: right;\">\n",
              "      <th></th>\n",
              "      <th>transaction_dttm</th>\n",
              "      <th>party_rk</th>\n",
              "      <th>category</th>\n",
              "      <th>transaction_amt_rur</th>\n",
              "    </tr>\n",
              "  </thead>\n",
              "  <tbody>\n",
              "    <tr>\n",
              "      <th>13748904</th>\n",
              "      <td>2019-01-01</td>\n",
              "      <td>1</td>\n",
              "      <td>Сувениры</td>\n",
              "      <td>0.0</td>\n",
              "    </tr>\n",
              "    <tr>\n",
              "      <th>13748905</th>\n",
              "      <td>2019-01-01</td>\n",
              "      <td>1</td>\n",
              "      <td>Фаст Фуд</td>\n",
              "      <td>0.0</td>\n",
              "    </tr>\n",
              "    <tr>\n",
              "      <th>13748906</th>\n",
              "      <td>2019-01-01</td>\n",
              "      <td>1</td>\n",
              "      <td>Супермаркеты</td>\n",
              "      <td>0.0</td>\n",
              "    </tr>\n",
              "    <tr>\n",
              "      <th>13748907</th>\n",
              "      <td>2019-01-01</td>\n",
              "      <td>1</td>\n",
              "      <td>Дом/Ремонт</td>\n",
              "      <td>0.0</td>\n",
              "    </tr>\n",
              "    <tr>\n",
              "      <th>13748908</th>\n",
              "      <td>2019-01-01</td>\n",
              "      <td>1</td>\n",
              "      <td>Сервисные услуги</td>\n",
              "      <td>0.0</td>\n",
              "    </tr>\n",
              "    <tr>\n",
              "      <th>...</th>\n",
              "      <td>...</td>\n",
              "      <td>...</td>\n",
              "      <td>...</td>\n",
              "      <td>...</td>\n",
              "    </tr>\n",
              "    <tr>\n",
              "      <th>11530073</th>\n",
              "      <td>2019-12-31</td>\n",
              "      <td>94575</td>\n",
              "      <td>Одежда/Обувь</td>\n",
              "      <td>3860.0</td>\n",
              "    </tr>\n",
              "    <tr>\n",
              "      <th>11607072</th>\n",
              "      <td>2019-12-31</td>\n",
              "      <td>94575</td>\n",
              "      <td>Супермаркеты</td>\n",
              "      <td>895.0</td>\n",
              "    </tr>\n",
              "    <tr>\n",
              "      <th>11921613</th>\n",
              "      <td>2019-12-31</td>\n",
              "      <td>94575</td>\n",
              "      <td>Фаст Фуд</td>\n",
              "      <td>592.0</td>\n",
              "    </tr>\n",
              "    <tr>\n",
              "      <th>11930989</th>\n",
              "      <td>2019-12-31</td>\n",
              "      <td>94575</td>\n",
              "      <td>NaN</td>\n",
              "      <td>10100.0</td>\n",
              "    </tr>\n",
              "    <tr>\n",
              "      <th>11985842</th>\n",
              "      <td>2019-12-31</td>\n",
              "      <td>94575</td>\n",
              "      <td>Фаст Фуд</td>\n",
              "      <td>211.0</td>\n",
              "    </tr>\n",
              "  </tbody>\n",
              "</table>\n",
              "<p>34187617 rows × 4 columns</p>\n",
              "</div>"
            ],
            "text/plain": [
              "         transaction_dttm  party_rk          category  transaction_amt_rur\n",
              "13748904       2019-01-01         1          Сувениры                  0.0\n",
              "13748905       2019-01-01         1          Фаст Фуд                  0.0\n",
              "13748906       2019-01-01         1      Супермаркеты                  0.0\n",
              "13748907       2019-01-01         1        Дом/Ремонт                  0.0\n",
              "13748908       2019-01-01         1  Сервисные услуги                  0.0\n",
              "...                   ...       ...               ...                  ...\n",
              "11530073       2019-12-31     94575      Одежда/Обувь               3860.0\n",
              "11607072       2019-12-31     94575      Супермаркеты                895.0\n",
              "11921613       2019-12-31     94575          Фаст Фуд                592.0\n",
              "11930989       2019-12-31     94575               NaN              10100.0\n",
              "11985842       2019-12-31     94575          Фаст Фуд                211.0\n",
              "\n",
              "[34187617 rows x 4 columns]"
            ]
          },
          "metadata": {},
          "execution_count": 14
        }
      ]
    },
    {
      "cell_type": "code",
      "metadata": {
        "id": "j46Szk4YcM0g"
      },
      "source": [
        "df_main_sort.to_csv(\"df_main_sort.csv\", index=False)"
      ],
      "execution_count": null,
      "outputs": []
    }
  ]
}