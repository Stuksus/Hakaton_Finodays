{
  "nbformat": 4,
  "nbformat_minor": 0,
  "metadata": {
    "colab": {
      "name": "temp_version.ipynb",
      "provenance": [],
      "collapsed_sections": [
        "Gjlkz_OGg3uf",
        "-4eX5_e4g3uk",
        "FsFKWLXpg3ur",
        "Cbcalxrdg3uv",
        "D4wHQonAg3u0",
        "g8OMghWQg3u3",
        "JYYoLCqig3u8"
      ]
    },
    "kernelspec": {
      "display_name": "Python 3",
      "language": "python",
      "name": "python3"
    },
    "language_info": {
      "codemirror_mode": {
        "name": "ipython",
        "version": 3
      },
      "file_extension": ".py",
      "mimetype": "text/x-python",
      "name": "python",
      "nbconvert_exporter": "python",
      "pygments_lexer": "ipython3",
      "version": "3.7.4"
    }
  },
  "cells": [
    {
      "cell_type": "markdown",
      "metadata": {
        "id": "OvJVGL3ag3uc"
      },
      "source": [
        "# Хакатоним ФинТех"
      ]
    },
    {
      "cell_type": "markdown",
      "metadata": {
        "id": "Gjlkz_OGg3uf"
      },
      "source": [
        "## Содержание"
      ]
    },
    {
      "cell_type": "markdown",
      "metadata": {
        "id": "OAwgf9yDg3ug"
      },
      "source": [
        "- [Загрузка библиотек](#ch1)\n",
        "- [Сбор и анализ данных](#ch2)\n",
        "    - [Загрузка данных](#ch21)\n",
        "    - [Анализ тренировочной выборки](#ch22)\n",
        "      - [df_train](#ch221)\n",
        "          - [Первичный анализ](#ch2211)\n",
        "          - [Приведение категориальных признаков к числовому виду](#ch2212)\n",
        "          - [Заполнение пропусков](#ch2213)\n",
        "      - [df_socdem](#ch222)\n",
        "          - [Первичный анализ](#ch2221)\n",
        "          - [Приведение категориальных признаков к числовому виду](#ch2222)\n",
        "          - [Заполнение пропусков](#ch2223)\n",
        "      - [df_balance](#ch223)\n",
        "          - [Первичный анализ](#ch2231)\n",
        "          - [Заполнение пропусков](#ch2233)\n",
        "      - [df_stories_texts](#ch224)\n",
        "          - [Первичный анализ](#ch2241)\n",
        "          - [Заполнение пропусков](#ch2243)\n",
        "      - [df_stories_logs](#ch225)\n",
        "          - [Первичный анализ](#ch2251)\n",
        "          - [Приведение категориальных признаков к числовому виду](#ch2252)\n",
        "          - [Заполнение пропусков](#ch2253)\n",
        "      - [df_products](#ch226)\n",
        "          - [Первичный анализ](#ch2261)\n",
        "          - [Заполнение пропусков](#ch2263)\n",
        "- [Создание единой таблицы](#ch3)\n",
        "- [Визуализация данных КАМРОН](#ch4)\n",
        "- [Стандартизация признаков](#ch7)\n",
        "- [Создание новых признаков](#ch9)\n",
        "- [Кластеризация АЛИНА](#ch10)\n",
        "- [Выбор бизнес-метрики](#ch11)\n",
        "- [Метрики задач машинного обучения, соответствующие цели задачи](#ch12)\n",
        "- [Предсказательная модель](#ch13)\n",
        "    - [Multi-output regressor](#ch131)\n",
        "- [Тестирование модели на тестовых данных](#ch15)\n",
        "- [Возможные улучшения](#ch15)\n",
        "- [Вывод](#ch16)"
      ]
    },
    {
      "cell_type": "markdown",
      "metadata": {
        "id": "QTBGcfcLg3uh"
      },
      "source": [
        "## Загрузка библиотек  <a class=\"anchor\" id=\"ch1\"></a>"
      ]
    },
    {
      "cell_type": "code",
      "metadata": {
        "colab": {
          "base_uri": "https://localhost:8080/",
          "height": 1000
        },
        "id": "lF7-u57uRS_B",
        "scrolled": true,
        "outputId": "c01de879-fa8a-4f35-c761-280ccc019035"
      },
      "source": [
        "!pip install pingouin"
      ],
      "execution_count": 4,
      "outputs": [
        {
          "output_type": "stream",
          "name": "stdout",
          "text": [
            "Collecting pingouin\n",
            "  Downloading pingouin-0.4.0.tar.gz (206 kB)\n",
            "\u001b[?25l\r\u001b[K     |█▋                              | 10 kB 20.6 MB/s eta 0:00:01\r\u001b[K     |███▏                            | 20 kB 26.1 MB/s eta 0:00:01\r\u001b[K     |████▊                           | 30 kB 13.7 MB/s eta 0:00:01\r\u001b[K     |██████▍                         | 40 kB 10.4 MB/s eta 0:00:01\r\u001b[K     |████████                        | 51 kB 4.5 MB/s eta 0:00:01\r\u001b[K     |█████████▌                      | 61 kB 4.6 MB/s eta 0:00:01\r\u001b[K     |███████████                     | 71 kB 4.5 MB/s eta 0:00:01\r\u001b[K     |████████████▊                   | 81 kB 5.1 MB/s eta 0:00:01\r\u001b[K     |██████████████▎                 | 92 kB 5.0 MB/s eta 0:00:01\r\u001b[K     |███████████████▉                | 102 kB 4.3 MB/s eta 0:00:01\r\u001b[K     |█████████████████▍              | 112 kB 4.3 MB/s eta 0:00:01\r\u001b[K     |███████████████████             | 122 kB 4.3 MB/s eta 0:00:01\r\u001b[K     |████████████████████▋           | 133 kB 4.3 MB/s eta 0:00:01\r\u001b[K     |██████████████████████▏         | 143 kB 4.3 MB/s eta 0:00:01\r\u001b[K     |███████████████████████▊        | 153 kB 4.3 MB/s eta 0:00:01\r\u001b[K     |█████████████████████████▍      | 163 kB 4.3 MB/s eta 0:00:01\r\u001b[K     |███████████████████████████     | 174 kB 4.3 MB/s eta 0:00:01\r\u001b[K     |████████████████████████████▌   | 184 kB 4.3 MB/s eta 0:00:01\r\u001b[K     |██████████████████████████████  | 194 kB 4.3 MB/s eta 0:00:01\r\u001b[K     |███████████████████████████████▊| 204 kB 4.3 MB/s eta 0:00:01\r\u001b[K     |████████████████████████████████| 206 kB 4.3 MB/s \n",
            "\u001b[?25hRequirement already satisfied: numpy>=1.19 in /usr/local/lib/python3.7/dist-packages (from pingouin) (1.19.5)\n",
            "Collecting scipy>=1.7\n",
            "  Downloading scipy-1.7.1-cp37-cp37m-manylinux_2_5_x86_64.manylinux1_x86_64.whl (28.5 MB)\n",
            "\u001b[K     |████████████████████████████████| 28.5 MB 45 kB/s \n",
            "\u001b[?25hRequirement already satisfied: pandas>=1.0 in /usr/local/lib/python3.7/dist-packages (from pingouin) (1.1.5)\n",
            "Requirement already satisfied: matplotlib>=3.0.2 in /usr/local/lib/python3.7/dist-packages (from pingouin) (3.2.2)\n",
            "Requirement already satisfied: seaborn>=0.9.0 in /usr/local/lib/python3.7/dist-packages (from pingouin) (0.11.1)\n",
            "Collecting statsmodels>=0.12.0\n",
            "  Downloading statsmodels-0.12.2-cp37-cp37m-manylinux1_x86_64.whl (9.5 MB)\n",
            "\u001b[K     |████████████████████████████████| 9.5 MB 29.4 MB/s \n",
            "\u001b[?25hRequirement already satisfied: scikit-learn in /usr/local/lib/python3.7/dist-packages (from pingouin) (0.22.2.post1)\n",
            "Collecting pandas_flavor>=0.2.0\n",
            "  Downloading pandas_flavor-0.2.0-py2.py3-none-any.whl (6.6 kB)\n",
            "Collecting outdated\n",
            "  Downloading outdated-0.2.1-py3-none-any.whl (7.5 kB)\n",
            "Requirement already satisfied: tabulate in /usr/local/lib/python3.7/dist-packages (from pingouin) (0.8.9)\n",
            "Requirement already satisfied: python-dateutil>=2.1 in /usr/local/lib/python3.7/dist-packages (from matplotlib>=3.0.2->pingouin) (2.8.2)\n",
            "Requirement already satisfied: kiwisolver>=1.0.1 in /usr/local/lib/python3.7/dist-packages (from matplotlib>=3.0.2->pingouin) (1.3.1)\n",
            "Requirement already satisfied: pyparsing!=2.0.4,!=2.1.2,!=2.1.6,>=2.0.1 in /usr/local/lib/python3.7/dist-packages (from matplotlib>=3.0.2->pingouin) (2.4.7)\n",
            "Requirement already satisfied: cycler>=0.10 in /usr/local/lib/python3.7/dist-packages (from matplotlib>=3.0.2->pingouin) (0.10.0)\n",
            "Requirement already satisfied: six in /usr/local/lib/python3.7/dist-packages (from cycler>=0.10->matplotlib>=3.0.2->pingouin) (1.15.0)\n",
            "Requirement already satisfied: pytz>=2017.2 in /usr/local/lib/python3.7/dist-packages (from pandas>=1.0->pingouin) (2018.9)\n",
            "Requirement already satisfied: xarray in /usr/local/lib/python3.7/dist-packages (from pandas_flavor>=0.2.0->pingouin) (0.18.2)\n",
            "Requirement already satisfied: patsy>=0.5 in /usr/local/lib/python3.7/dist-packages (from statsmodels>=0.12.0->pingouin) (0.5.1)\n",
            "Requirement already satisfied: requests in /usr/local/lib/python3.7/dist-packages (from outdated->pingouin) (2.23.0)\n",
            "Collecting littleutils\n",
            "  Downloading littleutils-0.2.2.tar.gz (6.6 kB)\n",
            "Requirement already satisfied: chardet<4,>=3.0.2 in /usr/local/lib/python3.7/dist-packages (from requests->outdated->pingouin) (3.0.4)\n",
            "Requirement already satisfied: certifi>=2017.4.17 in /usr/local/lib/python3.7/dist-packages (from requests->outdated->pingouin) (2021.5.30)\n",
            "Requirement already satisfied: urllib3!=1.25.0,!=1.25.1,<1.26,>=1.21.1 in /usr/local/lib/python3.7/dist-packages (from requests->outdated->pingouin) (1.24.3)\n",
            "Requirement already satisfied: idna<3,>=2.5 in /usr/local/lib/python3.7/dist-packages (from requests->outdated->pingouin) (2.10)\n",
            "Requirement already satisfied: joblib>=0.11 in /usr/local/lib/python3.7/dist-packages (from scikit-learn->pingouin) (1.0.1)\n",
            "Requirement already satisfied: setuptools>=40.4 in /usr/local/lib/python3.7/dist-packages (from xarray->pandas_flavor>=0.2.0->pingouin) (57.4.0)\n",
            "Building wheels for collected packages: pingouin, littleutils\n",
            "  Building wheel for pingouin (setup.py) ... \u001b[?25l\u001b[?25hdone\n",
            "  Created wheel for pingouin: filename=pingouin-0.4.0-py3-none-any.whl size=206904 sha256=83cf082e25a5c6313a35f0f989b57762b5eefda30fee215950ac36a31a7270f6\n",
            "  Stored in directory: /root/.cache/pip/wheels/8a/9d/c4/11677c2c4d5c0df9d1d4aa61528d868bb96e13b898e3f51c95\n",
            "  Building wheel for littleutils (setup.py) ... \u001b[?25l\u001b[?25hdone\n",
            "  Created wheel for littleutils: filename=littleutils-0.2.2-py3-none-any.whl size=7048 sha256=5784f0122566c4579020dc26a0549084d471110095bc2ce67dc6b25419ba3ff8\n",
            "  Stored in directory: /root/.cache/pip/wheels/d6/64/cd/32819b511a488e4993f2fab909a95330289c3f4e0f6ef4676d\n",
            "Successfully built pingouin littleutils\n",
            "Installing collected packages: scipy, littleutils, statsmodels, pandas-flavor, outdated, pingouin\n",
            "  Attempting uninstall: scipy\n",
            "    Found existing installation: scipy 1.4.1\n",
            "    Uninstalling scipy-1.4.1:\n",
            "      Successfully uninstalled scipy-1.4.1\n",
            "  Attempting uninstall: statsmodels\n",
            "    Found existing installation: statsmodels 0.10.2\n",
            "    Uninstalling statsmodels-0.10.2:\n",
            "      Successfully uninstalled statsmodels-0.10.2\n",
            "\u001b[31mERROR: pip's dependency resolver does not currently take into account all the packages that are installed. This behaviour is the source of the following dependency conflicts.\n",
            "albumentations 0.1.12 requires imgaug<0.2.7,>=0.2.5, but you have imgaug 0.2.9 which is incompatible.\u001b[0m\n",
            "Successfully installed littleutils-0.2.2 outdated-0.2.1 pandas-flavor-0.2.0 pingouin-0.4.0 scipy-1.7.1 statsmodels-0.12.2\n"
          ]
        },
        {
          "output_type": "display_data",
          "data": {
            "application/vnd.colab-display-data+json": {
              "pip_warning": {
                "packages": [
                  "scipy",
                  "statsmodels"
                ]
              }
            }
          },
          "metadata": {}
        }
      ]
    },
    {
      "cell_type": "code",
      "metadata": {
        "id": "xe0BwrpMg3uh"
      },
      "source": [
        "from IPython import display\n",
        "import pandas as pd\n",
        "import numpy as np\n",
        "import matplotlib.pyplot as plt\n",
        "import seaborn as sns\n",
        "import pingouin as pg\n",
        "from sklearn import preprocessing\n",
        "import statistics\n",
        "from tqdm import tqdm\n",
        "pd.set_option('display.max_rows', 500)"
      ],
      "execution_count": 1,
      "outputs": []
    },
    {
      "cell_type": "code",
      "metadata": {
        "id": "w6ASBJD-jU9t"
      },
      "source": [
        "\n",
        "def removing_outliers(column,frame, count = 0,total_outliers = 0, alpha = 1.5,max_iter = 5):\n",
        "        \"\"\"\n",
        "        Метод удаления выбросов с помощью межквартильного размаха\n",
        "\n",
        "        Параметры:\n",
        "        - column: Имя столбца, где нужно найти выбросы\n",
        "        - frame: Фрейм, где находится столбец для анализа\n",
        "        - count: Количество рекурсивных циклов проверки \n",
        "        - total_outliers: Общая сумма выбросов, найденных за все циклы проверки\n",
        "        - alpha: Коэфициент при вычислении интервала\n",
        "        - max_iter: максимальное количество циклов функции\n",
        "\n",
        "        Возвращет:\n",
        "        - frame: Обработанный фрейм\n",
        "        - leng: Количесвто выбросов на цикле\n",
        "        - total_outliers: Общее количество выбросов\n",
        "        \"\"\"\n",
        "        # Получим квантиль 25%\n",
        "        q25=np.array(frame[column].describe(percentiles=[.25,.75]).loc['25%'])\n",
        "        # Получим квантиль 75%\n",
        "        q75=np.array(frame[column].describe(percentiles=[.25,.75]).loc['75%'])\n",
        "        # Получим первую границу\n",
        "        first_part=q25-alpha*(q75-q25)\n",
        "        # Получим 2 границу\n",
        "        second_part=q75+alpha*(q75-q25)\n",
        "        # Инициализируем список для индексов, подготовленных к удалению\n",
        "        index_del= []\n",
        "        # Получим все значения, удолитворяющих промежутку\n",
        "        prep_frame = frame[(frame[column] > first_part) & (frame[column] < second_part)]\n",
        "        # Подсчет количсва удаленных выбросов\n",
        "        leng = frame.shape[0] - prep_frame.shape[0]\n",
        "        # Увеление счетчика циклов\n",
        "        count += 1\n",
        "        # Заменим исходную таблицу обработанной\n",
        "        frame = prep_frame.copy()\n",
        "        # Удалим не нужную таблицу\n",
        "        del prep_frame\n",
        "        # Проверим условия выхода\n",
        "        if leng > 0 and count < max_iter:\n",
        "            frame,leng,total_outliers = removing_outliers(column,frame, count,total_outliers+leng)\n",
        "        else:\n",
        "            print('Количество строк, выбранных для удаления {}: {}. Количество итераций {}'.format(column,total_outliers,count),end = \"\\n\\n\")\n",
        "        return frame,leng,total_outliers"
      ],
      "execution_count": 2,
      "outputs": []
    },
    {
      "cell_type": "markdown",
      "metadata": {
        "id": "-wyudLjxg3ui"
      },
      "source": [
        "## Сбор и анализ данных  <a class=\"anchor\" id=\"ch2\"></a>"
      ]
    },
    {
      "cell_type": "markdown",
      "metadata": {
        "id": "fi1Kc1OZjQNR"
      },
      "source": [
        "### Загрузка данных  <a class=\"anchor\" id=\"ch21\"></a>"
      ]
    },
    {
      "cell_type": "code",
      "metadata": {
        "id": "lS8E3Cw-hxak",
        "scrolled": false
      },
      "source": [
        "!wget  -O 'avk_hackathon_data_story_texts.csv' -q 'https://www.dropbox.com/s/ki8zzf51uxtn39h/avk_hackathon_data_story_texts.csv?dl=0'\n",
        "!wget  -O 'avk_hackathon_data_party_x_socdem.csv' -q 'https://www.dropbox.com/s/cjlo1edjbnxvp88/avk_hackathon_data_party_x_socdem.csv?dl=0'\n",
        "!wget  -O 'avk_hackathon_data_party_products.csv' -q 'https://www.dropbox.com/s/vb8fe4yhshd401y/avk_hackathon_data_party_products.csv?dl=0'\n",
        "!wget  -O 'avk_hackathon_data_account_x_balance.csv' -q 'https://www.dropbox.com/s/i94cotxyti8y7ir/avk_hackathon_data_account_x_balance.csv?dl=0'\n",
        "!wget  -O 'avk_hackathon_data_train_transactions.csv' -q 'https://www.dropbox.com/s/ui8x3dtpjht3560/avk_hackathon_data_train_transactions.csv?dl=0'\n",
        "!wget  -O 'avk_hackathon_data_story_logs.csv' -q 'https://www.dropbox.com/s/8oexjpfpn8nqrnn/avk_hackathon_data_story_logs.csv?dl=0'\n",
        "!wget  -O 'avk_hackathon_data_test_transactions.csv' -q 'https://www.dropbox.com/s/97ik1n6y3osrxug/avk_hackathon_data_test_transactions.csv?dl=0'"
      ],
      "execution_count": 3,
      "outputs": []
    },
    {
      "cell_type": "code",
      "metadata": {
        "id": "0gzh2YI0ihEl"
      },
      "source": [
        "df_test = pd.read_csv('avk_hackathon_data_test_transactions.csv', encoding='utf-8')\n",
        "df_story_texts= pd.read_csv('avk_hackathon_data_story_texts.csv')\n",
        "df_socdem = pd.read_csv('avk_hackathon_data_party_x_socdem.csv')\n",
        "df_products = pd.read_csv('avk_hackathon_data_party_products.csv')\n",
        "df_balance = pd.read_csv('avk_hackathon_data_account_x_balance.csv')\n",
        "df_train = pd.read_csv('avk_hackathon_data_train_transactions.csv')\n",
        "df_stories_logs = pd.read_csv('avk_hackathon_data_story_logs.csv')"
      ],
      "execution_count": 37,
      "outputs": []
    },
    {
      "cell_type": "markdown",
      "metadata": {
        "id": "ehP0xst3g3uk"
      },
      "source": [
        "### Анализ тренировочной выборки  <a class=\"anchor\" id=\"ch22\"></a>"
      ]
    },
    {
      "cell_type": "markdown",
      "metadata": {
        "id": "-4eX5_e4g3uk"
      },
      "source": [
        "### df_train <a class=\"anchor\" id=\"ch221\"></a>"
      ]
    },
    {
      "cell_type": "markdown",
      "metadata": {
        "id": "mtKaweP0jQNS"
      },
      "source": [
        "В данной таблице содержится информация о совершенных пользователями транзакциях, где\n",
        "<ul>\n",
        "<li><strong>party_rk</strong> - уникальный идентификационный номер клиента</li> \n",
        "<li><strong>account_rk</strong> - уникальный идентификационный номер счета</li>\n",
        "<li><strong>financial_account_type_cd</strong> - тип карты (дебетовая/кредитовая)</li>\n",
        "<li><strong>transaction_dttm</strong> - день совершения операции в формате ГГГГ-ММ-ДД</li>\n",
        "<li><strong>transaction_amt_rur</strong> - сумма транзакции в рублях</li>\n",
        "<li><strong>merchant_rk\t</strong> - идентификационный номер мерчант-аккаунта (оборудования для приема платежей)</li>  \n",
        "<li><strong>merchant_type</strong> - идентификационный номер типа мерчанта</li> \n",
        "<li><strong>merchant_group_rk</strong> - идентификационный номер мерчант-группы, обслуживающей соответствующий мерчант-аккаунт</li>\n",
        "<li><strong>category\t</strong> - категория транзакции</li>  \n",
        "</ul>\n",
        "<strong>Первичным ключом</strong> таблицы является атрибут party_rk."
      ]
    },
    {
      "cell_type": "code",
      "metadata": {
        "colab": {
          "base_uri": "https://localhost:8080/",
          "height": 222
        },
        "id": "mEWmfDVOg3uk",
        "outputId": "7e59e147-be39-4526-d338-3ed435f6c7cb"
      },
      "source": [
        "df_train.head()"
      ],
      "execution_count": 5,
      "outputs": [
        {
          "output_type": "execute_result",
          "data": {
            "text/html": [
              "<div>\n",
              "<style scoped>\n",
              "    .dataframe tbody tr th:only-of-type {\n",
              "        vertical-align: middle;\n",
              "    }\n",
              "\n",
              "    .dataframe tbody tr th {\n",
              "        vertical-align: top;\n",
              "    }\n",
              "\n",
              "    .dataframe thead th {\n",
              "        text-align: right;\n",
              "    }\n",
              "</style>\n",
              "<table border=\"1\" class=\"dataframe\">\n",
              "  <thead>\n",
              "    <tr style=\"text-align: right;\">\n",
              "      <th></th>\n",
              "      <th>party_rk</th>\n",
              "      <th>account_rk</th>\n",
              "      <th>financial_account_type_cd</th>\n",
              "      <th>transaction_dttm</th>\n",
              "      <th>transaction_type_desc</th>\n",
              "      <th>transaction_amt_rur</th>\n",
              "      <th>merchant_rk</th>\n",
              "      <th>merchant_type</th>\n",
              "      <th>merchant_group_rk</th>\n",
              "      <th>category</th>\n",
              "    </tr>\n",
              "  </thead>\n",
              "  <tbody>\n",
              "    <tr>\n",
              "      <th>0</th>\n",
              "      <td>20337</td>\n",
              "      <td>19666</td>\n",
              "      <td>1</td>\n",
              "      <td>2019-01-01</td>\n",
              "      <td>Покупка</td>\n",
              "      <td>84.00</td>\n",
              "      <td>88676.0</td>\n",
              "      <td>348.0</td>\n",
              "      <td>NaN</td>\n",
              "      <td>Сувениры</td>\n",
              "    </tr>\n",
              "    <tr>\n",
              "      <th>1</th>\n",
              "      <td>63404</td>\n",
              "      <td>72991</td>\n",
              "      <td>1</td>\n",
              "      <td>2019-01-01</td>\n",
              "      <td>Покупка</td>\n",
              "      <td>410.00</td>\n",
              "      <td>887248.0</td>\n",
              "      <td>330.0</td>\n",
              "      <td>725.0</td>\n",
              "      <td>Фаст Фуд</td>\n",
              "    </tr>\n",
              "    <tr>\n",
              "      <th>2</th>\n",
              "      <td>24789</td>\n",
              "      <td>23517</td>\n",
              "      <td>2</td>\n",
              "      <td>2019-01-01</td>\n",
              "      <td>Покупка</td>\n",
              "      <td>701.44</td>\n",
              "      <td>830014.0</td>\n",
              "      <td>291.0</td>\n",
              "      <td>NaN</td>\n",
              "      <td>Супермаркеты</td>\n",
              "    </tr>\n",
              "    <tr>\n",
              "      <th>3</th>\n",
              "      <td>57970</td>\n",
              "      <td>64838</td>\n",
              "      <td>2</td>\n",
              "      <td>2019-01-01</td>\n",
              "      <td>Покупка</td>\n",
              "      <td>6203.70</td>\n",
              "      <td>363834.0</td>\n",
              "      <td>278.0</td>\n",
              "      <td>454.0</td>\n",
              "      <td>Дом/Ремонт</td>\n",
              "    </tr>\n",
              "    <tr>\n",
              "      <th>4</th>\n",
              "      <td>12232</td>\n",
              "      <td>11591</td>\n",
              "      <td>2</td>\n",
              "      <td>2019-01-01</td>\n",
              "      <td>Покупка</td>\n",
              "      <td>734.53</td>\n",
              "      <td>85919.0</td>\n",
              "      <td>286.0</td>\n",
              "      <td>878.0</td>\n",
              "      <td>Супермаркеты</td>\n",
              "    </tr>\n",
              "  </tbody>\n",
              "</table>\n",
              "</div>"
            ],
            "text/plain": [
              "   party_rk  account_rk  ...  merchant_group_rk      category\n",
              "0     20337       19666  ...                NaN      Сувениры\n",
              "1     63404       72991  ...              725.0      Фаст Фуд\n",
              "2     24789       23517  ...                NaN  Супермаркеты\n",
              "3     57970       64838  ...              454.0    Дом/Ремонт\n",
              "4     12232       11591  ...              878.0  Супермаркеты\n",
              "\n",
              "[5 rows x 10 columns]"
            ]
          },
          "metadata": {},
          "execution_count": 5
        }
      ]
    },
    {
      "cell_type": "markdown",
      "metadata": {
        "id": "ofIiLT9qjQNT"
      },
      "source": [
        "##### Первичный анализ <a class=\"anchor\" id=\"ch2211\"></a>"
      ]
    },
    {
      "cell_type": "code",
      "metadata": {
        "colab": {
          "base_uri": "https://localhost:8080/"
        },
        "id": "1e2qF5JAg3ul",
        "outputId": "b3853aa0-1ff1-463a-f67a-6668e4c7b4ba"
      },
      "source": [
        "print('Количество строк: {}, количество столбцов: {}'.format(df_train.shape[0], df_train.shape[1]))"
      ],
      "execution_count": 6,
      "outputs": [
        {
          "output_type": "stream",
          "name": "stdout",
          "text": [
            "Количество строк: 11987617, количество столбцов: 10\n"
          ]
        }
      ]
    },
    {
      "cell_type": "code",
      "metadata": {
        "colab": {
          "base_uri": "https://localhost:8080/"
        },
        "id": "p2AQpeMdg3um",
        "outputId": "b3bbe360-b84d-440b-aa07-333b9dbbf773"
      },
      "source": [
        "df_train.info()"
      ],
      "execution_count": 7,
      "outputs": [
        {
          "output_type": "stream",
          "name": "stdout",
          "text": [
            "<class 'pandas.core.frame.DataFrame'>\n",
            "RangeIndex: 11987617 entries, 0 to 11987616\n",
            "Data columns (total 10 columns):\n",
            " #   Column                     Dtype  \n",
            "---  ------                     -----  \n",
            " 0   party_rk                   int64  \n",
            " 1   account_rk                 int64  \n",
            " 2   financial_account_type_cd  int64  \n",
            " 3   transaction_dttm           object \n",
            " 4   transaction_type_desc      object \n",
            " 5   transaction_amt_rur        float64\n",
            " 6   merchant_rk                float64\n",
            " 7   merchant_type              float64\n",
            " 8   merchant_group_rk          float64\n",
            " 9   category                   object \n",
            "dtypes: float64(4), int64(3), object(3)\n",
            "memory usage: 914.6+ MB\n"
          ]
        }
      ]
    },
    {
      "cell_type": "code",
      "metadata": {
        "id": "XL2yvzAtjQNU",
        "colab": {
          "base_uri": "https://localhost:8080/",
          "height": 171
        },
        "outputId": "5ed234ff-ed0e-4af8-a971-68ab03c1ce8e"
      },
      "source": [
        "df_train['transaction_type_desc'].value_counts().reset_index()"
      ],
      "execution_count": 8,
      "outputs": [
        {
          "output_type": "execute_result",
          "data": {
            "text/html": [
              "<div>\n",
              "<style scoped>\n",
              "    .dataframe tbody tr th:only-of-type {\n",
              "        vertical-align: middle;\n",
              "    }\n",
              "\n",
              "    .dataframe tbody tr th {\n",
              "        vertical-align: top;\n",
              "    }\n",
              "\n",
              "    .dataframe thead th {\n",
              "        text-align: right;\n",
              "    }\n",
              "</style>\n",
              "<table border=\"1\" class=\"dataframe\">\n",
              "  <thead>\n",
              "    <tr style=\"text-align: right;\">\n",
              "      <th></th>\n",
              "      <th>index</th>\n",
              "      <th>transaction_type_desc</th>\n",
              "    </tr>\n",
              "  </thead>\n",
              "  <tbody>\n",
              "    <tr>\n",
              "      <th>0</th>\n",
              "      <td>Покупка</td>\n",
              "      <td>9157744</td>\n",
              "    </tr>\n",
              "    <tr>\n",
              "      <th>1</th>\n",
              "      <td>Платеж</td>\n",
              "      <td>1977602</td>\n",
              "    </tr>\n",
              "    <tr>\n",
              "      <th>2</th>\n",
              "      <td>Оплата услуг</td>\n",
              "      <td>581098</td>\n",
              "    </tr>\n",
              "    <tr>\n",
              "      <th>3</th>\n",
              "      <td>Снятие наличных</td>\n",
              "      <td>271173</td>\n",
              "    </tr>\n",
              "  </tbody>\n",
              "</table>\n",
              "</div>"
            ],
            "text/plain": [
              "             index  transaction_type_desc\n",
              "0          Покупка                9157744\n",
              "1           Платеж                1977602\n",
              "2     Оплата услуг                 581098\n",
              "3  Снятие наличных                 271173"
            ]
          },
          "metadata": {},
          "execution_count": 8
        }
      ]
    },
    {
      "cell_type": "code",
      "metadata": {
        "scrolled": true,
        "id": "qiu2G4MKjQNU",
        "colab": {
          "base_uri": "https://localhost:8080/",
          "height": 1000
        },
        "outputId": "96c1836b-f83a-4bcb-dca0-fee12c0e08cb"
      },
      "source": [
        "df_train['category'].value_counts().reset_index()"
      ],
      "execution_count": 9,
      "outputs": [
        {
          "output_type": "execute_result",
          "data": {
            "text/html": [
              "<div>\n",
              "<style scoped>\n",
              "    .dataframe tbody tr th:only-of-type {\n",
              "        vertical-align: middle;\n",
              "    }\n",
              "\n",
              "    .dataframe tbody tr th {\n",
              "        vertical-align: top;\n",
              "    }\n",
              "\n",
              "    .dataframe thead th {\n",
              "        text-align: right;\n",
              "    }\n",
              "</style>\n",
              "<table border=\"1\" class=\"dataframe\">\n",
              "  <thead>\n",
              "    <tr style=\"text-align: right;\">\n",
              "      <th></th>\n",
              "      <th>index</th>\n",
              "      <th>category</th>\n",
              "    </tr>\n",
              "  </thead>\n",
              "  <tbody>\n",
              "    <tr>\n",
              "      <th>0</th>\n",
              "      <td>Супермаркеты</td>\n",
              "      <td>3938925</td>\n",
              "    </tr>\n",
              "    <tr>\n",
              "      <th>1</th>\n",
              "      <td>Фаст Фуд</td>\n",
              "      <td>1007549</td>\n",
              "    </tr>\n",
              "    <tr>\n",
              "      <th>2</th>\n",
              "      <td>Транспорт</td>\n",
              "      <td>839906</td>\n",
              "    </tr>\n",
              "    <tr>\n",
              "      <th>3</th>\n",
              "      <td>Финансовые услуги</td>\n",
              "      <td>787258</td>\n",
              "    </tr>\n",
              "    <tr>\n",
              "      <th>4</th>\n",
              "      <td>Разные товары</td>\n",
              "      <td>531127</td>\n",
              "    </tr>\n",
              "    <tr>\n",
              "      <th>5</th>\n",
              "      <td>Рестораны</td>\n",
              "      <td>401255</td>\n",
              "    </tr>\n",
              "    <tr>\n",
              "      <th>6</th>\n",
              "      <td>Топливо</td>\n",
              "      <td>398397</td>\n",
              "    </tr>\n",
              "    <tr>\n",
              "      <th>7</th>\n",
              "      <td>Аптеки</td>\n",
              "      <td>311316</td>\n",
              "    </tr>\n",
              "    <tr>\n",
              "      <th>8</th>\n",
              "      <td>Наличные</td>\n",
              "      <td>271948</td>\n",
              "    </tr>\n",
              "    <tr>\n",
              "      <th>9</th>\n",
              "      <td>Дом/Ремонт</td>\n",
              "      <td>268370</td>\n",
              "    </tr>\n",
              "    <tr>\n",
              "      <th>10</th>\n",
              "      <td>Одежда/Обувь</td>\n",
              "      <td>255282</td>\n",
              "    </tr>\n",
              "    <tr>\n",
              "      <th>11</th>\n",
              "      <td>Красота</td>\n",
              "      <td>110076</td>\n",
              "    </tr>\n",
              "    <tr>\n",
              "      <th>12</th>\n",
              "      <td>Сервисные услуги</td>\n",
              "      <td>100588</td>\n",
              "    </tr>\n",
              "    <tr>\n",
              "      <th>13</th>\n",
              "      <td>Развлечения</td>\n",
              "      <td>100322</td>\n",
              "    </tr>\n",
              "    <tr>\n",
              "      <th>14</th>\n",
              "      <td>Связь/Телеком</td>\n",
              "      <td>96478</td>\n",
              "    </tr>\n",
              "    <tr>\n",
              "      <th>15</th>\n",
              "      <td>Автоуслуги</td>\n",
              "      <td>88739</td>\n",
              "    </tr>\n",
              "    <tr>\n",
              "      <th>16</th>\n",
              "      <td>Медицинские услуги</td>\n",
              "      <td>56868</td>\n",
              "    </tr>\n",
              "    <tr>\n",
              "      <th>17</th>\n",
              "      <td>НКО</td>\n",
              "      <td>56458</td>\n",
              "    </tr>\n",
              "    <tr>\n",
              "      <th>18</th>\n",
              "      <td>Музыка</td>\n",
              "      <td>54557</td>\n",
              "    </tr>\n",
              "    <tr>\n",
              "      <th>19</th>\n",
              "      <td>Госсборы</td>\n",
              "      <td>50377</td>\n",
              "    </tr>\n",
              "    <tr>\n",
              "      <th>20</th>\n",
              "      <td>Кино</td>\n",
              "      <td>43165</td>\n",
              "    </tr>\n",
              "    <tr>\n",
              "      <th>21</th>\n",
              "      <td>Аренда авто</td>\n",
              "      <td>39967</td>\n",
              "    </tr>\n",
              "    <tr>\n",
              "      <th>22</th>\n",
              "      <td>Книги</td>\n",
              "      <td>37376</td>\n",
              "    </tr>\n",
              "    <tr>\n",
              "      <th>23</th>\n",
              "      <td>Спорттовары</td>\n",
              "      <td>35619</td>\n",
              "    </tr>\n",
              "    <tr>\n",
              "      <th>24</th>\n",
              "      <td>Животные</td>\n",
              "      <td>34606</td>\n",
              "    </tr>\n",
              "    <tr>\n",
              "      <th>25</th>\n",
              "      <td>Ж/д билеты</td>\n",
              "      <td>30980</td>\n",
              "    </tr>\n",
              "    <tr>\n",
              "      <th>26</th>\n",
              "      <td>Авиабилеты</td>\n",
              "      <td>30293</td>\n",
              "    </tr>\n",
              "    <tr>\n",
              "      <th>27</th>\n",
              "      <td>Цветы</td>\n",
              "      <td>29304</td>\n",
              "    </tr>\n",
              "    <tr>\n",
              "      <th>28</th>\n",
              "      <td>Отели</td>\n",
              "      <td>29273</td>\n",
              "    </tr>\n",
              "    <tr>\n",
              "      <th>29</th>\n",
              "      <td>Частные услуги</td>\n",
              "      <td>24436</td>\n",
              "    </tr>\n",
              "    <tr>\n",
              "      <th>30</th>\n",
              "      <td>Сувениры</td>\n",
              "      <td>16465</td>\n",
              "    </tr>\n",
              "    <tr>\n",
              "      <th>31</th>\n",
              "      <td>Образование</td>\n",
              "      <td>9008</td>\n",
              "    </tr>\n",
              "    <tr>\n",
              "      <th>32</th>\n",
              "      <td>Турагентства</td>\n",
              "      <td>6582</td>\n",
              "    </tr>\n",
              "    <tr>\n",
              "      <th>33</th>\n",
              "      <td>Duty Free</td>\n",
              "      <td>6107</td>\n",
              "    </tr>\n",
              "    <tr>\n",
              "      <th>34</th>\n",
              "      <td>Фото/Видео</td>\n",
              "      <td>5751</td>\n",
              "    </tr>\n",
              "    <tr>\n",
              "      <th>35</th>\n",
              "      <td>Искусство</td>\n",
              "      <td>1872</td>\n",
              "    </tr>\n",
              "  </tbody>\n",
              "</table>\n",
              "</div>"
            ],
            "text/plain": [
              "                 index  category\n",
              "0         Супермаркеты   3938925\n",
              "1             Фаст Фуд   1007549\n",
              "2            Транспорт    839906\n",
              "3    Финансовые услуги    787258\n",
              "4        Разные товары    531127\n",
              "5            Рестораны    401255\n",
              "6              Топливо    398397\n",
              "7               Аптеки    311316\n",
              "8             Наличные    271948\n",
              "9           Дом/Ремонт    268370\n",
              "10        Одежда/Обувь    255282\n",
              "11             Красота    110076\n",
              "12    Сервисные услуги    100588\n",
              "13         Развлечения    100322\n",
              "14       Связь/Телеком     96478\n",
              "15          Автоуслуги     88739\n",
              "16  Медицинские услуги     56868\n",
              "17                 НКО     56458\n",
              "18              Музыка     54557\n",
              "19            Госсборы     50377\n",
              "20                Кино     43165\n",
              "21         Аренда авто     39967\n",
              "22               Книги     37376\n",
              "23         Спорттовары     35619\n",
              "24            Животные     34606\n",
              "25          Ж/д билеты     30980\n",
              "26          Авиабилеты     30293\n",
              "27               Цветы     29304\n",
              "28               Отели     29273\n",
              "29      Частные услуги     24436\n",
              "30            Сувениры     16465\n",
              "31         Образование      9008\n",
              "32        Турагентства      6582\n",
              "33           Duty Free      6107\n",
              "34          Фото/Видео      5751\n",
              "35           Искусство      1872"
            ]
          },
          "metadata": {},
          "execution_count": 9
        }
      ]
    },
    {
      "cell_type": "code",
      "metadata": {
        "id": "xndXrxOojQNU",
        "colab": {
          "base_uri": "https://localhost:8080/",
          "height": 294
        },
        "outputId": "18517243-cd7b-47c7-be8d-40094995dede"
      },
      "source": [
        "df_train.describe().round(3)"
      ],
      "execution_count": 10,
      "outputs": [
        {
          "output_type": "execute_result",
          "data": {
            "text/html": [
              "<div>\n",
              "<style scoped>\n",
              "    .dataframe tbody tr th:only-of-type {\n",
              "        vertical-align: middle;\n",
              "    }\n",
              "\n",
              "    .dataframe tbody tr th {\n",
              "        vertical-align: top;\n",
              "    }\n",
              "\n",
              "    .dataframe thead th {\n",
              "        text-align: right;\n",
              "    }\n",
              "</style>\n",
              "<table border=\"1\" class=\"dataframe\">\n",
              "  <thead>\n",
              "    <tr style=\"text-align: right;\">\n",
              "      <th></th>\n",
              "      <th>party_rk</th>\n",
              "      <th>account_rk</th>\n",
              "      <th>financial_account_type_cd</th>\n",
              "      <th>transaction_amt_rur</th>\n",
              "      <th>merchant_rk</th>\n",
              "      <th>merchant_type</th>\n",
              "      <th>merchant_group_rk</th>\n",
              "    </tr>\n",
              "  </thead>\n",
              "  <tbody>\n",
              "    <tr>\n",
              "      <th>count</th>\n",
              "      <td>1.198762e+07</td>\n",
              "      <td>1.198762e+07</td>\n",
              "      <td>11987617.00</td>\n",
              "      <td>1.198761e+07</td>\n",
              "      <td>1.198664e+07</td>\n",
              "      <td>1.198595e+07</td>\n",
              "      <td>5763654.000</td>\n",
              "    </tr>\n",
              "    <tr>\n",
              "      <th>mean</th>\n",
              "      <td>4.300785e+04</td>\n",
              "      <td>5.390717e+04</td>\n",
              "      <td>1.67</td>\n",
              "      <td>3.186888e+03</td>\n",
              "      <td>1.120440e+06</td>\n",
              "      <td>2.666720e+02</td>\n",
              "      <td>785.665</td>\n",
              "    </tr>\n",
              "    <tr>\n",
              "      <th>std</th>\n",
              "      <td>2.540438e+04</td>\n",
              "      <td>3.313377e+04</td>\n",
              "      <td>0.47</td>\n",
              "      <td>2.447061e+04</td>\n",
              "      <td>7.462046e+05</td>\n",
              "      <td>1.215150e+02</td>\n",
              "      <td>550.641</td>\n",
              "    </tr>\n",
              "    <tr>\n",
              "      <th>min</th>\n",
              "      <td>1.000000e+00</td>\n",
              "      <td>1.000000e+00</td>\n",
              "      <td>1.00</td>\n",
              "      <td>1.000000e+01</td>\n",
              "      <td>4.000000e+00</td>\n",
              "      <td>1.000000e+00</td>\n",
              "      <td>2.000</td>\n",
              "    </tr>\n",
              "    <tr>\n",
              "      <th>25%</th>\n",
              "      <td>2.117500e+04</td>\n",
              "      <td>2.537100e+04</td>\n",
              "      <td>1.00</td>\n",
              "      <td>1.599000e+02</td>\n",
              "      <td>4.556840e+05</td>\n",
              "      <td>2.750000e+02</td>\n",
              "      <td>341.000</td>\n",
              "    </tr>\n",
              "    <tr>\n",
              "      <th>50%</th>\n",
              "      <td>4.216800e+04</td>\n",
              "      <td>5.146000e+04</td>\n",
              "      <td>2.00</td>\n",
              "      <td>3.910000e+02</td>\n",
              "      <td>1.070370e+06</td>\n",
              "      <td>2.860000e+02</td>\n",
              "      <td>748.000</td>\n",
              "    </tr>\n",
              "    <tr>\n",
              "      <th>75%</th>\n",
              "      <td>6.319900e+04</td>\n",
              "      <td>8.032600e+04</td>\n",
              "      <td>2.00</td>\n",
              "      <td>1.225000e+03</td>\n",
              "      <td>1.650108e+06</td>\n",
              "      <td>3.300000e+02</td>\n",
              "      <td>930.000</td>\n",
              "    </tr>\n",
              "    <tr>\n",
              "      <th>max</th>\n",
              "      <td>9.461000e+04</td>\n",
              "      <td>1.261720e+05</td>\n",
              "      <td>2.00</td>\n",
              "      <td>2.000010e+07</td>\n",
              "      <td>3.057837e+06</td>\n",
              "      <td>4.980000e+02</td>\n",
              "      <td>2961.000</td>\n",
              "    </tr>\n",
              "  </tbody>\n",
              "</table>\n",
              "</div>"
            ],
            "text/plain": [
              "           party_rk    account_rk  ...  merchant_type  merchant_group_rk\n",
              "count  1.198762e+07  1.198762e+07  ...   1.198595e+07        5763654.000\n",
              "mean   4.300785e+04  5.390717e+04  ...   2.666720e+02            785.665\n",
              "std    2.540438e+04  3.313377e+04  ...   1.215150e+02            550.641\n",
              "min    1.000000e+00  1.000000e+00  ...   1.000000e+00              2.000\n",
              "25%    2.117500e+04  2.537100e+04  ...   2.750000e+02            341.000\n",
              "50%    4.216800e+04  5.146000e+04  ...   2.860000e+02            748.000\n",
              "75%    6.319900e+04  8.032600e+04  ...   3.300000e+02            930.000\n",
              "max    9.461000e+04  1.261720e+05  ...   4.980000e+02           2961.000\n",
              "\n",
              "[8 rows x 7 columns]"
            ]
          },
          "metadata": {},
          "execution_count": 10
        }
      ]
    },
    {
      "cell_type": "markdown",
      "metadata": {
        "id": "omkZ6QnKg3un"
      },
      "source": [
        "Заметим, что у признака 'transaction_dttm', который представляет из себя дату транзакции, тип object, хотя должен быть тип datetime."
      ]
    },
    {
      "cell_type": "code",
      "metadata": {
        "id": "0SlvG-C2IIKA"
      },
      "source": [
        "df_train['transaction_dttm'] = pd.to_datetime(df_train['transaction_dttm'])"
      ],
      "execution_count": 11,
      "outputs": []
    },
    {
      "cell_type": "markdown",
      "metadata": {
        "id": "5ySFWJQ4jQNV"
      },
      "source": [
        "##### Приведение категориальных признаков к числовому виду <a class=\"anchor\" id=\"ch2212\"></a>"
      ]
    },
    {
      "cell_type": "code",
      "metadata": {
        "id": "xc0lU029shzw"
      },
      "source": [
        "# category - категориальный признак, переведем его в тип int\n",
        "df_train['category'] = df_train['category'].fillna('')\n",
        "df_train['category'] = df_train['category'].astype(str)\n",
        "\n",
        "le_category_train = preprocessing.LabelEncoder()\n",
        "le_category_train.fit(df_train['category'])\n",
        "df_train['category'] = le_category_train.transform(df_train['category'])"
      ],
      "execution_count": 12,
      "outputs": []
    },
    {
      "cell_type": "code",
      "metadata": {
        "id": "ntn_ipEfwHvd"
      },
      "source": [
        "# transaction_type_desc - категориальный признак, переведем его в тип int\n",
        "le_transaction = preprocessing.LabelEncoder()\n",
        "le_transaction.fit(df_train['transaction_type_desc'])\n",
        "df_train['transaction_type_desc'] = le_transaction.transform(df_train['transaction_type_desc'])"
      ],
      "execution_count": 13,
      "outputs": []
    },
    {
      "cell_type": "markdown",
      "metadata": {
        "id": "lobA6rt-jQNW"
      },
      "source": [
        "##### Заполнение пропусков <a class=\"anchor\" id=\"ch2213\"></a>"
      ]
    },
    {
      "cell_type": "code",
      "metadata": {
        "id": "hlm2EdWbjQNW",
        "colab": {
          "base_uri": "https://localhost:8080/",
          "height": 132
        },
        "outputId": "1254a7da-8acd-46fa-d650-977674ac8231"
      },
      "source": [
        "print(\"\\nКоличество пропущенных значений:\")\n",
        "df_train.isna().sum().to_frame().sort_values(0, ascending = False).T"
      ],
      "execution_count": 14,
      "outputs": [
        {
          "output_type": "stream",
          "name": "stdout",
          "text": [
            "\n",
            "Количество пропущенных значений:\n"
          ]
        },
        {
          "output_type": "execute_result",
          "data": {
            "text/html": [
              "<div>\n",
              "<style scoped>\n",
              "    .dataframe tbody tr th:only-of-type {\n",
              "        vertical-align: middle;\n",
              "    }\n",
              "\n",
              "    .dataframe tbody tr th {\n",
              "        vertical-align: top;\n",
              "    }\n",
              "\n",
              "    .dataframe thead th {\n",
              "        text-align: right;\n",
              "    }\n",
              "</style>\n",
              "<table border=\"1\" class=\"dataframe\">\n",
              "  <thead>\n",
              "    <tr style=\"text-align: right;\">\n",
              "      <th></th>\n",
              "      <th>merchant_group_rk</th>\n",
              "      <th>merchant_type</th>\n",
              "      <th>merchant_rk</th>\n",
              "      <th>transaction_amt_rur</th>\n",
              "      <th>party_rk</th>\n",
              "      <th>account_rk</th>\n",
              "      <th>financial_account_type_cd</th>\n",
              "      <th>transaction_dttm</th>\n",
              "      <th>transaction_type_desc</th>\n",
              "      <th>category</th>\n",
              "    </tr>\n",
              "  </thead>\n",
              "  <tbody>\n",
              "    <tr>\n",
              "      <th>0</th>\n",
              "      <td>6223963</td>\n",
              "      <td>1665</td>\n",
              "      <td>976</td>\n",
              "      <td>6</td>\n",
              "      <td>0</td>\n",
              "      <td>0</td>\n",
              "      <td>0</td>\n",
              "      <td>0</td>\n",
              "      <td>0</td>\n",
              "      <td>0</td>\n",
              "    </tr>\n",
              "  </tbody>\n",
              "</table>\n",
              "</div>"
            ],
            "text/plain": [
              "   merchant_group_rk  merchant_type  ...  transaction_type_desc  category\n",
              "0            6223963           1665  ...                      0         0\n",
              "\n",
              "[1 rows x 10 columns]"
            ]
          },
          "metadata": {},
          "execution_count": 14
        }
      ]
    },
    {
      "cell_type": "code",
      "metadata": {
        "id": "Y73OkDfXGf-B"
      },
      "source": [
        "df_train = df_train.drop(['account_rk','merchant_rk','merchant_group_rk'], axis = 1)"
      ],
      "execution_count": 15,
      "outputs": []
    },
    {
      "cell_type": "code",
      "metadata": {
        "colab": {
          "base_uri": "https://localhost:8080/",
          "height": 414
        },
        "id": "qhqG9DuuFI98",
        "outputId": "becfbd0e-94cb-4c46-8b65-bef399e8b341"
      },
      "source": [
        "df_train"
      ],
      "execution_count": 16,
      "outputs": [
        {
          "output_type": "execute_result",
          "data": {
            "text/html": [
              "<div>\n",
              "<style scoped>\n",
              "    .dataframe tbody tr th:only-of-type {\n",
              "        vertical-align: middle;\n",
              "    }\n",
              "\n",
              "    .dataframe tbody tr th {\n",
              "        vertical-align: top;\n",
              "    }\n",
              "\n",
              "    .dataframe thead th {\n",
              "        text-align: right;\n",
              "    }\n",
              "</style>\n",
              "<table border=\"1\" class=\"dataframe\">\n",
              "  <thead>\n",
              "    <tr style=\"text-align: right;\">\n",
              "      <th></th>\n",
              "      <th>party_rk</th>\n",
              "      <th>financial_account_type_cd</th>\n",
              "      <th>transaction_dttm</th>\n",
              "      <th>transaction_type_desc</th>\n",
              "      <th>transaction_amt_rur</th>\n",
              "      <th>merchant_type</th>\n",
              "      <th>category</th>\n",
              "    </tr>\n",
              "  </thead>\n",
              "  <tbody>\n",
              "    <tr>\n",
              "      <th>0</th>\n",
              "      <td>20337</td>\n",
              "      <td>1</td>\n",
              "      <td>2019-01-01</td>\n",
              "      <td>2</td>\n",
              "      <td>84.00</td>\n",
              "      <td>348.0</td>\n",
              "      <td>27</td>\n",
              "    </tr>\n",
              "    <tr>\n",
              "      <th>1</th>\n",
              "      <td>63404</td>\n",
              "      <td>1</td>\n",
              "      <td>2019-01-01</td>\n",
              "      <td>2</td>\n",
              "      <td>410.00</td>\n",
              "      <td>330.0</td>\n",
              "      <td>32</td>\n",
              "    </tr>\n",
              "    <tr>\n",
              "      <th>2</th>\n",
              "      <td>24789</td>\n",
              "      <td>2</td>\n",
              "      <td>2019-01-01</td>\n",
              "      <td>2</td>\n",
              "      <td>701.44</td>\n",
              "      <td>291.0</td>\n",
              "      <td>28</td>\n",
              "    </tr>\n",
              "    <tr>\n",
              "      <th>3</th>\n",
              "      <td>57970</td>\n",
              "      <td>2</td>\n",
              "      <td>2019-01-01</td>\n",
              "      <td>2</td>\n",
              "      <td>6203.70</td>\n",
              "      <td>278.0</td>\n",
              "      <td>7</td>\n",
              "    </tr>\n",
              "    <tr>\n",
              "      <th>4</th>\n",
              "      <td>12232</td>\n",
              "      <td>2</td>\n",
              "      <td>2019-01-01</td>\n",
              "      <td>2</td>\n",
              "      <td>734.53</td>\n",
              "      <td>286.0</td>\n",
              "      <td>28</td>\n",
              "    </tr>\n",
              "    <tr>\n",
              "      <th>...</th>\n",
              "      <td>...</td>\n",
              "      <td>...</td>\n",
              "      <td>...</td>\n",
              "      <td>...</td>\n",
              "      <td>...</td>\n",
              "      <td>...</td>\n",
              "      <td>...</td>\n",
              "    </tr>\n",
              "    <tr>\n",
              "      <th>11987612</th>\n",
              "      <td>44990</td>\n",
              "      <td>1</td>\n",
              "      <td>2019-12-31</td>\n",
              "      <td>2</td>\n",
              "      <td>121.00</td>\n",
              "      <td>330.0</td>\n",
              "      <td>32</td>\n",
              "    </tr>\n",
              "    <tr>\n",
              "      <th>11987613</th>\n",
              "      <td>53023</td>\n",
              "      <td>2</td>\n",
              "      <td>2019-12-31</td>\n",
              "      <td>2</td>\n",
              "      <td>102.29</td>\n",
              "      <td>286.0</td>\n",
              "      <td>28</td>\n",
              "    </tr>\n",
              "    <tr>\n",
              "      <th>11987614</th>\n",
              "      <td>78716</td>\n",
              "      <td>1</td>\n",
              "      <td>2019-12-31</td>\n",
              "      <td>2</td>\n",
              "      <td>175.00</td>\n",
              "      <td>229.0</td>\n",
              "      <td>30</td>\n",
              "    </tr>\n",
              "    <tr>\n",
              "      <th>11987615</th>\n",
              "      <td>73104</td>\n",
              "      <td>2</td>\n",
              "      <td>2019-12-31</td>\n",
              "      <td>2</td>\n",
              "      <td>185.99</td>\n",
              "      <td>286.0</td>\n",
              "      <td>28</td>\n",
              "    </tr>\n",
              "    <tr>\n",
              "      <th>11987616</th>\n",
              "      <td>42916</td>\n",
              "      <td>1</td>\n",
              "      <td>2019-12-31</td>\n",
              "      <td>2</td>\n",
              "      <td>431.00</td>\n",
              "      <td>330.0</td>\n",
              "      <td>32</td>\n",
              "    </tr>\n",
              "  </tbody>\n",
              "</table>\n",
              "<p>11987617 rows × 7 columns</p>\n",
              "</div>"
            ],
            "text/plain": [
              "          party_rk  financial_account_type_cd  ... merchant_type  category\n",
              "0            20337                          1  ...         348.0        27\n",
              "1            63404                          1  ...         330.0        32\n",
              "2            24789                          2  ...         291.0        28\n",
              "3            57970                          2  ...         278.0         7\n",
              "4            12232                          2  ...         286.0        28\n",
              "...            ...                        ...  ...           ...       ...\n",
              "11987612     44990                          1  ...         330.0        32\n",
              "11987613     53023                          2  ...         286.0        28\n",
              "11987614     78716                          1  ...         229.0        30\n",
              "11987615     73104                          2  ...         286.0        28\n",
              "11987616     42916                          1  ...         330.0        32\n",
              "\n",
              "[11987617 rows x 7 columns]"
            ]
          },
          "metadata": {},
          "execution_count": 16
        }
      ]
    },
    {
      "cell_type": "code",
      "metadata": {
        "colab": {
          "base_uri": "https://localhost:8080/",
          "height": 112
        },
        "id": "aVEXikeucyNR",
        "outputId": "3dc04161-b119-43de-eea8-2bf56e8f1be6"
      },
      "source": [
        "print(\"\\nКоличество пропущенных значений:\")\n",
        "df_train.isna().sum().to_frame().sort_values(0, ascending = False).T"
      ],
      "execution_count": 17,
      "outputs": [
        {
          "output_type": "stream",
          "name": "stdout",
          "text": [
            "\n",
            "Количество пропущенных значений:\n"
          ]
        },
        {
          "output_type": "execute_result",
          "data": {
            "text/html": [
              "<div>\n",
              "<style scoped>\n",
              "    .dataframe tbody tr th:only-of-type {\n",
              "        vertical-align: middle;\n",
              "    }\n",
              "\n",
              "    .dataframe tbody tr th {\n",
              "        vertical-align: top;\n",
              "    }\n",
              "\n",
              "    .dataframe thead th {\n",
              "        text-align: right;\n",
              "    }\n",
              "</style>\n",
              "<table border=\"1\" class=\"dataframe\">\n",
              "  <thead>\n",
              "    <tr style=\"text-align: right;\">\n",
              "      <th></th>\n",
              "      <th>merchant_type</th>\n",
              "      <th>transaction_amt_rur</th>\n",
              "      <th>party_rk</th>\n",
              "      <th>financial_account_type_cd</th>\n",
              "      <th>transaction_dttm</th>\n",
              "      <th>transaction_type_desc</th>\n",
              "      <th>category</th>\n",
              "    </tr>\n",
              "  </thead>\n",
              "  <tbody>\n",
              "    <tr>\n",
              "      <th>0</th>\n",
              "      <td>1665</td>\n",
              "      <td>6</td>\n",
              "      <td>0</td>\n",
              "      <td>0</td>\n",
              "      <td>0</td>\n",
              "      <td>0</td>\n",
              "      <td>0</td>\n",
              "    </tr>\n",
              "  </tbody>\n",
              "</table>\n",
              "</div>"
            ],
            "text/plain": [
              "   merchant_type  transaction_amt_rur  ...  transaction_type_desc  category\n",
              "0           1665                    6  ...                      0         0\n",
              "\n",
              "[1 rows x 7 columns]"
            ]
          },
          "metadata": {},
          "execution_count": 17
        }
      ]
    },
    {
      "cell_type": "code",
      "metadata": {
        "id": "-VjNRpRNdMAl"
      },
      "source": [
        "df_train['merchant_type'] = df_train['merchant_type'].fillna(df_train['merchant_type'].mode()[0]) \n"
      ],
      "execution_count": 18,
      "outputs": []
    },
    {
      "cell_type": "code",
      "metadata": {
        "id": "oNFgFUqTW5x9"
      },
      "source": [
        "df_train['transaction_amt_rur'] = df_train['transaction_amt_rur'].fillna(df_train['transaction_amt_rur'].median()) "
      ],
      "execution_count": 19,
      "outputs": []
    },
    {
      "cell_type": "code",
      "metadata": {
        "id": "Z67Vm6mdjQNX",
        "colab": {
          "base_uri": "https://localhost:8080/",
          "height": 112
        },
        "outputId": "21857777-6336-41f0-e7a8-7a93322be517"
      },
      "source": [
        "print(\"\\nКоличество пропущенных значений:\")\n",
        "df_train.isna().sum().to_frame().sort_values(0, ascending = False).T"
      ],
      "execution_count": 20,
      "outputs": [
        {
          "output_type": "stream",
          "name": "stdout",
          "text": [
            "\n",
            "Количество пропущенных значений:\n"
          ]
        },
        {
          "output_type": "execute_result",
          "data": {
            "text/html": [
              "<div>\n",
              "<style scoped>\n",
              "    .dataframe tbody tr th:only-of-type {\n",
              "        vertical-align: middle;\n",
              "    }\n",
              "\n",
              "    .dataframe tbody tr th {\n",
              "        vertical-align: top;\n",
              "    }\n",
              "\n",
              "    .dataframe thead th {\n",
              "        text-align: right;\n",
              "    }\n",
              "</style>\n",
              "<table border=\"1\" class=\"dataframe\">\n",
              "  <thead>\n",
              "    <tr style=\"text-align: right;\">\n",
              "      <th></th>\n",
              "      <th>party_rk</th>\n",
              "      <th>financial_account_type_cd</th>\n",
              "      <th>transaction_dttm</th>\n",
              "      <th>transaction_type_desc</th>\n",
              "      <th>transaction_amt_rur</th>\n",
              "      <th>merchant_type</th>\n",
              "      <th>category</th>\n",
              "    </tr>\n",
              "  </thead>\n",
              "  <tbody>\n",
              "    <tr>\n",
              "      <th>0</th>\n",
              "      <td>0</td>\n",
              "      <td>0</td>\n",
              "      <td>0</td>\n",
              "      <td>0</td>\n",
              "      <td>0</td>\n",
              "      <td>0</td>\n",
              "      <td>0</td>\n",
              "    </tr>\n",
              "  </tbody>\n",
              "</table>\n",
              "</div>"
            ],
            "text/plain": [
              "   party_rk  financial_account_type_cd  ...  merchant_type  category\n",
              "0         0                          0  ...              0         0\n",
              "\n",
              "[1 rows x 7 columns]"
            ]
          },
          "metadata": {},
          "execution_count": 20
        }
      ]
    },
    {
      "cell_type": "code",
      "metadata": {
        "colab": {
          "base_uri": "https://localhost:8080/",
          "height": 294
        },
        "id": "LiMfe5j2oL8E",
        "outputId": "e265315e-2350-47b7-f8c5-f8060420eb93"
      },
      "source": [
        "df_train.describe().round(2)"
      ],
      "execution_count": 21,
      "outputs": [
        {
          "output_type": "execute_result",
          "data": {
            "text/html": [
              "<div>\n",
              "<style scoped>\n",
              "    .dataframe tbody tr th:only-of-type {\n",
              "        vertical-align: middle;\n",
              "    }\n",
              "\n",
              "    .dataframe tbody tr th {\n",
              "        vertical-align: top;\n",
              "    }\n",
              "\n",
              "    .dataframe thead th {\n",
              "        text-align: right;\n",
              "    }\n",
              "</style>\n",
              "<table border=\"1\" class=\"dataframe\">\n",
              "  <thead>\n",
              "    <tr style=\"text-align: right;\">\n",
              "      <th></th>\n",
              "      <th>party_rk</th>\n",
              "      <th>financial_account_type_cd</th>\n",
              "      <th>transaction_type_desc</th>\n",
              "      <th>transaction_amt_rur</th>\n",
              "      <th>merchant_type</th>\n",
              "      <th>category</th>\n",
              "    </tr>\n",
              "  </thead>\n",
              "  <tbody>\n",
              "    <tr>\n",
              "      <th>count</th>\n",
              "      <td>11987617.00</td>\n",
              "      <td>11987617.00</td>\n",
              "      <td>11987617.00</td>\n",
              "      <td>11987617.00</td>\n",
              "      <td>11987617.00</td>\n",
              "      <td>11987617.00</td>\n",
              "    </tr>\n",
              "    <tr>\n",
              "      <th>mean</th>\n",
              "      <td>43007.85</td>\n",
              "      <td>1.67</td>\n",
              "      <td>1.76</td>\n",
              "      <td>3186.89</td>\n",
              "      <td>266.67</td>\n",
              "      <td>21.39</td>\n",
              "    </tr>\n",
              "    <tr>\n",
              "      <th>std</th>\n",
              "      <td>25404.38</td>\n",
              "      <td>0.47</td>\n",
              "      <td>0.57</td>\n",
              "      <td>24470.60</td>\n",
              "      <td>121.51</td>\n",
              "      <td>11.59</td>\n",
              "    </tr>\n",
              "    <tr>\n",
              "      <th>min</th>\n",
              "      <td>1.00</td>\n",
              "      <td>1.00</td>\n",
              "      <td>0.00</td>\n",
              "      <td>10.00</td>\n",
              "      <td>1.00</td>\n",
              "      <td>0.00</td>\n",
              "    </tr>\n",
              "    <tr>\n",
              "      <th>25%</th>\n",
              "      <td>21175.00</td>\n",
              "      <td>1.00</td>\n",
              "      <td>2.00</td>\n",
              "      <td>159.90</td>\n",
              "      <td>275.00</td>\n",
              "      <td>15.00</td>\n",
              "    </tr>\n",
              "    <tr>\n",
              "      <th>50%</th>\n",
              "      <td>42168.00</td>\n",
              "      <td>2.00</td>\n",
              "      <td>2.00</td>\n",
              "      <td>391.00</td>\n",
              "      <td>286.00</td>\n",
              "      <td>28.00</td>\n",
              "    </tr>\n",
              "    <tr>\n",
              "      <th>75%</th>\n",
              "      <td>63199.00</td>\n",
              "      <td>2.00</td>\n",
              "      <td>2.00</td>\n",
              "      <td>1225.00</td>\n",
              "      <td>330.00</td>\n",
              "      <td>29.00</td>\n",
              "    </tr>\n",
              "    <tr>\n",
              "      <th>max</th>\n",
              "      <td>94610.00</td>\n",
              "      <td>2.00</td>\n",
              "      <td>3.00</td>\n",
              "      <td>20000100.00</td>\n",
              "      <td>498.00</td>\n",
              "      <td>36.00</td>\n",
              "    </tr>\n",
              "  </tbody>\n",
              "</table>\n",
              "</div>"
            ],
            "text/plain": [
              "          party_rk  financial_account_type_cd  ...  merchant_type     category\n",
              "count  11987617.00                11987617.00  ...    11987617.00  11987617.00\n",
              "mean      43007.85                       1.67  ...         266.67        21.39\n",
              "std       25404.38                       0.47  ...         121.51        11.59\n",
              "min           1.00                       1.00  ...           1.00         0.00\n",
              "25%       21175.00                       1.00  ...         275.00        15.00\n",
              "50%       42168.00                       2.00  ...         286.00        28.00\n",
              "75%       63199.00                       2.00  ...         330.00        29.00\n",
              "max       94610.00                       2.00  ...         498.00        36.00\n",
              "\n",
              "[8 rows x 6 columns]"
            ]
          },
          "metadata": {},
          "execution_count": 21
        }
      ]
    },
    {
      "cell_type": "code",
      "metadata": {
        "colab": {
          "base_uri": "https://localhost:8080/",
          "height": 595
        },
        "id": "DtdktN_clN24",
        "outputId": "d2b3a763-86c7-406b-fb28-9766119a2e9c"
      },
      "source": [
        "fig,ax = plt.subplots(1,1,figsize = (10,10))\n",
        "ax.hist(df_train['transaction_amt_rur'],bins = 10000)\n",
        "ax.set_xscale('log')\n",
        "ax.set_yscale('log')\n",
        "\n"
      ],
      "execution_count": 127,
      "outputs": [
        {
          "output_type": "display_data",
          "data": {
            "image/png": "[encoded data removed]",
            "text/plain": [
              "<Figure size 720x720 with 1 Axes>"
            ]
          },
          "metadata": {
            "needs_background": "light"
          }
        }
      ]
    },
    {
      "cell_type": "code",
      "metadata": {
        "id": "55YTMMBEZ-0B"
      },
      "source": [
        "df_train = df_train[df_train['transaction_amt_rur'] < df_train['transaction_amt_rur'].quantile(q= 0.95)]"
      ],
      "execution_count": 30,
      "outputs": []
    },
    {
      "cell_type": "markdown",
      "metadata": {
        "id": "FsFKWLXpg3ur"
      },
      "source": [
        "### df_socdem <a class=\"anchor\" id=\"ch222\"></a>"
      ]
    },
    {
      "cell_type": "markdown",
      "metadata": {
        "id": "-tej2wtxjQNZ"
      },
      "source": [
        "В данной таблице содержится персональная информация клиентов, где\n",
        "<ul>\n",
        "<li><strong>party_rk</strong> - уникальный идентификационный номер клиента</li> \n",
        "<li><strong>gender_cd</strong> - пол клиента (F - женщина / M - мужчина / не указан)</li>\n",
        "<li><strong>age</strong> - возраст клиента</li>\n",
        "<li><strong>marital_status_desc</strong> - семейное положение (один из 7 вариантов: Женат/замужем / Вдовец, вдова / Холост/не замужем / Гражданский брак / Разведен (а) / Не проживает с супругом (ой) / Не указано)</li>\n",
        "<li><strong>children_cnt</strong> - количество детей</li>\n",
        "<li><strong>region_flg</strong> - бинарная характеристика региона клиента</li>\n",
        "</ul>\n",
        "<strong>Первичным ключом</strong> таблицы является атрибут party_rk."
      ]
    },
    {
      "cell_type": "code",
      "metadata": {
        "colab": {
          "base_uri": "https://localhost:8080/",
          "height": 202
        },
        "id": "3n9sELRYg3ur",
        "outputId": "02b2e1be-5cae-4231-914c-62439e7cb196"
      },
      "source": [
        "df_socdem.head()"
      ],
      "execution_count": 38,
      "outputs": [
        {
          "output_type": "execute_result",
          "data": {
            "text/html": [
              "<div>\n",
              "<style scoped>\n",
              "    .dataframe tbody tr th:only-of-type {\n",
              "        vertical-align: middle;\n",
              "    }\n",
              "\n",
              "    .dataframe tbody tr th {\n",
              "        vertical-align: top;\n",
              "    }\n",
              "\n",
              "    .dataframe thead th {\n",
              "        text-align: right;\n",
              "    }\n",
              "</style>\n",
              "<table border=\"1\" class=\"dataframe\">\n",
              "  <thead>\n",
              "    <tr style=\"text-align: right;\">\n",
              "      <th></th>\n",
              "      <th>party_rk</th>\n",
              "      <th>gender_cd</th>\n",
              "      <th>age</th>\n",
              "      <th>marital_status_desc</th>\n",
              "      <th>children_cnt</th>\n",
              "      <th>region_flg</th>\n",
              "    </tr>\n",
              "  </thead>\n",
              "  <tbody>\n",
              "    <tr>\n",
              "      <th>0</th>\n",
              "      <td>61243</td>\n",
              "      <td>F</td>\n",
              "      <td>70.0</td>\n",
              "      <td>NaN</td>\n",
              "      <td>0</td>\n",
              "      <td>0</td>\n",
              "    </tr>\n",
              "    <tr>\n",
              "      <th>1</th>\n",
              "      <td>66535</td>\n",
              "      <td>F</td>\n",
              "      <td>25.0</td>\n",
              "      <td>NaN</td>\n",
              "      <td>0</td>\n",
              "      <td>0</td>\n",
              "    </tr>\n",
              "    <tr>\n",
              "      <th>2</th>\n",
              "      <td>83721</td>\n",
              "      <td>M</td>\n",
              "      <td>55.0</td>\n",
              "      <td>Женат/замужем</td>\n",
              "      <td>0</td>\n",
              "      <td>0</td>\n",
              "    </tr>\n",
              "    <tr>\n",
              "      <th>3</th>\n",
              "      <td>88238</td>\n",
              "      <td>F</td>\n",
              "      <td>35.0</td>\n",
              "      <td>NaN</td>\n",
              "      <td>0</td>\n",
              "      <td>0</td>\n",
              "    </tr>\n",
              "    <tr>\n",
              "      <th>4</th>\n",
              "      <td>57179</td>\n",
              "      <td>F</td>\n",
              "      <td>30.0</td>\n",
              "      <td>Женат/замужем</td>\n",
              "      <td>0</td>\n",
              "      <td>0</td>\n",
              "    </tr>\n",
              "  </tbody>\n",
              "</table>\n",
              "</div>"
            ],
            "text/plain": [
              "   party_rk gender_cd   age marital_status_desc  children_cnt  region_flg\n",
              "0     61243         F  70.0                 NaN             0           0\n",
              "1     66535         F  25.0                 NaN             0           0\n",
              "2     83721         M  55.0       Женат/замужем             0           0\n",
              "3     88238         F  35.0                 NaN             0           0\n",
              "4     57179         F  30.0       Женат/замужем             0           0"
            ]
          },
          "metadata": {},
          "execution_count": 38
        }
      ]
    },
    {
      "cell_type": "markdown",
      "metadata": {
        "id": "UsADiDT6jQNZ"
      },
      "source": [
        "##### Первичный анализ <a class=\"anchor\" id=\"ch2221\"></a>"
      ]
    },
    {
      "cell_type": "code",
      "metadata": {
        "id": "_sMktzDmjQNa",
        "colab": {
          "base_uri": "https://localhost:8080/"
        },
        "outputId": "bb74136e-6d5c-4bee-a29a-3b8c8e151f7f"
      },
      "source": [
        "print('Количество строк: {}, количество столбцов: {}'.format(df_socdem.shape[0], df_socdem.shape[1]))"
      ],
      "execution_count": 39,
      "outputs": [
        {
          "output_type": "stream",
          "name": "stdout",
          "text": [
            "Количество строк: 50000, количество столбцов: 6\n"
          ]
        }
      ]
    },
    {
      "cell_type": "code",
      "metadata": {
        "id": "yQf6KwRXjQNa",
        "colab": {
          "base_uri": "https://localhost:8080/"
        },
        "outputId": "a6e5f287-6fb7-4536-950f-0809c77c95df"
      },
      "source": [
        "df_socdem.info()"
      ],
      "execution_count": 40,
      "outputs": [
        {
          "output_type": "stream",
          "name": "stdout",
          "text": [
            "<class 'pandas.core.frame.DataFrame'>\n",
            "RangeIndex: 50000 entries, 0 to 49999\n",
            "Data columns (total 6 columns):\n",
            " #   Column               Non-Null Count  Dtype  \n",
            "---  ------               --------------  -----  \n",
            " 0   party_rk             50000 non-null  int64  \n",
            " 1   gender_cd            49989 non-null  object \n",
            " 2   age                  50000 non-null  float64\n",
            " 3   marital_status_desc  37594 non-null  object \n",
            " 4   children_cnt         50000 non-null  int64  \n",
            " 5   region_flg           50000 non-null  int64  \n",
            "dtypes: float64(1), int64(3), object(2)\n",
            "memory usage: 2.3+ MB\n"
          ]
        }
      ]
    },
    {
      "cell_type": "code",
      "metadata": {
        "id": "6xlmDLsEjQNa",
        "colab": {
          "base_uri": "https://localhost:8080/",
          "height": 294
        },
        "outputId": "84e7b02a-7932-4e41-ad2d-19f6fd540f02"
      },
      "source": [
        "df_socdem.describe()"
      ],
      "execution_count": 41,
      "outputs": [
        {
          "output_type": "execute_result",
          "data": {
            "text/html": [
              "<div>\n",
              "<style scoped>\n",
              "    .dataframe tbody tr th:only-of-type {\n",
              "        vertical-align: middle;\n",
              "    }\n",
              "\n",
              "    .dataframe tbody tr th {\n",
              "        vertical-align: top;\n",
              "    }\n",
              "\n",
              "    .dataframe thead th {\n",
              "        text-align: right;\n",
              "    }\n",
              "</style>\n",
              "<table border=\"1\" class=\"dataframe\">\n",
              "  <thead>\n",
              "    <tr style=\"text-align: right;\">\n",
              "      <th></th>\n",
              "      <th>party_rk</th>\n",
              "      <th>age</th>\n",
              "      <th>children_cnt</th>\n",
              "      <th>region_flg</th>\n",
              "    </tr>\n",
              "  </thead>\n",
              "  <tbody>\n",
              "    <tr>\n",
              "      <th>count</th>\n",
              "      <td>50000.00000</td>\n",
              "      <td>50000.000000</td>\n",
              "      <td>50000.000000</td>\n",
              "      <td>50000.000000</td>\n",
              "    </tr>\n",
              "    <tr>\n",
              "      <th>mean</th>\n",
              "      <td>47339.73202</td>\n",
              "      <td>39.062300</td>\n",
              "      <td>0.388660</td>\n",
              "      <td>0.091900</td>\n",
              "    </tr>\n",
              "    <tr>\n",
              "      <th>std</th>\n",
              "      <td>27317.74524</td>\n",
              "      <td>11.675057</td>\n",
              "      <td>0.968928</td>\n",
              "      <td>0.288888</td>\n",
              "    </tr>\n",
              "    <tr>\n",
              "      <th>min</th>\n",
              "      <td>1.00000</td>\n",
              "      <td>15.000000</td>\n",
              "      <td>0.000000</td>\n",
              "      <td>0.000000</td>\n",
              "    </tr>\n",
              "    <tr>\n",
              "      <th>25%</th>\n",
              "      <td>23669.75000</td>\n",
              "      <td>30.000000</td>\n",
              "      <td>0.000000</td>\n",
              "      <td>0.000000</td>\n",
              "    </tr>\n",
              "    <tr>\n",
              "      <th>50%</th>\n",
              "      <td>47434.50000</td>\n",
              "      <td>35.000000</td>\n",
              "      <td>0.000000</td>\n",
              "      <td>0.000000</td>\n",
              "    </tr>\n",
              "    <tr>\n",
              "      <th>75%</th>\n",
              "      <td>70961.50000</td>\n",
              "      <td>45.000000</td>\n",
              "      <td>0.000000</td>\n",
              "      <td>0.000000</td>\n",
              "    </tr>\n",
              "    <tr>\n",
              "      <th>max</th>\n",
              "      <td>94610.00000</td>\n",
              "      <td>100.000000</td>\n",
              "      <td>4.000000</td>\n",
              "      <td>1.000000</td>\n",
              "    </tr>\n",
              "  </tbody>\n",
              "</table>\n",
              "</div>"
            ],
            "text/plain": [
              "          party_rk           age  children_cnt    region_flg\n",
              "count  50000.00000  50000.000000  50000.000000  50000.000000\n",
              "mean   47339.73202     39.062300      0.388660      0.091900\n",
              "std    27317.74524     11.675057      0.968928      0.288888\n",
              "min        1.00000     15.000000      0.000000      0.000000\n",
              "25%    23669.75000     30.000000      0.000000      0.000000\n",
              "50%    47434.50000     35.000000      0.000000      0.000000\n",
              "75%    70961.50000     45.000000      0.000000      0.000000\n",
              "max    94610.00000    100.000000      4.000000      1.000000"
            ]
          },
          "metadata": {},
          "execution_count": 41
        }
      ]
    },
    {
      "cell_type": "code",
      "metadata": {
        "id": "R9Wra_sxjQNa",
        "colab": {
          "base_uri": "https://localhost:8080/",
          "height": 448
        },
        "outputId": "18edad45-0902-49a4-f7df-ded702269ba1"
      },
      "source": [
        "fig, (ax1, ax2) = plt.subplots(1,2, figsize=(9,4))\n",
        "\n",
        "female = df_socdem[df_socdem['gender_cd'] == 0]\n",
        "male = df_socdem[df_socdem['gender_cd'] == 1]\n",
        "\n",
        "sns.distplot(female['age'], bins=12 ,ax=ax1)\n",
        "sns.distplot(male['age'], bins=12, ax=ax2)\n",
        "\n",
        "ax1.set_title('Age distr among females');\n",
        "ax2.set_title('Age distr among males');"
      ],
      "execution_count": 42,
      "outputs": [
        {
          "output_type": "stream",
          "name": "stderr",
          "text": [
            "/usr/local/lib/python3.7/dist-packages/seaborn/distributions.py:2557: FutureWarning: `distplot` is a deprecated function and will be removed in a future version. Please adapt your code to use either `displot` (a figure-level function with similar flexibility) or `histplot` (an axes-level function for histograms).\n",
            "  warnings.warn(msg, FutureWarning)\n",
            "/usr/local/lib/python3.7/dist-packages/seaborn/distributions.py:2595: RuntimeWarning: Mean of empty slice.\n",
            "  line, = ax.plot(a.mean(), 0)\n",
            "/usr/local/lib/python3.7/dist-packages/numpy/core/_methods.py:170: RuntimeWarning: invalid value encountered in double_scalars\n",
            "  ret = ret.dtype.type(ret / rcount)\n",
            "/usr/local/lib/python3.7/dist-packages/numpy/lib/histograms.py:905: RuntimeWarning: invalid value encountered in true_divide\n",
            "  return n/db/n.sum(), bin_edges\n"
          ]
        },
        {
          "output_type": "display_data",
          "data": {
            "image/png": "[encoded data removed]",
            "text/plain": [
              "<Figure size 648x288 with 2 Axes>"
            ]
          },
          "metadata": {
            "needs_background": "light"
          }
        }
      ]
    },
    {
      "cell_type": "markdown",
      "metadata": {
        "id": "UN3Xx_8GjQNa"
      },
      "source": [
        "Добавим категориальный признак AgeGroup, позволяющий разделить всех клиентов на 6 групп в соответствии с их возрастом:"
      ]
    },
    {
      "cell_type": "code",
      "metadata": {
        "id": "ux3ij6Uv_7mg"
      },
      "source": [
        "df_socdem.loc[(df_socdem.age < 21),  'AgeGroup'] = '0-21'\n",
        "df_socdem.loc[(21 <= df_socdem.age),  'AgeGroup'] = '21-29'\n",
        "df_socdem.loc[(30 <= df_socdem.age),  'AgeGroup'] = '30-40'\n",
        "df_socdem.loc[(41 <= df_socdem.age),  'AgeGroup'] = '41-54'\n",
        "df_socdem.loc[(54 <= df_socdem.age),  'AgeGroup'] = '55-65'\n",
        "df_socdem.loc[(65 <= df_socdem.age),  'AgeGroup'] = '65+'"
      ],
      "execution_count": 43,
      "outputs": []
    },
    {
      "cell_type": "code",
      "metadata": {
        "colab": {
          "base_uri": "https://localhost:8080/",
          "height": 414
        },
        "id": "ZTnk0uZAAMkx",
        "scrolled": true,
        "outputId": "d784445e-63d2-4efd-8bf9-4fb4dd1d6ce3"
      },
      "source": [
        "df_socdem"
      ],
      "execution_count": 44,
      "outputs": [
        {
          "output_type": "execute_result",
          "data": {
            "text/html": [
              "<div>\n",
              "<style scoped>\n",
              "    .dataframe tbody tr th:only-of-type {\n",
              "        vertical-align: middle;\n",
              "    }\n",
              "\n",
              "    .dataframe tbody tr th {\n",
              "        vertical-align: top;\n",
              "    }\n",
              "\n",
              "    .dataframe thead th {\n",
              "        text-align: right;\n",
              "    }\n",
              "</style>\n",
              "<table border=\"1\" class=\"dataframe\">\n",
              "  <thead>\n",
              "    <tr style=\"text-align: right;\">\n",
              "      <th></th>\n",
              "      <th>party_rk</th>\n",
              "      <th>gender_cd</th>\n",
              "      <th>age</th>\n",
              "      <th>marital_status_desc</th>\n",
              "      <th>children_cnt</th>\n",
              "      <th>region_flg</th>\n",
              "      <th>AgeGroup</th>\n",
              "    </tr>\n",
              "  </thead>\n",
              "  <tbody>\n",
              "    <tr>\n",
              "      <th>0</th>\n",
              "      <td>61243</td>\n",
              "      <td>F</td>\n",
              "      <td>70.0</td>\n",
              "      <td>NaN</td>\n",
              "      <td>0</td>\n",
              "      <td>0</td>\n",
              "      <td>65+</td>\n",
              "    </tr>\n",
              "    <tr>\n",
              "      <th>1</th>\n",
              "      <td>66535</td>\n",
              "      <td>F</td>\n",
              "      <td>25.0</td>\n",
              "      <td>NaN</td>\n",
              "      <td>0</td>\n",
              "      <td>0</td>\n",
              "      <td>21-29</td>\n",
              "    </tr>\n",
              "    <tr>\n",
              "      <th>2</th>\n",
              "      <td>83721</td>\n",
              "      <td>M</td>\n",
              "      <td>55.0</td>\n",
              "      <td>Женат/замужем</td>\n",
              "      <td>0</td>\n",
              "      <td>0</td>\n",
              "      <td>55-65</td>\n",
              "    </tr>\n",
              "    <tr>\n",
              "      <th>3</th>\n",
              "      <td>88238</td>\n",
              "      <td>F</td>\n",
              "      <td>35.0</td>\n",
              "      <td>NaN</td>\n",
              "      <td>0</td>\n",
              "      <td>0</td>\n",
              "      <td>30-40</td>\n",
              "    </tr>\n",
              "    <tr>\n",
              "      <th>4</th>\n",
              "      <td>57179</td>\n",
              "      <td>F</td>\n",
              "      <td>30.0</td>\n",
              "      <td>Женат/замужем</td>\n",
              "      <td>0</td>\n",
              "      <td>0</td>\n",
              "      <td>30-40</td>\n",
              "    </tr>\n",
              "    <tr>\n",
              "      <th>...</th>\n",
              "      <td>...</td>\n",
              "      <td>...</td>\n",
              "      <td>...</td>\n",
              "      <td>...</td>\n",
              "      <td>...</td>\n",
              "      <td>...</td>\n",
              "      <td>...</td>\n",
              "    </tr>\n",
              "    <tr>\n",
              "      <th>49995</th>\n",
              "      <td>54994</td>\n",
              "      <td>M</td>\n",
              "      <td>40.0</td>\n",
              "      <td>Женат/замужем</td>\n",
              "      <td>0</td>\n",
              "      <td>0</td>\n",
              "      <td>30-40</td>\n",
              "    </tr>\n",
              "    <tr>\n",
              "      <th>49996</th>\n",
              "      <td>63391</td>\n",
              "      <td>M</td>\n",
              "      <td>35.0</td>\n",
              "      <td>Холост/не замужем</td>\n",
              "      <td>0</td>\n",
              "      <td>0</td>\n",
              "      <td>30-40</td>\n",
              "    </tr>\n",
              "    <tr>\n",
              "      <th>49997</th>\n",
              "      <td>5418</td>\n",
              "      <td>F</td>\n",
              "      <td>55.0</td>\n",
              "      <td>Холост/не замужем</td>\n",
              "      <td>0</td>\n",
              "      <td>0</td>\n",
              "      <td>55-65</td>\n",
              "    </tr>\n",
              "    <tr>\n",
              "      <th>49998</th>\n",
              "      <td>50273</td>\n",
              "      <td>F</td>\n",
              "      <td>35.0</td>\n",
              "      <td>Женат/замужем</td>\n",
              "      <td>0</td>\n",
              "      <td>0</td>\n",
              "      <td>30-40</td>\n",
              "    </tr>\n",
              "    <tr>\n",
              "      <th>49999</th>\n",
              "      <td>77268</td>\n",
              "      <td>F</td>\n",
              "      <td>35.0</td>\n",
              "      <td>NaN</td>\n",
              "      <td>0</td>\n",
              "      <td>0</td>\n",
              "      <td>30-40</td>\n",
              "    </tr>\n",
              "  </tbody>\n",
              "</table>\n",
              "<p>50000 rows × 7 columns</p>\n",
              "</div>"
            ],
            "text/plain": [
              "       party_rk gender_cd   age  ... children_cnt  region_flg  AgeGroup\n",
              "0         61243         F  70.0  ...            0           0       65+\n",
              "1         66535         F  25.0  ...            0           0     21-29\n",
              "2         83721         M  55.0  ...            0           0     55-65\n",
              "3         88238         F  35.0  ...            0           0     30-40\n",
              "4         57179         F  30.0  ...            0           0     30-40\n",
              "...         ...       ...   ...  ...          ...         ...       ...\n",
              "49995     54994         M  40.0  ...            0           0     30-40\n",
              "49996     63391         M  35.0  ...            0           0     30-40\n",
              "49997      5418         F  55.0  ...            0           0     55-65\n",
              "49998     50273         F  35.0  ...            0           0     30-40\n",
              "49999     77268         F  35.0  ...            0           0     30-40\n",
              "\n",
              "[50000 rows x 7 columns]"
            ]
          },
          "metadata": {},
          "execution_count": 44
        }
      ]
    },
    {
      "cell_type": "markdown",
      "metadata": {
        "id": "4yvPpY9DjQNb"
      },
      "source": [
        "Удалим теперь ненужный признак Age:"
      ]
    },
    {
      "cell_type": "code",
      "metadata": {
        "id": "1aI8oaEJjQNb"
      },
      "source": [
        "df_socdem = df_socdem.drop('age', axis=1)"
      ],
      "execution_count": 45,
      "outputs": []
    },
    {
      "cell_type": "markdown",
      "metadata": {
        "id": "U6jFw9LcjQNb"
      },
      "source": [
        "##### Приведение категориальных признаков к числовому виду <a class=\"anchor\" id=\"ch2222\"></a>"
      ]
    },
    {
      "cell_type": "code",
      "metadata": {
        "id": "4jPElkk2CuqZ"
      },
      "source": [
        "# AgeGroup - категориальный признак, переведем его в тип int\n",
        "le_age = preprocessing.LabelEncoder()\n",
        "le_age.fit(df_socdem['AgeGroup'])\n",
        "df_socdem['AgeGroup'] = le_age.transform(df_socdem['AgeGroup'])"
      ],
      "execution_count": 46,
      "outputs": []
    },
    {
      "cell_type": "markdown",
      "metadata": {
        "id": "FCjnHaHujQNc"
      },
      "source": [
        "Заменим пропуски в колонке 'marital_status_desc' на значение None, так как, возможно, пользователь не захотел указывать свой статус"
      ]
    },
    {
      "cell_type": "code",
      "metadata": {
        "id": "raTBfiqxjQNc"
      },
      "source": [
        "df_socdem['gender_cd'] = df_socdem['gender_cd'].fillna('None')\n",
        "df_socdem['marital_status_desc'] = df_socdem['marital_status_desc'].fillna('None')"
      ],
      "execution_count": 47,
      "outputs": []
    },
    {
      "cell_type": "code",
      "metadata": {
        "id": "52fCOB4N2iFJ"
      },
      "source": [
        "# marital_status_desc - категориальный признак, переведем его в тип int\n",
        "le_mstatus = preprocessing.LabelEncoder()\n",
        "le_mstatus.fit(df_socdem['marital_status_desc'])\n",
        "df_socdem['marital_status_desc'] = le_mstatus.transform(df_socdem['marital_status_desc'])"
      ],
      "execution_count": 48,
      "outputs": []
    },
    {
      "cell_type": "code",
      "metadata": {
        "id": "jMKjVPSHjQNc",
        "colab": {
          "base_uri": "https://localhost:8080/",
          "height": 263
        },
        "outputId": "7fabbf2b-8ca0-4d14-a7a0-12aa03dfbded"
      },
      "source": [
        "df_socdem['marital_status_desc'].value_counts().reset_index()"
      ],
      "execution_count": 49,
      "outputs": [
        {
          "output_type": "execute_result",
          "data": {
            "text/html": [
              "<div>\n",
              "<style scoped>\n",
              "    .dataframe tbody tr th:only-of-type {\n",
              "        vertical-align: middle;\n",
              "    }\n",
              "\n",
              "    .dataframe tbody tr th {\n",
              "        vertical-align: top;\n",
              "    }\n",
              "\n",
              "    .dataframe thead th {\n",
              "        text-align: right;\n",
              "    }\n",
              "</style>\n",
              "<table border=\"1\" class=\"dataframe\">\n",
              "  <thead>\n",
              "    <tr style=\"text-align: right;\">\n",
              "      <th></th>\n",
              "      <th>index</th>\n",
              "      <th>marital_status_desc</th>\n",
              "    </tr>\n",
              "  </thead>\n",
              "  <tbody>\n",
              "    <tr>\n",
              "      <th>0</th>\n",
              "      <td>3</td>\n",
              "      <td>17446</td>\n",
              "    </tr>\n",
              "    <tr>\n",
              "      <th>1</th>\n",
              "      <td>6</td>\n",
              "      <td>13045</td>\n",
              "    </tr>\n",
              "    <tr>\n",
              "      <th>2</th>\n",
              "      <td>0</td>\n",
              "      <td>12406</td>\n",
              "    </tr>\n",
              "    <tr>\n",
              "      <th>3</th>\n",
              "      <td>5</td>\n",
              "      <td>3696</td>\n",
              "    </tr>\n",
              "    <tr>\n",
              "      <th>4</th>\n",
              "      <td>2</td>\n",
              "      <td>2607</td>\n",
              "    </tr>\n",
              "    <tr>\n",
              "      <th>5</th>\n",
              "      <td>1</td>\n",
              "      <td>798</td>\n",
              "    </tr>\n",
              "    <tr>\n",
              "      <th>6</th>\n",
              "      <td>4</td>\n",
              "      <td>2</td>\n",
              "    </tr>\n",
              "  </tbody>\n",
              "</table>\n",
              "</div>"
            ],
            "text/plain": [
              "   index  marital_status_desc\n",
              "0      3                17446\n",
              "1      6                13045\n",
              "2      0                12406\n",
              "3      5                 3696\n",
              "4      2                 2607\n",
              "5      1                  798\n",
              "6      4                    2"
            ]
          },
          "metadata": {},
          "execution_count": 49
        }
      ]
    },
    {
      "cell_type": "code",
      "metadata": {
        "id": "n76OOPkKjQNc"
      },
      "source": [
        "# gender_cd - категориальный признак, переведем его в тип int\n",
        "le_gender = preprocessing.LabelEncoder()\n",
        "le_gender.fit(df_socdem['gender_cd'])\n",
        "df_socdem['gender_cd'] = le_gender.transform(df_socdem['gender_cd'])"
      ],
      "execution_count": 50,
      "outputs": []
    },
    {
      "cell_type": "code",
      "metadata": {
        "id": "J5z1B7KNjQNd",
        "colab": {
          "base_uri": "https://localhost:8080/",
          "height": 414
        },
        "outputId": "485c07ba-0a9d-4a14-9554-402e96345bc5"
      },
      "source": [
        "df_socdem"
      ],
      "execution_count": 51,
      "outputs": [
        {
          "output_type": "execute_result",
          "data": {
            "text/html": [
              "<div>\n",
              "<style scoped>\n",
              "    .dataframe tbody tr th:only-of-type {\n",
              "        vertical-align: middle;\n",
              "    }\n",
              "\n",
              "    .dataframe tbody tr th {\n",
              "        vertical-align: top;\n",
              "    }\n",
              "\n",
              "    .dataframe thead th {\n",
              "        text-align: right;\n",
              "    }\n",
              "</style>\n",
              "<table border=\"1\" class=\"dataframe\">\n",
              "  <thead>\n",
              "    <tr style=\"text-align: right;\">\n",
              "      <th></th>\n",
              "      <th>party_rk</th>\n",
              "      <th>gender_cd</th>\n",
              "      <th>marital_status_desc</th>\n",
              "      <th>children_cnt</th>\n",
              "      <th>region_flg</th>\n",
              "      <th>AgeGroup</th>\n",
              "    </tr>\n",
              "  </thead>\n",
              "  <tbody>\n",
              "    <tr>\n",
              "      <th>0</th>\n",
              "      <td>61243</td>\n",
              "      <td>0</td>\n",
              "      <td>0</td>\n",
              "      <td>0</td>\n",
              "      <td>0</td>\n",
              "      <td>5</td>\n",
              "    </tr>\n",
              "    <tr>\n",
              "      <th>1</th>\n",
              "      <td>66535</td>\n",
              "      <td>0</td>\n",
              "      <td>0</td>\n",
              "      <td>0</td>\n",
              "      <td>0</td>\n",
              "      <td>1</td>\n",
              "    </tr>\n",
              "    <tr>\n",
              "      <th>2</th>\n",
              "      <td>83721</td>\n",
              "      <td>1</td>\n",
              "      <td>3</td>\n",
              "      <td>0</td>\n",
              "      <td>0</td>\n",
              "      <td>4</td>\n",
              "    </tr>\n",
              "    <tr>\n",
              "      <th>3</th>\n",
              "      <td>88238</td>\n",
              "      <td>0</td>\n",
              "      <td>0</td>\n",
              "      <td>0</td>\n",
              "      <td>0</td>\n",
              "      <td>2</td>\n",
              "    </tr>\n",
              "    <tr>\n",
              "      <th>4</th>\n",
              "      <td>57179</td>\n",
              "      <td>0</td>\n",
              "      <td>3</td>\n",
              "      <td>0</td>\n",
              "      <td>0</td>\n",
              "      <td>2</td>\n",
              "    </tr>\n",
              "    <tr>\n",
              "      <th>...</th>\n",
              "      <td>...</td>\n",
              "      <td>...</td>\n",
              "      <td>...</td>\n",
              "      <td>...</td>\n",
              "      <td>...</td>\n",
              "      <td>...</td>\n",
              "    </tr>\n",
              "    <tr>\n",
              "      <th>49995</th>\n",
              "      <td>54994</td>\n",
              "      <td>1</td>\n",
              "      <td>3</td>\n",
              "      <td>0</td>\n",
              "      <td>0</td>\n",
              "      <td>2</td>\n",
              "    </tr>\n",
              "    <tr>\n",
              "      <th>49996</th>\n",
              "      <td>63391</td>\n",
              "      <td>1</td>\n",
              "      <td>6</td>\n",
              "      <td>0</td>\n",
              "      <td>0</td>\n",
              "      <td>2</td>\n",
              "    </tr>\n",
              "    <tr>\n",
              "      <th>49997</th>\n",
              "      <td>5418</td>\n",
              "      <td>0</td>\n",
              "      <td>6</td>\n",
              "      <td>0</td>\n",
              "      <td>0</td>\n",
              "      <td>4</td>\n",
              "    </tr>\n",
              "    <tr>\n",
              "      <th>49998</th>\n",
              "      <td>50273</td>\n",
              "      <td>0</td>\n",
              "      <td>3</td>\n",
              "      <td>0</td>\n",
              "      <td>0</td>\n",
              "      <td>2</td>\n",
              "    </tr>\n",
              "    <tr>\n",
              "      <th>49999</th>\n",
              "      <td>77268</td>\n",
              "      <td>0</td>\n",
              "      <td>0</td>\n",
              "      <td>0</td>\n",
              "      <td>0</td>\n",
              "      <td>2</td>\n",
              "    </tr>\n",
              "  </tbody>\n",
              "</table>\n",
              "<p>50000 rows × 6 columns</p>\n",
              "</div>"
            ],
            "text/plain": [
              "       party_rk  gender_cd  ...  region_flg  AgeGroup\n",
              "0         61243          0  ...           0         5\n",
              "1         66535          0  ...           0         1\n",
              "2         83721          1  ...           0         4\n",
              "3         88238          0  ...           0         2\n",
              "4         57179          0  ...           0         2\n",
              "...         ...        ...  ...         ...       ...\n",
              "49995     54994          1  ...           0         2\n",
              "49996     63391          1  ...           0         2\n",
              "49997      5418          0  ...           0         4\n",
              "49998     50273          0  ...           0         2\n",
              "49999     77268          0  ...           0         2\n",
              "\n",
              "[50000 rows x 6 columns]"
            ]
          },
          "metadata": {},
          "execution_count": 51
        }
      ]
    },
    {
      "cell_type": "markdown",
      "metadata": {
        "id": "o_8jBn8CjQNd"
      },
      "source": [
        "##### Заполнение пропусков <a class=\"anchor\" id=\"ch2223\"></a>"
      ]
    },
    {
      "cell_type": "code",
      "metadata": {
        "id": "xBJuXjwijQNd",
        "colab": {
          "base_uri": "https://localhost:8080/",
          "height": 112
        },
        "outputId": "b497fbd8-d67d-481b-e185-887e955adfeb"
      },
      "source": [
        "print(\"\\nКоличество пропущенных значений:\")\n",
        "df_socdem.isna().sum().to_frame().sort_values(0, ascending = False).T"
      ],
      "execution_count": 52,
      "outputs": [
        {
          "output_type": "stream",
          "name": "stdout",
          "text": [
            "\n",
            "Количество пропущенных значений:\n"
          ]
        },
        {
          "output_type": "execute_result",
          "data": {
            "text/html": [
              "<div>\n",
              "<style scoped>\n",
              "    .dataframe tbody tr th:only-of-type {\n",
              "        vertical-align: middle;\n",
              "    }\n",
              "\n",
              "    .dataframe tbody tr th {\n",
              "        vertical-align: top;\n",
              "    }\n",
              "\n",
              "    .dataframe thead th {\n",
              "        text-align: right;\n",
              "    }\n",
              "</style>\n",
              "<table border=\"1\" class=\"dataframe\">\n",
              "  <thead>\n",
              "    <tr style=\"text-align: right;\">\n",
              "      <th></th>\n",
              "      <th>party_rk</th>\n",
              "      <th>gender_cd</th>\n",
              "      <th>marital_status_desc</th>\n",
              "      <th>children_cnt</th>\n",
              "      <th>region_flg</th>\n",
              "      <th>AgeGroup</th>\n",
              "    </tr>\n",
              "  </thead>\n",
              "  <tbody>\n",
              "    <tr>\n",
              "      <th>0</th>\n",
              "      <td>0</td>\n",
              "      <td>0</td>\n",
              "      <td>0</td>\n",
              "      <td>0</td>\n",
              "      <td>0</td>\n",
              "      <td>0</td>\n",
              "    </tr>\n",
              "  </tbody>\n",
              "</table>\n",
              "</div>"
            ],
            "text/plain": [
              "   party_rk  gender_cd  marital_status_desc  children_cnt  region_flg  AgeGroup\n",
              "0         0          0                    0             0           0         0"
            ]
          },
          "metadata": {},
          "execution_count": 52
        }
      ]
    },
    {
      "cell_type": "markdown",
      "metadata": {
        "id": "Cbcalxrdg3uv"
      },
      "source": [
        "### df_balance <a class=\"anchor\" id=\"ch223\"></a>"
      ]
    },
    {
      "cell_type": "markdown",
      "metadata": {
        "id": "d9Ig95sVjQNd"
      },
      "source": [
        "В данной таблице содержится ежемесячная информация о изменениях баланса клиентов, где\n",
        "<ul>\n",
        "<li><strong>party_rk</strong> - уникальный идентификационный номер клиента</li> \n",
        "<li><strong>account_rk</strong> - уникальный идентификационный номер счета</li>\n",
        "<li><strong>prev_month</strong> - дата последнего дня (t-1)-го месяца в формате ГГГГ-ММ-ДД</li>\n",
        "<li><strong>cur_month</strong> - дата последнего дня t-го месяца в формате ГГГГ-ММ-ДД</li>\n",
        "<li><strong>balance_chng</strong> - изменение баланса в течение периода времени [prev_month, cur_month]</li>\n",
        "</ul>\n",
        "<strong>Первичный ключ</strong> таблицы является составным из двух атрибутов: account_rk + prev_month."
      ]
    },
    {
      "cell_type": "code",
      "metadata": {
        "colab": {
          "base_uri": "https://localhost:8080/",
          "height": 202
        },
        "id": "xejy-rSTg3uv",
        "outputId": "a5828616-b722-40b6-85be-2996fdc0cc2f"
      },
      "source": [
        "df_balance.head()"
      ],
      "execution_count": null,
      "outputs": [
        {
          "output_type": "execute_result",
          "data": {
            "text/html": [
              "<div>\n",
              "<style scoped>\n",
              "    .dataframe tbody tr th:only-of-type {\n",
              "        vertical-align: middle;\n",
              "    }\n",
              "\n",
              "    .dataframe tbody tr th {\n",
              "        vertical-align: top;\n",
              "    }\n",
              "\n",
              "    .dataframe thead th {\n",
              "        text-align: right;\n",
              "    }\n",
              "</style>\n",
              "<table border=\"1\" class=\"dataframe\">\n",
              "  <thead>\n",
              "    <tr style=\"text-align: right;\">\n",
              "      <th></th>\n",
              "      <th>party_rk</th>\n",
              "      <th>account_rk</th>\n",
              "      <th>prev_month</th>\n",
              "      <th>cur_month</th>\n",
              "      <th>balance_chng</th>\n",
              "    </tr>\n",
              "  </thead>\n",
              "  <tbody>\n",
              "    <tr>\n",
              "      <th>0</th>\n",
              "      <td>51607</td>\n",
              "      <td>55309</td>\n",
              "      <td>2018-12-31</td>\n",
              "      <td>2019-01-31</td>\n",
              "      <td>15000.0</td>\n",
              "    </tr>\n",
              "    <tr>\n",
              "      <th>1</th>\n",
              "      <td>59074</td>\n",
              "      <td>70471</td>\n",
              "      <td>2018-12-31</td>\n",
              "      <td>2019-01-31</td>\n",
              "      <td>0.0</td>\n",
              "    </tr>\n",
              "    <tr>\n",
              "      <th>2</th>\n",
              "      <td>33941</td>\n",
              "      <td>33065</td>\n",
              "      <td>2018-12-31</td>\n",
              "      <td>2019-01-31</td>\n",
              "      <td>-15000.0</td>\n",
              "    </tr>\n",
              "    <tr>\n",
              "      <th>3</th>\n",
              "      <td>9336</td>\n",
              "      <td>8611</td>\n",
              "      <td>2018-12-31</td>\n",
              "      <td>2019-01-31</td>\n",
              "      <td>-50000.0</td>\n",
              "    </tr>\n",
              "    <tr>\n",
              "      <th>4</th>\n",
              "      <td>13958</td>\n",
              "      <td>8421</td>\n",
              "      <td>2018-12-31</td>\n",
              "      <td>2019-01-31</td>\n",
              "      <td>-20000.0</td>\n",
              "    </tr>\n",
              "  </tbody>\n",
              "</table>\n",
              "</div>"
            ],
            "text/plain": [
              "   party_rk  account_rk  prev_month   cur_month  balance_chng\n",
              "0     51607       55309  2018-12-31  2019-01-31       15000.0\n",
              "1     59074       70471  2018-12-31  2019-01-31           0.0\n",
              "2     33941       33065  2018-12-31  2019-01-31      -15000.0\n",
              "3      9336        8611  2018-12-31  2019-01-31      -50000.0\n",
              "4     13958        8421  2018-12-31  2019-01-31      -20000.0"
            ]
          },
          "metadata": {},
          "execution_count": 48
        }
      ]
    },
    {
      "cell_type": "markdown",
      "metadata": {
        "id": "N-052NnNjQNe"
      },
      "source": [
        "##### Первичный анализ <a class=\"anchor\" id=\"ch2231\"></a>"
      ]
    },
    {
      "cell_type": "code",
      "metadata": {
        "colab": {
          "base_uri": "https://localhost:8080/"
        },
        "id": "RAmWmBcjg3uw",
        "outputId": "1bf629a9-2f1a-41c9-d3eb-de3035074cfe"
      },
      "source": [
        "print('Количество строк: {}, количество столбцов: {}'.format(df_balance.shape[0], df_balance.shape[1]))"
      ],
      "execution_count": null,
      "outputs": [
        {
          "output_type": "stream",
          "name": "stdout",
          "text": [
            "Количество строк: 614434, количество столбцов: 5\n"
          ]
        }
      ]
    },
    {
      "cell_type": "code",
      "metadata": {
        "colab": {
          "base_uri": "https://localhost:8080/"
        },
        "id": "_kTyTlOvg3ux",
        "outputId": "19f01560-db50-4537-8e28-f49a96d11b6d"
      },
      "source": [
        "df_balance.info()"
      ],
      "execution_count": null,
      "outputs": [
        {
          "output_type": "stream",
          "name": "stdout",
          "text": [
            "<class 'pandas.core.frame.DataFrame'>\n",
            "RangeIndex: 614434 entries, 0 to 614433\n",
            "Data columns (total 5 columns):\n",
            " #   Column        Non-Null Count   Dtype  \n",
            "---  ------        --------------   -----  \n",
            " 0   party_rk      614434 non-null  int64  \n",
            " 1   account_rk    614434 non-null  int64  \n",
            " 2   prev_month    612832 non-null  object \n",
            " 3   cur_month     612832 non-null  object \n",
            " 4   balance_chng  612832 non-null  float64\n",
            "dtypes: float64(1), int64(2), object(2)\n",
            "memory usage: 23.4+ MB\n"
          ]
        }
      ]
    },
    {
      "cell_type": "code",
      "metadata": {
        "colab": {
          "base_uri": "https://localhost:8080/",
          "height": 414
        },
        "id": "Uojzl69lHQdb",
        "outputId": "e29278ad-33f3-4a24-a125-887afb93eeb3"
      },
      "source": [
        "df_balance"
      ],
      "execution_count": null,
      "outputs": [
        {
          "output_type": "execute_result",
          "data": {
            "text/html": [
              "<div>\n",
              "<style scoped>\n",
              "    .dataframe tbody tr th:only-of-type {\n",
              "        vertical-align: middle;\n",
              "    }\n",
              "\n",
              "    .dataframe tbody tr th {\n",
              "        vertical-align: top;\n",
              "    }\n",
              "\n",
              "    .dataframe thead th {\n",
              "        text-align: right;\n",
              "    }\n",
              "</style>\n",
              "<table border=\"1\" class=\"dataframe\">\n",
              "  <thead>\n",
              "    <tr style=\"text-align: right;\">\n",
              "      <th></th>\n",
              "      <th>party_rk</th>\n",
              "      <th>account_rk</th>\n",
              "      <th>prev_month</th>\n",
              "      <th>cur_month</th>\n",
              "      <th>balance_chng</th>\n",
              "    </tr>\n",
              "  </thead>\n",
              "  <tbody>\n",
              "    <tr>\n",
              "      <th>0</th>\n",
              "      <td>51607</td>\n",
              "      <td>55309</td>\n",
              "      <td>2018-12-31</td>\n",
              "      <td>2019-01-31</td>\n",
              "      <td>15000.0</td>\n",
              "    </tr>\n",
              "    <tr>\n",
              "      <th>1</th>\n",
              "      <td>59074</td>\n",
              "      <td>70471</td>\n",
              "      <td>2018-12-31</td>\n",
              "      <td>2019-01-31</td>\n",
              "      <td>0.0</td>\n",
              "    </tr>\n",
              "    <tr>\n",
              "      <th>2</th>\n",
              "      <td>33941</td>\n",
              "      <td>33065</td>\n",
              "      <td>2018-12-31</td>\n",
              "      <td>2019-01-31</td>\n",
              "      <td>-15000.0</td>\n",
              "    </tr>\n",
              "    <tr>\n",
              "      <th>3</th>\n",
              "      <td>9336</td>\n",
              "      <td>8611</td>\n",
              "      <td>2018-12-31</td>\n",
              "      <td>2019-01-31</td>\n",
              "      <td>-50000.0</td>\n",
              "    </tr>\n",
              "    <tr>\n",
              "      <th>4</th>\n",
              "      <td>13958</td>\n",
              "      <td>8421</td>\n",
              "      <td>2018-12-31</td>\n",
              "      <td>2019-01-31</td>\n",
              "      <td>-20000.0</td>\n",
              "    </tr>\n",
              "    <tr>\n",
              "      <th>...</th>\n",
              "      <td>...</td>\n",
              "      <td>...</td>\n",
              "      <td>...</td>\n",
              "      <td>...</td>\n",
              "      <td>...</td>\n",
              "    </tr>\n",
              "    <tr>\n",
              "      <th>614429</th>\n",
              "      <td>13734</td>\n",
              "      <td>124222</td>\n",
              "      <td>NaN</td>\n",
              "      <td>NaN</td>\n",
              "      <td>NaN</td>\n",
              "    </tr>\n",
              "    <tr>\n",
              "      <th>614430</th>\n",
              "      <td>33502</td>\n",
              "      <td>125615</td>\n",
              "      <td>NaN</td>\n",
              "      <td>NaN</td>\n",
              "      <td>NaN</td>\n",
              "    </tr>\n",
              "    <tr>\n",
              "      <th>614431</th>\n",
              "      <td>8735</td>\n",
              "      <td>123871</td>\n",
              "      <td>NaN</td>\n",
              "      <td>NaN</td>\n",
              "      <td>NaN</td>\n",
              "    </tr>\n",
              "    <tr>\n",
              "      <th>614432</th>\n",
              "      <td>91302</td>\n",
              "      <td>122557</td>\n",
              "      <td>NaN</td>\n",
              "      <td>NaN</td>\n",
              "      <td>NaN</td>\n",
              "    </tr>\n",
              "    <tr>\n",
              "      <th>614433</th>\n",
              "      <td>25510</td>\n",
              "      <td>124828</td>\n",
              "      <td>NaN</td>\n",
              "      <td>NaN</td>\n",
              "      <td>NaN</td>\n",
              "    </tr>\n",
              "  </tbody>\n",
              "</table>\n",
              "<p>614434 rows × 5 columns</p>\n",
              "</div>"
            ],
            "text/plain": [
              "        party_rk  account_rk  prev_month   cur_month  balance_chng\n",
              "0          51607       55309  2018-12-31  2019-01-31       15000.0\n",
              "1          59074       70471  2018-12-31  2019-01-31           0.0\n",
              "2          33941       33065  2018-12-31  2019-01-31      -15000.0\n",
              "3           9336        8611  2018-12-31  2019-01-31      -50000.0\n",
              "4          13958        8421  2018-12-31  2019-01-31      -20000.0\n",
              "...          ...         ...         ...         ...           ...\n",
              "614429     13734      124222         NaN         NaN           NaN\n",
              "614430     33502      125615         NaN         NaN           NaN\n",
              "614431      8735      123871         NaN         NaN           NaN\n",
              "614432     91302      122557         NaN         NaN           NaN\n",
              "614433     25510      124828         NaN         NaN           NaN\n",
              "\n",
              "[614434 rows x 5 columns]"
            ]
          },
          "metadata": {},
          "execution_count": 51
        }
      ]
    },
    {
      "cell_type": "markdown",
      "metadata": {
        "id": "XCnBLrdfjQNf"
      },
      "source": [
        "Заметим, что у признаков 'prev_month' и 'cur_month', которые представляют из себя даты, тип object, хотя должен быть тип datetime."
      ]
    },
    {
      "cell_type": "code",
      "metadata": {
        "id": "41tSs7mRg3uy"
      },
      "source": [
        "df_balance['prev_month'] = pd.to_datetime(df_balance['prev_month'])\n",
        "df_balance['cur_month'] = pd.to_datetime(df_balance['cur_month'])"
      ],
      "execution_count": null,
      "outputs": []
    },
    {
      "cell_type": "code",
      "metadata": {
        "id": "hMP3YZUaHowB"
      },
      "source": [
        "df_balance = df_balance.drop(['account_rk'], axis = 1)"
      ],
      "execution_count": null,
      "outputs": []
    },
    {
      "cell_type": "code",
      "metadata": {
        "id": "kIvjMnWW8sIk"
      },
      "source": [
        "# def get_prev_or_cur_month(row):\n",
        "#     if row['prev_month'] == np.nan and row['cur_month'] == np.nan:\n",
        "#         return row\n",
        "#     elif row['prev_month'] == np.nan:\n",
        "#         row['prev_month'] =  pd.to_datetime(row['cur_month']) - pd.to_timedelta('1 month')\n",
        "#         return row\n",
        "#     elif row['cur_month'] == np.nan:\n",
        "#         row['cur_month'] =  pd.to_datetime(row['prev_month']) + pd.to_timedelta('1 month')\n",
        "#         return row\n",
        "#     else:\n",
        "#         return row"
      ],
      "execution_count": null,
      "outputs": []
    },
    {
      "cell_type": "code",
      "metadata": {
        "id": "gtH35ZWoB-uq"
      },
      "source": [
        "# df_balance.apply(lambda row: get_prev_or_cur_month(row),axis=1).info()"
      ],
      "execution_count": null,
      "outputs": []
    },
    {
      "cell_type": "markdown",
      "metadata": {
        "id": "onkID43KjQNg"
      },
      "source": [
        "##### Заполнение пропусков <a class=\"anchor\" id=\"ch2233\"></a>"
      ]
    },
    {
      "cell_type": "code",
      "metadata": {
        "id": "OgIzaPaJF23w"
      },
      "source": [
        "df_balance = df_balance.dropna(subset=[\"prev_month\"],axis =0)\n",
        "df_balance = df_balance.dropna(subset=[\"cur_month\"],axis = 0)"
      ],
      "execution_count": null,
      "outputs": []
    },
    {
      "cell_type": "code",
      "metadata": {
        "colab": {
          "base_uri": "https://localhost:8080/",
          "height": 414
        },
        "id": "z2HoHMkYjQNh",
        "outputId": "04fa5c51-102b-4ee3-c666-bec305d562d0"
      },
      "source": [
        "df_balance"
      ],
      "execution_count": null,
      "outputs": [
        {
          "output_type": "execute_result",
          "data": {
            "text/html": [
              "<div>\n",
              "<style scoped>\n",
              "    .dataframe tbody tr th:only-of-type {\n",
              "        vertical-align: middle;\n",
              "    }\n",
              "\n",
              "    .dataframe tbody tr th {\n",
              "        vertical-align: top;\n",
              "    }\n",
              "\n",
              "    .dataframe thead th {\n",
              "        text-align: right;\n",
              "    }\n",
              "</style>\n",
              "<table border=\"1\" class=\"dataframe\">\n",
              "  <thead>\n",
              "    <tr style=\"text-align: right;\">\n",
              "      <th></th>\n",
              "      <th>party_rk</th>\n",
              "      <th>prev_month</th>\n",
              "      <th>cur_month</th>\n",
              "      <th>balance_chng</th>\n",
              "    </tr>\n",
              "  </thead>\n",
              "  <tbody>\n",
              "    <tr>\n",
              "      <th>0</th>\n",
              "      <td>51607</td>\n",
              "      <td>2018-12-31</td>\n",
              "      <td>2019-01-31</td>\n",
              "      <td>15000.0</td>\n",
              "    </tr>\n",
              "    <tr>\n",
              "      <th>1</th>\n",
              "      <td>59074</td>\n",
              "      <td>2018-12-31</td>\n",
              "      <td>2019-01-31</td>\n",
              "      <td>0.0</td>\n",
              "    </tr>\n",
              "    <tr>\n",
              "      <th>2</th>\n",
              "      <td>33941</td>\n",
              "      <td>2018-12-31</td>\n",
              "      <td>2019-01-31</td>\n",
              "      <td>-15000.0</td>\n",
              "    </tr>\n",
              "    <tr>\n",
              "      <th>3</th>\n",
              "      <td>9336</td>\n",
              "      <td>2018-12-31</td>\n",
              "      <td>2019-01-31</td>\n",
              "      <td>-50000.0</td>\n",
              "    </tr>\n",
              "    <tr>\n",
              "      <th>4</th>\n",
              "      <td>13958</td>\n",
              "      <td>2018-12-31</td>\n",
              "      <td>2019-01-31</td>\n",
              "      <td>-20000.0</td>\n",
              "    </tr>\n",
              "    <tr>\n",
              "      <th>...</th>\n",
              "      <td>...</td>\n",
              "      <td>...</td>\n",
              "      <td>...</td>\n",
              "      <td>...</td>\n",
              "    </tr>\n",
              "    <tr>\n",
              "      <th>614418</th>\n",
              "      <td>61783</td>\n",
              "      <td>2019-11-30</td>\n",
              "      <td>2019-12-31</td>\n",
              "      <td>-25000.0</td>\n",
              "    </tr>\n",
              "    <tr>\n",
              "      <th>614419</th>\n",
              "      <td>73974</td>\n",
              "      <td>2019-11-30</td>\n",
              "      <td>2019-12-31</td>\n",
              "      <td>-20000.0</td>\n",
              "    </tr>\n",
              "    <tr>\n",
              "      <th>614420</th>\n",
              "      <td>34789</td>\n",
              "      <td>2019-11-30</td>\n",
              "      <td>2019-12-31</td>\n",
              "      <td>0.0</td>\n",
              "    </tr>\n",
              "    <tr>\n",
              "      <th>614421</th>\n",
              "      <td>15325</td>\n",
              "      <td>2019-11-30</td>\n",
              "      <td>2019-12-31</td>\n",
              "      <td>0.0</td>\n",
              "    </tr>\n",
              "    <tr>\n",
              "      <th>614422</th>\n",
              "      <td>49302</td>\n",
              "      <td>2019-11-30</td>\n",
              "      <td>2019-12-31</td>\n",
              "      <td>0.0</td>\n",
              "    </tr>\n",
              "  </tbody>\n",
              "</table>\n",
              "<p>612832 rows × 4 columns</p>\n",
              "</div>"
            ],
            "text/plain": [
              "        party_rk prev_month  cur_month  balance_chng\n",
              "0          51607 2018-12-31 2019-01-31       15000.0\n",
              "1          59074 2018-12-31 2019-01-31           0.0\n",
              "2          33941 2018-12-31 2019-01-31      -15000.0\n",
              "3           9336 2018-12-31 2019-01-31      -50000.0\n",
              "4          13958 2018-12-31 2019-01-31      -20000.0\n",
              "...          ...        ...        ...           ...\n",
              "614418     61783 2019-11-30 2019-12-31      -25000.0\n",
              "614419     73974 2019-11-30 2019-12-31      -20000.0\n",
              "614420     34789 2019-11-30 2019-12-31           0.0\n",
              "614421     15325 2019-11-30 2019-12-31           0.0\n",
              "614422     49302 2019-11-30 2019-12-31           0.0\n",
              "\n",
              "[612832 rows x 4 columns]"
            ]
          },
          "metadata": {},
          "execution_count": 57
        }
      ]
    },
    {
      "cell_type": "code",
      "metadata": {
        "id": "RhiUo9C-lkgz"
      },
      "source": [
        "df_balance['pos_change'] = df_balance['balance_chng'].apply(lambda x: x if x>= 0 else x * -1)"
      ],
      "execution_count": null,
      "outputs": []
    },
    {
      "cell_type": "code",
      "metadata": {
        "colab": {
          "base_uri": "https://localhost:8080/"
        },
        "id": "lbjnPHrEmMM7",
        "outputId": "a76883c9-614d-447e-cf8d-5b8a03c679fc"
      },
      "source": [
        "df_balance,_,len_out = removing_outliers('pos_change',df_balance,alpha=1.5)"
      ],
      "execution_count": null,
      "outputs": [
        {
          "output_type": "stream",
          "name": "stdout",
          "text": [
            "Количество строк, выбранных для удаления pos_change: 129475. Количество итераций 3\n",
            "\n"
          ]
        }
      ]
    },
    {
      "cell_type": "code",
      "metadata": {
        "colab": {
          "base_uri": "https://localhost:8080/",
          "height": 266
        },
        "id": "hLVCi5rey0O3",
        "outputId": "0db63587-4e63-4fed-c3bf-d5f17c97dde3"
      },
      "source": [
        "df_balance.boxplot(['pos_change']);"
      ],
      "execution_count": null,
      "outputs": [
        {
          "output_type": "display_data",
          "data": {
            "image/png": "[encoded data removed]",
            "text/plain": [
              "<Figure size 432x288 with 1 Axes>"
            ]
          },
          "metadata": {
            "needs_background": "light"
          }
        }
      ]
    },
    {
      "cell_type": "code",
      "metadata": {
        "colab": {
          "base_uri": "https://localhost:8080/"
        },
        "id": "m-UKkNOa0LjP",
        "outputId": "2fe7e77c-b52a-4944-dde8-00a6c700a0fc"
      },
      "source": [
        "df_balance.info()"
      ],
      "execution_count": null,
      "outputs": [
        {
          "output_type": "stream",
          "name": "stdout",
          "text": [
            "<class 'pandas.core.frame.DataFrame'>\n",
            "Int64Index: 483357 entries, 1 to 614422\n",
            "Data columns (total 5 columns):\n",
            " #   Column        Non-Null Count   Dtype         \n",
            "---  ------        --------------   -----         \n",
            " 0   party_rk      483357 non-null  int64         \n",
            " 1   prev_month    483357 non-null  datetime64[ns]\n",
            " 2   cur_month     483357 non-null  datetime64[ns]\n",
            " 3   balance_chng  483357 non-null  float64       \n",
            " 4   pos_change    483357 non-null  float64       \n",
            "dtypes: datetime64[ns](2), float64(2), int64(1)\n",
            "memory usage: 22.1 MB\n"
          ]
        }
      ]
    },
    {
      "cell_type": "markdown",
      "metadata": {
        "id": "D4wHQonAg3u0"
      },
      "source": [
        "### df_stories_texts <a class=\"anchor\" id=\"ch224\"></a>"
      ]
    },
    {
      "cell_type": "markdown",
      "metadata": {
        "id": "QirP4sZvjQNh"
      },
      "source": [
        "В данной таблице содержится информация об историях, выкладываемых Тинькоффом, где\n",
        "<ul>\n",
        "<li><strong>story_id</strong> - уникальный идентификационный номер истории</li> \n",
        "<li><strong>name</strong> - заголовок истории</li>\n",
        "<li><strong>story_text</strong> - текст истории</li>\n",
        "</ul>\n",
        "<strong>Первичным ключом</strong> таблицы является атрибут story_id."
      ]
    },
    {
      "cell_type": "code",
      "metadata": {
        "colab": {
          "base_uri": "https://localhost:8080/",
          "height": 202
        },
        "id": "epI7MGmgg3u1",
        "outputId": "650d5b6e-ec93-4200-d555-d207a5fe3d1d"
      },
      "source": [
        "df_story_texts.head()"
      ],
      "execution_count": null,
      "outputs": [
        {
          "data": {
            "text/html": [
              "<div>\n",
              "<style scoped>\n",
              "    .dataframe tbody tr th:only-of-type {\n",
              "        vertical-align: middle;\n",
              "    }\n",
              "\n",
              "    .dataframe tbody tr th {\n",
              "        vertical-align: top;\n",
              "    }\n",
              "\n",
              "    .dataframe thead th {\n",
              "        text-align: right;\n",
              "    }\n",
              "</style>\n",
              "<table border=\"1\" class=\"dataframe\">\n",
              "  <thead>\n",
              "    <tr style=\"text-align: right;\">\n",
              "      <th></th>\n",
              "      <th>story_id</th>\n",
              "      <th>name</th>\n",
              "      <th>story_text</th>\n",
              "    </tr>\n",
              "  </thead>\n",
              "  <tbody>\n",
              "    <tr>\n",
              "      <th>0</th>\n",
              "      <td>794</td>\n",
              "      <td>Профессия: свадебный организатор</td>\n",
              "      <td>[\"\",\"Как стать свадебным организатором\",\"Это Л...</td>\n",
              "    </tr>\n",
              "    <tr>\n",
              "      <th>1</th>\n",
              "      <td>821</td>\n",
              "      <td>Бизнес: магазин электроники</td>\n",
              "      <td>[\"\",\"Как открыть интернет-магазин электроники\"...</td>\n",
              "    </tr>\n",
              "    <tr>\n",
              "      <th>2</th>\n",
              "      <td>824</td>\n",
              "      <td>Как у них: Сингапур</td>\n",
              "      <td>[\"\",\"Жизнь в Сингапуре\",\"Это Славина. Вместе с...</td>\n",
              "    </tr>\n",
              "    <tr>\n",
              "      <th>3</th>\n",
              "      <td>839</td>\n",
              "      <td>Студии йоги</td>\n",
              "      <td>[\"\",\"Студии йоги\",\"7 московских студий, где мо...</td>\n",
              "    </tr>\n",
              "    <tr>\n",
              "      <th>4</th>\n",
              "      <td>848</td>\n",
              "      <td>Как получать больше кэшбэка</td>\n",
              "      <td>[\"\",\"Как получать больше кэшбэка\",\"Подключите ...</td>\n",
              "    </tr>\n",
              "  </tbody>\n",
              "</table>\n",
              "</div>"
            ],
            "text/plain": [
              "   story_id  ...                                         story_text\n",
              "0       794  ...  [\"\",\"Как стать свадебным организатором\",\"Это Л...\n",
              "1       821  ...  [\"\",\"Как открыть интернет-магазин электроники\"...\n",
              "2       824  ...  [\"\",\"Жизнь в Сингапуре\",\"Это Славина. Вместе с...\n",
              "3       839  ...  [\"\",\"Студии йоги\",\"7 московских студий, где мо...\n",
              "4       848  ...  [\"\",\"Как получать больше кэшбэка\",\"Подключите ...\n",
              "\n",
              "[5 rows x 3 columns]"
            ]
          },
          "execution_count": 41,
          "metadata": {},
          "output_type": "execute_result"
        }
      ]
    },
    {
      "cell_type": "markdown",
      "metadata": {
        "id": "kmaiL4wkjQNh"
      },
      "source": [
        "##### Первичный анализ <a class=\"anchor\" id=\"ch2241\"></a>"
      ]
    },
    {
      "cell_type": "code",
      "metadata": {
        "id": "k6NB0UKIjQNh",
        "outputId": "4f591da5-bcf2-492a-e4ea-3c7d96796774"
      },
      "source": [
        "print('Количество строк: {}, количество столбцов: {}'.format(df_story_texts.shape[0], df_story_texts.shape[1]))"
      ],
      "execution_count": null,
      "outputs": [
        {
          "name": "stdout",
          "output_type": "stream",
          "text": [
            "Количество строк: 1631, количество столбцов: 3\n"
          ]
        }
      ]
    },
    {
      "cell_type": "code",
      "metadata": {
        "colab": {
          "base_uri": "https://localhost:8080/"
        },
        "id": "jAWydCtC5Qvv",
        "outputId": "2167fa65-c030-472f-8c32-11e8adfdc30c"
      },
      "source": [
        "df_story_texts.info()"
      ],
      "execution_count": null,
      "outputs": [
        {
          "name": "stdout",
          "output_type": "stream",
          "text": [
            "<class 'pandas.core.frame.DataFrame'>\n",
            "RangeIndex: 1631 entries, 0 to 1630\n",
            "Data columns (total 3 columns):\n",
            " #   Column      Non-Null Count  Dtype \n",
            "---  ------      --------------  ----- \n",
            " 0   story_id    1631 non-null   int64 \n",
            " 1   name        1401 non-null   object\n",
            " 2   story_text  1631 non-null   object\n",
            "dtypes: int64(1), object(2)\n",
            "memory usage: 38.4+ KB\n"
          ]
        }
      ]
    },
    {
      "cell_type": "markdown",
      "metadata": {
        "id": "HT246EmgjQNi"
      },
      "source": [
        "##### Заполнение пропусков <a class=\"anchor\" id=\"ch2243\"></a>"
      ]
    },
    {
      "cell_type": "code",
      "metadata": {
        "id": "uuVNN8Xx5Y7a"
      },
      "source": [
        "df_story_texts['name'] = df_story_texts['name'].fillna('None')"
      ],
      "execution_count": null,
      "outputs": []
    },
    {
      "cell_type": "code",
      "metadata": {
        "colab": {
          "base_uri": "https://localhost:8080/",
          "height": 112
        },
        "id": "YYGwjFM0g3u3",
        "outputId": "3f667223-dc11-4b6d-f24e-259870248f06"
      },
      "source": [
        "print(\"\\nКоличество пропущенных значений:\")\n",
        "df_story_texts.isna().sum().to_frame().sort_values(0, ascending = False).T"
      ],
      "execution_count": null,
      "outputs": [
        {
          "name": "stdout",
          "output_type": "stream",
          "text": [
            "\n",
            "Количество пропущенных значений:\n"
          ]
        },
        {
          "data": {
            "text/html": [
              "<div>\n",
              "<style scoped>\n",
              "    .dataframe tbody tr th:only-of-type {\n",
              "        vertical-align: middle;\n",
              "    }\n",
              "\n",
              "    .dataframe tbody tr th {\n",
              "        vertical-align: top;\n",
              "    }\n",
              "\n",
              "    .dataframe thead th {\n",
              "        text-align: right;\n",
              "    }\n",
              "</style>\n",
              "<table border=\"1\" class=\"dataframe\">\n",
              "  <thead>\n",
              "    <tr style=\"text-align: right;\">\n",
              "      <th></th>\n",
              "      <th>story_id</th>\n",
              "      <th>name</th>\n",
              "      <th>story_text</th>\n",
              "    </tr>\n",
              "  </thead>\n",
              "  <tbody>\n",
              "    <tr>\n",
              "      <th>0</th>\n",
              "      <td>0</td>\n",
              "      <td>0</td>\n",
              "      <td>0</td>\n",
              "    </tr>\n",
              "  </tbody>\n",
              "</table>\n",
              "</div>"
            ],
            "text/plain": [
              "   story_id  name  story_text\n",
              "0         0     0           0"
            ]
          },
          "execution_count": 75,
          "metadata": {},
          "output_type": "execute_result"
        }
      ]
    },
    {
      "cell_type": "markdown",
      "metadata": {
        "id": "g8OMghWQg3u3"
      },
      "source": [
        "### df_stories_logs <a class=\"anchor\" id=\"ch225\"></a>"
      ]
    },
    {
      "cell_type": "markdown",
      "metadata": {
        "id": "NdQu_lTZjQNj"
      },
      "source": [
        "В данной таблице содержится информация о действиях клиентов относительно историй, где\n",
        "<ul>\n",
        "<li><strong>party_rk</strong> - уникальный идентификационный номер клиента</li> \n",
        "<li><strong>date_time</strong> - дата и время действия клиента в формате ГГГГ-ММ-ДД ЧЧ:ММ:СС </li>\n",
        "<li><strong>story_id</strong> - уникальный идентификационный номер истории</li>\n",
        "<li><strong>category</strong> - уникальный идентификационный номер категории действия</li>\n",
        "<li><strong>event</strong> - наименование действия (like / dislike / ...)</li>\n",
        "</ul>\n",
        "<strong>Первичный ключ</strong> таблицы является составным из двух атрибутов: party_rk + date_time."
      ]
    },
    {
      "cell_type": "code",
      "metadata": {
        "colab": {
          "base_uri": "https://localhost:8080/",
          "height": 202
        },
        "id": "odp-Xo5qg3u4",
        "outputId": "74a9751d-f4a4-4f80-84ec-90ffa9dac17d"
      },
      "source": [
        "df_stories_logs.head()"
      ],
      "execution_count": null,
      "outputs": [
        {
          "data": {
            "text/html": [
              "<div>\n",
              "<style scoped>\n",
              "    .dataframe tbody tr th:only-of-type {\n",
              "        vertical-align: middle;\n",
              "    }\n",
              "\n",
              "    .dataframe tbody tr th {\n",
              "        vertical-align: top;\n",
              "    }\n",
              "\n",
              "    .dataframe thead th {\n",
              "        text-align: right;\n",
              "    }\n",
              "</style>\n",
              "<table border=\"1\" class=\"dataframe\">\n",
              "  <thead>\n",
              "    <tr style=\"text-align: right;\">\n",
              "      <th></th>\n",
              "      <th>party_rk</th>\n",
              "      <th>date_time</th>\n",
              "      <th>story_id</th>\n",
              "      <th>category</th>\n",
              "      <th>event</th>\n",
              "    </tr>\n",
              "  </thead>\n",
              "  <tbody>\n",
              "    <tr>\n",
              "      <th>0</th>\n",
              "      <td>64266</td>\n",
              "      <td>2019-12-01 13:05:31</td>\n",
              "      <td>3840</td>\n",
              "      <td>39</td>\n",
              "      <td>like</td>\n",
              "    </tr>\n",
              "    <tr>\n",
              "      <th>1</th>\n",
              "      <td>55721</td>\n",
              "      <td>2019-12-01 13:18:08</td>\n",
              "      <td>3857</td>\n",
              "      <td>39</td>\n",
              "      <td>like</td>\n",
              "    </tr>\n",
              "    <tr>\n",
              "      <th>2</th>\n",
              "      <td>27563</td>\n",
              "      <td>2019-12-01 13:25:40</td>\n",
              "      <td>3174</td>\n",
              "      <td>78</td>\n",
              "      <td>like</td>\n",
              "    </tr>\n",
              "    <tr>\n",
              "      <th>3</th>\n",
              "      <td>61223</td>\n",
              "      <td>2019-12-01 13:25:20</td>\n",
              "      <td>3857</td>\n",
              "      <td>39</td>\n",
              "      <td>like</td>\n",
              "    </tr>\n",
              "    <tr>\n",
              "      <th>4</th>\n",
              "      <td>61223</td>\n",
              "      <td>2019-12-01 13:29:05</td>\n",
              "      <td>3765</td>\n",
              "      <td>73</td>\n",
              "      <td>like</td>\n",
              "    </tr>\n",
              "  </tbody>\n",
              "</table>\n",
              "</div>"
            ],
            "text/plain": [
              "   party_rk            date_time  story_id  category event\n",
              "0     64266  2019-12-01 13:05:31      3840        39  like\n",
              "1     55721  2019-12-01 13:18:08      3857        39  like\n",
              "2     27563  2019-12-01 13:25:40      3174        78  like\n",
              "3     61223  2019-12-01 13:25:20      3857        39  like\n",
              "4     61223  2019-12-01 13:29:05      3765        73  like"
            ]
          },
          "execution_count": 56,
          "metadata": {},
          "output_type": "execute_result"
        }
      ]
    },
    {
      "cell_type": "markdown",
      "metadata": {
        "id": "qFEZyweojQNj"
      },
      "source": [
        "##### Первичный анализ <a class=\"anchor\" id=\"ch2251\"></a>"
      ]
    },
    {
      "cell_type": "code",
      "metadata": {
        "colab": {
          "base_uri": "https://localhost:8080/"
        },
        "id": "bWSQIbAig3u4",
        "outputId": "00b77831-6c36-4348-f0b7-0bfff64af9eb"
      },
      "source": [
        "print('Количество строк: {}, количество столбцов: {}'.format(df_stories_logs.shape[0], df_stories_logs.shape[1]))"
      ],
      "execution_count": null,
      "outputs": [
        {
          "name": "stdout",
          "output_type": "stream",
          "text": [
            "Количество строк: 13820, количество столбцов: 5\n"
          ]
        }
      ]
    },
    {
      "cell_type": "code",
      "metadata": {
        "colab": {
          "base_uri": "https://localhost:8080/"
        },
        "id": "DVbeKSRxg3u5",
        "outputId": "302ff829-0357-49c8-f890-ac4b55a859d8"
      },
      "source": [
        "df_stories_logs.info()"
      ],
      "execution_count": null,
      "outputs": [
        {
          "name": "stdout",
          "output_type": "stream",
          "text": [
            "<class 'pandas.core.frame.DataFrame'>\n",
            "RangeIndex: 13820 entries, 0 to 13819\n",
            "Data columns (total 5 columns):\n",
            " #   Column     Non-Null Count  Dtype \n",
            "---  ------     --------------  ----- \n",
            " 0   party_rk   13820 non-null  int64 \n",
            " 1   date_time  13820 non-null  object\n",
            " 2   story_id   13820 non-null  int64 \n",
            " 3   category   13820 non-null  int64 \n",
            " 4   event      13820 non-null  object\n",
            "dtypes: int64(3), object(2)\n",
            "memory usage: 540.0+ KB\n"
          ]
        }
      ]
    },
    {
      "cell_type": "markdown",
      "metadata": {
        "id": "hn0uUKxbjQNj"
      },
      "source": [
        "Заметим, что у признака 'date_time', который представляет из себя дату, тип object, хотя должен быть тип datetime."
      ]
    },
    {
      "cell_type": "code",
      "metadata": {
        "id": "iqA_t7pGg3u6"
      },
      "source": [
        "df_stories_logs['date_time'] = pd.to_datetime(df_stories_logs['date_time'])"
      ],
      "execution_count": null,
      "outputs": []
    },
    {
      "cell_type": "code",
      "metadata": {
        "colab": {
          "base_uri": "https://localhost:8080/",
          "height": 846
        },
        "id": "Ml-0VvXzg3u7",
        "scrolled": true,
        "outputId": "bfa008d5-703c-450f-933c-1a03f2dea8d9"
      },
      "source": [
        "df_stories_logs['event'].value_counts().reset_index()"
      ],
      "execution_count": null,
      "outputs": [
        {
          "data": {
            "text/html": [
              "<div>\n",
              "<style scoped>\n",
              "    .dataframe tbody tr th:only-of-type {\n",
              "        vertical-align: middle;\n",
              "    }\n",
              "\n",
              "    .dataframe tbody tr th {\n",
              "        vertical-align: top;\n",
              "    }\n",
              "\n",
              "    .dataframe thead th {\n",
              "        text-align: right;\n",
              "    }\n",
              "</style>\n",
              "<table border=\"1\" class=\"dataframe\">\n",
              "  <thead>\n",
              "    <tr style=\"text-align: right;\">\n",
              "      <th></th>\n",
              "      <th>index</th>\n",
              "      <th>event</th>\n",
              "    </tr>\n",
              "  </thead>\n",
              "  <tbody>\n",
              "    <tr>\n",
              "      <th>0</th>\n",
              "      <td>like</td>\n",
              "      <td>5920</td>\n",
              "    </tr>\n",
              "    <tr>\n",
              "      <th>1</th>\n",
              "      <td>favorite</td>\n",
              "      <td>5028</td>\n",
              "    </tr>\n",
              "    <tr>\n",
              "      <th>2</th>\n",
              "      <td>dislike</td>\n",
              "      <td>763</td>\n",
              "    </tr>\n",
              "    <tr>\n",
              "      <th>3</th>\n",
              "      <td>14]</td>\n",
              "      <td>592</td>\n",
              "    </tr>\n",
              "    <tr>\n",
              "      <th>4</th>\n",
              "      <td>77]</td>\n",
              "      <td>551</td>\n",
              "    </tr>\n",
              "    <tr>\n",
              "      <th>5</th>\n",
              "      <td>153</td>\n",
              "      <td>208</td>\n",
              "    </tr>\n",
              "    <tr>\n",
              "      <th>6</th>\n",
              "      <td>180</td>\n",
              "      <td>108</td>\n",
              "    </tr>\n",
              "    <tr>\n",
              "      <th>7</th>\n",
              "      <td>177</td>\n",
              "      <td>99</td>\n",
              "    </tr>\n",
              "    <tr>\n",
              "      <th>8</th>\n",
              "      <td>176</td>\n",
              "      <td>72</td>\n",
              "    </tr>\n",
              "    <tr>\n",
              "      <th>9</th>\n",
              "      <td>54]</td>\n",
              "      <td>54</td>\n",
              "    </tr>\n",
              "    <tr>\n",
              "      <th>10</th>\n",
              "      <td>19]</td>\n",
              "      <td>53</td>\n",
              "    </tr>\n",
              "    <tr>\n",
              "      <th>11</th>\n",
              "      <td>174</td>\n",
              "      <td>49</td>\n",
              "    </tr>\n",
              "    <tr>\n",
              "      <th>12</th>\n",
              "      <td>164</td>\n",
              "      <td>48</td>\n",
              "    </tr>\n",
              "    <tr>\n",
              "      <th>13</th>\n",
              "      <td>175</td>\n",
              "      <td>48</td>\n",
              "    </tr>\n",
              "    <tr>\n",
              "      <th>14</th>\n",
              "      <td>48</td>\n",
              "      <td>45</td>\n",
              "    </tr>\n",
              "    <tr>\n",
              "      <th>15</th>\n",
              "      <td>160</td>\n",
              "      <td>38</td>\n",
              "    </tr>\n",
              "    <tr>\n",
              "      <th>16</th>\n",
              "      <td>163</td>\n",
              "      <td>33</td>\n",
              "    </tr>\n",
              "    <tr>\n",
              "      <th>17</th>\n",
              "      <td>161</td>\n",
              "      <td>31</td>\n",
              "    </tr>\n",
              "    <tr>\n",
              "      <th>18</th>\n",
              "      <td>170</td>\n",
              "      <td>25</td>\n",
              "    </tr>\n",
              "    <tr>\n",
              "      <th>19</th>\n",
              "      <td>159</td>\n",
              "      <td>18</td>\n",
              "    </tr>\n",
              "    <tr>\n",
              "      <th>20</th>\n",
              "      <td>101]</td>\n",
              "      <td>14</td>\n",
              "    </tr>\n",
              "    <tr>\n",
              "      <th>21</th>\n",
              "      <td>182</td>\n",
              "      <td>9</td>\n",
              "    </tr>\n",
              "    <tr>\n",
              "      <th>22</th>\n",
              "      <td>76</td>\n",
              "      <td>6</td>\n",
              "    </tr>\n",
              "    <tr>\n",
              "      <th>23</th>\n",
              "      <td>102]</td>\n",
              "      <td>5</td>\n",
              "    </tr>\n",
              "    <tr>\n",
              "      <th>24</th>\n",
              "      <td>55]</td>\n",
              "      <td>2</td>\n",
              "    </tr>\n",
              "    <tr>\n",
              "      <th>25</th>\n",
              "      <td>173</td>\n",
              "      <td>1</td>\n",
              "    </tr>\n",
              "  </tbody>\n",
              "</table>\n",
              "</div>"
            ],
            "text/plain": [
              "       index  event\n",
              "0       like   5920\n",
              "1   favorite   5028\n",
              "2    dislike    763\n",
              "3        14]    592\n",
              "4        77]    551\n",
              "5        153    208\n",
              "6        180    108\n",
              "7        177     99\n",
              "8        176     72\n",
              "9        54]     54\n",
              "10       19]     53\n",
              "11       174     49\n",
              "12       164     48\n",
              "13       175     48\n",
              "14        48     45\n",
              "15       160     38\n",
              "16       163     33\n",
              "17       161     31\n",
              "18       170     25\n",
              "19       159     18\n",
              "20      101]     14\n",
              "21       182      9\n",
              "22        76      6\n",
              "23      102]      5\n",
              "24       55]      2\n",
              "25       173      1"
            ]
          },
          "execution_count": 77,
          "metadata": {},
          "output_type": "execute_result"
        }
      ]
    },
    {
      "cell_type": "markdown",
      "metadata": {
        "id": "KpF0cGVLg3u7"
      },
      "source": [
        "Удалим строки с непонятными (числовыми) значениями по признаку 'index' "
      ]
    },
    {
      "cell_type": "code",
      "metadata": {
        "id": "PaThRyi-g3u7"
      },
      "source": [
        "df_stories_logs = df_stories_logs[(df_stories_logs['event'] == 'like') | (df_stories_logs['event'] =='dislike') | (df_stories_logs['event'] =='favorite')] "
      ],
      "execution_count": null,
      "outputs": []
    },
    {
      "cell_type": "markdown",
      "metadata": {
        "id": "lxV4sd1rjQNk"
      },
      "source": [
        "##### Приведение категориальных признаков к числовому виду <a class=\"anchor\" id=\"ch2252\"></a>"
      ]
    },
    {
      "cell_type": "code",
      "metadata": {
        "id": "9cGIjNJYjQNk"
      },
      "source": [
        "# event - категориальный признак, переведем его в тип int\n",
        "le_event = preprocessing.LabelEncoder()\n",
        "le_event.fit(df_stories_logs['event'])\n",
        "df_stories_logs['event'] = le_event.transform(df_stories_logs['event'])"
      ],
      "execution_count": null,
      "outputs": []
    },
    {
      "cell_type": "code",
      "metadata": {
        "id": "jddO4dy9jQNl",
        "outputId": "4c7e9257-cbe1-4c7d-b9a2-304f9a68e4b2"
      },
      "source": [
        "df_stories_logs['event'].unique()"
      ],
      "execution_count": null,
      "outputs": [
        {
          "data": {
            "text/plain": [
              "array([2, 1, 0])"
            ]
          },
          "execution_count": 81,
          "metadata": {},
          "output_type": "execute_result"
        }
      ]
    },
    {
      "cell_type": "code",
      "metadata": {
        "id": "fnlv1rcejQNl",
        "outputId": "55ccdaa7-5cc5-4a88-e6ab-74851a09c2ba"
      },
      "source": [
        "df_stories_logs"
      ],
      "execution_count": null,
      "outputs": [
        {
          "data": {
            "text/html": [
              "<div>\n",
              "<style scoped>\n",
              "    .dataframe tbody tr th:only-of-type {\n",
              "        vertical-align: middle;\n",
              "    }\n",
              "\n",
              "    .dataframe tbody tr th {\n",
              "        vertical-align: top;\n",
              "    }\n",
              "\n",
              "    .dataframe thead th {\n",
              "        text-align: right;\n",
              "    }\n",
              "</style>\n",
              "<table border=\"1\" class=\"dataframe\">\n",
              "  <thead>\n",
              "    <tr style=\"text-align: right;\">\n",
              "      <th></th>\n",
              "      <th>party_rk</th>\n",
              "      <th>date_time</th>\n",
              "      <th>story_id</th>\n",
              "      <th>category</th>\n",
              "      <th>event</th>\n",
              "    </tr>\n",
              "  </thead>\n",
              "  <tbody>\n",
              "    <tr>\n",
              "      <th>0</th>\n",
              "      <td>64266</td>\n",
              "      <td>2019-12-01 13:05:31</td>\n",
              "      <td>3840</td>\n",
              "      <td>39</td>\n",
              "      <td>2</td>\n",
              "    </tr>\n",
              "    <tr>\n",
              "      <th>1</th>\n",
              "      <td>55721</td>\n",
              "      <td>2019-12-01 13:18:08</td>\n",
              "      <td>3857</td>\n",
              "      <td>39</td>\n",
              "      <td>2</td>\n",
              "    </tr>\n",
              "    <tr>\n",
              "      <th>2</th>\n",
              "      <td>27563</td>\n",
              "      <td>2019-12-01 13:25:40</td>\n",
              "      <td>3174</td>\n",
              "      <td>78</td>\n",
              "      <td>2</td>\n",
              "    </tr>\n",
              "    <tr>\n",
              "      <th>3</th>\n",
              "      <td>61223</td>\n",
              "      <td>2019-12-01 13:25:20</td>\n",
              "      <td>3857</td>\n",
              "      <td>39</td>\n",
              "      <td>2</td>\n",
              "    </tr>\n",
              "    <tr>\n",
              "      <th>4</th>\n",
              "      <td>61223</td>\n",
              "      <td>2019-12-01 13:29:05</td>\n",
              "      <td>3765</td>\n",
              "      <td>73</td>\n",
              "      <td>2</td>\n",
              "    </tr>\n",
              "    <tr>\n",
              "      <th>...</th>\n",
              "      <td>...</td>\n",
              "      <td>...</td>\n",
              "      <td>...</td>\n",
              "      <td>...</td>\n",
              "      <td>...</td>\n",
              "    </tr>\n",
              "    <tr>\n",
              "      <th>13815</th>\n",
              "      <td>19043</td>\n",
              "      <td>2019-12-31 22:52:40</td>\n",
              "      <td>4117</td>\n",
              "      <td>71</td>\n",
              "      <td>2</td>\n",
              "    </tr>\n",
              "    <tr>\n",
              "      <th>13816</th>\n",
              "      <td>19043</td>\n",
              "      <td>2019-12-31 22:53:13</td>\n",
              "      <td>4120</td>\n",
              "      <td>39</td>\n",
              "      <td>2</td>\n",
              "    </tr>\n",
              "    <tr>\n",
              "      <th>13817</th>\n",
              "      <td>10195</td>\n",
              "      <td>2019-12-31 23:32:50</td>\n",
              "      <td>4117</td>\n",
              "      <td>71</td>\n",
              "      <td>1</td>\n",
              "    </tr>\n",
              "    <tr>\n",
              "      <th>13818</th>\n",
              "      <td>10195</td>\n",
              "      <td>2019-12-31 23:33:32</td>\n",
              "      <td>4120</td>\n",
              "      <td>39</td>\n",
              "      <td>2</td>\n",
              "    </tr>\n",
              "    <tr>\n",
              "      <th>13819</th>\n",
              "      <td>10195</td>\n",
              "      <td>2019-12-31 23:32:43</td>\n",
              "      <td>4117</td>\n",
              "      <td>71</td>\n",
              "      <td>2</td>\n",
              "    </tr>\n",
              "  </tbody>\n",
              "</table>\n",
              "<p>11711 rows × 5 columns</p>\n",
              "</div>"
            ],
            "text/plain": [
              "       party_rk           date_time  story_id  category  event\n",
              "0         64266 2019-12-01 13:05:31      3840        39      2\n",
              "1         55721 2019-12-01 13:18:08      3857        39      2\n",
              "2         27563 2019-12-01 13:25:40      3174        78      2\n",
              "3         61223 2019-12-01 13:25:20      3857        39      2\n",
              "4         61223 2019-12-01 13:29:05      3765        73      2\n",
              "...         ...                 ...       ...       ...    ...\n",
              "13815     19043 2019-12-31 22:52:40      4117        71      2\n",
              "13816     19043 2019-12-31 22:53:13      4120        39      2\n",
              "13817     10195 2019-12-31 23:32:50      4117        71      1\n",
              "13818     10195 2019-12-31 23:33:32      4120        39      2\n",
              "13819     10195 2019-12-31 23:32:43      4117        71      2\n",
              "\n",
              "[11711 rows x 5 columns]"
            ]
          },
          "execution_count": 82,
          "metadata": {},
          "output_type": "execute_result"
        }
      ]
    },
    {
      "cell_type": "markdown",
      "metadata": {
        "id": "9vSMPhWPjQNl"
      },
      "source": [
        "##### Заполнение пропусков <a class=\"anchor\" id=\"ch2253\"></a>"
      ]
    },
    {
      "cell_type": "code",
      "metadata": {
        "colab": {
          "base_uri": "https://localhost:8080/",
          "height": 112
        },
        "id": "VWEpt8cog3u8",
        "outputId": "c79ce9cf-a5f0-4e99-da32-947fc5a395c4"
      },
      "source": [
        "print(\"\\nКоличество пропущенных значений:\")\n",
        "df_stories_logs.isna().sum().to_frame().sort_values(0, ascending = False).T"
      ],
      "execution_count": null,
      "outputs": [
        {
          "name": "stdout",
          "output_type": "stream",
          "text": [
            "\n",
            "Количество пропущенных значений:\n"
          ]
        },
        {
          "data": {
            "text/html": [
              "<div>\n",
              "<style scoped>\n",
              "    .dataframe tbody tr th:only-of-type {\n",
              "        vertical-align: middle;\n",
              "    }\n",
              "\n",
              "    .dataframe tbody tr th {\n",
              "        vertical-align: top;\n",
              "    }\n",
              "\n",
              "    .dataframe thead th {\n",
              "        text-align: right;\n",
              "    }\n",
              "</style>\n",
              "<table border=\"1\" class=\"dataframe\">\n",
              "  <thead>\n",
              "    <tr style=\"text-align: right;\">\n",
              "      <th></th>\n",
              "      <th>party_rk</th>\n",
              "      <th>date_time</th>\n",
              "      <th>story_id</th>\n",
              "      <th>category</th>\n",
              "      <th>event</th>\n",
              "    </tr>\n",
              "  </thead>\n",
              "  <tbody>\n",
              "    <tr>\n",
              "      <th>0</th>\n",
              "      <td>0</td>\n",
              "      <td>0</td>\n",
              "      <td>0</td>\n",
              "      <td>0</td>\n",
              "      <td>0</td>\n",
              "    </tr>\n",
              "  </tbody>\n",
              "</table>\n",
              "</div>"
            ],
            "text/plain": [
              "   party_rk  date_time  story_id  category  event\n",
              "0         0          0         0         0      0"
            ]
          },
          "execution_count": 79,
          "metadata": {},
          "output_type": "execute_result"
        }
      ]
    },
    {
      "cell_type": "markdown",
      "metadata": {
        "id": "JYYoLCqig3u8"
      },
      "source": [
        "### df_products <a class=\"anchor\" id=\"ch226\"></a>"
      ]
    },
    {
      "cell_type": "markdown",
      "metadata": {
        "id": "RwXmA6eGjQNm"
      },
      "source": [
        "В данной таблице содержится информация о связи пользователей с некоторыми категориями продуктов, где\n",
        "<ul>\n",
        "<li><strong>party_rk</strong> - уникальный идентификационный номер клиента</li> \n",
        "<li><strong>product1 - ... - product7</strong> - бинарные признаки связи пользователя и соответствующего продукта </li>\n",
        "</ul>\n",
        "<strong>Первичным ключом</strong> таблицы является атрибут party_rk."
      ]
    },
    {
      "cell_type": "code",
      "metadata": {
        "colab": {
          "base_uri": "https://localhost:8080/",
          "height": 204
        },
        "id": "izbakO8Ig3u8",
        "outputId": "c51bd6ea-2659-40a3-a6c7-90e7f1e227b0"
      },
      "source": [
        "df_products.head()"
      ],
      "execution_count": null,
      "outputs": [
        {
          "data": {
            "text/html": [
              "<div>\n",
              "<style scoped>\n",
              "    .dataframe tbody tr th:only-of-type {\n",
              "        vertical-align: middle;\n",
              "    }\n",
              "\n",
              "    .dataframe tbody tr th {\n",
              "        vertical-align: top;\n",
              "    }\n",
              "\n",
              "    .dataframe thead th {\n",
              "        text-align: right;\n",
              "    }\n",
              "</style>\n",
              "<table border=\"1\" class=\"dataframe\">\n",
              "  <thead>\n",
              "    <tr style=\"text-align: right;\">\n",
              "      <th></th>\n",
              "      <th>party_rk</th>\n",
              "      <th>product1</th>\n",
              "      <th>product2</th>\n",
              "      <th>product3</th>\n",
              "      <th>product4</th>\n",
              "      <th>product5</th>\n",
              "      <th>product6</th>\n",
              "      <th>product7</th>\n",
              "    </tr>\n",
              "  </thead>\n",
              "  <tbody>\n",
              "    <tr>\n",
              "      <th>0</th>\n",
              "      <td>74874</td>\n",
              "      <td>1</td>\n",
              "      <td>1</td>\n",
              "      <td>0</td>\n",
              "      <td>0</td>\n",
              "      <td>0</td>\n",
              "      <td>0</td>\n",
              "      <td>0</td>\n",
              "    </tr>\n",
              "    <tr>\n",
              "      <th>1</th>\n",
              "      <td>83618</td>\n",
              "      <td>0</td>\n",
              "      <td>0</td>\n",
              "      <td>1</td>\n",
              "      <td>1</td>\n",
              "      <td>1</td>\n",
              "      <td>0</td>\n",
              "      <td>0</td>\n",
              "    </tr>\n",
              "    <tr>\n",
              "      <th>2</th>\n",
              "      <td>73766</td>\n",
              "      <td>0</td>\n",
              "      <td>0</td>\n",
              "      <td>0</td>\n",
              "      <td>1</td>\n",
              "      <td>1</td>\n",
              "      <td>0</td>\n",
              "      <td>0</td>\n",
              "    </tr>\n",
              "    <tr>\n",
              "      <th>3</th>\n",
              "      <td>60218</td>\n",
              "      <td>0</td>\n",
              "      <td>1</td>\n",
              "      <td>0</td>\n",
              "      <td>0</td>\n",
              "      <td>0</td>\n",
              "      <td>0</td>\n",
              "      <td>0</td>\n",
              "    </tr>\n",
              "    <tr>\n",
              "      <th>4</th>\n",
              "      <td>47253</td>\n",
              "      <td>0</td>\n",
              "      <td>0</td>\n",
              "      <td>0</td>\n",
              "      <td>1</td>\n",
              "      <td>1</td>\n",
              "      <td>0</td>\n",
              "      <td>0</td>\n",
              "    </tr>\n",
              "  </tbody>\n",
              "</table>\n",
              "</div>"
            ],
            "text/plain": [
              "   party_rk  product1  product2  product3  product4  product5  product6  \\\n",
              "0     74874         1         1         0         0         0         0   \n",
              "1     83618         0         0         1         1         1         0   \n",
              "2     73766         0         0         0         1         1         0   \n",
              "3     60218         0         1         0         0         0         0   \n",
              "4     47253         0         0         0         1         1         0   \n",
              "\n",
              "   product7  \n",
              "0         0  \n",
              "1         0  \n",
              "2         0  \n",
              "3         0  \n",
              "4         0  "
            ]
          },
          "execution_count": 83,
          "metadata": {},
          "output_type": "execute_result"
        }
      ]
    },
    {
      "cell_type": "markdown",
      "metadata": {
        "id": "qqYN0x1GjQNm"
      },
      "source": [
        "##### Первичный анализ <a class=\"anchor\" id=\"ch2261\"></a>"
      ]
    },
    {
      "cell_type": "code",
      "metadata": {
        "colab": {
          "base_uri": "https://localhost:8080/"
        },
        "id": "Ql07VqkEg3u9",
        "outputId": "c677e1c3-7a31-42e3-a049-5270cec73e10"
      },
      "source": [
        "print('Количество строк: {}, количество столбцов: {}'.format(df_products.shape[0], df_products.shape[1]))"
      ],
      "execution_count": null,
      "outputs": [
        {
          "name": "stdout",
          "output_type": "stream",
          "text": [
            "Количество строк: 50000, количество столбцов: 8\n"
          ]
        }
      ]
    },
    {
      "cell_type": "code",
      "metadata": {
        "colab": {
          "base_uri": "https://localhost:8080/"
        },
        "id": "gaLPGS5Wg3u9",
        "outputId": "51214521-b8a5-46f1-b963-4654f599b461"
      },
      "source": [
        "df_products.info()"
      ],
      "execution_count": null,
      "outputs": [
        {
          "name": "stdout",
          "output_type": "stream",
          "text": [
            "<class 'pandas.core.frame.DataFrame'>\n",
            "RangeIndex: 50000 entries, 0 to 49999\n",
            "Data columns (total 8 columns):\n",
            " #   Column    Non-Null Count  Dtype\n",
            "---  ------    --------------  -----\n",
            " 0   party_rk  50000 non-null  int64\n",
            " 1   product1  50000 non-null  int64\n",
            " 2   product2  50000 non-null  int64\n",
            " 3   product3  50000 non-null  int64\n",
            " 4   product4  50000 non-null  int64\n",
            " 5   product5  50000 non-null  int64\n",
            " 6   product6  50000 non-null  int64\n",
            " 7   product7  50000 non-null  int64\n",
            "dtypes: int64(8)\n",
            "memory usage: 3.1 MB\n"
          ]
        }
      ]
    },
    {
      "cell_type": "markdown",
      "metadata": {
        "id": "SjUnu67vjQNn"
      },
      "source": [
        "##### Заполнение пропусков <a class=\"anchor\" id=\"ch2263\"></a>"
      ]
    },
    {
      "cell_type": "code",
      "metadata": {
        "colab": {
          "base_uri": "https://localhost:8080/",
          "height": 114
        },
        "id": "J-d3coH7g3u-",
        "outputId": "64557651-d185-4336-8489-622b14ba5bff"
      },
      "source": [
        "print(\"\\nКоличество пропущенных значений:\")\n",
        "df_products.isna().sum().to_frame().sort_values(0, ascending = False).T"
      ],
      "execution_count": null,
      "outputs": [
        {
          "name": "stdout",
          "output_type": "stream",
          "text": [
            "\n",
            "Количество пропущенных значений:\n"
          ]
        },
        {
          "data": {
            "text/html": [
              "<div>\n",
              "<style scoped>\n",
              "    .dataframe tbody tr th:only-of-type {\n",
              "        vertical-align: middle;\n",
              "    }\n",
              "\n",
              "    .dataframe tbody tr th {\n",
              "        vertical-align: top;\n",
              "    }\n",
              "\n",
              "    .dataframe thead th {\n",
              "        text-align: right;\n",
              "    }\n",
              "</style>\n",
              "<table border=\"1\" class=\"dataframe\">\n",
              "  <thead>\n",
              "    <tr style=\"text-align: right;\">\n",
              "      <th></th>\n",
              "      <th>party_rk</th>\n",
              "      <th>product1</th>\n",
              "      <th>product2</th>\n",
              "      <th>product3</th>\n",
              "      <th>product4</th>\n",
              "      <th>product5</th>\n",
              "      <th>product6</th>\n",
              "      <th>product7</th>\n",
              "    </tr>\n",
              "  </thead>\n",
              "  <tbody>\n",
              "    <tr>\n",
              "      <th>0</th>\n",
              "      <td>0</td>\n",
              "      <td>0</td>\n",
              "      <td>0</td>\n",
              "      <td>0</td>\n",
              "      <td>0</td>\n",
              "      <td>0</td>\n",
              "      <td>0</td>\n",
              "      <td>0</td>\n",
              "    </tr>\n",
              "  </tbody>\n",
              "</table>\n",
              "</div>"
            ],
            "text/plain": [
              "   party_rk  product1  product2  product3  product4  product5  product6  \\\n",
              "0         0         0         0         0         0         0         0   \n",
              "\n",
              "   product7  \n",
              "0         0  "
            ]
          },
          "execution_count": 86,
          "metadata": {},
          "output_type": "execute_result"
        }
      ]
    },
    {
      "cell_type": "markdown",
      "metadata": {
        "id": "EGp-9dhzg3u-"
      },
      "source": [
        "## Создание единой таблицы <a class=\"anchor\" id=\"ch3\"></a>"
      ]
    },
    {
      "cell_type": "code",
      "metadata": {
        "id": "n57euYbNg3u-"
      },
      "source": [
        "# HardCoded creation of dates [first date in every month of 2019]\n",
        "unique_dates = np.array(['2019-01-01T00:00:00.000000000', '2019-02-01T00:00:00.000000000',\n",
        "       '2019-03-01T00:00:00.000000000', '2019-04-01T00:00:00.000000000',\n",
        "       '2019-05-01T00:00:00.000000000', '2019-06-01T00:00:00.000000000',\n",
        "       '2019-07-01T00:00:00.000000000', '2019-08-01T00:00:00.000000000',\n",
        "       '2019-09-01T00:00:00.000000000', '2019-10-01T00:00:00.000000000',\n",
        "       '2019-11-01T00:00:00.000000000', '2019-12-01T00:00:00.000000000'],\n",
        "      dtype='datetime64[ns]')\n",
        "\n",
        "# Constructing DataFrame of every possible combination tripplet (month,category,human)\n",
        "# through Cartesian product [dates * categories * people_id] \n",
        "# There should be 12*37*50000 = 22 200 000 of such triplets\n",
        "\n",
        "u_dat = pd.DataFrame(unique_dates, columns=['transaction_dttm'])\n",
        "u_cat= pd.DataFrame(df_train.category.unique(), columns=['category'] )\n",
        "u_id = pd.DataFrame(df_train.party_rk.unique(), columns=['party_rk'] )\n",
        "\n",
        "u_dat['key'] = 1\n",
        "u_cat['key'] = 1\n",
        "u_id['key'] = 1\n",
        "\n",
        "df_train2 = pd.merge(u_id, \n",
        "                  pd.merge(u_dat, u_cat, on ='key')).drop(\"key\", 1)\n",
        "\n",
        "# Added zero column for further easy concatation \n",
        "df_train2['transaction_amt_rur'] = 0\n",
        "df_train2.info()"
      ],
      "execution_count": null,
      "outputs": []
    },
    {
      "cell_type": "code",
      "metadata": {
        "colab": {
          "base_uri": "https://localhost:8080/"
        },
        "id": "lT1KL9aDg3u_",
        "outputId": "11338638-9b5b-4361-acaa-99d2d3a9142f"
      },
      "source": [
        "# Creating minimal sized DataFrame with columns = (transaction_dttm, human_id, category, price)\n",
        "# Every month for every human should have all 37 categories\n",
        "\n",
        "# This implemetation adds 0 expenditure for every month beginning to the main training DataFrame\n",
        "df_main = df_train[['transaction_dttm', 'party_rk', 'category', 'transaction_amt_rur']]\n",
        "df_main = pd.concat([df_main,df_train2])\n",
        "df_main.info()"
      ],
      "execution_count": null,
      "outputs": [
        {
          "name": "stderr",
          "output_type": "stream",
          "text": [
            "/usr/local/lib/python3.7/dist-packages/pandas/core/generic.py:5170: SettingWithCopyWarning: \n",
            "A value is trying to be set on a copy of a slice from a DataFrame.\n",
            "Try using .loc[row_indexer,col_indexer] = value instead\n",
            "\n",
            "See the caveats in the documentation: https://pandas.pydata.org/pandas-docs/stable/user_guide/indexing.html#returning-a-view-versus-a-copy\n",
            "  self[name] = value\n"
          ]
        }
      ]
    },
    {
      "cell_type": "code",
      "metadata": {
        "id": "63Gi79bRg3u_"
      },
      "source": [
        "df_main_sort = df_main.sort_values(by=['transaction_dttm','party_rk'])\n",
        "df_main_sort.head(100)"
      ],
      "execution_count": null,
      "outputs": []
    },
    {
      "cell_type": "code",
      "metadata": {
        "id": "VXKzBPBfg3vA"
      },
      "source": [
        "df_socdem_train = df_main_sort.merge(df_socdem, on = 'party_rk', how = 'left')"
      ],
      "execution_count": null,
      "outputs": []
    },
    {
      "cell_type": "code",
      "metadata": {
        "id": "2Uzn5yHjg3vA"
      },
      "source": [
        "df_socdem_train_bal = df_socdem_train.merge(df_balance, on = 'party_rk', how = 'left')"
      ],
      "execution_count": null,
      "outputs": []
    },
    {
      "cell_type": "code",
      "metadata": {
        "id": "0zhlkLtgg3vA"
      },
      "source": [
        "df_temp = df_socdem_train_bal.merge(df_products, on = 'party_rk', how = 'left')"
      ],
      "execution_count": null,
      "outputs": []
    },
    {
      "cell_type": "code",
      "metadata": {
        "id": "0F3WGWKvg3vA"
      },
      "source": [
        "df_temp1 = df_temp.merge(df_stories_logs,on = 'party_rk', how = 'left')"
      ],
      "execution_count": null,
      "outputs": []
    },
    {
      "cell_type": "code",
      "metadata": {
        "id": "qQuv4hN9g3vB"
      },
      "source": [
        "df_final = df_temp1.merge(story_texts, on = 'story_id', how = 'left')"
      ],
      "execution_count": null,
      "outputs": []
    },
    {
      "cell_type": "markdown",
      "metadata": {
        "id": "-83stBOuSwXm"
      },
      "source": [
        "Альтернативно можно намного быстрее так выполнить left join\n"
      ]
    },
    {
      "cell_type": "code",
      "metadata": {
        "id": "BHIpqcLCSs-Y"
      },
      "source": [
        "df_socdem_train = pd.concat(\n",
        "    [\n",
        "     df_main_sort                                      .reset_index(drop=True), \n",
        "     df_socdem.reindex(df_main_sort['party_rk'].values).reset_index(drop=True)\n",
        "     ], \n",
        "     axis=1)"
      ],
      "execution_count": null,
      "outputs": []
    },
    {
      "cell_type": "markdown",
      "metadata": {
        "id": "J3pVxuuKg3vB"
      },
      "source": [
        "## Визуализация данных  <a class=\"anchor\" id=\"ch4\"></a>"
      ]
    },
    {
      "cell_type": "code",
      "metadata": {
        "id": "_zTpdlTwg3vB"
      },
      "source": [
        "df_cluster = pd.merge(df_train, df_socdem)"
      ],
      "execution_count": null,
      "outputs": []
    },
    {
      "cell_type": "code",
      "metadata": {
        "id": "Rp27iiHqg3vB"
      },
      "source": [
        "df_category_trans = df_cluster.groupby(\"category\")['transaction_amt_rur'].sum().reset_index().sort_values(by = 'transaction_amt_rur', ascending = False)"
      ],
      "execution_count": null,
      "outputs": []
    },
    {
      "cell_type": "code",
      "metadata": {
        "id": "Z68djSryg3vB"
      },
      "source": [
        "plt.figure(figsize=(10,7))\n",
        "sns.barplot(x=\"transaction_amt_rur\", y=\"category\", data=df_category_trans, orient = 'h');"
      ],
      "execution_count": null,
      "outputs": []
    },
    {
      "cell_type": "code",
      "metadata": {
        "id": "L1sx1bKog3vC"
      },
      "source": [
        "df_distr = pd.pivot_table(data = df_cluster[['age', 'transaction_amt_rur', 'children_cnt', 'gender_cd', 'category']], index = ['gender_cd', 'category'])"
      ],
      "execution_count": null,
      "outputs": []
    },
    {
      "cell_type": "code",
      "metadata": {
        "id": "it1dKhc1g3vC"
      },
      "source": [
        "df_distr = df_distr.reset_index()"
      ],
      "execution_count": null,
      "outputs": []
    },
    {
      "cell_type": "code",
      "metadata": {
        "id": "f0OGEmsrg3vC"
      },
      "source": [
        "plt.figure(figsize=(16,10))\n",
        "sns.lineplot(data= df_distr, x=df_distr['category'], y=df_distr['transaction_amt_rur'], hue=df_distr['gender_cd'])\n",
        "plt.xticks(rotation=90);"
      ],
      "execution_count": null,
      "outputs": []
    }
  ]
}