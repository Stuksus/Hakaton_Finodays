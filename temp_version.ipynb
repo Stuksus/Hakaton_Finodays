{
  "nbformat": 4,
  "nbformat_minor": 0,
  "metadata": {
    "colab": {
      "name": "temp_version.ipynb",
      "provenance": [],
      "collapsed_sections": [
        "Gjlkz_OGg3uf",
        "-4eX5_e4g3uk",
        "FsFKWLXpg3ur",
        "Cbcalxrdg3uv",
        "D4wHQonAg3u0",
        "g8OMghWQg3u3",
        "JYYoLCqig3u8"
      ]
    },
    "kernelspec": {
      "display_name": "Python 3",
      "language": "python",
      "name": "python3"
    },
    "language_info": {
      "codemirror_mode": {
        "name": "ipython",
        "version": 3
      },
      "file_extension": ".py",
      "mimetype": "text/x-python",
      "name": "python",
      "nbconvert_exporter": "python",
      "pygments_lexer": "ipython3",
      "version": "3.8.8"
    }
  },
  "cells": [
    {
      "cell_type": "markdown",
      "metadata": {
        "id": "OvJVGL3ag3uc"
      },
      "source": [
        "# Хакатоним ФинТех"
      ]
    },
    {
      "cell_type": "markdown",
      "metadata": {
        "id": "Gjlkz_OGg3uf"
      },
      "source": [
        "## Содержание"
      ]
    },
    {
      "cell_type": "markdown",
      "metadata": {
        "id": "OAwgf9yDg3ug"
      },
      "source": [
        "- [Загрузка библиотек](#ch1)\n",
        "- [Сбор и анализ данных](#ch2)\n",
        "    - [Анализ тренировочной выборки](#ch21)\n",
        "- [Создание единой таблицы](#ch3)\n",
        "- [Визуализация данных КАМРОН](#ch4)\n",
        "- [Заполнение пропусков числовых переменных АНТОН](#ch5)\n",
        "- [Заполнение пропусков категориальных переменных АНТОН](#ch6)\n",
        "- [Стандартизация признаков](#ch7)\n",
        "- [Приведение категориальных к числовому виду](#ch8)\n",
        "- [Создание новых признаков](#ch9)\n",
        "- [Кластеризация АЛИНА](#ch10)\n",
        "- [Выбор бизнес-метрики](#ch11)\n",
        "- [Метрики задач машинного обучения, соответствующие цели задачи](#ch12)\n",
        "- [Предсказательная модель](#ch13)\n",
        "    - [Multi-output regressor](#ch131)\n",
        "- [Тестирование модели на тестовых данных](#ch15)\n",
        "- [Возможные улучшения](#ch15)\n",
        "- [Вывод](#ch16)"
      ]
    },
    {
      "cell_type": "markdown",
      "metadata": {
        "id": "QTBGcfcLg3uh"
      },
      "source": [
        "## Загрузка библиотек  <a class=\"anchor\" id=\"ch1\"></a>"
      ]
    },
    {
      "cell_type": "code",
      "metadata": {
        "id": "lF7-u57uRS_B"
      },
      "source": [
        "!pip install pingouin"
      ],
      "execution_count": null,
      "outputs": []
    },
    {
      "cell_type": "code",
      "metadata": {
        "id": "xe0BwrpMg3uh"
      },
      "source": [
        "import pandas as pd\n",
        "import numpy as np\n",
        "import matplotlib.pyplot as plt\n",
        "import seaborn as sns\n",
        "import pingouin as pg\n",
        "from sklearn import preprocessing\n",
        "pd.set_option('display.max_rows', 500)"
      ],
      "execution_count": null,
      "outputs": []
    },
    {
      "cell_type": "markdown",
      "metadata": {
        "id": "-wyudLjxg3ui"
      },
      "source": [
        "## Сбор и анализ данных  <a class=\"anchor\" id=\"ch2\"></a>"
      ]
    },
    {
      "cell_type": "code",
      "metadata": {
        "colab": {
          "base_uri": "https://localhost:8080/"
        },
        "id": "lS8E3Cw-hxak",
        "outputId": "c6bf3863-1620-4a64-8128-fdf0b772cb2d"
      },
      "source": [
        "!wget  -O 'avk_hackathon_data_test_transactions.csv' -q 'https://www.dropbox.com/s/ysxs5srafoyxknb/_data_3_course.xlsx?dl=1'\n",
        "!wget  -O 'avk_hackathon_data_story_texts.csv' -q 'https://www.dropbox.com/s/ki8zzf51uxtn39h/avk_hackathon_data_story_texts.csv?dl=0'\n",
        "!wget  -O 'avk_hackathon_data_party_x_socdem.csv' -q 'https://www.dropbox.com/s/cjlo1edjbnxvp88/avk_hackathon_data_party_x_socdem.csv?dl=0'\n",
        "!wget  -O 'avk_hackathon_data_party_products.csv' -q 'https://www.dropbox.com/s/vb8fe4yhshd401y/avk_hackathon_data_party_products.csv?dl=0'\n",
        "!wget  -O 'avk_hackathon_data_account_x_balance.csv' -q 'https://www.dropbox.com/s/i94cotxyti8y7ir/avk_hackathon_data_account_x_balance.csv?dl=0'\n",
        "!wget  -O 'avk_hackathon_data_train_transactions.csv' -q 'https://www.dropbox.com/s/ui8x3dtpjht3560/avk_hackathon_data_train_transactions.csv?dl=0'\n",
        "!wget  -O 'avk_hackathon_data_story_logs.csv' -q 'https://www.dropbox.com/s/8oexjpfpn8nqrnn/avk_hackathon_data_story_logs.csv?dl=0'\n",
        "!wget  -O 'avk_hackathon_data_test_transactions.csv' -q 'https://www.dropbox.com/s/97ik1n6y3osrxug/avk_hackathon_data_test_transactions.csv?dl=0'"
      ],
      "execution_count": null,
      "outputs": [
        {
          "output_type": "stream",
          "name": "stdout",
          "text": [
            "Drive already mounted at /content/drive; to attempt to forcibly remount, call drive.mount(\"/content/drive\", force_remount=True).\n"
          ]
        }
      ]
    },
    {
      "cell_type": "code",
      "metadata": {
        "id": "0gzh2YI0ihEl"
      },
      "source": [
        "# загружаем данные \n",
        "df_test = pd.read_csv('avk_hackathon_data_test_transactions.csv', encoding='utf-8')\n",
        "df_story_texts= pd.read_csv('avk_hackathon_data_story_texts.csv')\n",
        "df_socdem = pd.read_csv('avk_hackathon_data_party_x_socdem.csv')\n",
        "df_products = pd.read_csv('avk_hackathon_data_party_products.csv')\n",
        "df_balance = pd.read_csv('avk_hackathon_data_account_x_balance.csv')\n",
        "df_train = pd.read_csv('avk_hackathon_data_train_transactions.csv')\n",
        "df_stories_logs = pd.read_csv('avk_hackathon_data_story_logs.csv')"
      ],
      "execution_count": null,
      "outputs": []
    },
    {
      "cell_type": "markdown",
      "metadata": {
        "id": "ehP0xst3g3uk"
      },
      "source": [
        "### Анализ тренировочной выборки  <a class=\"anchor\" id=\"ch21\"></a>"
      ]
    },
    {
      "cell_type": "markdown",
      "metadata": {
        "id": "-4eX5_e4g3uk"
      },
      "source": [
        "#### df_train"
      ]
    },
    {
      "cell_type": "code",
      "metadata": {
        "colab": {
          "base_uri": "https://localhost:8080/",
          "height": 224
        },
        "id": "mEWmfDVOg3uk",
        "outputId": "1e41cffb-841b-4f72-a1c5-c068bbdbf2b7"
      },
      "source": [
        "df_train.head()"
      ],
      "execution_count": null,
      "outputs": [
        {
          "output_type": "execute_result",
          "data": {
            "text/html": [
              "<div>\n",
              "<style scoped>\n",
              "    .dataframe tbody tr th:only-of-type {\n",
              "        vertical-align: middle;\n",
              "    }\n",
              "\n",
              "    .dataframe tbody tr th {\n",
              "        vertical-align: top;\n",
              "    }\n",
              "\n",
              "    .dataframe thead th {\n",
              "        text-align: right;\n",
              "    }\n",
              "</style>\n",
              "<table border=\"1\" class=\"dataframe\">\n",
              "  <thead>\n",
              "    <tr style=\"text-align: right;\">\n",
              "      <th></th>\n",
              "      <th>party_rk</th>\n",
              "      <th>account_rk</th>\n",
              "      <th>financial_account_type_cd</th>\n",
              "      <th>transaction_dttm</th>\n",
              "      <th>transaction_type_desc</th>\n",
              "      <th>transaction_amt_rur</th>\n",
              "      <th>merchant_rk</th>\n",
              "      <th>merchant_type</th>\n",
              "      <th>merchant_group_rk</th>\n",
              "      <th>category</th>\n",
              "    </tr>\n",
              "  </thead>\n",
              "  <tbody>\n",
              "    <tr>\n",
              "      <th>0</th>\n",
              "      <td>20337</td>\n",
              "      <td>19666</td>\n",
              "      <td>1</td>\n",
              "      <td>2019-01-01</td>\n",
              "      <td>Покупка</td>\n",
              "      <td>84.00</td>\n",
              "      <td>88676.0</td>\n",
              "      <td>348.0</td>\n",
              "      <td>NaN</td>\n",
              "      <td>Сувениры</td>\n",
              "    </tr>\n",
              "    <tr>\n",
              "      <th>1</th>\n",
              "      <td>63404</td>\n",
              "      <td>72991</td>\n",
              "      <td>1</td>\n",
              "      <td>2019-01-01</td>\n",
              "      <td>Покупка</td>\n",
              "      <td>410.00</td>\n",
              "      <td>887248.0</td>\n",
              "      <td>330.0</td>\n",
              "      <td>725.0</td>\n",
              "      <td>Фаст Фуд</td>\n",
              "    </tr>\n",
              "    <tr>\n",
              "      <th>2</th>\n",
              "      <td>24789</td>\n",
              "      <td>23517</td>\n",
              "      <td>2</td>\n",
              "      <td>2019-01-01</td>\n",
              "      <td>Покупка</td>\n",
              "      <td>701.44</td>\n",
              "      <td>830014.0</td>\n",
              "      <td>291.0</td>\n",
              "      <td>NaN</td>\n",
              "      <td>Супермаркеты</td>\n",
              "    </tr>\n",
              "    <tr>\n",
              "      <th>3</th>\n",
              "      <td>57970</td>\n",
              "      <td>64838</td>\n",
              "      <td>2</td>\n",
              "      <td>2019-01-01</td>\n",
              "      <td>Покупка</td>\n",
              "      <td>6203.70</td>\n",
              "      <td>363834.0</td>\n",
              "      <td>278.0</td>\n",
              "      <td>454.0</td>\n",
              "      <td>Дом/Ремонт</td>\n",
              "    </tr>\n",
              "    <tr>\n",
              "      <th>4</th>\n",
              "      <td>12232</td>\n",
              "      <td>11591</td>\n",
              "      <td>2</td>\n",
              "      <td>2019-01-01</td>\n",
              "      <td>Покупка</td>\n",
              "      <td>734.53</td>\n",
              "      <td>85919.0</td>\n",
              "      <td>286.0</td>\n",
              "      <td>878.0</td>\n",
              "      <td>Супермаркеты</td>\n",
              "    </tr>\n",
              "  </tbody>\n",
              "</table>\n",
              "</div>"
            ],
            "text/plain": [
              "   party_rk  account_rk  ...  merchant_group_rk      category\n",
              "0     20337       19666  ...                NaN      Сувениры\n",
              "1     63404       72991  ...              725.0      Фаст Фуд\n",
              "2     24789       23517  ...                NaN  Супермаркеты\n",
              "3     57970       64838  ...              454.0    Дом/Ремонт\n",
              "4     12232       11591  ...              878.0  Супермаркеты\n",
              "\n",
              "[5 rows x 10 columns]"
            ]
          },
          "metadata": {},
          "execution_count": 76
        }
      ]
    },
    {
      "cell_type": "code",
      "metadata": {
        "colab": {
          "base_uri": "https://localhost:8080/"
        },
        "id": "1e2qF5JAg3ul",
        "outputId": "a8b97dc4-7ffc-4bb6-89df-fc2117863dd2"
      },
      "source": [
        "print('Количество строк: {}, количество столбцов: {}'.format(df_train.shape[0], df_train.shape[1]))"
      ],
      "execution_count": null,
      "outputs": [
        {
          "output_type": "stream",
          "name": "stdout",
          "text": [
            "Количество строк: 11987617, количество столбцов: 10\n"
          ]
        }
      ]
    },
    {
      "cell_type": "code",
      "metadata": {
        "colab": {
          "base_uri": "https://localhost:8080/"
        },
        "id": "p2AQpeMdg3um",
        "outputId": "eb85724c-2fa9-4d28-e437-4d1e2354ba20"
      },
      "source": [
        "df_train.info()"
      ],
      "execution_count": null,
      "outputs": [
        {
          "output_type": "stream",
          "name": "stdout",
          "text": [
            "<class 'pandas.core.frame.DataFrame'>\n",
            "RangeIndex: 11987617 entries, 0 to 11987616\n",
            "Data columns (total 10 columns):\n",
            " #   Column                     Dtype  \n",
            "---  ------                     -----  \n",
            " 0   party_rk                   int64  \n",
            " 1   account_rk                 int64  \n",
            " 2   financial_account_type_cd  int64  \n",
            " 3   transaction_dttm           object \n",
            " 4   transaction_type_desc      object \n",
            " 5   transaction_amt_rur        float64\n",
            " 6   merchant_rk                float64\n",
            " 7   merchant_type              float64\n",
            " 8   merchant_group_rk          float64\n",
            " 9   category                   object \n",
            "dtypes: float64(4), int64(3), object(3)\n",
            "memory usage: 914.6+ MB\n"
          ]
        }
      ]
    },
    {
      "cell_type": "markdown",
      "metadata": {
        "id": "omkZ6QnKg3un"
      },
      "source": [
        "Заметим, что у признака 'transaction_dttm', который представляет из себя дату транзакции, тип object, хотя должен бы быть тип datetime."
      ]
    },
    {
      "cell_type": "code",
      "metadata": {
        "id": "0SlvG-C2IIKA"
      },
      "source": [
        "df_train['transaction_dttm'] = pd.to_datetime(df_train['transaction_dttm'])"
      ],
      "execution_count": null,
      "outputs": []
    },
    {
      "cell_type": "code",
      "metadata": {
        "colab": {
          "base_uri": "https://localhost:8080/",
          "height": 297
        },
        "id": "0F6_XI16g3uo",
        "outputId": "d9448c80-6f80-461d-e303-1e28b322fdad"
      },
      "source": [
        "df_train.describe().round(3)"
      ],
      "execution_count": null,
      "outputs": [
        {
          "output_type": "execute_result",
          "data": {
            "text/html": [
              "<div>\n",
              "<style scoped>\n",
              "    .dataframe tbody tr th:only-of-type {\n",
              "        vertical-align: middle;\n",
              "    }\n",
              "\n",
              "    .dataframe tbody tr th {\n",
              "        vertical-align: top;\n",
              "    }\n",
              "\n",
              "    .dataframe thead th {\n",
              "        text-align: right;\n",
              "    }\n",
              "</style>\n",
              "<table border=\"1\" class=\"dataframe\">\n",
              "  <thead>\n",
              "    <tr style=\"text-align: right;\">\n",
              "      <th></th>\n",
              "      <th>party_rk</th>\n",
              "      <th>account_rk</th>\n",
              "      <th>financial_account_type_cd</th>\n",
              "      <th>transaction_amt_rur</th>\n",
              "      <th>merchant_rk</th>\n",
              "      <th>merchant_type</th>\n",
              "      <th>merchant_group_rk</th>\n",
              "    </tr>\n",
              "  </thead>\n",
              "  <tbody>\n",
              "    <tr>\n",
              "      <th>count</th>\n",
              "      <td>1.198762e+07</td>\n",
              "      <td>1.198762e+07</td>\n",
              "      <td>11987617.00</td>\n",
              "      <td>1.198761e+07</td>\n",
              "      <td>1.198664e+07</td>\n",
              "      <td>1.198595e+07</td>\n",
              "      <td>5763654.000</td>\n",
              "    </tr>\n",
              "    <tr>\n",
              "      <th>mean</th>\n",
              "      <td>4.300785e+04</td>\n",
              "      <td>5.390717e+04</td>\n",
              "      <td>1.67</td>\n",
              "      <td>3.186888e+03</td>\n",
              "      <td>1.120440e+06</td>\n",
              "      <td>2.666720e+02</td>\n",
              "      <td>785.665</td>\n",
              "    </tr>\n",
              "    <tr>\n",
              "      <th>std</th>\n",
              "      <td>2.540438e+04</td>\n",
              "      <td>3.313377e+04</td>\n",
              "      <td>0.47</td>\n",
              "      <td>2.447061e+04</td>\n",
              "      <td>7.462046e+05</td>\n",
              "      <td>1.215150e+02</td>\n",
              "      <td>550.641</td>\n",
              "    </tr>\n",
              "    <tr>\n",
              "      <th>min</th>\n",
              "      <td>1.000000e+00</td>\n",
              "      <td>1.000000e+00</td>\n",
              "      <td>1.00</td>\n",
              "      <td>1.000000e+01</td>\n",
              "      <td>4.000000e+00</td>\n",
              "      <td>1.000000e+00</td>\n",
              "      <td>2.000</td>\n",
              "    </tr>\n",
              "    <tr>\n",
              "      <th>25%</th>\n",
              "      <td>2.117500e+04</td>\n",
              "      <td>2.537100e+04</td>\n",
              "      <td>1.00</td>\n",
              "      <td>1.599000e+02</td>\n",
              "      <td>4.556840e+05</td>\n",
              "      <td>2.750000e+02</td>\n",
              "      <td>341.000</td>\n",
              "    </tr>\n",
              "    <tr>\n",
              "      <th>50%</th>\n",
              "      <td>4.216800e+04</td>\n",
              "      <td>5.146000e+04</td>\n",
              "      <td>2.00</td>\n",
              "      <td>3.910000e+02</td>\n",
              "      <td>1.070370e+06</td>\n",
              "      <td>2.860000e+02</td>\n",
              "      <td>748.000</td>\n",
              "    </tr>\n",
              "    <tr>\n",
              "      <th>75%</th>\n",
              "      <td>6.319900e+04</td>\n",
              "      <td>8.032600e+04</td>\n",
              "      <td>2.00</td>\n",
              "      <td>1.225000e+03</td>\n",
              "      <td>1.650108e+06</td>\n",
              "      <td>3.300000e+02</td>\n",
              "      <td>930.000</td>\n",
              "    </tr>\n",
              "    <tr>\n",
              "      <th>max</th>\n",
              "      <td>9.461000e+04</td>\n",
              "      <td>1.261720e+05</td>\n",
              "      <td>2.00</td>\n",
              "      <td>2.000010e+07</td>\n",
              "      <td>3.057837e+06</td>\n",
              "      <td>4.980000e+02</td>\n",
              "      <td>2961.000</td>\n",
              "    </tr>\n",
              "  </tbody>\n",
              "</table>\n",
              "</div>"
            ],
            "text/plain": [
              "           party_rk    account_rk  ...  merchant_type  merchant_group_rk\n",
              "count  1.198762e+07  1.198762e+07  ...   1.198595e+07        5763654.000\n",
              "mean   4.300785e+04  5.390717e+04  ...   2.666720e+02            785.665\n",
              "std    2.540438e+04  3.313377e+04  ...   1.215150e+02            550.641\n",
              "min    1.000000e+00  1.000000e+00  ...   1.000000e+00              2.000\n",
              "25%    2.117500e+04  2.537100e+04  ...   2.750000e+02            341.000\n",
              "50%    4.216800e+04  5.146000e+04  ...   2.860000e+02            748.000\n",
              "75%    6.319900e+04  8.032600e+04  ...   3.300000e+02            930.000\n",
              "max    9.461000e+04  1.261720e+05  ...   4.980000e+02           2961.000\n",
              "\n",
              "[8 rows x 7 columns]"
            ]
          },
          "metadata": {},
          "execution_count": 80
        }
      ]
    },
    {
      "cell_type": "code",
      "metadata": {
        "colab": {
          "base_uri": "https://localhost:8080/",
          "height": 134
        },
        "id": "vvsO-fOGg3uo",
        "outputId": "d323d2fe-eb5d-4af9-9530-338f2c5e09c8"
      },
      "source": [
        "print(\"\\nКоличество пропущенных значений:\")\n",
        "df_train.isna().sum().to_frame().sort_values(0, ascending = False).T"
      ],
      "execution_count": null,
      "outputs": [
        {
          "output_type": "stream",
          "name": "stdout",
          "text": [
            "\n",
            "Количество пропущенных значений:\n"
          ]
        },
        {
          "output_type": "execute_result",
          "data": {
            "text/html": [
              "<div>\n",
              "<style scoped>\n",
              "    .dataframe tbody tr th:only-of-type {\n",
              "        vertical-align: middle;\n",
              "    }\n",
              "\n",
              "    .dataframe tbody tr th {\n",
              "        vertical-align: top;\n",
              "    }\n",
              "\n",
              "    .dataframe thead th {\n",
              "        text-align: right;\n",
              "    }\n",
              "</style>\n",
              "<table border=\"1\" class=\"dataframe\">\n",
              "  <thead>\n",
              "    <tr style=\"text-align: right;\">\n",
              "      <th></th>\n",
              "      <th>merchant_group_rk</th>\n",
              "      <th>category</th>\n",
              "      <th>merchant_type</th>\n",
              "      <th>merchant_rk</th>\n",
              "      <th>transaction_amt_rur</th>\n",
              "      <th>party_rk</th>\n",
              "      <th>account_rk</th>\n",
              "      <th>financial_account_type_cd</th>\n",
              "      <th>transaction_dttm</th>\n",
              "      <th>transaction_type_desc</th>\n",
              "    </tr>\n",
              "  </thead>\n",
              "  <tbody>\n",
              "    <tr>\n",
              "      <th>0</th>\n",
              "      <td>6223963</td>\n",
              "      <td>1881017</td>\n",
              "      <td>1665</td>\n",
              "      <td>976</td>\n",
              "      <td>6</td>\n",
              "      <td>0</td>\n",
              "      <td>0</td>\n",
              "      <td>0</td>\n",
              "      <td>0</td>\n",
              "      <td>0</td>\n",
              "    </tr>\n",
              "  </tbody>\n",
              "</table>\n",
              "</div>"
            ],
            "text/plain": [
              "   merchant_group_rk  category  ...  transaction_dttm  transaction_type_desc\n",
              "0            6223963   1881017  ...                 0                      0\n",
              "\n",
              "[1 rows x 10 columns]"
            ]
          },
          "metadata": {},
          "execution_count": 81
        }
      ]
    },
    {
      "cell_type": "code",
      "metadata": {
        "colab": {
          "base_uri": "https://localhost:8080/",
          "height": 173
        },
        "id": "QQpjD_cVg3up",
        "outputId": "2961fb22-20dd-4566-8bd8-1ca230deb568"
      },
      "source": [
        "df_train['transaction_type_desc'].value_counts().reset_index()"
      ],
      "execution_count": null,
      "outputs": [
        {
          "output_type": "execute_result",
          "data": {
            "text/html": [
              "<div>\n",
              "<style scoped>\n",
              "    .dataframe tbody tr th:only-of-type {\n",
              "        vertical-align: middle;\n",
              "    }\n",
              "\n",
              "    .dataframe tbody tr th {\n",
              "        vertical-align: top;\n",
              "    }\n",
              "\n",
              "    .dataframe thead th {\n",
              "        text-align: right;\n",
              "    }\n",
              "</style>\n",
              "<table border=\"1\" class=\"dataframe\">\n",
              "  <thead>\n",
              "    <tr style=\"text-align: right;\">\n",
              "      <th></th>\n",
              "      <th>index</th>\n",
              "      <th>transaction_type_desc</th>\n",
              "    </tr>\n",
              "  </thead>\n",
              "  <tbody>\n",
              "    <tr>\n",
              "      <th>0</th>\n",
              "      <td>Покупка</td>\n",
              "      <td>9157744</td>\n",
              "    </tr>\n",
              "    <tr>\n",
              "      <th>1</th>\n",
              "      <td>Платеж</td>\n",
              "      <td>1977602</td>\n",
              "    </tr>\n",
              "    <tr>\n",
              "      <th>2</th>\n",
              "      <td>Оплата услуг</td>\n",
              "      <td>581098</td>\n",
              "    </tr>\n",
              "    <tr>\n",
              "      <th>3</th>\n",
              "      <td>Снятие наличных</td>\n",
              "      <td>271173</td>\n",
              "    </tr>\n",
              "  </tbody>\n",
              "</table>\n",
              "</div>"
            ],
            "text/plain": [
              "             index  transaction_type_desc\n",
              "0          Покупка                9157744\n",
              "1           Платеж                1977602\n",
              "2     Оплата услуг                 581098\n",
              "3  Снятие наличных                 271173"
            ]
          },
          "metadata": {},
          "execution_count": 82
        }
      ]
    },
    {
      "cell_type": "code",
      "metadata": {
        "colab": {
          "base_uri": "https://localhost:8080/",
          "height": 1000
        },
        "id": "ZaGLUC0Rg3uq",
        "outputId": "68475ac1-5873-4f91-98fd-320043c81f03"
      },
      "source": [
        "df_train['category'].value_counts().reset_index()"
      ],
      "execution_count": null,
      "outputs": [
        {
          "output_type": "execute_result",
          "data": {
            "text/html": [
              "<div>\n",
              "<style scoped>\n",
              "    .dataframe tbody tr th:only-of-type {\n",
              "        vertical-align: middle;\n",
              "    }\n",
              "\n",
              "    .dataframe tbody tr th {\n",
              "        vertical-align: top;\n",
              "    }\n",
              "\n",
              "    .dataframe thead th {\n",
              "        text-align: right;\n",
              "    }\n",
              "</style>\n",
              "<table border=\"1\" class=\"dataframe\">\n",
              "  <thead>\n",
              "    <tr style=\"text-align: right;\">\n",
              "      <th></th>\n",
              "      <th>index</th>\n",
              "      <th>category</th>\n",
              "    </tr>\n",
              "  </thead>\n",
              "  <tbody>\n",
              "    <tr>\n",
              "      <th>0</th>\n",
              "      <td>Супермаркеты</td>\n",
              "      <td>3938925</td>\n",
              "    </tr>\n",
              "    <tr>\n",
              "      <th>1</th>\n",
              "      <td>Фаст Фуд</td>\n",
              "      <td>1007549</td>\n",
              "    </tr>\n",
              "    <tr>\n",
              "      <th>2</th>\n",
              "      <td>Транспорт</td>\n",
              "      <td>839906</td>\n",
              "    </tr>\n",
              "    <tr>\n",
              "      <th>3</th>\n",
              "      <td>Финансовые услуги</td>\n",
              "      <td>787258</td>\n",
              "    </tr>\n",
              "    <tr>\n",
              "      <th>4</th>\n",
              "      <td>Разные товары</td>\n",
              "      <td>531127</td>\n",
              "    </tr>\n",
              "    <tr>\n",
              "      <th>5</th>\n",
              "      <td>Рестораны</td>\n",
              "      <td>401255</td>\n",
              "    </tr>\n",
              "    <tr>\n",
              "      <th>6</th>\n",
              "      <td>Топливо</td>\n",
              "      <td>398397</td>\n",
              "    </tr>\n",
              "    <tr>\n",
              "      <th>7</th>\n",
              "      <td>Аптеки</td>\n",
              "      <td>311316</td>\n",
              "    </tr>\n",
              "    <tr>\n",
              "      <th>8</th>\n",
              "      <td>Наличные</td>\n",
              "      <td>271948</td>\n",
              "    </tr>\n",
              "    <tr>\n",
              "      <th>9</th>\n",
              "      <td>Дом/Ремонт</td>\n",
              "      <td>268370</td>\n",
              "    </tr>\n",
              "    <tr>\n",
              "      <th>10</th>\n",
              "      <td>Одежда/Обувь</td>\n",
              "      <td>255282</td>\n",
              "    </tr>\n",
              "    <tr>\n",
              "      <th>11</th>\n",
              "      <td>Красота</td>\n",
              "      <td>110076</td>\n",
              "    </tr>\n",
              "    <tr>\n",
              "      <th>12</th>\n",
              "      <td>Сервисные услуги</td>\n",
              "      <td>100588</td>\n",
              "    </tr>\n",
              "    <tr>\n",
              "      <th>13</th>\n",
              "      <td>Развлечения</td>\n",
              "      <td>100322</td>\n",
              "    </tr>\n",
              "    <tr>\n",
              "      <th>14</th>\n",
              "      <td>Связь/Телеком</td>\n",
              "      <td>96478</td>\n",
              "    </tr>\n",
              "    <tr>\n",
              "      <th>15</th>\n",
              "      <td>Автоуслуги</td>\n",
              "      <td>88739</td>\n",
              "    </tr>\n",
              "    <tr>\n",
              "      <th>16</th>\n",
              "      <td>Медицинские услуги</td>\n",
              "      <td>56868</td>\n",
              "    </tr>\n",
              "    <tr>\n",
              "      <th>17</th>\n",
              "      <td>НКО</td>\n",
              "      <td>56458</td>\n",
              "    </tr>\n",
              "    <tr>\n",
              "      <th>18</th>\n",
              "      <td>Музыка</td>\n",
              "      <td>54557</td>\n",
              "    </tr>\n",
              "    <tr>\n",
              "      <th>19</th>\n",
              "      <td>Госсборы</td>\n",
              "      <td>50377</td>\n",
              "    </tr>\n",
              "    <tr>\n",
              "      <th>20</th>\n",
              "      <td>Кино</td>\n",
              "      <td>43165</td>\n",
              "    </tr>\n",
              "    <tr>\n",
              "      <th>21</th>\n",
              "      <td>Аренда авто</td>\n",
              "      <td>39967</td>\n",
              "    </tr>\n",
              "    <tr>\n",
              "      <th>22</th>\n",
              "      <td>Книги</td>\n",
              "      <td>37376</td>\n",
              "    </tr>\n",
              "    <tr>\n",
              "      <th>23</th>\n",
              "      <td>Спорттовары</td>\n",
              "      <td>35619</td>\n",
              "    </tr>\n",
              "    <tr>\n",
              "      <th>24</th>\n",
              "      <td>Животные</td>\n",
              "      <td>34606</td>\n",
              "    </tr>\n",
              "    <tr>\n",
              "      <th>25</th>\n",
              "      <td>Ж/д билеты</td>\n",
              "      <td>30980</td>\n",
              "    </tr>\n",
              "    <tr>\n",
              "      <th>26</th>\n",
              "      <td>Авиабилеты</td>\n",
              "      <td>30293</td>\n",
              "    </tr>\n",
              "    <tr>\n",
              "      <th>27</th>\n",
              "      <td>Цветы</td>\n",
              "      <td>29304</td>\n",
              "    </tr>\n",
              "    <tr>\n",
              "      <th>28</th>\n",
              "      <td>Отели</td>\n",
              "      <td>29273</td>\n",
              "    </tr>\n",
              "    <tr>\n",
              "      <th>29</th>\n",
              "      <td>Частные услуги</td>\n",
              "      <td>24436</td>\n",
              "    </tr>\n",
              "    <tr>\n",
              "      <th>30</th>\n",
              "      <td>Сувениры</td>\n",
              "      <td>16465</td>\n",
              "    </tr>\n",
              "    <tr>\n",
              "      <th>31</th>\n",
              "      <td>Образование</td>\n",
              "      <td>9008</td>\n",
              "    </tr>\n",
              "    <tr>\n",
              "      <th>32</th>\n",
              "      <td>Турагентства</td>\n",
              "      <td>6582</td>\n",
              "    </tr>\n",
              "    <tr>\n",
              "      <th>33</th>\n",
              "      <td>Duty Free</td>\n",
              "      <td>6107</td>\n",
              "    </tr>\n",
              "    <tr>\n",
              "      <th>34</th>\n",
              "      <td>Фото/Видео</td>\n",
              "      <td>5751</td>\n",
              "    </tr>\n",
              "    <tr>\n",
              "      <th>35</th>\n",
              "      <td>Искусство</td>\n",
              "      <td>1872</td>\n",
              "    </tr>\n",
              "  </tbody>\n",
              "</table>\n",
              "</div>"
            ],
            "text/plain": [
              "                 index  category\n",
              "0         Супермаркеты   3938925\n",
              "1             Фаст Фуд   1007549\n",
              "2            Транспорт    839906\n",
              "3    Финансовые услуги    787258\n",
              "4        Разные товары    531127\n",
              "5            Рестораны    401255\n",
              "6              Топливо    398397\n",
              "7               Аптеки    311316\n",
              "8             Наличные    271948\n",
              "9           Дом/Ремонт    268370\n",
              "10        Одежда/Обувь    255282\n",
              "11             Красота    110076\n",
              "12    Сервисные услуги    100588\n",
              "13         Развлечения    100322\n",
              "14       Связь/Телеком     96478\n",
              "15          Автоуслуги     88739\n",
              "16  Медицинские услуги     56868\n",
              "17                 НКО     56458\n",
              "18              Музыка     54557\n",
              "19            Госсборы     50377\n",
              "20                Кино     43165\n",
              "21         Аренда авто     39967\n",
              "22               Книги     37376\n",
              "23         Спорттовары     35619\n",
              "24            Животные     34606\n",
              "25          Ж/д билеты     30980\n",
              "26          Авиабилеты     30293\n",
              "27               Цветы     29304\n",
              "28               Отели     29273\n",
              "29      Частные услуги     24436\n",
              "30            Сувениры     16465\n",
              "31         Образование      9008\n",
              "32        Турагентства      6582\n",
              "33           Duty Free      6107\n",
              "34          Фото/Видео      5751\n",
              "35           Искусство      1872"
            ]
          },
          "metadata": {},
          "execution_count": 83
        }
      ]
    },
    {
      "cell_type": "code",
      "metadata": {
        "id": "xc0lU029shzw"
      },
      "source": [
        "# category - ктегориальный признак, переведем его в тип int\n",
        "df_train['category'] = df_train['category'].fillna('')\n",
        "df_train['category'] = df_train['category'].astype(str)\n",
        "\n",
        "le = preprocessing.LabelEncoder()\n",
        "le.fit(df_train['category'])\n",
        "df_train['category'] = le.transform(df_train['category'])"
      ],
      "execution_count": null,
      "outputs": []
    },
    {
      "cell_type": "code",
      "metadata": {
        "colab": {
          "base_uri": "https://localhost:8080/"
        },
        "id": "eUIE4foOwPFs",
        "outputId": "a5b9b40b-26b4-4412-f49d-af94f8a7e139"
      },
      "source": [
        "df_train['transaction_type_desc'].unique()"
      ],
      "execution_count": null,
      "outputs": [
        {
          "output_type": "execute_result",
          "data": {
            "text/plain": [
              "array(['Покупка', 'Оплата услуг', 'Платеж', 'Снятие наличных'],\n",
              "      dtype=object)"
            ]
          },
          "metadata": {},
          "execution_count": 85
        }
      ]
    },
    {
      "cell_type": "code",
      "metadata": {
        "id": "ntn_ipEfwHvd"
      },
      "source": [
        "# transaction_type_desc - ктегориальный признак, переведем его в тип int\n",
        "le.fit(df_train['transaction_type_desc'])\n",
        "df_train['transaction_type_desc'] = le.transform(df_train['transaction_type_desc'])"
      ],
      "execution_count": null,
      "outputs": []
    },
    {
      "cell_type": "code",
      "metadata": {
        "id": "Y73OkDfXGf-B"
      },
      "source": [
        "df_train = df_train.drop(['account_rk','merchant_rk','merchant_group_rk'], axis = 1)"
      ],
      "execution_count": null,
      "outputs": []
    },
    {
      "cell_type": "code",
      "metadata": {
        "colab": {
          "base_uri": "https://localhost:8080/",
          "height": 419
        },
        "id": "qhqG9DuuFI98",
        "outputId": "86c1156e-a438-4533-c19f-307b2884b6a8"
      },
      "source": [
        "df_train"
      ],
      "execution_count": null,
      "outputs": [
        {
          "output_type": "execute_result",
          "data": {
            "text/html": [
              "<div>\n",
              "<style scoped>\n",
              "    .dataframe tbody tr th:only-of-type {\n",
              "        vertical-align: middle;\n",
              "    }\n",
              "\n",
              "    .dataframe tbody tr th {\n",
              "        vertical-align: top;\n",
              "    }\n",
              "\n",
              "    .dataframe thead th {\n",
              "        text-align: right;\n",
              "    }\n",
              "</style>\n",
              "<table border=\"1\" class=\"dataframe\">\n",
              "  <thead>\n",
              "    <tr style=\"text-align: right;\">\n",
              "      <th></th>\n",
              "      <th>party_rk</th>\n",
              "      <th>financial_account_type_cd</th>\n",
              "      <th>transaction_dttm</th>\n",
              "      <th>transaction_type_desc</th>\n",
              "      <th>transaction_amt_rur</th>\n",
              "      <th>merchant_type</th>\n",
              "      <th>category</th>\n",
              "    </tr>\n",
              "  </thead>\n",
              "  <tbody>\n",
              "    <tr>\n",
              "      <th>0</th>\n",
              "      <td>20337</td>\n",
              "      <td>1</td>\n",
              "      <td>2019-01-01</td>\n",
              "      <td>2</td>\n",
              "      <td>84.00</td>\n",
              "      <td>348.0</td>\n",
              "      <td>27</td>\n",
              "    </tr>\n",
              "    <tr>\n",
              "      <th>1</th>\n",
              "      <td>63404</td>\n",
              "      <td>1</td>\n",
              "      <td>2019-01-01</td>\n",
              "      <td>2</td>\n",
              "      <td>410.00</td>\n",
              "      <td>330.0</td>\n",
              "      <td>32</td>\n",
              "    </tr>\n",
              "    <tr>\n",
              "      <th>2</th>\n",
              "      <td>24789</td>\n",
              "      <td>2</td>\n",
              "      <td>2019-01-01</td>\n",
              "      <td>2</td>\n",
              "      <td>701.44</td>\n",
              "      <td>291.0</td>\n",
              "      <td>28</td>\n",
              "    </tr>\n",
              "    <tr>\n",
              "      <th>3</th>\n",
              "      <td>57970</td>\n",
              "      <td>2</td>\n",
              "      <td>2019-01-01</td>\n",
              "      <td>2</td>\n",
              "      <td>6203.70</td>\n",
              "      <td>278.0</td>\n",
              "      <td>7</td>\n",
              "    </tr>\n",
              "    <tr>\n",
              "      <th>4</th>\n",
              "      <td>12232</td>\n",
              "      <td>2</td>\n",
              "      <td>2019-01-01</td>\n",
              "      <td>2</td>\n",
              "      <td>734.53</td>\n",
              "      <td>286.0</td>\n",
              "      <td>28</td>\n",
              "    </tr>\n",
              "    <tr>\n",
              "      <th>...</th>\n",
              "      <td>...</td>\n",
              "      <td>...</td>\n",
              "      <td>...</td>\n",
              "      <td>...</td>\n",
              "      <td>...</td>\n",
              "      <td>...</td>\n",
              "      <td>...</td>\n",
              "    </tr>\n",
              "    <tr>\n",
              "      <th>11987612</th>\n",
              "      <td>44990</td>\n",
              "      <td>1</td>\n",
              "      <td>2019-12-31</td>\n",
              "      <td>2</td>\n",
              "      <td>121.00</td>\n",
              "      <td>330.0</td>\n",
              "      <td>32</td>\n",
              "    </tr>\n",
              "    <tr>\n",
              "      <th>11987613</th>\n",
              "      <td>53023</td>\n",
              "      <td>2</td>\n",
              "      <td>2019-12-31</td>\n",
              "      <td>2</td>\n",
              "      <td>102.29</td>\n",
              "      <td>286.0</td>\n",
              "      <td>28</td>\n",
              "    </tr>\n",
              "    <tr>\n",
              "      <th>11987614</th>\n",
              "      <td>78716</td>\n",
              "      <td>1</td>\n",
              "      <td>2019-12-31</td>\n",
              "      <td>2</td>\n",
              "      <td>175.00</td>\n",
              "      <td>229.0</td>\n",
              "      <td>30</td>\n",
              "    </tr>\n",
              "    <tr>\n",
              "      <th>11987615</th>\n",
              "      <td>73104</td>\n",
              "      <td>2</td>\n",
              "      <td>2019-12-31</td>\n",
              "      <td>2</td>\n",
              "      <td>185.99</td>\n",
              "      <td>286.0</td>\n",
              "      <td>28</td>\n",
              "    </tr>\n",
              "    <tr>\n",
              "      <th>11987616</th>\n",
              "      <td>42916</td>\n",
              "      <td>1</td>\n",
              "      <td>2019-12-31</td>\n",
              "      <td>2</td>\n",
              "      <td>431.00</td>\n",
              "      <td>330.0</td>\n",
              "      <td>32</td>\n",
              "    </tr>\n",
              "  </tbody>\n",
              "</table>\n",
              "<p>11987617 rows × 7 columns</p>\n",
              "</div>"
            ],
            "text/plain": [
              "          party_rk  financial_account_type_cd  ... merchant_type  category\n",
              "0            20337                          1  ...         348.0        27\n",
              "1            63404                          1  ...         330.0        32\n",
              "2            24789                          2  ...         291.0        28\n",
              "3            57970                          2  ...         278.0         7\n",
              "4            12232                          2  ...         286.0        28\n",
              "...            ...                        ...  ...           ...       ...\n",
              "11987612     44990                          1  ...         330.0        32\n",
              "11987613     53023                          2  ...         286.0        28\n",
              "11987614     78716                          1  ...         229.0        30\n",
              "11987615     73104                          2  ...         286.0        28\n",
              "11987616     42916                          1  ...         330.0        32\n",
              "\n",
              "[11987617 rows x 7 columns]"
            ]
          },
          "metadata": {},
          "execution_count": 141
        }
      ]
    },
    {
      "cell_type": "markdown",
      "metadata": {
        "id": "FsFKWLXpg3ur"
      },
      "source": [
        "#### df_socdem"
      ]
    },
    {
      "cell_type": "code",
      "metadata": {
        "colab": {
          "base_uri": "https://localhost:8080/",
          "height": 204
        },
        "id": "3n9sELRYg3ur",
        "outputId": "d009a0c2-005f-4450-cc07-c53466c7d64c"
      },
      "source": [
        "df_socdem.head()"
      ],
      "execution_count": null,
      "outputs": [
        {
          "output_type": "execute_result",
          "data": {
            "text/html": [
              "<div>\n",
              "<style scoped>\n",
              "    .dataframe tbody tr th:only-of-type {\n",
              "        vertical-align: middle;\n",
              "    }\n",
              "\n",
              "    .dataframe tbody tr th {\n",
              "        vertical-align: top;\n",
              "    }\n",
              "\n",
              "    .dataframe thead th {\n",
              "        text-align: right;\n",
              "    }\n",
              "</style>\n",
              "<table border=\"1\" class=\"dataframe\">\n",
              "  <thead>\n",
              "    <tr style=\"text-align: right;\">\n",
              "      <th></th>\n",
              "      <th>party_rk</th>\n",
              "      <th>gender_cd</th>\n",
              "      <th>age</th>\n",
              "      <th>marital_status_desc</th>\n",
              "      <th>children_cnt</th>\n",
              "      <th>region_flg</th>\n",
              "    </tr>\n",
              "  </thead>\n",
              "  <tbody>\n",
              "    <tr>\n",
              "      <th>0</th>\n",
              "      <td>61243</td>\n",
              "      <td>F</td>\n",
              "      <td>70.0</td>\n",
              "      <td>NaN</td>\n",
              "      <td>0</td>\n",
              "      <td>0</td>\n",
              "    </tr>\n",
              "    <tr>\n",
              "      <th>1</th>\n",
              "      <td>66535</td>\n",
              "      <td>F</td>\n",
              "      <td>25.0</td>\n",
              "      <td>NaN</td>\n",
              "      <td>0</td>\n",
              "      <td>0</td>\n",
              "    </tr>\n",
              "    <tr>\n",
              "      <th>2</th>\n",
              "      <td>83721</td>\n",
              "      <td>M</td>\n",
              "      <td>55.0</td>\n",
              "      <td>Женат/замужем</td>\n",
              "      <td>0</td>\n",
              "      <td>0</td>\n",
              "    </tr>\n",
              "    <tr>\n",
              "      <th>3</th>\n",
              "      <td>88238</td>\n",
              "      <td>F</td>\n",
              "      <td>35.0</td>\n",
              "      <td>NaN</td>\n",
              "      <td>0</td>\n",
              "      <td>0</td>\n",
              "    </tr>\n",
              "    <tr>\n",
              "      <th>4</th>\n",
              "      <td>57179</td>\n",
              "      <td>F</td>\n",
              "      <td>30.0</td>\n",
              "      <td>Женат/замужем</td>\n",
              "      <td>0</td>\n",
              "      <td>0</td>\n",
              "    </tr>\n",
              "  </tbody>\n",
              "</table>\n",
              "</div>"
            ],
            "text/plain": [
              "   party_rk gender_cd   age marital_status_desc  children_cnt  region_flg\n",
              "0     61243         F  70.0                 NaN             0           0\n",
              "1     66535         F  25.0                 NaN             0           0\n",
              "2     83721         M  55.0       Женат/замужем             0           0\n",
              "3     88238         F  35.0                 NaN             0           0\n",
              "4     57179         F  30.0       Женат/замужем             0           0"
            ]
          },
          "metadata": {},
          "execution_count": 87
        }
      ]
    },
    {
      "cell_type": "code",
      "metadata": {
        "id": "hyd1vdT7A6gD"
      },
      "source": [
        "'Infant','Toddler','Kid','Teen', 'Adult']"
      ],
      "execution_count": null,
      "outputs": []
    },
    {
      "cell_type": "code",
      "metadata": {
        "id": "ux3ij6Uv_7mg"
      },
      "source": [
        "df_socdem.loc[(df_socdem.age < 21),  'AgeGroup'] = '0-21'\n",
        "df_socdem.loc[(21 <= df_socdem.age),  'AgeGroup'] = '21-29'\n",
        "df_socdem.loc[(30 <= df_socdem.age),  'AgeGroup'] = '30-40'\n",
        "df_socdem.loc[(41 <= df_socdem.age),  'AgeGroup'] = '41-54'\n",
        "df_socdem.loc[(54 <= df_socdem.age),  'AgeGroup'] = '55-65'\n",
        "df_socdem.loc[(65 <= df_socdem.age),  'AgeGroup'] = '65+'"
      ],
      "execution_count": null,
      "outputs": []
    },
    {
      "cell_type": "code",
      "metadata": {
        "colab": {
          "base_uri": "https://localhost:8080/",
          "height": 419
        },
        "id": "ZTnk0uZAAMkx",
        "outputId": "9ffaacd4-7974-4329-8b82-9f0ae6788f29"
      },
      "source": [
        "df_socdem"
      ],
      "execution_count": null,
      "outputs": [
        {
          "output_type": "execute_result",
          "data": {
            "text/html": [
              "<div>\n",
              "<style scoped>\n",
              "    .dataframe tbody tr th:only-of-type {\n",
              "        vertical-align: middle;\n",
              "    }\n",
              "\n",
              "    .dataframe tbody tr th {\n",
              "        vertical-align: top;\n",
              "    }\n",
              "\n",
              "    .dataframe thead th {\n",
              "        text-align: right;\n",
              "    }\n",
              "</style>\n",
              "<table border=\"1\" class=\"dataframe\">\n",
              "  <thead>\n",
              "    <tr style=\"text-align: right;\">\n",
              "      <th></th>\n",
              "      <th>party_rk</th>\n",
              "      <th>gender_cd</th>\n",
              "      <th>age</th>\n",
              "      <th>marital_status_desc</th>\n",
              "      <th>children_cnt</th>\n",
              "      <th>region_flg</th>\n",
              "      <th>AgeGroup</th>\n",
              "    </tr>\n",
              "  </thead>\n",
              "  <tbody>\n",
              "    <tr>\n",
              "      <th>0</th>\n",
              "      <td>61243</td>\n",
              "      <td>F</td>\n",
              "      <td>70.0</td>\n",
              "      <td>NaN</td>\n",
              "      <td>0</td>\n",
              "      <td>0</td>\n",
              "      <td>65+</td>\n",
              "    </tr>\n",
              "    <tr>\n",
              "      <th>1</th>\n",
              "      <td>66535</td>\n",
              "      <td>F</td>\n",
              "      <td>25.0</td>\n",
              "      <td>NaN</td>\n",
              "      <td>0</td>\n",
              "      <td>0</td>\n",
              "      <td>21-29</td>\n",
              "    </tr>\n",
              "    <tr>\n",
              "      <th>2</th>\n",
              "      <td>83721</td>\n",
              "      <td>M</td>\n",
              "      <td>55.0</td>\n",
              "      <td>Женат/замужем</td>\n",
              "      <td>0</td>\n",
              "      <td>0</td>\n",
              "      <td>55-65</td>\n",
              "    </tr>\n",
              "    <tr>\n",
              "      <th>3</th>\n",
              "      <td>88238</td>\n",
              "      <td>F</td>\n",
              "      <td>35.0</td>\n",
              "      <td>NaN</td>\n",
              "      <td>0</td>\n",
              "      <td>0</td>\n",
              "      <td>30-40</td>\n",
              "    </tr>\n",
              "    <tr>\n",
              "      <th>4</th>\n",
              "      <td>57179</td>\n",
              "      <td>F</td>\n",
              "      <td>30.0</td>\n",
              "      <td>Женат/замужем</td>\n",
              "      <td>0</td>\n",
              "      <td>0</td>\n",
              "      <td>30-40</td>\n",
              "    </tr>\n",
              "    <tr>\n",
              "      <th>...</th>\n",
              "      <td>...</td>\n",
              "      <td>...</td>\n",
              "      <td>...</td>\n",
              "      <td>...</td>\n",
              "      <td>...</td>\n",
              "      <td>...</td>\n",
              "      <td>...</td>\n",
              "    </tr>\n",
              "    <tr>\n",
              "      <th>49995</th>\n",
              "      <td>54994</td>\n",
              "      <td>M</td>\n",
              "      <td>40.0</td>\n",
              "      <td>Женат/замужем</td>\n",
              "      <td>0</td>\n",
              "      <td>0</td>\n",
              "      <td>30-40</td>\n",
              "    </tr>\n",
              "    <tr>\n",
              "      <th>49996</th>\n",
              "      <td>63391</td>\n",
              "      <td>M</td>\n",
              "      <td>35.0</td>\n",
              "      <td>Холост/не замужем</td>\n",
              "      <td>0</td>\n",
              "      <td>0</td>\n",
              "      <td>30-40</td>\n",
              "    </tr>\n",
              "    <tr>\n",
              "      <th>49997</th>\n",
              "      <td>5418</td>\n",
              "      <td>F</td>\n",
              "      <td>55.0</td>\n",
              "      <td>Холост/не замужем</td>\n",
              "      <td>0</td>\n",
              "      <td>0</td>\n",
              "      <td>55-65</td>\n",
              "    </tr>\n",
              "    <tr>\n",
              "      <th>49998</th>\n",
              "      <td>50273</td>\n",
              "      <td>F</td>\n",
              "      <td>35.0</td>\n",
              "      <td>Женат/замужем</td>\n",
              "      <td>0</td>\n",
              "      <td>0</td>\n",
              "      <td>30-40</td>\n",
              "    </tr>\n",
              "    <tr>\n",
              "      <th>49999</th>\n",
              "      <td>77268</td>\n",
              "      <td>F</td>\n",
              "      <td>35.0</td>\n",
              "      <td>NaN</td>\n",
              "      <td>0</td>\n",
              "      <td>0</td>\n",
              "      <td>30-40</td>\n",
              "    </tr>\n",
              "  </tbody>\n",
              "</table>\n",
              "<p>50000 rows × 7 columns</p>\n",
              "</div>"
            ],
            "text/plain": [
              "       party_rk gender_cd   age  ... children_cnt  region_flg  AgeGroup\n",
              "0         61243         F  70.0  ...            0           0       65+\n",
              "1         66535         F  25.0  ...            0           0     21-29\n",
              "2         83721         M  55.0  ...            0           0     55-65\n",
              "3         88238         F  35.0  ...            0           0     30-40\n",
              "4         57179         F  30.0  ...            0           0     30-40\n",
              "...         ...       ...   ...  ...          ...         ...       ...\n",
              "49995     54994         M  40.0  ...            0           0     30-40\n",
              "49996     63391         M  35.0  ...            0           0     30-40\n",
              "49997      5418         F  55.0  ...            0           0     55-65\n",
              "49998     50273         F  35.0  ...            0           0     30-40\n",
              "49999     77268         F  35.0  ...            0           0     30-40\n",
              "\n",
              "[50000 rows x 7 columns]"
            ]
          },
          "metadata": {},
          "execution_count": 129
        }
      ]
    },
    {
      "cell_type": "code",
      "metadata": {
        "id": "4jPElkk2CuqZ"
      },
      "source": [
        "# Agegroup - ктегориальный признак, переведем его в тип int\n",
        "le = preprocessing.LabelEncoder()\n",
        "le.fit(df_socdem['marital_status_desc'])\n",
        "df_socdem['AgeGroup'] = le.transform(df_socdem['AgeGroup'])"
      ],
      "execution_count": null,
      "outputs": []
    },
    {
      "cell_type": "code",
      "metadata": {
        "id": "0XhQx91QDCAq"
      },
      "source": [
        "# Я НЕ УБИРАЛА NAN\n",
        "df_socdem['marital_status_desc'] = df_socdem['marital_status_desc'].astype(str)"
      ],
      "execution_count": null,
      "outputs": []
    },
    {
      "cell_type": "code",
      "metadata": {
        "id": "Z35LUDknEKpN"
      },
      "source": [
        "le.fit(df_socdem['marital_status_desc'])\n",
        "df_socdem['marital_status_desc'] = le.transform(df_socdem['marital_status_desc'])"
      ],
      "execution_count": null,
      "outputs": []
    },
    {
      "cell_type": "code",
      "metadata": {
        "id": "6WZlMq_5EUBu"
      },
      "source": [
        "# Я НЕ УБИРАЛА NAN\n",
        "df_socdem['gender_cd'] = df_socdem['gender_cd'].astype(str)\n",
        "le.fit(df_socdem['gender_cd'])\n",
        "df_socdem['gender_cd'] = le.transform(df_socdem['gender_cd'])"
      ],
      "execution_count": null,
      "outputs": []
    },
    {
      "cell_type": "code",
      "metadata": {
        "colab": {
          "base_uri": "https://localhost:8080/",
          "height": 419
        },
        "id": "IyWZRMdtE9a1",
        "outputId": "880f0e9e-8f4f-421f-d288-707a612cd0cb"
      },
      "source": [
        "df_socdem"
      ],
      "execution_count": null,
      "outputs": [
        {
          "output_type": "execute_result",
          "data": {
            "text/html": [
              "<div>\n",
              "<style scoped>\n",
              "    .dataframe tbody tr th:only-of-type {\n",
              "        vertical-align: middle;\n",
              "    }\n",
              "\n",
              "    .dataframe tbody tr th {\n",
              "        vertical-align: top;\n",
              "    }\n",
              "\n",
              "    .dataframe thead th {\n",
              "        text-align: right;\n",
              "    }\n",
              "</style>\n",
              "<table border=\"1\" class=\"dataframe\">\n",
              "  <thead>\n",
              "    <tr style=\"text-align: right;\">\n",
              "      <th></th>\n",
              "      <th>party_rk</th>\n",
              "      <th>gender_cd</th>\n",
              "      <th>age</th>\n",
              "      <th>marital_status_desc</th>\n",
              "      <th>children_cnt</th>\n",
              "      <th>region_flg</th>\n",
              "      <th>AgeGroup</th>\n",
              "    </tr>\n",
              "  </thead>\n",
              "  <tbody>\n",
              "    <tr>\n",
              "      <th>0</th>\n",
              "      <td>61243</td>\n",
              "      <td>0</td>\n",
              "      <td>70.0</td>\n",
              "      <td>0</td>\n",
              "      <td>0</td>\n",
              "      <td>0</td>\n",
              "      <td>5</td>\n",
              "    </tr>\n",
              "    <tr>\n",
              "      <th>1</th>\n",
              "      <td>66535</td>\n",
              "      <td>0</td>\n",
              "      <td>25.0</td>\n",
              "      <td>0</td>\n",
              "      <td>0</td>\n",
              "      <td>0</td>\n",
              "      <td>1</td>\n",
              "    </tr>\n",
              "    <tr>\n",
              "      <th>2</th>\n",
              "      <td>83721</td>\n",
              "      <td>1</td>\n",
              "      <td>55.0</td>\n",
              "      <td>3</td>\n",
              "      <td>0</td>\n",
              "      <td>0</td>\n",
              "      <td>4</td>\n",
              "    </tr>\n",
              "    <tr>\n",
              "      <th>3</th>\n",
              "      <td>88238</td>\n",
              "      <td>0</td>\n",
              "      <td>35.0</td>\n",
              "      <td>0</td>\n",
              "      <td>0</td>\n",
              "      <td>0</td>\n",
              "      <td>2</td>\n",
              "    </tr>\n",
              "    <tr>\n",
              "      <th>4</th>\n",
              "      <td>57179</td>\n",
              "      <td>0</td>\n",
              "      <td>30.0</td>\n",
              "      <td>3</td>\n",
              "      <td>0</td>\n",
              "      <td>0</td>\n",
              "      <td>2</td>\n",
              "    </tr>\n",
              "    <tr>\n",
              "      <th>...</th>\n",
              "      <td>...</td>\n",
              "      <td>...</td>\n",
              "      <td>...</td>\n",
              "      <td>...</td>\n",
              "      <td>...</td>\n",
              "      <td>...</td>\n",
              "      <td>...</td>\n",
              "    </tr>\n",
              "    <tr>\n",
              "      <th>49995</th>\n",
              "      <td>54994</td>\n",
              "      <td>1</td>\n",
              "      <td>40.0</td>\n",
              "      <td>3</td>\n",
              "      <td>0</td>\n",
              "      <td>0</td>\n",
              "      <td>2</td>\n",
              "    </tr>\n",
              "    <tr>\n",
              "      <th>49996</th>\n",
              "      <td>63391</td>\n",
              "      <td>1</td>\n",
              "      <td>35.0</td>\n",
              "      <td>6</td>\n",
              "      <td>0</td>\n",
              "      <td>0</td>\n",
              "      <td>2</td>\n",
              "    </tr>\n",
              "    <tr>\n",
              "      <th>49997</th>\n",
              "      <td>5418</td>\n",
              "      <td>0</td>\n",
              "      <td>55.0</td>\n",
              "      <td>6</td>\n",
              "      <td>0</td>\n",
              "      <td>0</td>\n",
              "      <td>4</td>\n",
              "    </tr>\n",
              "    <tr>\n",
              "      <th>49998</th>\n",
              "      <td>50273</td>\n",
              "      <td>0</td>\n",
              "      <td>35.0</td>\n",
              "      <td>3</td>\n",
              "      <td>0</td>\n",
              "      <td>0</td>\n",
              "      <td>2</td>\n",
              "    </tr>\n",
              "    <tr>\n",
              "      <th>49999</th>\n",
              "      <td>77268</td>\n",
              "      <td>0</td>\n",
              "      <td>35.0</td>\n",
              "      <td>0</td>\n",
              "      <td>0</td>\n",
              "      <td>0</td>\n",
              "      <td>2</td>\n",
              "    </tr>\n",
              "  </tbody>\n",
              "</table>\n",
              "<p>50000 rows × 7 columns</p>\n",
              "</div>"
            ],
            "text/plain": [
              "       party_rk  gender_cd   age  ...  children_cnt  region_flg  AgeGroup\n",
              "0         61243          0  70.0  ...             0           0         5\n",
              "1         66535          0  25.0  ...             0           0         1\n",
              "2         83721          1  55.0  ...             0           0         4\n",
              "3         88238          0  35.0  ...             0           0         2\n",
              "4         57179          0  30.0  ...             0           0         2\n",
              "...         ...        ...   ...  ...           ...         ...       ...\n",
              "49995     54994          1  40.0  ...             0           0         2\n",
              "49996     63391          1  35.0  ...             0           0         2\n",
              "49997      5418          0  55.0  ...             0           0         4\n",
              "49998     50273          0  35.0  ...             0           0         2\n",
              "49999     77268          0  35.0  ...             0           0         2\n",
              "\n",
              "[50000 rows x 7 columns]"
            ]
          },
          "metadata": {},
          "execution_count": 136
        }
      ]
    },
    {
      "cell_type": "code",
      "metadata": {
        "colab": {
          "base_uri": "https://localhost:8080/"
        },
        "id": "mdTBXaAjg3us",
        "outputId": "9777ddbd-2cf4-44c9-c0cd-b230cccecc79"
      },
      "source": [
        "print('Количество строк: {}, количество столбцов: {}'.format(df_socdem.shape[0], df_socdem.shape[1]))"
      ],
      "execution_count": null,
      "outputs": [
        {
          "output_type": "stream",
          "name": "stdout",
          "text": [
            "Количество строк: 50000, количество столбцов: 6\n"
          ]
        }
      ]
    },
    {
      "cell_type": "code",
      "metadata": {
        "colab": {
          "base_uri": "https://localhost:8080/"
        },
        "id": "vgLLQ6PXg3us",
        "outputId": "d3aab141-9e05-41d4-ca3a-45e919b4f927"
      },
      "source": [
        "df_socdem.info()"
      ],
      "execution_count": null,
      "outputs": [
        {
          "output_type": "stream",
          "name": "stdout",
          "text": [
            "<class 'pandas.core.frame.DataFrame'>\n",
            "RangeIndex: 50000 entries, 0 to 49999\n",
            "Data columns (total 6 columns):\n",
            " #   Column               Non-Null Count  Dtype  \n",
            "---  ------               --------------  -----  \n",
            " 0   party_rk             50000 non-null  int64  \n",
            " 1   gender_cd            49989 non-null  object \n",
            " 2   age                  50000 non-null  float64\n",
            " 3   marital_status_desc  37594 non-null  object \n",
            " 4   children_cnt         50000 non-null  int64  \n",
            " 5   region_flg           50000 non-null  int64  \n",
            "dtypes: float64(1), int64(3), object(2)\n",
            "memory usage: 2.3+ MB\n"
          ]
        }
      ]
    },
    {
      "cell_type": "code",
      "metadata": {
        "colab": {
          "base_uri": "https://localhost:8080/",
          "height": 297
        },
        "id": "4HkB052hg3us",
        "outputId": "07927caf-7e89-40f7-c761-f317d5447ee3"
      },
      "source": [
        "df_socdem.describe()"
      ],
      "execution_count": null,
      "outputs": [
        {
          "output_type": "execute_result",
          "data": {
            "text/html": [
              "<div>\n",
              "<style scoped>\n",
              "    .dataframe tbody tr th:only-of-type {\n",
              "        vertical-align: middle;\n",
              "    }\n",
              "\n",
              "    .dataframe tbody tr th {\n",
              "        vertical-align: top;\n",
              "    }\n",
              "\n",
              "    .dataframe thead th {\n",
              "        text-align: right;\n",
              "    }\n",
              "</style>\n",
              "<table border=\"1\" class=\"dataframe\">\n",
              "  <thead>\n",
              "    <tr style=\"text-align: right;\">\n",
              "      <th></th>\n",
              "      <th>party_rk</th>\n",
              "      <th>age</th>\n",
              "      <th>children_cnt</th>\n",
              "      <th>region_flg</th>\n",
              "    </tr>\n",
              "  </thead>\n",
              "  <tbody>\n",
              "    <tr>\n",
              "      <th>count</th>\n",
              "      <td>50000.00000</td>\n",
              "      <td>50000.000000</td>\n",
              "      <td>50000.000000</td>\n",
              "      <td>50000.000000</td>\n",
              "    </tr>\n",
              "    <tr>\n",
              "      <th>mean</th>\n",
              "      <td>47339.73202</td>\n",
              "      <td>39.062300</td>\n",
              "      <td>0.388660</td>\n",
              "      <td>0.091900</td>\n",
              "    </tr>\n",
              "    <tr>\n",
              "      <th>std</th>\n",
              "      <td>27317.74524</td>\n",
              "      <td>11.675057</td>\n",
              "      <td>0.968928</td>\n",
              "      <td>0.288888</td>\n",
              "    </tr>\n",
              "    <tr>\n",
              "      <th>min</th>\n",
              "      <td>1.00000</td>\n",
              "      <td>15.000000</td>\n",
              "      <td>0.000000</td>\n",
              "      <td>0.000000</td>\n",
              "    </tr>\n",
              "    <tr>\n",
              "      <th>25%</th>\n",
              "      <td>23669.75000</td>\n",
              "      <td>30.000000</td>\n",
              "      <td>0.000000</td>\n",
              "      <td>0.000000</td>\n",
              "    </tr>\n",
              "    <tr>\n",
              "      <th>50%</th>\n",
              "      <td>47434.50000</td>\n",
              "      <td>35.000000</td>\n",
              "      <td>0.000000</td>\n",
              "      <td>0.000000</td>\n",
              "    </tr>\n",
              "    <tr>\n",
              "      <th>75%</th>\n",
              "      <td>70961.50000</td>\n",
              "      <td>45.000000</td>\n",
              "      <td>0.000000</td>\n",
              "      <td>0.000000</td>\n",
              "    </tr>\n",
              "    <tr>\n",
              "      <th>max</th>\n",
              "      <td>94610.00000</td>\n",
              "      <td>100.000000</td>\n",
              "      <td>4.000000</td>\n",
              "      <td>1.000000</td>\n",
              "    </tr>\n",
              "  </tbody>\n",
              "</table>\n",
              "</div>"
            ],
            "text/plain": [
              "          party_rk           age  children_cnt    region_flg\n",
              "count  50000.00000  50000.000000  50000.000000  50000.000000\n",
              "mean   47339.73202     39.062300      0.388660      0.091900\n",
              "std    27317.74524     11.675057      0.968928      0.288888\n",
              "min        1.00000     15.000000      0.000000      0.000000\n",
              "25%    23669.75000     30.000000      0.000000      0.000000\n",
              "50%    47434.50000     35.000000      0.000000      0.000000\n",
              "75%    70961.50000     45.000000      0.000000      0.000000\n",
              "max    94610.00000    100.000000      4.000000      1.000000"
            ]
          },
          "metadata": {},
          "execution_count": 90
        }
      ]
    },
    {
      "cell_type": "markdown",
      "metadata": {
        "id": "JPGQBna2g3ut"
      },
      "source": [
        "В соц-деме пользователей скорее всего есть вопросы, так как мы видим, что максимальное значение достигает 100, что невозможно. "
      ]
    },
    {
      "cell_type": "code",
      "metadata": {
        "colab": {
          "base_uri": "https://localhost:8080/",
          "height": 114
        },
        "id": "eoGbbdQdg3ut",
        "outputId": "aebee03f-b87d-4919-ae2a-4514f19068de"
      },
      "source": [
        "print(\"\\nКоличество пропущенных значений:\")\n",
        "df_socdem.isna().sum().to_frame().sort_values(0, ascending = False).T"
      ],
      "execution_count": null,
      "outputs": [
        {
          "output_type": "stream",
          "name": "stdout",
          "text": [
            "\n",
            "Количество пропущенных значений:\n"
          ]
        },
        {
          "output_type": "execute_result",
          "data": {
            "text/html": [
              "<div>\n",
              "<style scoped>\n",
              "    .dataframe tbody tr th:only-of-type {\n",
              "        vertical-align: middle;\n",
              "    }\n",
              "\n",
              "    .dataframe tbody tr th {\n",
              "        vertical-align: top;\n",
              "    }\n",
              "\n",
              "    .dataframe thead th {\n",
              "        text-align: right;\n",
              "    }\n",
              "</style>\n",
              "<table border=\"1\" class=\"dataframe\">\n",
              "  <thead>\n",
              "    <tr style=\"text-align: right;\">\n",
              "      <th></th>\n",
              "      <th>marital_status_desc</th>\n",
              "      <th>gender_cd</th>\n",
              "      <th>party_rk</th>\n",
              "      <th>age</th>\n",
              "      <th>children_cnt</th>\n",
              "      <th>region_flg</th>\n",
              "    </tr>\n",
              "  </thead>\n",
              "  <tbody>\n",
              "    <tr>\n",
              "      <th>0</th>\n",
              "      <td>12406</td>\n",
              "      <td>11</td>\n",
              "      <td>0</td>\n",
              "      <td>0</td>\n",
              "      <td>0</td>\n",
              "      <td>0</td>\n",
              "    </tr>\n",
              "  </tbody>\n",
              "</table>\n",
              "</div>"
            ],
            "text/plain": [
              "   marital_status_desc  gender_cd  party_rk  age  children_cnt  region_flg\n",
              "0                12406         11         0    0             0           0"
            ]
          },
          "metadata": {},
          "execution_count": 91
        }
      ]
    },
    {
      "cell_type": "markdown",
      "metadata": {
        "id": "tRtxNtEag3ut"
      },
      "source": [
        "Заменим пропуски в колонке 'marital_status_desc' на значение unknown, тк возможно, пользователь не захотел указывать свой статус "
      ]
    },
    {
      "cell_type": "code",
      "metadata": {
        "colab": {
          "base_uri": "https://localhost:8080/",
          "height": 235
        },
        "id": "kkfaM9VQg3uu",
        "outputId": "b3967ace-fe16-4413-d0f6-ffb173e82494"
      },
      "source": [
        "df_socdem['marital_status_desc'].value_counts().reset_index()"
      ],
      "execution_count": null,
      "outputs": [
        {
          "output_type": "execute_result",
          "data": {
            "text/html": [
              "<div>\n",
              "<style scoped>\n",
              "    .dataframe tbody tr th:only-of-type {\n",
              "        vertical-align: middle;\n",
              "    }\n",
              "\n",
              "    .dataframe tbody tr th {\n",
              "        vertical-align: top;\n",
              "    }\n",
              "\n",
              "    .dataframe thead th {\n",
              "        text-align: right;\n",
              "    }\n",
              "</style>\n",
              "<table border=\"1\" class=\"dataframe\">\n",
              "  <thead>\n",
              "    <tr style=\"text-align: right;\">\n",
              "      <th></th>\n",
              "      <th>index</th>\n",
              "      <th>marital_status_desc</th>\n",
              "    </tr>\n",
              "  </thead>\n",
              "  <tbody>\n",
              "    <tr>\n",
              "      <th>0</th>\n",
              "      <td>Женат/замужем</td>\n",
              "      <td>17446</td>\n",
              "    </tr>\n",
              "    <tr>\n",
              "      <th>1</th>\n",
              "      <td>Холост/не замужем</td>\n",
              "      <td>13045</td>\n",
              "    </tr>\n",
              "    <tr>\n",
              "      <th>2</th>\n",
              "      <td>Разведен (а)</td>\n",
              "      <td>3696</td>\n",
              "    </tr>\n",
              "    <tr>\n",
              "      <th>3</th>\n",
              "      <td>Гражданский брак</td>\n",
              "      <td>2607</td>\n",
              "    </tr>\n",
              "    <tr>\n",
              "      <th>4</th>\n",
              "      <td>Вдовец, вдова</td>\n",
              "      <td>798</td>\n",
              "    </tr>\n",
              "    <tr>\n",
              "      <th>5</th>\n",
              "      <td>Не проживает с супругом (ой)</td>\n",
              "      <td>2</td>\n",
              "    </tr>\n",
              "  </tbody>\n",
              "</table>\n",
              "</div>"
            ],
            "text/plain": [
              "                          index  marital_status_desc\n",
              "0                 Женат/замужем                17446\n",
              "1             Холост/не замужем                13045\n",
              "2                  Разведен (а)                 3696\n",
              "3              Гражданский брак                 2607\n",
              "4                 Вдовец, вдова                  798\n",
              "5  Не проживает с супругом (ой)                    2"
            ]
          },
          "metadata": {},
          "execution_count": 92
        }
      ]
    },
    {
      "cell_type": "code",
      "metadata": {
        "colab": {
          "base_uri": "https://localhost:8080/",
          "height": 383
        },
        "id": "Z00AViR_g3uu",
        "outputId": "ae0ae3eb-3466-41cf-811d-5f3d986a17d6"
      },
      "source": [
        "fig, (ax1, ax2) = plt.subplots(1,2, figsize=(9,4))\n",
        "\n",
        "female = df_socdem[df_socdem['gender_cd'] == 'F']\n",
        "male = df_socdem[df_socdem['gender_cd'] == 'M']\n",
        "\n",
        "sns.distplot(female['age'], bins=12 ,ax=ax1)\n",
        "sns.distplot(male['age'], bins=12, ax=ax2)\n",
        "\n",
        "ax1.set_title('Age distr among females');\n",
        "ax2.set_title('Age distr among males');"
      ],
      "execution_count": null,
      "outputs": [
        {
          "output_type": "stream",
          "name": "stderr",
          "text": [
            "/usr/local/lib/python3.7/dist-packages/seaborn/distributions.py:2557: FutureWarning: `distplot` is a deprecated function and will be removed in a future version. Please adapt your code to use either `displot` (a figure-level function with similar flexibility) or `histplot` (an axes-level function for histograms).\n",
            "  warnings.warn(msg, FutureWarning)\n",
            "/usr/local/lib/python3.7/dist-packages/seaborn/distributions.py:2557: FutureWarning: `distplot` is a deprecated function and will be removed in a future version. Please adapt your code to use either `displot` (a figure-level function with similar flexibility) or `histplot` (an axes-level function for histograms).\n",
            "  warnings.warn(msg, FutureWarning)\n"
          ]
        },
        {
          "output_type": "display_data",
          "data": {
            "image/png": "[encoded data removed]",
            "text/plain": [
              "<Figure size 648x288 with 2 Axes>"
            ]
          },
          "metadata": {
            "needs_background": "light"
          }
        }
      ]
    },
    {
      "cell_type": "code",
      "metadata": {
        "id": "MOstkbwGIIo6"
      },
      "source": [
        "df_socdem = df_socdem.drop('age', axis=1)"
      ],
      "execution_count": null,
      "outputs": []
    },
    {
      "cell_type": "code",
      "metadata": {
        "colab": {
          "base_uri": "https://localhost:8080/",
          "height": 419
        },
        "id": "4R69WVCYIR9Y",
        "outputId": "0a01f140-af0d-4e1f-9729-332ad10f7ae7"
      },
      "source": [
        "df_socdem"
      ],
      "execution_count": null,
      "outputs": [
        {
          "output_type": "execute_result",
          "data": {
            "text/html": [
              "<div>\n",
              "<style scoped>\n",
              "    .dataframe tbody tr th:only-of-type {\n",
              "        vertical-align: middle;\n",
              "    }\n",
              "\n",
              "    .dataframe tbody tr th {\n",
              "        vertical-align: top;\n",
              "    }\n",
              "\n",
              "    .dataframe thead th {\n",
              "        text-align: right;\n",
              "    }\n",
              "</style>\n",
              "<table border=\"1\" class=\"dataframe\">\n",
              "  <thead>\n",
              "    <tr style=\"text-align: right;\">\n",
              "      <th></th>\n",
              "      <th>party_rk</th>\n",
              "      <th>gender_cd</th>\n",
              "      <th>marital_status_desc</th>\n",
              "      <th>children_cnt</th>\n",
              "      <th>region_flg</th>\n",
              "      <th>AgeGroup</th>\n",
              "    </tr>\n",
              "  </thead>\n",
              "  <tbody>\n",
              "    <tr>\n",
              "      <th>0</th>\n",
              "      <td>61243</td>\n",
              "      <td>0</td>\n",
              "      <td>0</td>\n",
              "      <td>0</td>\n",
              "      <td>0</td>\n",
              "      <td>5</td>\n",
              "    </tr>\n",
              "    <tr>\n",
              "      <th>1</th>\n",
              "      <td>66535</td>\n",
              "      <td>0</td>\n",
              "      <td>0</td>\n",
              "      <td>0</td>\n",
              "      <td>0</td>\n",
              "      <td>1</td>\n",
              "    </tr>\n",
              "    <tr>\n",
              "      <th>2</th>\n",
              "      <td>83721</td>\n",
              "      <td>1</td>\n",
              "      <td>3</td>\n",
              "      <td>0</td>\n",
              "      <td>0</td>\n",
              "      <td>4</td>\n",
              "    </tr>\n",
              "    <tr>\n",
              "      <th>3</th>\n",
              "      <td>88238</td>\n",
              "      <td>0</td>\n",
              "      <td>0</td>\n",
              "      <td>0</td>\n",
              "      <td>0</td>\n",
              "      <td>2</td>\n",
              "    </tr>\n",
              "    <tr>\n",
              "      <th>4</th>\n",
              "      <td>57179</td>\n",
              "      <td>0</td>\n",
              "      <td>3</td>\n",
              "      <td>0</td>\n",
              "      <td>0</td>\n",
              "      <td>2</td>\n",
              "    </tr>\n",
              "    <tr>\n",
              "      <th>...</th>\n",
              "      <td>...</td>\n",
              "      <td>...</td>\n",
              "      <td>...</td>\n",
              "      <td>...</td>\n",
              "      <td>...</td>\n",
              "      <td>...</td>\n",
              "    </tr>\n",
              "    <tr>\n",
              "      <th>49995</th>\n",
              "      <td>54994</td>\n",
              "      <td>1</td>\n",
              "      <td>3</td>\n",
              "      <td>0</td>\n",
              "      <td>0</td>\n",
              "      <td>2</td>\n",
              "    </tr>\n",
              "    <tr>\n",
              "      <th>49996</th>\n",
              "      <td>63391</td>\n",
              "      <td>1</td>\n",
              "      <td>6</td>\n",
              "      <td>0</td>\n",
              "      <td>0</td>\n",
              "      <td>2</td>\n",
              "    </tr>\n",
              "    <tr>\n",
              "      <th>49997</th>\n",
              "      <td>5418</td>\n",
              "      <td>0</td>\n",
              "      <td>6</td>\n",
              "      <td>0</td>\n",
              "      <td>0</td>\n",
              "      <td>4</td>\n",
              "    </tr>\n",
              "    <tr>\n",
              "      <th>49998</th>\n",
              "      <td>50273</td>\n",
              "      <td>0</td>\n",
              "      <td>3</td>\n",
              "      <td>0</td>\n",
              "      <td>0</td>\n",
              "      <td>2</td>\n",
              "    </tr>\n",
              "    <tr>\n",
              "      <th>49999</th>\n",
              "      <td>77268</td>\n",
              "      <td>0</td>\n",
              "      <td>0</td>\n",
              "      <td>0</td>\n",
              "      <td>0</td>\n",
              "      <td>2</td>\n",
              "    </tr>\n",
              "  </tbody>\n",
              "</table>\n",
              "<p>50000 rows × 6 columns</p>\n",
              "</div>"
            ],
            "text/plain": [
              "       party_rk  gender_cd  ...  region_flg  AgeGroup\n",
              "0         61243          0  ...           0         5\n",
              "1         66535          0  ...           0         1\n",
              "2         83721          1  ...           0         4\n",
              "3         88238          0  ...           0         2\n",
              "4         57179          0  ...           0         2\n",
              "...         ...        ...  ...         ...       ...\n",
              "49995     54994          1  ...           0         2\n",
              "49996     63391          1  ...           0         2\n",
              "49997      5418          0  ...           0         4\n",
              "49998     50273          0  ...           0         2\n",
              "49999     77268          0  ...           0         2\n",
              "\n",
              "[50000 rows x 6 columns]"
            ]
          },
          "metadata": {},
          "execution_count": 145
        }
      ]
    },
    {
      "cell_type": "markdown",
      "metadata": {
        "id": "Cbcalxrdg3uv"
      },
      "source": [
        "#### df_balance"
      ]
    },
    {
      "cell_type": "code",
      "metadata": {
        "colab": {
          "base_uri": "https://localhost:8080/",
          "height": 204
        },
        "id": "xejy-rSTg3uv",
        "outputId": "0a715dfb-ea25-408b-e482-7f0707774de4"
      },
      "source": [
        "df_balance.head()"
      ],
      "execution_count": null,
      "outputs": [
        {
          "output_type": "execute_result",
          "data": {
            "text/html": [
              "<div>\n",
              "<style scoped>\n",
              "    .dataframe tbody tr th:only-of-type {\n",
              "        vertical-align: middle;\n",
              "    }\n",
              "\n",
              "    .dataframe tbody tr th {\n",
              "        vertical-align: top;\n",
              "    }\n",
              "\n",
              "    .dataframe thead th {\n",
              "        text-align: right;\n",
              "    }\n",
              "</style>\n",
              "<table border=\"1\" class=\"dataframe\">\n",
              "  <thead>\n",
              "    <tr style=\"text-align: right;\">\n",
              "      <th></th>\n",
              "      <th>party_rk</th>\n",
              "      <th>account_rk</th>\n",
              "      <th>prev_month</th>\n",
              "      <th>cur_month</th>\n",
              "      <th>balance_chng</th>\n",
              "    </tr>\n",
              "  </thead>\n",
              "  <tbody>\n",
              "    <tr>\n",
              "      <th>0</th>\n",
              "      <td>51607</td>\n",
              "      <td>55309</td>\n",
              "      <td>2018-12-31</td>\n",
              "      <td>2019-01-31</td>\n",
              "      <td>15000.0</td>\n",
              "    </tr>\n",
              "    <tr>\n",
              "      <th>1</th>\n",
              "      <td>59074</td>\n",
              "      <td>70471</td>\n",
              "      <td>2018-12-31</td>\n",
              "      <td>2019-01-31</td>\n",
              "      <td>0.0</td>\n",
              "    </tr>\n",
              "    <tr>\n",
              "      <th>2</th>\n",
              "      <td>33941</td>\n",
              "      <td>33065</td>\n",
              "      <td>2018-12-31</td>\n",
              "      <td>2019-01-31</td>\n",
              "      <td>-15000.0</td>\n",
              "    </tr>\n",
              "    <tr>\n",
              "      <th>3</th>\n",
              "      <td>9336</td>\n",
              "      <td>8611</td>\n",
              "      <td>2018-12-31</td>\n",
              "      <td>2019-01-31</td>\n",
              "      <td>-50000.0</td>\n",
              "    </tr>\n",
              "    <tr>\n",
              "      <th>4</th>\n",
              "      <td>13958</td>\n",
              "      <td>8421</td>\n",
              "      <td>2018-12-31</td>\n",
              "      <td>2019-01-31</td>\n",
              "      <td>-20000.0</td>\n",
              "    </tr>\n",
              "  </tbody>\n",
              "</table>\n",
              "</div>"
            ],
            "text/plain": [
              "   party_rk  account_rk  prev_month   cur_month  balance_chng\n",
              "0     51607       55309  2018-12-31  2019-01-31       15000.0\n",
              "1     59074       70471  2018-12-31  2019-01-31           0.0\n",
              "2     33941       33065  2018-12-31  2019-01-31      -15000.0\n",
              "3      9336        8611  2018-12-31  2019-01-31      -50000.0\n",
              "4     13958        8421  2018-12-31  2019-01-31      -20000.0"
            ]
          },
          "metadata": {},
          "execution_count": 94
        }
      ]
    },
    {
      "cell_type": "code",
      "metadata": {
        "colab": {
          "base_uri": "https://localhost:8080/"
        },
        "id": "RAmWmBcjg3uw",
        "outputId": "23ca77e4-210e-44a3-9274-b3690151a4bf"
      },
      "source": [
        "print('Количество строк: {}, количество столбцов: {}'.format(df_balance.shape[0], df_balance.shape[1]))"
      ],
      "execution_count": null,
      "outputs": [
        {
          "output_type": "stream",
          "name": "stdout",
          "text": [
            "Количество строк: 614434, количество столбцов: 5\n"
          ]
        }
      ]
    },
    {
      "cell_type": "code",
      "metadata": {
        "colab": {
          "base_uri": "https://localhost:8080/"
        },
        "id": "_kTyTlOvg3ux",
        "outputId": "308b92dc-bd3c-4e66-a47e-8193cbb4587d"
      },
      "source": [
        "df_balance.info()"
      ],
      "execution_count": null,
      "outputs": [
        {
          "output_type": "stream",
          "name": "stdout",
          "text": [
            "<class 'pandas.core.frame.DataFrame'>\n",
            "RangeIndex: 614434 entries, 0 to 614433\n",
            "Data columns (total 5 columns):\n",
            " #   Column        Non-Null Count   Dtype  \n",
            "---  ------        --------------   -----  \n",
            " 0   party_rk      614434 non-null  int64  \n",
            " 1   account_rk    614434 non-null  int64  \n",
            " 2   prev_month    612832 non-null  object \n",
            " 3   cur_month     612832 non-null  object \n",
            " 4   balance_chng  612832 non-null  float64\n",
            "dtypes: float64(1), int64(2), object(2)\n",
            "memory usage: 23.4+ MB\n"
          ]
        }
      ]
    },
    {
      "cell_type": "code",
      "metadata": {
        "id": "41tSs7mRg3uy"
      },
      "source": [
        "df_balance['prev_month'] = pd.to_datetime(df_balance['prev_month'])\n",
        "df_balance['cur_month'] = pd.to_datetime(df_balance['cur_month'])"
      ],
      "execution_count": null,
      "outputs": []
    },
    {
      "cell_type": "code",
      "metadata": {
        "id": "hMP3YZUaHowB"
      },
      "source": [
        "df_balance = df_balance.drop(['account_rk'], axis = 1)"
      ],
      "execution_count": null,
      "outputs": []
    },
    {
      "cell_type": "code",
      "metadata": {
        "colab": {
          "base_uri": "https://localhost:8080/",
          "height": 419
        },
        "id": "LnI5zxDuHxYk",
        "outputId": "807779ff-cd53-4e2e-8eac-0e7aa979cbf6"
      },
      "source": [
        "df_balance"
      ],
      "execution_count": null,
      "outputs": [
        {
          "output_type": "execute_result",
          "data": {
            "text/html": [
              "<div>\n",
              "<style scoped>\n",
              "    .dataframe tbody tr th:only-of-type {\n",
              "        vertical-align: middle;\n",
              "    }\n",
              "\n",
              "    .dataframe tbody tr th {\n",
              "        vertical-align: top;\n",
              "    }\n",
              "\n",
              "    .dataframe thead th {\n",
              "        text-align: right;\n",
              "    }\n",
              "</style>\n",
              "<table border=\"1\" class=\"dataframe\">\n",
              "  <thead>\n",
              "    <tr style=\"text-align: right;\">\n",
              "      <th></th>\n",
              "      <th>party_rk</th>\n",
              "      <th>prev_month</th>\n",
              "      <th>cur_month</th>\n",
              "      <th>balance_chng</th>\n",
              "    </tr>\n",
              "  </thead>\n",
              "  <tbody>\n",
              "    <tr>\n",
              "      <th>0</th>\n",
              "      <td>51607</td>\n",
              "      <td>2018-12-31</td>\n",
              "      <td>2019-01-31</td>\n",
              "      <td>15000.0</td>\n",
              "    </tr>\n",
              "    <tr>\n",
              "      <th>1</th>\n",
              "      <td>59074</td>\n",
              "      <td>2018-12-31</td>\n",
              "      <td>2019-01-31</td>\n",
              "      <td>0.0</td>\n",
              "    </tr>\n",
              "    <tr>\n",
              "      <th>2</th>\n",
              "      <td>33941</td>\n",
              "      <td>2018-12-31</td>\n",
              "      <td>2019-01-31</td>\n",
              "      <td>-15000.0</td>\n",
              "    </tr>\n",
              "    <tr>\n",
              "      <th>3</th>\n",
              "      <td>9336</td>\n",
              "      <td>2018-12-31</td>\n",
              "      <td>2019-01-31</td>\n",
              "      <td>-50000.0</td>\n",
              "    </tr>\n",
              "    <tr>\n",
              "      <th>4</th>\n",
              "      <td>13958</td>\n",
              "      <td>2018-12-31</td>\n",
              "      <td>2019-01-31</td>\n",
              "      <td>-20000.0</td>\n",
              "    </tr>\n",
              "    <tr>\n",
              "      <th>...</th>\n",
              "      <td>...</td>\n",
              "      <td>...</td>\n",
              "      <td>...</td>\n",
              "      <td>...</td>\n",
              "    </tr>\n",
              "    <tr>\n",
              "      <th>614429</th>\n",
              "      <td>13734</td>\n",
              "      <td>NaT</td>\n",
              "      <td>NaT</td>\n",
              "      <td>NaN</td>\n",
              "    </tr>\n",
              "    <tr>\n",
              "      <th>614430</th>\n",
              "      <td>33502</td>\n",
              "      <td>NaT</td>\n",
              "      <td>NaT</td>\n",
              "      <td>NaN</td>\n",
              "    </tr>\n",
              "    <tr>\n",
              "      <th>614431</th>\n",
              "      <td>8735</td>\n",
              "      <td>NaT</td>\n",
              "      <td>NaT</td>\n",
              "      <td>NaN</td>\n",
              "    </tr>\n",
              "    <tr>\n",
              "      <th>614432</th>\n",
              "      <td>91302</td>\n",
              "      <td>NaT</td>\n",
              "      <td>NaT</td>\n",
              "      <td>NaN</td>\n",
              "    </tr>\n",
              "    <tr>\n",
              "      <th>614433</th>\n",
              "      <td>25510</td>\n",
              "      <td>NaT</td>\n",
              "      <td>NaT</td>\n",
              "      <td>NaN</td>\n",
              "    </tr>\n",
              "  </tbody>\n",
              "</table>\n",
              "<p>614434 rows × 4 columns</p>\n",
              "</div>"
            ],
            "text/plain": [
              "        party_rk prev_month  cur_month  balance_chng\n",
              "0          51607 2018-12-31 2019-01-31       15000.0\n",
              "1          59074 2018-12-31 2019-01-31           0.0\n",
              "2          33941 2018-12-31 2019-01-31      -15000.0\n",
              "3           9336 2018-12-31 2019-01-31      -50000.0\n",
              "4          13958 2018-12-31 2019-01-31      -20000.0\n",
              "...          ...        ...        ...           ...\n",
              "614429     13734        NaT        NaT           NaN\n",
              "614430     33502        NaT        NaT           NaN\n",
              "614431      8735        NaT        NaT           NaN\n",
              "614432     91302        NaT        NaT           NaN\n",
              "614433     25510        NaT        NaT           NaN\n",
              "\n",
              "[614434 rows x 4 columns]"
            ]
          },
          "metadata": {},
          "execution_count": 143
        }
      ]
    },
    {
      "cell_type": "markdown",
      "metadata": {
        "id": "D4wHQonAg3u0"
      },
      "source": [
        "#### df_stories_texts"
      ]
    },
    {
      "cell_type": "code",
      "metadata": {
        "colab": {
          "base_uri": "https://localhost:8080/",
          "height": 204
        },
        "id": "epI7MGmgg3u1",
        "outputId": "4a6e3541-c93f-423a-c2ad-b8eacb77d67f"
      },
      "source": [
        "df_story_texts.head()"
      ],
      "execution_count": null,
      "outputs": [
        {
          "output_type": "execute_result",
          "data": {
            "text/html": [
              "<div>\n",
              "<style scoped>\n",
              "    .dataframe tbody tr th:only-of-type {\n",
              "        vertical-align: middle;\n",
              "    }\n",
              "\n",
              "    .dataframe tbody tr th {\n",
              "        vertical-align: top;\n",
              "    }\n",
              "\n",
              "    .dataframe thead th {\n",
              "        text-align: right;\n",
              "    }\n",
              "</style>\n",
              "<table border=\"1\" class=\"dataframe\">\n",
              "  <thead>\n",
              "    <tr style=\"text-align: right;\">\n",
              "      <th></th>\n",
              "      <th>story_id</th>\n",
              "      <th>name</th>\n",
              "      <th>story_text</th>\n",
              "    </tr>\n",
              "  </thead>\n",
              "  <tbody>\n",
              "    <tr>\n",
              "      <th>0</th>\n",
              "      <td>794</td>\n",
              "      <td>Профессия: свадебный организатор</td>\n",
              "      <td>[\"\",\"Как стать свадебным организатором\",\"Это Л...</td>\n",
              "    </tr>\n",
              "    <tr>\n",
              "      <th>1</th>\n",
              "      <td>821</td>\n",
              "      <td>Бизнес: магазин электроники</td>\n",
              "      <td>[\"\",\"Как открыть интернет-магазин электроники\"...</td>\n",
              "    </tr>\n",
              "    <tr>\n",
              "      <th>2</th>\n",
              "      <td>824</td>\n",
              "      <td>Как у них: Сингапур</td>\n",
              "      <td>[\"\",\"Жизнь в Сингапуре\",\"Это Славина. Вместе с...</td>\n",
              "    </tr>\n",
              "    <tr>\n",
              "      <th>3</th>\n",
              "      <td>839</td>\n",
              "      <td>Студии йоги</td>\n",
              "      <td>[\"\",\"Студии йоги\",\"7 московских студий, где мо...</td>\n",
              "    </tr>\n",
              "    <tr>\n",
              "      <th>4</th>\n",
              "      <td>848</td>\n",
              "      <td>Как получать больше кэшбэка</td>\n",
              "      <td>[\"\",\"Как получать больше кэшбэка\",\"Подключите ...</td>\n",
              "    </tr>\n",
              "  </tbody>\n",
              "</table>\n",
              "</div>"
            ],
            "text/plain": [
              "   story_id  ...                                         story_text\n",
              "0       794  ...  [\"\",\"Как стать свадебным организатором\",\"Это Л...\n",
              "1       821  ...  [\"\",\"Как открыть интернет-магазин электроники\"...\n",
              "2       824  ...  [\"\",\"Жизнь в Сингапуре\",\"Это Славина. Вместе с...\n",
              "3       839  ...  [\"\",\"Студии йоги\",\"7 московских студий, где мо...\n",
              "4       848  ...  [\"\",\"Как получать больше кэшбэка\",\"Подключите ...\n",
              "\n",
              "[5 rows x 3 columns]"
            ]
          },
          "metadata": {},
          "execution_count": 98
        }
      ]
    },
    {
      "cell_type": "code",
      "metadata": {
        "colab": {
          "base_uri": "https://localhost:8080/"
        },
        "id": "8jvVsVAHg3u2",
        "outputId": "591c6832-67a1-4c8c-b176-4119ba850ebe"
      },
      "source": [
        "print('Количество строк: {}, количество столбцов: {}'.format(df_story_texts.shape[0], df_story_texts.shape[1]))"
      ],
      "execution_count": null,
      "outputs": [
        {
          "output_type": "stream",
          "name": "stdout",
          "text": [
            "Количество строк: 1631, количество столбцов: 3\n"
          ]
        }
      ]
    },
    {
      "cell_type": "code",
      "metadata": {
        "colab": {
          "base_uri": "https://localhost:8080/",
          "height": 114
        },
        "id": "YYGwjFM0g3u3",
        "outputId": "1cd92161-74cb-4041-edd0-0ced83d80928"
      },
      "source": [
        "print(\"\\nКоличество пропущенных значений:\")\n",
        "df_story_texts.isna().sum().to_frame().sort_values(0, ascending = False).T"
      ],
      "execution_count": null,
      "outputs": [
        {
          "output_type": "stream",
          "name": "stdout",
          "text": [
            "\n",
            "Количество пропущенных значений:\n"
          ]
        },
        {
          "output_type": "execute_result",
          "data": {
            "text/html": [
              "<div>\n",
              "<style scoped>\n",
              "    .dataframe tbody tr th:only-of-type {\n",
              "        vertical-align: middle;\n",
              "    }\n",
              "\n",
              "    .dataframe tbody tr th {\n",
              "        vertical-align: top;\n",
              "    }\n",
              "\n",
              "    .dataframe thead th {\n",
              "        text-align: right;\n",
              "    }\n",
              "</style>\n",
              "<table border=\"1\" class=\"dataframe\">\n",
              "  <thead>\n",
              "    <tr style=\"text-align: right;\">\n",
              "      <th></th>\n",
              "      <th>name</th>\n",
              "      <th>story_id</th>\n",
              "      <th>story_text</th>\n",
              "    </tr>\n",
              "  </thead>\n",
              "  <tbody>\n",
              "    <tr>\n",
              "      <th>0</th>\n",
              "      <td>230</td>\n",
              "      <td>0</td>\n",
              "      <td>0</td>\n",
              "    </tr>\n",
              "  </tbody>\n",
              "</table>\n",
              "</div>"
            ],
            "text/plain": [
              "   name  story_id  story_text\n",
              "0   230         0           0"
            ]
          },
          "metadata": {},
          "execution_count": 100
        }
      ]
    },
    {
      "cell_type": "markdown",
      "metadata": {
        "id": "g8OMghWQg3u3"
      },
      "source": [
        "#### df_stories_logs"
      ]
    },
    {
      "cell_type": "code",
      "metadata": {
        "colab": {
          "base_uri": "https://localhost:8080/",
          "height": 204
        },
        "id": "odp-Xo5qg3u4",
        "outputId": "a80dfea2-8ac9-4ab6-ab84-ed1eb012caf3"
      },
      "source": [
        "df_stories_logs.head()"
      ],
      "execution_count": null,
      "outputs": [
        {
          "output_type": "execute_result",
          "data": {
            "text/html": [
              "<div>\n",
              "<style scoped>\n",
              "    .dataframe tbody tr th:only-of-type {\n",
              "        vertical-align: middle;\n",
              "    }\n",
              "\n",
              "    .dataframe tbody tr th {\n",
              "        vertical-align: top;\n",
              "    }\n",
              "\n",
              "    .dataframe thead th {\n",
              "        text-align: right;\n",
              "    }\n",
              "</style>\n",
              "<table border=\"1\" class=\"dataframe\">\n",
              "  <thead>\n",
              "    <tr style=\"text-align: right;\">\n",
              "      <th></th>\n",
              "      <th>party_rk</th>\n",
              "      <th>date_time</th>\n",
              "      <th>story_id</th>\n",
              "      <th>category</th>\n",
              "      <th>event</th>\n",
              "    </tr>\n",
              "  </thead>\n",
              "  <tbody>\n",
              "    <tr>\n",
              "      <th>0</th>\n",
              "      <td>64266</td>\n",
              "      <td>2019-12-01 13:05:31</td>\n",
              "      <td>3840</td>\n",
              "      <td>39</td>\n",
              "      <td>like</td>\n",
              "    </tr>\n",
              "    <tr>\n",
              "      <th>1</th>\n",
              "      <td>55721</td>\n",
              "      <td>2019-12-01 13:18:08</td>\n",
              "      <td>3857</td>\n",
              "      <td>39</td>\n",
              "      <td>like</td>\n",
              "    </tr>\n",
              "    <tr>\n",
              "      <th>2</th>\n",
              "      <td>27563</td>\n",
              "      <td>2019-12-01 13:25:40</td>\n",
              "      <td>3174</td>\n",
              "      <td>78</td>\n",
              "      <td>like</td>\n",
              "    </tr>\n",
              "    <tr>\n",
              "      <th>3</th>\n",
              "      <td>61223</td>\n",
              "      <td>2019-12-01 13:25:20</td>\n",
              "      <td>3857</td>\n",
              "      <td>39</td>\n",
              "      <td>like</td>\n",
              "    </tr>\n",
              "    <tr>\n",
              "      <th>4</th>\n",
              "      <td>61223</td>\n",
              "      <td>2019-12-01 13:29:05</td>\n",
              "      <td>3765</td>\n",
              "      <td>73</td>\n",
              "      <td>like</td>\n",
              "    </tr>\n",
              "  </tbody>\n",
              "</table>\n",
              "</div>"
            ],
            "text/plain": [
              "   party_rk            date_time  story_id  category event\n",
              "0     64266  2019-12-01 13:05:31      3840        39  like\n",
              "1     55721  2019-12-01 13:18:08      3857        39  like\n",
              "2     27563  2019-12-01 13:25:40      3174        78  like\n",
              "3     61223  2019-12-01 13:25:20      3857        39  like\n",
              "4     61223  2019-12-01 13:29:05      3765        73  like"
            ]
          },
          "metadata": {},
          "execution_count": 101
        }
      ]
    },
    {
      "cell_type": "code",
      "metadata": {
        "colab": {
          "base_uri": "https://localhost:8080/"
        },
        "id": "bWSQIbAig3u4",
        "outputId": "c3518154-8575-4a34-d930-6b91d4d2c53e"
      },
      "source": [
        "print('Количество строк: {}, количество столбцов: {}'.format(df_stories_logs.shape[0], df_stories_logs.shape[1]))"
      ],
      "execution_count": null,
      "outputs": [
        {
          "output_type": "stream",
          "name": "stdout",
          "text": [
            "Количество строк: 13820, количество столбцов: 5\n"
          ]
        }
      ]
    },
    {
      "cell_type": "code",
      "metadata": {
        "colab": {
          "base_uri": "https://localhost:8080/"
        },
        "id": "DVbeKSRxg3u5",
        "outputId": "7be431a3-640c-4cb0-fef5-ff203e1e9ed6"
      },
      "source": [
        "df_stories_logs.info()"
      ],
      "execution_count": null,
      "outputs": [
        {
          "output_type": "stream",
          "name": "stdout",
          "text": [
            "<class 'pandas.core.frame.DataFrame'>\n",
            "RangeIndex: 13820 entries, 0 to 13819\n",
            "Data columns (total 5 columns):\n",
            " #   Column     Non-Null Count  Dtype \n",
            "---  ------     --------------  ----- \n",
            " 0   party_rk   13820 non-null  int64 \n",
            " 1   date_time  13820 non-null  object\n",
            " 2   story_id   13820 non-null  int64 \n",
            " 3   category   13820 non-null  int64 \n",
            " 4   event      13820 non-null  object\n",
            "dtypes: int64(3), object(2)\n",
            "memory usage: 540.0+ KB\n"
          ]
        }
      ]
    },
    {
      "cell_type": "code",
      "metadata": {
        "id": "iqA_t7pGg3u6"
      },
      "source": [
        "df_stories_logs['date_time'] = pd.to_datetime(df_stories_logs['date_time'])"
      ],
      "execution_count": null,
      "outputs": []
    },
    {
      "cell_type": "code",
      "metadata": {
        "colab": {
          "base_uri": "https://localhost:8080/",
          "height": 855
        },
        "id": "Ml-0VvXzg3u7",
        "outputId": "f0fa93d0-0852-41af-e982-963fd113155b"
      },
      "source": [
        "df_stories_logs['event'].value_counts().reset_index()"
      ],
      "execution_count": null,
      "outputs": [
        {
          "output_type": "execute_result",
          "data": {
            "text/html": [
              "<div>\n",
              "<style scoped>\n",
              "    .dataframe tbody tr th:only-of-type {\n",
              "        vertical-align: middle;\n",
              "    }\n",
              "\n",
              "    .dataframe tbody tr th {\n",
              "        vertical-align: top;\n",
              "    }\n",
              "\n",
              "    .dataframe thead th {\n",
              "        text-align: right;\n",
              "    }\n",
              "</style>\n",
              "<table border=\"1\" class=\"dataframe\">\n",
              "  <thead>\n",
              "    <tr style=\"text-align: right;\">\n",
              "      <th></th>\n",
              "      <th>index</th>\n",
              "      <th>event</th>\n",
              "    </tr>\n",
              "  </thead>\n",
              "  <tbody>\n",
              "    <tr>\n",
              "      <th>0</th>\n",
              "      <td>like</td>\n",
              "      <td>5920</td>\n",
              "    </tr>\n",
              "    <tr>\n",
              "      <th>1</th>\n",
              "      <td>favorite</td>\n",
              "      <td>5028</td>\n",
              "    </tr>\n",
              "    <tr>\n",
              "      <th>2</th>\n",
              "      <td>dislike</td>\n",
              "      <td>763</td>\n",
              "    </tr>\n",
              "    <tr>\n",
              "      <th>3</th>\n",
              "      <td>14]</td>\n",
              "      <td>592</td>\n",
              "    </tr>\n",
              "    <tr>\n",
              "      <th>4</th>\n",
              "      <td>77]</td>\n",
              "      <td>551</td>\n",
              "    </tr>\n",
              "    <tr>\n",
              "      <th>5</th>\n",
              "      <td>153</td>\n",
              "      <td>208</td>\n",
              "    </tr>\n",
              "    <tr>\n",
              "      <th>6</th>\n",
              "      <td>180</td>\n",
              "      <td>108</td>\n",
              "    </tr>\n",
              "    <tr>\n",
              "      <th>7</th>\n",
              "      <td>177</td>\n",
              "      <td>99</td>\n",
              "    </tr>\n",
              "    <tr>\n",
              "      <th>8</th>\n",
              "      <td>176</td>\n",
              "      <td>72</td>\n",
              "    </tr>\n",
              "    <tr>\n",
              "      <th>9</th>\n",
              "      <td>54]</td>\n",
              "      <td>54</td>\n",
              "    </tr>\n",
              "    <tr>\n",
              "      <th>10</th>\n",
              "      <td>19]</td>\n",
              "      <td>53</td>\n",
              "    </tr>\n",
              "    <tr>\n",
              "      <th>11</th>\n",
              "      <td>174</td>\n",
              "      <td>49</td>\n",
              "    </tr>\n",
              "    <tr>\n",
              "      <th>12</th>\n",
              "      <td>164</td>\n",
              "      <td>48</td>\n",
              "    </tr>\n",
              "    <tr>\n",
              "      <th>13</th>\n",
              "      <td>175</td>\n",
              "      <td>48</td>\n",
              "    </tr>\n",
              "    <tr>\n",
              "      <th>14</th>\n",
              "      <td>48</td>\n",
              "      <td>45</td>\n",
              "    </tr>\n",
              "    <tr>\n",
              "      <th>15</th>\n",
              "      <td>160</td>\n",
              "      <td>38</td>\n",
              "    </tr>\n",
              "    <tr>\n",
              "      <th>16</th>\n",
              "      <td>163</td>\n",
              "      <td>33</td>\n",
              "    </tr>\n",
              "    <tr>\n",
              "      <th>17</th>\n",
              "      <td>161</td>\n",
              "      <td>31</td>\n",
              "    </tr>\n",
              "    <tr>\n",
              "      <th>18</th>\n",
              "      <td>170</td>\n",
              "      <td>25</td>\n",
              "    </tr>\n",
              "    <tr>\n",
              "      <th>19</th>\n",
              "      <td>159</td>\n",
              "      <td>18</td>\n",
              "    </tr>\n",
              "    <tr>\n",
              "      <th>20</th>\n",
              "      <td>101]</td>\n",
              "      <td>14</td>\n",
              "    </tr>\n",
              "    <tr>\n",
              "      <th>21</th>\n",
              "      <td>182</td>\n",
              "      <td>9</td>\n",
              "    </tr>\n",
              "    <tr>\n",
              "      <th>22</th>\n",
              "      <td>76</td>\n",
              "      <td>6</td>\n",
              "    </tr>\n",
              "    <tr>\n",
              "      <th>23</th>\n",
              "      <td>102]</td>\n",
              "      <td>5</td>\n",
              "    </tr>\n",
              "    <tr>\n",
              "      <th>24</th>\n",
              "      <td>55]</td>\n",
              "      <td>2</td>\n",
              "    </tr>\n",
              "    <tr>\n",
              "      <th>25</th>\n",
              "      <td>173</td>\n",
              "      <td>1</td>\n",
              "    </tr>\n",
              "  </tbody>\n",
              "</table>\n",
              "</div>"
            ],
            "text/plain": [
              "       index  event\n",
              "0       like   5920\n",
              "1   favorite   5028\n",
              "2    dislike    763\n",
              "3        14]    592\n",
              "4        77]    551\n",
              "5        153    208\n",
              "6        180    108\n",
              "7        177     99\n",
              "8        176     72\n",
              "9        54]     54\n",
              "10       19]     53\n",
              "11       174     49\n",
              "12       164     48\n",
              "13       175     48\n",
              "14        48     45\n",
              "15       160     38\n",
              "16       163     33\n",
              "17       161     31\n",
              "18       170     25\n",
              "19       159     18\n",
              "20      101]     14\n",
              "21       182      9\n",
              "22        76      6\n",
              "23      102]      5\n",
              "24       55]      2\n",
              "25       173      1"
            ]
          },
          "metadata": {},
          "execution_count": 105
        }
      ]
    },
    {
      "cell_type": "markdown",
      "metadata": {
        "id": "KpF0cGVLg3u7"
      },
      "source": [
        "Удалим строки с непонятными значениями. "
      ]
    },
    {
      "cell_type": "code",
      "metadata": {
        "id": "PaThRyi-g3u7"
      },
      "source": [
        "df_stories_logs = df_stories_logs[(df_stories_logs['event'] == 'like') | (df_stories_logs['event'] =='dislike') | (df_stories_logs['event'] =='favorite')] "
      ],
      "execution_count": null,
      "outputs": []
    },
    {
      "cell_type": "code",
      "metadata": {
        "colab": {
          "base_uri": "https://localhost:8080/",
          "height": 114
        },
        "id": "VWEpt8cog3u8",
        "outputId": "7a6f2671-4dbd-4413-fb08-01d483945120"
      },
      "source": [
        "print(\"\\nКоличество пропущенных значений:\")\n",
        "df_stories_logs.isna().sum().to_frame().sort_values(0, ascending = False).T"
      ],
      "execution_count": null,
      "outputs": [
        {
          "output_type": "stream",
          "name": "stdout",
          "text": [
            "\n",
            "Количество пропущенных значений:\n"
          ]
        },
        {
          "output_type": "execute_result",
          "data": {
            "text/html": [
              "<div>\n",
              "<style scoped>\n",
              "    .dataframe tbody tr th:only-of-type {\n",
              "        vertical-align: middle;\n",
              "    }\n",
              "\n",
              "    .dataframe tbody tr th {\n",
              "        vertical-align: top;\n",
              "    }\n",
              "\n",
              "    .dataframe thead th {\n",
              "        text-align: right;\n",
              "    }\n",
              "</style>\n",
              "<table border=\"1\" class=\"dataframe\">\n",
              "  <thead>\n",
              "    <tr style=\"text-align: right;\">\n",
              "      <th></th>\n",
              "      <th>party_rk</th>\n",
              "      <th>date_time</th>\n",
              "      <th>story_id</th>\n",
              "      <th>category</th>\n",
              "      <th>event</th>\n",
              "    </tr>\n",
              "  </thead>\n",
              "  <tbody>\n",
              "    <tr>\n",
              "      <th>0</th>\n",
              "      <td>0</td>\n",
              "      <td>0</td>\n",
              "      <td>0</td>\n",
              "      <td>0</td>\n",
              "      <td>0</td>\n",
              "    </tr>\n",
              "  </tbody>\n",
              "</table>\n",
              "</div>"
            ],
            "text/plain": [
              "   party_rk  date_time  story_id  category  event\n",
              "0         0          0         0         0      0"
            ]
          },
          "metadata": {},
          "execution_count": 107
        }
      ]
    },
    {
      "cell_type": "code",
      "metadata": {
        "id": "OHrnCFrcrn4n"
      },
      "source": [
        "# event - ктегориальный признак, переведем его в тип int\n",
        "from sklearn import preprocessing\n",
        "le = preprocessing.LabelEncoder()\n",
        "le.fit(df_stories_logs['event'])\n",
        "df_stories_logs['event'] = le.transform(df_stories_logs['event'])"
      ],
      "execution_count": null,
      "outputs": []
    },
    {
      "cell_type": "code",
      "metadata": {
        "colab": {
          "base_uri": "https://localhost:8080/"
        },
        "id": "Oe5Df-AHqnd-",
        "outputId": "92da045e-a4d7-4c18-ddbf-7591979e339a"
      },
      "source": [
        "df_stories_logs.info()"
      ],
      "execution_count": null,
      "outputs": [
        {
          "output_type": "stream",
          "name": "stdout",
          "text": [
            "<class 'pandas.core.frame.DataFrame'>\n",
            "Int64Index: 11711 entries, 0 to 13819\n",
            "Data columns (total 5 columns):\n",
            " #   Column     Non-Null Count  Dtype         \n",
            "---  ------     --------------  -----         \n",
            " 0   party_rk   11711 non-null  int64         \n",
            " 1   date_time  11711 non-null  datetime64[ns]\n",
            " 2   story_id   11711 non-null  int64         \n",
            " 3   category   11711 non-null  int64         \n",
            " 4   event      11711 non-null  int64         \n",
            "dtypes: datetime64[ns](1), int64(4)\n",
            "memory usage: 549.0 KB\n"
          ]
        }
      ]
    },
    {
      "cell_type": "code",
      "metadata": {
        "colab": {
          "base_uri": "https://localhost:8080/",
          "height": 204
        },
        "id": "n8ObGM1sstJe",
        "outputId": "78bf1496-9fd8-433f-aeea-3311c4b81c68"
      },
      "source": [
        "df_stories_logs.head()"
      ],
      "execution_count": null,
      "outputs": [
        {
          "output_type": "execute_result",
          "data": {
            "text/html": [
              "<div>\n",
              "<style scoped>\n",
              "    .dataframe tbody tr th:only-of-type {\n",
              "        vertical-align: middle;\n",
              "    }\n",
              "\n",
              "    .dataframe tbody tr th {\n",
              "        vertical-align: top;\n",
              "    }\n",
              "\n",
              "    .dataframe thead th {\n",
              "        text-align: right;\n",
              "    }\n",
              "</style>\n",
              "<table border=\"1\" class=\"dataframe\">\n",
              "  <thead>\n",
              "    <tr style=\"text-align: right;\">\n",
              "      <th></th>\n",
              "      <th>party_rk</th>\n",
              "      <th>date_time</th>\n",
              "      <th>story_id</th>\n",
              "      <th>category</th>\n",
              "      <th>event</th>\n",
              "    </tr>\n",
              "  </thead>\n",
              "  <tbody>\n",
              "    <tr>\n",
              "      <th>0</th>\n",
              "      <td>64266</td>\n",
              "      <td>2019-12-01 13:05:31</td>\n",
              "      <td>3840</td>\n",
              "      <td>39</td>\n",
              "      <td>2</td>\n",
              "    </tr>\n",
              "    <tr>\n",
              "      <th>1</th>\n",
              "      <td>55721</td>\n",
              "      <td>2019-12-01 13:18:08</td>\n",
              "      <td>3857</td>\n",
              "      <td>39</td>\n",
              "      <td>2</td>\n",
              "    </tr>\n",
              "    <tr>\n",
              "      <th>2</th>\n",
              "      <td>27563</td>\n",
              "      <td>2019-12-01 13:25:40</td>\n",
              "      <td>3174</td>\n",
              "      <td>78</td>\n",
              "      <td>2</td>\n",
              "    </tr>\n",
              "    <tr>\n",
              "      <th>3</th>\n",
              "      <td>61223</td>\n",
              "      <td>2019-12-01 13:25:20</td>\n",
              "      <td>3857</td>\n",
              "      <td>39</td>\n",
              "      <td>2</td>\n",
              "    </tr>\n",
              "    <tr>\n",
              "      <th>4</th>\n",
              "      <td>61223</td>\n",
              "      <td>2019-12-01 13:29:05</td>\n",
              "      <td>3765</td>\n",
              "      <td>73</td>\n",
              "      <td>2</td>\n",
              "    </tr>\n",
              "  </tbody>\n",
              "</table>\n",
              "</div>"
            ],
            "text/plain": [
              "   party_rk           date_time  story_id  category  event\n",
              "0     64266 2019-12-01 13:05:31      3840        39      2\n",
              "1     55721 2019-12-01 13:18:08      3857        39      2\n",
              "2     27563 2019-12-01 13:25:40      3174        78      2\n",
              "3     61223 2019-12-01 13:25:20      3857        39      2\n",
              "4     61223 2019-12-01 13:29:05      3765        73      2"
            ]
          },
          "metadata": {},
          "execution_count": 110
        }
      ]
    },
    {
      "cell_type": "code",
      "metadata": {
        "colab": {
          "base_uri": "https://localhost:8080/"
        },
        "id": "4rCUqs0JszLv",
        "outputId": "407b6f18-28b1-40ef-8249-715f25d1060f"
      },
      "source": [
        "df_stories_logs['event'].unique()"
      ],
      "execution_count": null,
      "outputs": [
        {
          "output_type": "execute_result",
          "data": {
            "text/plain": [
              "array([2, 1, 0])"
            ]
          },
          "metadata": {},
          "execution_count": 111
        }
      ]
    },
    {
      "cell_type": "markdown",
      "metadata": {
        "id": "JYYoLCqig3u8"
      },
      "source": [
        "#### df_products"
      ]
    },
    {
      "cell_type": "code",
      "metadata": {
        "colab": {
          "base_uri": "https://localhost:8080/",
          "height": 204
        },
        "id": "izbakO8Ig3u8",
        "outputId": "c51bd6ea-2659-40a3-a6c7-90e7f1e227b0"
      },
      "source": [
        "df_products.head()"
      ],
      "execution_count": null,
      "outputs": [
        {
          "output_type": "execute_result",
          "data": {
            "text/html": [
              "<div>\n",
              "<style scoped>\n",
              "    .dataframe tbody tr th:only-of-type {\n",
              "        vertical-align: middle;\n",
              "    }\n",
              "\n",
              "    .dataframe tbody tr th {\n",
              "        vertical-align: top;\n",
              "    }\n",
              "\n",
              "    .dataframe thead th {\n",
              "        text-align: right;\n",
              "    }\n",
              "</style>\n",
              "<table border=\"1\" class=\"dataframe\">\n",
              "  <thead>\n",
              "    <tr style=\"text-align: right;\">\n",
              "      <th></th>\n",
              "      <th>party_rk</th>\n",
              "      <th>product1</th>\n",
              "      <th>product2</th>\n",
              "      <th>product3</th>\n",
              "      <th>product4</th>\n",
              "      <th>product5</th>\n",
              "      <th>product6</th>\n",
              "      <th>product7</th>\n",
              "    </tr>\n",
              "  </thead>\n",
              "  <tbody>\n",
              "    <tr>\n",
              "      <th>0</th>\n",
              "      <td>74874</td>\n",
              "      <td>1</td>\n",
              "      <td>1</td>\n",
              "      <td>0</td>\n",
              "      <td>0</td>\n",
              "      <td>0</td>\n",
              "      <td>0</td>\n",
              "      <td>0</td>\n",
              "    </tr>\n",
              "    <tr>\n",
              "      <th>1</th>\n",
              "      <td>83618</td>\n",
              "      <td>0</td>\n",
              "      <td>0</td>\n",
              "      <td>1</td>\n",
              "      <td>1</td>\n",
              "      <td>1</td>\n",
              "      <td>0</td>\n",
              "      <td>0</td>\n",
              "    </tr>\n",
              "    <tr>\n",
              "      <th>2</th>\n",
              "      <td>73766</td>\n",
              "      <td>0</td>\n",
              "      <td>0</td>\n",
              "      <td>0</td>\n",
              "      <td>1</td>\n",
              "      <td>1</td>\n",
              "      <td>0</td>\n",
              "      <td>0</td>\n",
              "    </tr>\n",
              "    <tr>\n",
              "      <th>3</th>\n",
              "      <td>60218</td>\n",
              "      <td>0</td>\n",
              "      <td>1</td>\n",
              "      <td>0</td>\n",
              "      <td>0</td>\n",
              "      <td>0</td>\n",
              "      <td>0</td>\n",
              "      <td>0</td>\n",
              "    </tr>\n",
              "    <tr>\n",
              "      <th>4</th>\n",
              "      <td>47253</td>\n",
              "      <td>0</td>\n",
              "      <td>0</td>\n",
              "      <td>0</td>\n",
              "      <td>1</td>\n",
              "      <td>1</td>\n",
              "      <td>0</td>\n",
              "      <td>0</td>\n",
              "    </tr>\n",
              "  </tbody>\n",
              "</table>\n",
              "</div>"
            ],
            "text/plain": [
              "   party_rk  product1  product2  ...  product5  product6  product7\n",
              "0     74874         1         1  ...         0         0         0\n",
              "1     83618         0         0  ...         1         0         0\n",
              "2     73766         0         0  ...         1         0         0\n",
              "3     60218         0         1  ...         0         0         0\n",
              "4     47253         0         0  ...         1         0         0\n",
              "\n",
              "[5 rows x 8 columns]"
            ]
          },
          "metadata": {},
          "execution_count": 112
        }
      ]
    },
    {
      "cell_type": "code",
      "metadata": {
        "colab": {
          "base_uri": "https://localhost:8080/"
        },
        "id": "Ql07VqkEg3u9",
        "outputId": "c677e1c3-7a31-42e3-a049-5270cec73e10"
      },
      "source": [
        "print('Количество строк: {}, количество столбцов: {}'.format(df_products.shape[0], df_products.shape[1]))"
      ],
      "execution_count": null,
      "outputs": [
        {
          "output_type": "stream",
          "name": "stdout",
          "text": [
            "Количество строк: 50000, количество столбцов: 8\n"
          ]
        }
      ]
    },
    {
      "cell_type": "code",
      "metadata": {
        "colab": {
          "base_uri": "https://localhost:8080/"
        },
        "id": "gaLPGS5Wg3u9",
        "outputId": "51214521-b8a5-46f1-b963-4654f599b461"
      },
      "source": [
        "df_products.info()"
      ],
      "execution_count": null,
      "outputs": [
        {
          "output_type": "stream",
          "name": "stdout",
          "text": [
            "<class 'pandas.core.frame.DataFrame'>\n",
            "RangeIndex: 50000 entries, 0 to 49999\n",
            "Data columns (total 8 columns):\n",
            " #   Column    Non-Null Count  Dtype\n",
            "---  ------    --------------  -----\n",
            " 0   party_rk  50000 non-null  int64\n",
            " 1   product1  50000 non-null  int64\n",
            " 2   product2  50000 non-null  int64\n",
            " 3   product3  50000 non-null  int64\n",
            " 4   product4  50000 non-null  int64\n",
            " 5   product5  50000 non-null  int64\n",
            " 6   product6  50000 non-null  int64\n",
            " 7   product7  50000 non-null  int64\n",
            "dtypes: int64(8)\n",
            "memory usage: 3.1 MB\n"
          ]
        }
      ]
    },
    {
      "cell_type": "code",
      "metadata": {
        "colab": {
          "base_uri": "https://localhost:8080/",
          "height": 114
        },
        "id": "J-d3coH7g3u-",
        "outputId": "64557651-d185-4336-8489-622b14ba5bff"
      },
      "source": [
        "print(\"\\nКоличество пропущенных значений:\")\n",
        "df_products.isna().sum().to_frame().sort_values(0, ascending = False).T"
      ],
      "execution_count": null,
      "outputs": [
        {
          "output_type": "stream",
          "name": "stdout",
          "text": [
            "\n",
            "Количество пропущенных значений:\n"
          ]
        },
        {
          "output_type": "execute_result",
          "data": {
            "text/html": [
              "<div>\n",
              "<style scoped>\n",
              "    .dataframe tbody tr th:only-of-type {\n",
              "        vertical-align: middle;\n",
              "    }\n",
              "\n",
              "    .dataframe tbody tr th {\n",
              "        vertical-align: top;\n",
              "    }\n",
              "\n",
              "    .dataframe thead th {\n",
              "        text-align: right;\n",
              "    }\n",
              "</style>\n",
              "<table border=\"1\" class=\"dataframe\">\n",
              "  <thead>\n",
              "    <tr style=\"text-align: right;\">\n",
              "      <th></th>\n",
              "      <th>party_rk</th>\n",
              "      <th>product1</th>\n",
              "      <th>product2</th>\n",
              "      <th>product3</th>\n",
              "      <th>product4</th>\n",
              "      <th>product5</th>\n",
              "      <th>product6</th>\n",
              "      <th>product7</th>\n",
              "    </tr>\n",
              "  </thead>\n",
              "  <tbody>\n",
              "    <tr>\n",
              "      <th>0</th>\n",
              "      <td>0</td>\n",
              "      <td>0</td>\n",
              "      <td>0</td>\n",
              "      <td>0</td>\n",
              "      <td>0</td>\n",
              "      <td>0</td>\n",
              "      <td>0</td>\n",
              "      <td>0</td>\n",
              "    </tr>\n",
              "  </tbody>\n",
              "</table>\n",
              "</div>"
            ],
            "text/plain": [
              "   party_rk  product1  product2  ...  product5  product6  product7\n",
              "0         0         0         0  ...         0         0         0\n",
              "\n",
              "[1 rows x 8 columns]"
            ]
          },
          "metadata": {},
          "execution_count": 115
        }
      ]
    },
    {
      "cell_type": "markdown",
      "metadata": {
        "id": "EGp-9dhzg3u-"
      },
      "source": [
        "## Соединяем все таблицы в одну <a class=\"anchor\" id=\"ch3\"></a>"
      ]
    },
    {
      "cell_type": "code",
      "metadata": {
        "id": "n57euYbNg3u-"
      },
      "source": [
        "# HardCoded creation of dates [first date in every month of 2019]\n",
        "unique_dates = np.array(['2019-01-01T00:00:00.000000000', '2019-02-01T00:00:00.000000000',\n",
        "       '2019-03-01T00:00:00.000000000', '2019-04-01T00:00:00.000000000',\n",
        "       '2019-05-01T00:00:00.000000000', '2019-06-01T00:00:00.000000000',\n",
        "       '2019-07-01T00:00:00.000000000', '2019-08-01T00:00:00.000000000',\n",
        "       '2019-09-01T00:00:00.000000000', '2019-10-01T00:00:00.000000000',\n",
        "       '2019-11-01T00:00:00.000000000', '2019-12-01T00:00:00.000000000'],\n",
        "      dtype='datetime64[ns]')\n",
        "\n",
        "# Constructing DataFrame of every possible combination tripplet (month,category,human)\n",
        "# through Cartesian product [dates * categories * people_id] \n",
        "# There should be 12*37*50000 = 22 200 000 of such triplets\n",
        "\n",
        "u_dat = pd.DataFrame(unique_dates, columns=['transaction_dttm'])\n",
        "u_cat= pd.DataFrame(df_train.category.unique(), columns=['category'] )\n",
        "u_id = pd.DataFrame(df_train.party_rk.unique(), columns=['party_rk'] )\n",
        "\n",
        "u_dat['key'] = 1\n",
        "u_cat['key'] = 1\n",
        "u_id['key'] = 1\n",
        "\n",
        "df_train2 = pd.merge(u_id, \n",
        "                  pd.merge(u_dat, u_cat, on ='key')).drop(\"key\", 1)\n",
        "\n",
        "# Added zero column for further easy concatation \n",
        "df_train2['transaction_amt_rur'] = 0\n",
        "df_train2.info()"
      ],
      "execution_count": null,
      "outputs": []
    },
    {
      "cell_type": "code",
      "metadata": {
        "colab": {
          "base_uri": "https://localhost:8080/"
        },
        "id": "lT1KL9aDg3u_",
        "outputId": "11338638-9b5b-4361-acaa-99d2d3a9142f"
      },
      "source": [
        "# Creating minimal sized DataFrame with columns = (transaction_dttm, human_id, category, price)\n",
        "# Every month for every human should have all 37 categories\n",
        "\n",
        "# This implemetation adds 0 expenditure for every month beginning to the main training DataFrame\n",
        "df_main = df_train[['transaction_dttm', 'party_rk', 'category', 'transaction_amt_rur']]\n",
        "df_main = pd.concat([df_main,df_train2])\n",
        "df_main.info()"
      ],
      "execution_count": null,
      "outputs": [
        {
          "output_type": "stream",
          "name": "stderr",
          "text": [
            "/usr/local/lib/python3.7/dist-packages/pandas/core/generic.py:5170: SettingWithCopyWarning: \n",
            "A value is trying to be set on a copy of a slice from a DataFrame.\n",
            "Try using .loc[row_indexer,col_indexer] = value instead\n",
            "\n",
            "See the caveats in the documentation: https://pandas.pydata.org/pandas-docs/stable/user_guide/indexing.html#returning-a-view-versus-a-copy\n",
            "  self[name] = value\n"
          ]
        }
      ]
    },
    {
      "cell_type": "code",
      "metadata": {
        "id": "63Gi79bRg3u_"
      },
      "source": [
        "df_main_sort = df_main.sort_values(by=['transaction_dttm','party_rk'])\n",
        "df_main_sort.head(100)"
      ],
      "execution_count": null,
      "outputs": []
    },
    {
      "cell_type": "code",
      "metadata": {
        "id": "VXKzBPBfg3vA"
      },
      "source": [
        "df_socdem_train = df_main_sort.merge(df_socdem, on = 'party_rk', how = 'left')"
      ],
      "execution_count": null,
      "outputs": []
    },
    {
      "cell_type": "code",
      "metadata": {
        "id": "2Uzn5yHjg3vA"
      },
      "source": [
        "df_socdem_train_bal = df_socdem_train.merge(df_balance, on = 'party_rk', how = 'left')"
      ],
      "execution_count": null,
      "outputs": []
    },
    {
      "cell_type": "code",
      "metadata": {
        "id": "0zhlkLtgg3vA"
      },
      "source": [
        "df_temp = df_socdem_train_bal.merge(df_products, on = 'party_rk', how = 'left')"
      ],
      "execution_count": null,
      "outputs": []
    },
    {
      "cell_type": "code",
      "metadata": {
        "id": "0F3WGWKvg3vA"
      },
      "source": [
        "df_temp1 = df_temp.merge(df_stories_logs,on = 'party_rk', how = 'left')"
      ],
      "execution_count": null,
      "outputs": []
    },
    {
      "cell_type": "code",
      "metadata": {
        "id": "qQuv4hN9g3vB"
      },
      "source": [
        "df_final = df_temp1.merge(story_texts, on = 'story_id', how = 'left')"
      ],
      "execution_count": null,
      "outputs": []
    },
    {
      "cell_type": "markdown",
      "metadata": {
        "id": "-83stBOuSwXm"
      },
      "source": [
        "Альтернативно можно намного быстрее так выполнить left join\n"
      ]
    },
    {
      "cell_type": "code",
      "metadata": {
        "id": "BHIpqcLCSs-Y"
      },
      "source": [
        "df_socdem_train = pd.concat(\n",
        "    [\n",
        "     df_main_sort                                      .reset_index(drop=True), \n",
        "     df_socdem.reindex(df_main_sort['party_rk'].values).reset_index(drop=True)\n",
        "     ], \n",
        "     axis=1)"
      ],
      "execution_count": null,
      "outputs": []
    },
    {
      "cell_type": "markdown",
      "metadata": {
        "id": "J3pVxuuKg3vB"
      },
      "source": [
        "## Визуализация данных  <a class=\"anchor\" id=\"ch4\"></a>"
      ]
    },
    {
      "cell_type": "code",
      "metadata": {
        "id": "_zTpdlTwg3vB"
      },
      "source": [
        "df_cluster = pd.merge(df_train, df_socdem)"
      ],
      "execution_count": null,
      "outputs": []
    },
    {
      "cell_type": "code",
      "metadata": {
        "id": "Rp27iiHqg3vB"
      },
      "source": [
        "df_category_trans = df_cluster.groupby(\"category\")['transaction_amt_rur'].sum().reset_index().sort_values(by = 'transaction_amt_rur', ascending = False)"
      ],
      "execution_count": null,
      "outputs": []
    },
    {
      "cell_type": "code",
      "metadata": {
        "id": "Z68djSryg3vB"
      },
      "source": [
        "plt.figure(figsize=(10,7))\n",
        "sns.barplot(x=\"transaction_amt_rur\", y=\"category\", data=df_category_trans, orient = 'h');"
      ],
      "execution_count": null,
      "outputs": []
    },
    {
      "cell_type": "code",
      "metadata": {
        "id": "L1sx1bKog3vC"
      },
      "source": [
        "df_distr = pd.pivot_table(data = df_cluster[['age', 'transaction_amt_rur', 'children_cnt', 'gender_cd', 'category']], index = ['gender_cd', 'category'])"
      ],
      "execution_count": null,
      "outputs": []
    },
    {
      "cell_type": "code",
      "metadata": {
        "id": "it1dKhc1g3vC"
      },
      "source": [
        "df_distr = df_distr.reset_index()"
      ],
      "execution_count": null,
      "outputs": []
    },
    {
      "cell_type": "code",
      "metadata": {
        "id": "f0OGEmsrg3vC"
      },
      "source": [
        "plt.figure(figsize=(16,10))\n",
        "sns.lineplot(data= df_distr, x=df_distr['category'], y=df_distr['transaction_amt_rur'], hue=df_distr['gender_cd'])\n",
        "plt.xticks(rotation=90);"
      ],
      "execution_count": null,
      "outputs": []
    }
  ]
}