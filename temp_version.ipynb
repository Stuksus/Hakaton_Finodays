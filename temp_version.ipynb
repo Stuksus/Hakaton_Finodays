{
 "cells": [
  {
   "cell_type": "markdown",
   "metadata": {
    "id": "OvJVGL3ag3uc"
   },
   "source": [
    "# Хакатоним ФинТех"
   ]
  },
  {
   "cell_type": "markdown",
   "metadata": {
    "id": "Gjlkz_OGg3uf"
   },
   "source": [
    "## Содержание"
   ]
  },
  {
   "cell_type": "markdown",
   "metadata": {
    "id": "OAwgf9yDg3ug"
   },
   "source": [
    "- [Загрузка библиотек](#ch1)\n",
    "- [Сбор и анализ данных](#ch2)\n",
    "    - [Загрузка данных](#ch21)\n",
    "    - [Анализ тренировочной выборки](#ch22)\n",
    "      - [df_train](#ch221)\n",
    "          - [Первичный анализ](#ch2211)\n",
    "          - [Приведение категориальных признаков к числовому виду](#ch2212)\n",
    "          - [Заполнение пропусков](#ch2213)\n",
    "      - [df_socdem](#ch222)\n",
    "          - [Первичный анализ](#ch2221)\n",
    "          - [Приведение категориальных признаков к числовому виду](#ch2222)\n",
    "          - [Заполнение пропусков](#ch2223)\n",
    "      - [df_balance](#ch223)\n",
    "          - [Первичный анализ](#ch2231)\n",
    "          - [Заполнение пропусков](#ch2233)\n",
    "      - [df_stories_texts](#ch224)\n",
    "          - [Первичный анализ](#ch2241)\n",
    "          - [Заполнение пропусков](#ch2243)\n",
    "      - [df_stories_logs](#ch225)\n",
    "          - [Первичный анализ](#ch2251)\n",
    "          - [Приведение категориальных признаков к числовому виду](#ch2252)\n",
    "          - [Заполнение пропусков](#ch2253)\n",
    "      - [df_products](#ch226)\n",
    "          - [Первичный анализ](#ch2261)\n",
    "          - [Заполнение пропусков](#ch2263)\n",
    "- [Feature Engineering](#ch9)\n",
    "    - [Признак №1](#ch91)\n",
    "    - [Признак №2](#ch92)\n",
    "    - [Признак №3](#ch93)\n",
    "    - [Признак №4](#ch94)\n",
    "    - [Признак №5](#ch95)\n",
    "    - [Признак №6](#ch96)\n",
    "    - [Признак №7](#ch97)\n",
    "    - [Признак №8](#ch98)\n",
    "- [Создание единой таблицы](#ch3)\n",
    "- [Визуализация данных КАМРОН](#ch4)\n",
    "- [Стандартизация признаков](#ch7)\n",
    "- [Кластеризация АЛИНА](#ch10)\n",
    "- [Выбор бизнес-метрики](#ch11)\n",
    "- [Метрики задач машинного обучения, соответствующие цели задачи](#ch12)\n",
    "- [Предсказательная модель](#ch13)\n",
    "    - [Multi-output regressor](#ch131)\n",
    "- [Тестирование модели на тестовых данных](#ch15)\n",
    "- [Возможные улучшения](#ch15)\n",
    "- [Вывод](#ch16)"
   ]
  },
  {
   "cell_type": "markdown",
   "metadata": {
    "id": "QTBGcfcLg3uh"
   },
   "source": [
    "## Загрузка библиотек  <a class=\"anchor\" id=\"ch1\"></a>"
   ]
  },
  {
   "cell_type": "code",
   "execution_count": 6,
   "metadata": {
    "colab": {
     "base_uri": "https://localhost:8080/",
     "height": 1000
    },
    "id": "lF7-u57uRS_B",
    "outputId": "c01de879-fa8a-4f35-c761-280ccc019035",
    "scrolled": true
   },
   "outputs": [],
   "source": [
    "# !pip install pingouin"
   ]
  },
  {
   "cell_type": "code",
   "execution_count": 62,
   "metadata": {
    "id": "xe0BwrpMg3uh"
   },
   "outputs": [],
   "source": [
    "# загрузка библиотек\n",
    "from IPython import display\n",
    "import pandas as pd\n",
    "import numpy as np\n",
    "import matplotlib.pyplot as plt\n",
    "import seaborn as sns\n",
    "import pingouin as pg\n",
    "import datetime\n",
    "from sklearn import preprocessing\n",
    "import statistics\n",
    "from tqdm import tqdm\n",
    "pd.set_option('display.max_rows', 500)\n",
    "sns.set_theme(style=\"whitegrid\")\n",
    "import warnings\n",
    "from pandas.core.common import SettingWithCopyWarning\n",
    "warnings.simplefilter(action=\"ignore\", category=SettingWithCopyWarning)\n",
    "warnings.simplefilter(action=\"ignore\", category=FutureWarning)"
   ]
  },
  {
   "cell_type": "markdown",
   "metadata": {
    "id": "-wyudLjxg3ui"
   },
   "source": [
    "## Сбор и анализ данных  <a class=\"anchor\" id=\"ch2\"></a>"
   ]
  },
  {
   "cell_type": "markdown",
   "metadata": {
    "id": "fi1Kc1OZjQNR"
   },
   "source": [
    "### Загрузка данных  <a class=\"anchor\" id=\"ch21\"></a>"
   ]
  },
  {
   "cell_type": "code",
   "execution_count": 3,
   "metadata": {
    "id": "lS8E3Cw-hxak",
    "scrolled": false
   },
   "outputs": [],
   "source": [
    "!wget  -O 'avk_hackathon_data_story_texts.csv' -q 'https://www.dropbox.com/s/ki8zzf51uxtn39h/avk_hackathon_data_story_texts.csv?dl=0'\n",
    "!wget  -O 'avk_hackathon_data_party_x_socdem.csv' -q 'https://www.dropbox.com/s/cjlo1edjbnxvp88/avk_hackathon_data_party_x_socdem.csv?dl=0'\n",
    "!wget  -O 'avk_hackathon_data_party_products.csv' -q 'https://www.dropbox.com/s/vb8fe4yhshd401y/avk_hackathon_data_party_products.csv?dl=0'\n",
    "!wget  -O 'avk_hackathon_data_account_x_balance.csv' -q 'https://www.dropbox.com/s/i94cotxyti8y7ir/avk_hackathon_data_account_x_balance.csv?dl=0'\n",
    "!wget  -O 'avk_hackathon_data_train_transactions.csv' -q 'https://www.dropbox.com/s/ui8x3dtpjht3560/avk_hackathon_data_train_transactions.csv?dl=0'\n",
    "!wget  -O 'avk_hackathon_data_story_logs.csv' -q 'https://www.dropbox.com/s/8oexjpfpn8nqrnn/avk_hackathon_data_story_logs.csv?dl=0'\n",
    "!wget  -O 'avk_hackathon_data_test_transactions.csv' -q 'https://www.dropbox.com/s/97ik1n6y3osrxug/avk_hackathon_data_test_transactions.csv?dl=0'"
   ]
  },
  {
   "cell_type": "code",
   "execution_count": 83,
   "metadata": {
    "id": "0gzh2YI0ihEl"
   },
   "outputs": [],
   "source": [
    "df_test = pd.read_csv('/Users/user/Downloads/tinkoff_hackathon_data/avk_hackathon_data_test_transactions.csv', encoding='utf-8')\n",
    "df_story_texts= pd.read_csv('/Users/user/Downloads/tinkoff_hackathon_data/avk_hackathon_data_story_texts.csv')\n",
    "df_socdem = pd.read_csv('/Users/user/Downloads/tinkoff_hackathon_data/avk_hackathon_data_party_x_socdem.csv')\n",
    "df_products = pd.read_csv('/Users/user/Downloads/tinkoff_hackathon_data/avk_hackathon_data_party_products.csv')\n",
    "df_balance = pd.read_csv('/Users/user/Downloads/tinkoff_hackathon_data/avk_hackathon_data_account_x_balance.csv')\n",
    "df_train = pd.read_csv('/Users/user/Downloads/tinkoff_hackathon_data/avk_hackathon_data_train_transactions.csv')\n",
    "df_stories_logs = pd.read_csv('/Users/user/Downloads/tinkoff_hackathon_data/avk_hackathon_data_story_logs.csv')"
   ]
  },
  {
   "cell_type": "markdown",
   "metadata": {
    "id": "ehP0xst3g3uk"
   },
   "source": [
    "### Анализ тренировочной выборки  <a class=\"anchor\" id=\"ch22\"></a>"
   ]
  },
  {
   "cell_type": "markdown",
   "metadata": {
    "id": "-4eX5_e4g3uk"
   },
   "source": [
    "### df_train <a class=\"anchor\" id=\"ch221\"></a>"
   ]
  },
  {
   "cell_type": "markdown",
   "metadata": {
    "id": "mtKaweP0jQNS"
   },
   "source": [
    "В данной таблице содержится информация о совершенных пользователями транзакциях, где\n",
    "<ul>\n",
    "<li><strong>party_rk</strong> - уникальный идентификационный номер клиента</li> \n",
    "<li><strong>account_rk</strong> - уникальный идентификационный номер счета</li>\n",
    "<li><strong>financial_account_type_cd</strong> - тип карты (дебетовая/кредитовая)</li>\n",
    "<li><strong>transaction_dttm</strong> - день совершения операции в формате ГГГГ-ММ-ДД</li>\n",
    "<li><strong>transaction_amt_rur</strong> - сумма транзакции в рублях</li>\n",
    "<li><strong>merchant_rk\t</strong> - идентификационный номер мерчант-аккаунта (оборудования для приема платежей)</li>  \n",
    "<li><strong>merchant_type</strong> - идентификационный номер типа мерчанта</li> \n",
    "<li><strong>merchant_group_rk</strong> - идентификационный номер мерчант-группы, обслуживающей соответствующий мерчант-аккаунт</li>\n",
    "<li><strong>category\t</strong> - категория транзакции</li>  \n",
    "</ul>"
   ]
  },
  {
   "cell_type": "code",
   "execution_count": 43,
   "metadata": {
    "colab": {
     "base_uri": "https://localhost:8080/",
     "height": 222
    },
    "id": "mEWmfDVOg3uk",
    "outputId": "7e59e147-be39-4526-d338-3ed435f6c7cb"
   },
   "outputs": [
    {
     "data": {
      "text/html": [
       "<div>\n",
       "<style scoped>\n",
       "    .dataframe tbody tr th:only-of-type {\n",
       "        vertical-align: middle;\n",
       "    }\n",
       "\n",
       "    .dataframe tbody tr th {\n",
       "        vertical-align: top;\n",
       "    }\n",
       "\n",
       "    .dataframe thead th {\n",
       "        text-align: right;\n",
       "    }\n",
       "</style>\n",
       "<table border=\"1\" class=\"dataframe\">\n",
       "  <thead>\n",
       "    <tr style=\"text-align: right;\">\n",
       "      <th></th>\n",
       "      <th>party_rk</th>\n",
       "      <th>account_rk</th>\n",
       "      <th>financial_account_type_cd</th>\n",
       "      <th>transaction_dttm</th>\n",
       "      <th>transaction_type_desc</th>\n",
       "      <th>transaction_amt_rur</th>\n",
       "      <th>merchant_rk</th>\n",
       "      <th>merchant_type</th>\n",
       "      <th>merchant_group_rk</th>\n",
       "      <th>category</th>\n",
       "    </tr>\n",
       "  </thead>\n",
       "  <tbody>\n",
       "    <tr>\n",
       "      <th>0</th>\n",
       "      <td>20337</td>\n",
       "      <td>19666</td>\n",
       "      <td>1</td>\n",
       "      <td>2019-01-01</td>\n",
       "      <td>Покупка</td>\n",
       "      <td>84.00</td>\n",
       "      <td>88676.0</td>\n",
       "      <td>348.0</td>\n",
       "      <td>NaN</td>\n",
       "      <td>Сувениры</td>\n",
       "    </tr>\n",
       "    <tr>\n",
       "      <th>1</th>\n",
       "      <td>63404</td>\n",
       "      <td>72991</td>\n",
       "      <td>1</td>\n",
       "      <td>2019-01-01</td>\n",
       "      <td>Покупка</td>\n",
       "      <td>410.00</td>\n",
       "      <td>887248.0</td>\n",
       "      <td>330.0</td>\n",
       "      <td>725.0</td>\n",
       "      <td>Фаст Фуд</td>\n",
       "    </tr>\n",
       "    <tr>\n",
       "      <th>2</th>\n",
       "      <td>24789</td>\n",
       "      <td>23517</td>\n",
       "      <td>2</td>\n",
       "      <td>2019-01-01</td>\n",
       "      <td>Покупка</td>\n",
       "      <td>701.44</td>\n",
       "      <td>830014.0</td>\n",
       "      <td>291.0</td>\n",
       "      <td>NaN</td>\n",
       "      <td>Супермаркеты</td>\n",
       "    </tr>\n",
       "    <tr>\n",
       "      <th>3</th>\n",
       "      <td>57970</td>\n",
       "      <td>64838</td>\n",
       "      <td>2</td>\n",
       "      <td>2019-01-01</td>\n",
       "      <td>Покупка</td>\n",
       "      <td>6203.70</td>\n",
       "      <td>363834.0</td>\n",
       "      <td>278.0</td>\n",
       "      <td>454.0</td>\n",
       "      <td>Дом/Ремонт</td>\n",
       "    </tr>\n",
       "    <tr>\n",
       "      <th>4</th>\n",
       "      <td>12232</td>\n",
       "      <td>11591</td>\n",
       "      <td>2</td>\n",
       "      <td>2019-01-01</td>\n",
       "      <td>Покупка</td>\n",
       "      <td>734.53</td>\n",
       "      <td>85919.0</td>\n",
       "      <td>286.0</td>\n",
       "      <td>878.0</td>\n",
       "      <td>Супермаркеты</td>\n",
       "    </tr>\n",
       "  </tbody>\n",
       "</table>\n",
       "</div>"
      ],
      "text/plain": [
       "   party_rk  account_rk  financial_account_type_cd transaction_dttm  \\\n",
       "0     20337       19666                          1       2019-01-01   \n",
       "1     63404       72991                          1       2019-01-01   \n",
       "2     24789       23517                          2       2019-01-01   \n",
       "3     57970       64838                          2       2019-01-01   \n",
       "4     12232       11591                          2       2019-01-01   \n",
       "\n",
       "  transaction_type_desc  transaction_amt_rur  merchant_rk  merchant_type  \\\n",
       "0               Покупка                84.00      88676.0          348.0   \n",
       "1               Покупка               410.00     887248.0          330.0   \n",
       "2               Покупка               701.44     830014.0          291.0   \n",
       "3               Покупка              6203.70     363834.0          278.0   \n",
       "4               Покупка               734.53      85919.0          286.0   \n",
       "\n",
       "   merchant_group_rk      category  \n",
       "0                NaN      Сувениры  \n",
       "1              725.0      Фаст Фуд  \n",
       "2                NaN  Супермаркеты  \n",
       "3              454.0    Дом/Ремонт  \n",
       "4              878.0  Супермаркеты  "
      ]
     },
     "execution_count": 43,
     "metadata": {},
     "output_type": "execute_result"
    }
   ],
   "source": [
    "df_train.head()"
   ]
  },
  {
   "cell_type": "markdown",
   "metadata": {},
   "source": [
    "Удалим колонки, связанные со счетом. При входе в приложение \"Тинькофф\" в раздел, где можно выбрать категории для кэшбэка, пользователю предлагается выбрать 3 категории. Его выбор не зависит от его счета (account_rk), а зависит от того, с какого аккаунта он зашел (party_rk). Пэтому мы имеем право удалить колонки, связанные со счетом. "
   ]
  },
  {
   "cell_type": "code",
   "execution_count": 42,
   "metadata": {},
   "outputs": [],
   "source": [
    "df_train = df_train.drop(['account_rk','merchant_rk','merchant_group_rk', 'merchant_type', 'transaction_type_desc'], axis = 1)"
   ]
  },
  {
   "cell_type": "markdown",
   "metadata": {
    "id": "ofIiLT9qjQNT"
   },
   "source": [
    "##### Первичный анализ <a class=\"anchor\" id=\"ch2211\"></a>"
   ]
  },
  {
   "cell_type": "code",
   "execution_count": 9,
   "metadata": {
    "colab": {
     "base_uri": "https://localhost:8080/"
    },
    "id": "1e2qF5JAg3ul",
    "outputId": "b3853aa0-1ff1-463a-f67a-6668e4c7b4ba"
   },
   "outputs": [
    {
     "name": "stdout",
     "output_type": "stream",
     "text": [
      "Количество строк: 11987617, количество столбцов: 5\n"
     ]
    }
   ],
   "source": [
    "print('Количество строк: {}, количество столбцов: {}'.format(df_train.shape[0], df_train.shape[1]))"
   ]
  },
  {
   "cell_type": "markdown",
   "metadata": {},
   "source": [
    "Посмотрим на типы переменных, чтобы корректно выполнять операции с ними. "
   ]
  },
  {
   "cell_type": "code",
   "execution_count": 46,
   "metadata": {
    "colab": {
     "base_uri": "https://localhost:8080/"
    },
    "id": "p2AQpeMdg3um",
    "outputId": "b3bbe360-b84d-440b-aa07-333b9dbbf773"
   },
   "outputs": [
    {
     "name": "stdout",
     "output_type": "stream",
     "text": [
      "<class 'pandas.core.frame.DataFrame'>\n",
      "RangeIndex: 11987617 entries, 0 to 11987616\n",
      "Data columns (total 6 columns):\n",
      " #   Column                     Dtype  \n",
      "---  ------                     -----  \n",
      " 0   party_rk                   int64  \n",
      " 1   financial_account_type_cd  int64  \n",
      " 2   transaction_dttm           object \n",
      " 3   transaction_type_desc      object \n",
      " 4   transaction_amt_rur        float64\n",
      " 5   category                   object \n",
      "dtypes: float64(1), int64(2), object(3)\n",
      "memory usage: 548.7+ MB\n"
     ]
    }
   ],
   "source": [
    "df_train.info()"
   ]
  },
  {
   "cell_type": "markdown",
   "metadata": {},
   "source": [
    "Переведем столбец с датами транзакций в тип datetime. "
   ]
  },
  {
   "cell_type": "code",
   "execution_count": 43,
   "metadata": {},
   "outputs": [],
   "source": [
    "df_train['transaction_dttm'] = pd.to_datetime(df_train['transaction_dttm'])"
   ]
  },
  {
   "cell_type": "markdown",
   "metadata": {},
   "source": [
    "Проверим, какие значения может принимать категориальный признак 'category'."
   ]
  },
  {
   "cell_type": "code",
   "execution_count": 15,
   "metadata": {
    "colab": {
     "base_uri": "https://localhost:8080/",
     "height": 1000
    },
    "id": "qiu2G4MKjQNU",
    "outputId": "96c1836b-f83a-4bcb-dca0-fee12c0e08cb",
    "scrolled": true
   },
   "outputs": [
    {
     "data": {
      "text/html": [
       "<div>\n",
       "<style scoped>\n",
       "    .dataframe tbody tr th:only-of-type {\n",
       "        vertical-align: middle;\n",
       "    }\n",
       "\n",
       "    .dataframe tbody tr th {\n",
       "        vertical-align: top;\n",
       "    }\n",
       "\n",
       "    .dataframe thead th {\n",
       "        text-align: right;\n",
       "    }\n",
       "</style>\n",
       "<table border=\"1\" class=\"dataframe\">\n",
       "  <thead>\n",
       "    <tr style=\"text-align: right;\">\n",
       "      <th></th>\n",
       "      <th>index</th>\n",
       "      <th>category</th>\n",
       "    </tr>\n",
       "  </thead>\n",
       "  <tbody>\n",
       "    <tr>\n",
       "      <th>0</th>\n",
       "      <td>Супермаркеты</td>\n",
       "      <td>3938925</td>\n",
       "    </tr>\n",
       "    <tr>\n",
       "      <th>1</th>\n",
       "      <td>Фаст Фуд</td>\n",
       "      <td>1007549</td>\n",
       "    </tr>\n",
       "    <tr>\n",
       "      <th>2</th>\n",
       "      <td>Транспорт</td>\n",
       "      <td>839906</td>\n",
       "    </tr>\n",
       "    <tr>\n",
       "      <th>3</th>\n",
       "      <td>Финансовые услуги</td>\n",
       "      <td>787258</td>\n",
       "    </tr>\n",
       "    <tr>\n",
       "      <th>4</th>\n",
       "      <td>Разные товары</td>\n",
       "      <td>531127</td>\n",
       "    </tr>\n",
       "    <tr>\n",
       "      <th>5</th>\n",
       "      <td>Рестораны</td>\n",
       "      <td>401255</td>\n",
       "    </tr>\n",
       "    <tr>\n",
       "      <th>6</th>\n",
       "      <td>Топливо</td>\n",
       "      <td>398397</td>\n",
       "    </tr>\n",
       "    <tr>\n",
       "      <th>7</th>\n",
       "      <td>Аптеки</td>\n",
       "      <td>311316</td>\n",
       "    </tr>\n",
       "    <tr>\n",
       "      <th>8</th>\n",
       "      <td>Наличные</td>\n",
       "      <td>271948</td>\n",
       "    </tr>\n",
       "    <tr>\n",
       "      <th>9</th>\n",
       "      <td>Дом/Ремонт</td>\n",
       "      <td>268370</td>\n",
       "    </tr>\n",
       "    <tr>\n",
       "      <th>10</th>\n",
       "      <td>Одежда/Обувь</td>\n",
       "      <td>255282</td>\n",
       "    </tr>\n",
       "    <tr>\n",
       "      <th>11</th>\n",
       "      <td>Красота</td>\n",
       "      <td>110076</td>\n",
       "    </tr>\n",
       "    <tr>\n",
       "      <th>12</th>\n",
       "      <td>Сервисные услуги</td>\n",
       "      <td>100588</td>\n",
       "    </tr>\n",
       "    <tr>\n",
       "      <th>13</th>\n",
       "      <td>Развлечения</td>\n",
       "      <td>100322</td>\n",
       "    </tr>\n",
       "    <tr>\n",
       "      <th>14</th>\n",
       "      <td>Связь/Телеком</td>\n",
       "      <td>96478</td>\n",
       "    </tr>\n",
       "    <tr>\n",
       "      <th>15</th>\n",
       "      <td>Автоуслуги</td>\n",
       "      <td>88739</td>\n",
       "    </tr>\n",
       "    <tr>\n",
       "      <th>16</th>\n",
       "      <td>Медицинские услуги</td>\n",
       "      <td>56868</td>\n",
       "    </tr>\n",
       "    <tr>\n",
       "      <th>17</th>\n",
       "      <td>НКО</td>\n",
       "      <td>56458</td>\n",
       "    </tr>\n",
       "    <tr>\n",
       "      <th>18</th>\n",
       "      <td>Музыка</td>\n",
       "      <td>54557</td>\n",
       "    </tr>\n",
       "    <tr>\n",
       "      <th>19</th>\n",
       "      <td>Госсборы</td>\n",
       "      <td>50377</td>\n",
       "    </tr>\n",
       "    <tr>\n",
       "      <th>20</th>\n",
       "      <td>Кино</td>\n",
       "      <td>43165</td>\n",
       "    </tr>\n",
       "    <tr>\n",
       "      <th>21</th>\n",
       "      <td>Аренда авто</td>\n",
       "      <td>39967</td>\n",
       "    </tr>\n",
       "    <tr>\n",
       "      <th>22</th>\n",
       "      <td>Книги</td>\n",
       "      <td>37376</td>\n",
       "    </tr>\n",
       "    <tr>\n",
       "      <th>23</th>\n",
       "      <td>Спорттовары</td>\n",
       "      <td>35619</td>\n",
       "    </tr>\n",
       "    <tr>\n",
       "      <th>24</th>\n",
       "      <td>Животные</td>\n",
       "      <td>34606</td>\n",
       "    </tr>\n",
       "    <tr>\n",
       "      <th>25</th>\n",
       "      <td>Ж/д билеты</td>\n",
       "      <td>30980</td>\n",
       "    </tr>\n",
       "    <tr>\n",
       "      <th>26</th>\n",
       "      <td>Авиабилеты</td>\n",
       "      <td>30293</td>\n",
       "    </tr>\n",
       "    <tr>\n",
       "      <th>27</th>\n",
       "      <td>Цветы</td>\n",
       "      <td>29304</td>\n",
       "    </tr>\n",
       "    <tr>\n",
       "      <th>28</th>\n",
       "      <td>Отели</td>\n",
       "      <td>29273</td>\n",
       "    </tr>\n",
       "    <tr>\n",
       "      <th>29</th>\n",
       "      <td>Частные услуги</td>\n",
       "      <td>24436</td>\n",
       "    </tr>\n",
       "    <tr>\n",
       "      <th>30</th>\n",
       "      <td>Сувениры</td>\n",
       "      <td>16465</td>\n",
       "    </tr>\n",
       "    <tr>\n",
       "      <th>31</th>\n",
       "      <td>Образование</td>\n",
       "      <td>9008</td>\n",
       "    </tr>\n",
       "    <tr>\n",
       "      <th>32</th>\n",
       "      <td>Турагентства</td>\n",
       "      <td>6582</td>\n",
       "    </tr>\n",
       "    <tr>\n",
       "      <th>33</th>\n",
       "      <td>Duty Free</td>\n",
       "      <td>6107</td>\n",
       "    </tr>\n",
       "    <tr>\n",
       "      <th>34</th>\n",
       "      <td>Фото/Видео</td>\n",
       "      <td>5751</td>\n",
       "    </tr>\n",
       "    <tr>\n",
       "      <th>35</th>\n",
       "      <td>Искусство</td>\n",
       "      <td>1872</td>\n",
       "    </tr>\n",
       "  </tbody>\n",
       "</table>\n",
       "</div>"
      ],
      "text/plain": [
       "                 index  category\n",
       "0         Супермаркеты   3938925\n",
       "1             Фаст Фуд   1007549\n",
       "2            Транспорт    839906\n",
       "3    Финансовые услуги    787258\n",
       "4        Разные товары    531127\n",
       "5            Рестораны    401255\n",
       "6              Топливо    398397\n",
       "7               Аптеки    311316\n",
       "8             Наличные    271948\n",
       "9           Дом/Ремонт    268370\n",
       "10        Одежда/Обувь    255282\n",
       "11             Красота    110076\n",
       "12    Сервисные услуги    100588\n",
       "13         Развлечения    100322\n",
       "14       Связь/Телеком     96478\n",
       "15          Автоуслуги     88739\n",
       "16  Медицинские услуги     56868\n",
       "17                 НКО     56458\n",
       "18              Музыка     54557\n",
       "19            Госсборы     50377\n",
       "20                Кино     43165\n",
       "21         Аренда авто     39967\n",
       "22               Книги     37376\n",
       "23         Спорттовары     35619\n",
       "24            Животные     34606\n",
       "25          Ж/д билеты     30980\n",
       "26          Авиабилеты     30293\n",
       "27               Цветы     29304\n",
       "28               Отели     29273\n",
       "29      Частные услуги     24436\n",
       "30            Сувениры     16465\n",
       "31         Образование      9008\n",
       "32        Турагентства      6582\n",
       "33           Duty Free      6107\n",
       "34          Фото/Видео      5751\n",
       "35           Искусство      1872"
      ]
     },
     "execution_count": 15,
     "metadata": {},
     "output_type": "execute_result"
    }
   ],
   "source": [
    "df_train['category'].value_counts().reset_index()"
   ]
  },
  {
   "cell_type": "markdown",
   "metadata": {},
   "source": [
    "Все значения категорий различные, нет недочетов в плане написания/лишних пробелов и тд."
   ]
  },
  {
   "cell_type": "markdown",
   "metadata": {},
   "source": [
    "Для более детального понимания данных, посмотрим на их основные характеристики. "
   ]
  },
  {
   "cell_type": "code",
   "execution_count": 16,
   "metadata": {
    "colab": {
     "base_uri": "https://localhost:8080/",
     "height": 294
    },
    "id": "xndXrxOojQNU",
    "outputId": "18517243-cd7b-47c7-be8d-40094995dede"
   },
   "outputs": [
    {
     "data": {
      "text/html": [
       "<div>\n",
       "<style scoped>\n",
       "    .dataframe tbody tr th:only-of-type {\n",
       "        vertical-align: middle;\n",
       "    }\n",
       "\n",
       "    .dataframe tbody tr th {\n",
       "        vertical-align: top;\n",
       "    }\n",
       "\n",
       "    .dataframe thead th {\n",
       "        text-align: right;\n",
       "    }\n",
       "</style>\n",
       "<table border=\"1\" class=\"dataframe\">\n",
       "  <thead>\n",
       "    <tr style=\"text-align: right;\">\n",
       "      <th></th>\n",
       "      <th>party_rk</th>\n",
       "      <th>financial_account_type_cd</th>\n",
       "      <th>transaction_amt_rur</th>\n",
       "    </tr>\n",
       "  </thead>\n",
       "  <tbody>\n",
       "    <tr>\n",
       "      <th>count</th>\n",
       "      <td>1.198762e+07</td>\n",
       "      <td>11987617.00</td>\n",
       "      <td>1.198761e+07</td>\n",
       "    </tr>\n",
       "    <tr>\n",
       "      <th>mean</th>\n",
       "      <td>4.300785e+04</td>\n",
       "      <td>1.67</td>\n",
       "      <td>3.186888e+03</td>\n",
       "    </tr>\n",
       "    <tr>\n",
       "      <th>std</th>\n",
       "      <td>2.540438e+04</td>\n",
       "      <td>0.47</td>\n",
       "      <td>2.447061e+04</td>\n",
       "    </tr>\n",
       "    <tr>\n",
       "      <th>min</th>\n",
       "      <td>1.000000e+00</td>\n",
       "      <td>1.00</td>\n",
       "      <td>1.000000e+01</td>\n",
       "    </tr>\n",
       "    <tr>\n",
       "      <th>25%</th>\n",
       "      <td>2.117500e+04</td>\n",
       "      <td>1.00</td>\n",
       "      <td>1.599000e+02</td>\n",
       "    </tr>\n",
       "    <tr>\n",
       "      <th>50%</th>\n",
       "      <td>4.216800e+04</td>\n",
       "      <td>2.00</td>\n",
       "      <td>3.910000e+02</td>\n",
       "    </tr>\n",
       "    <tr>\n",
       "      <th>75%</th>\n",
       "      <td>6.319900e+04</td>\n",
       "      <td>2.00</td>\n",
       "      <td>1.225000e+03</td>\n",
       "    </tr>\n",
       "    <tr>\n",
       "      <th>max</th>\n",
       "      <td>9.461000e+04</td>\n",
       "      <td>2.00</td>\n",
       "      <td>2.000010e+07</td>\n",
       "    </tr>\n",
       "  </tbody>\n",
       "</table>\n",
       "</div>"
      ],
      "text/plain": [
       "           party_rk  financial_account_type_cd  transaction_amt_rur\n",
       "count  1.198762e+07                11987617.00         1.198761e+07\n",
       "mean   4.300785e+04                       1.67         3.186888e+03\n",
       "std    2.540438e+04                       0.47         2.447061e+04\n",
       "min    1.000000e+00                       1.00         1.000000e+01\n",
       "25%    2.117500e+04                       1.00         1.599000e+02\n",
       "50%    4.216800e+04                       2.00         3.910000e+02\n",
       "75%    6.319900e+04                       2.00         1.225000e+03\n",
       "max    9.461000e+04                       2.00         2.000010e+07"
      ]
     },
     "execution_count": 16,
     "metadata": {},
     "output_type": "execute_result"
    }
   ],
   "source": [
    "df_train.describe().round(3)"
   ]
  },
  {
   "cell_type": "code",
   "execution_count": 17,
   "metadata": {},
   "outputs": [
    {
     "name": "stdout",
     "output_type": "stream",
     "text": [
      "Минимальное значение: 10.0, максимальное значение: 20000100.0, среднее значение: 3186.888401838067\n"
     ]
    }
   ],
   "source": [
    "a = min(df_train['transaction_amt_rur'])\n",
    "b = max(df_train['transaction_amt_rur'])\n",
    "c = df_train['transaction_amt_rur'].mean()\n",
    "print('Минимальное значение: {}, максимальное значение: {}, среднее значение: {}'.format(a, b, c))"
   ]
  },
  {
   "cell_type": "markdown",
   "metadata": {},
   "source": [
    "Минимальное и максимальное значение транзакций сильно отличаются от среднего. Можно, предположить, что в столбце 'transaction_amt_rur' присутствуют выбросы."
   ]
  },
  {
   "cell_type": "markdown",
   "metadata": {},
   "source": [
    "##### Удаление выбросов <a class=\"anchor\" id=\"ch2213\"></a>"
   ]
  },
  {
   "cell_type": "markdown",
   "metadata": {},
   "source": [
    "Есть несколько способов удаления выбросов: через z-score, через квантили и KMean. Но самый простой для понимания способ - через квантили (IQR), поэтому будем использовать его. "
   ]
  },
  {
   "cell_type": "code",
   "execution_count": 18,
   "metadata": {},
   "outputs": [
    {
     "data": {
      "image/png": "[encoded data removed]",
      "text/plain": [
       "<Figure size 432x288 with 1 Axes>"
      ]
     },
     "metadata": {},
     "output_type": "display_data"
    }
   ],
   "source": [
    "sns.boxplot(x=df_train['transaction_amt_rur']);"
   ]
  },
  {
   "cell_type": "code",
   "execution_count": 44,
   "metadata": {},
   "outputs": [],
   "source": [
    "Q1 = df_train['transaction_amt_rur'].quantile(0.25)\n",
    "Q3 = df_train['transaction_amt_rur'].quantile(0.75)\n",
    "IQR = Q3 - Q1\n",
    "df_train_out = df_train[~((df_train['transaction_amt_rur'] < (Q1 - 1.5 * IQR)) | (df_train['transaction_amt_rur'] > (Q3 + 1.5 * IQR)))]"
   ]
  },
  {
   "cell_type": "code",
   "execution_count": 21,
   "metadata": {},
   "outputs": [
    {
     "name": "stdout",
     "output_type": "stream",
     "text": [
      "Количество строк до удаления выбросов: 11987617, количество столбцов: 5\n",
      "Количество строк после удаления выбросов: 10148296, количество столбцов: 5\n"
     ]
    }
   ],
   "source": [
    "print('Количество строк до удаления выбросов: {}, количество столбцов: {}'.format(df_train.shape[0], df_train.shape[1]))\n",
    "print('Количество строк после удаления выбросов: {}, количество столбцов: {}'.format(df_train_out.shape[0], df_train_out.shape[1]))"
   ]
  },
  {
   "cell_type": "code",
   "execution_count": 22,
   "metadata": {},
   "outputs": [
    {
     "data": {
      "image/png": "[encoded data removed]",
      "text/plain": [
       "<Figure size 432x288 with 1 Axes>"
      ]
     },
     "metadata": {},
     "output_type": "display_data"
    }
   ],
   "source": [
    "sns.boxplot(x=df_train_out['transaction_amt_rur']);"
   ]
  },
  {
   "cell_type": "markdown",
   "metadata": {
    "id": "lobA6rt-jQNW"
   },
   "source": [
    "##### Заполнение пропусков <a class=\"anchor\" id=\"ch2213\"></a>"
   ]
  },
  {
   "cell_type": "code",
   "execution_count": 23,
   "metadata": {
    "colab": {
     "base_uri": "https://localhost:8080/",
     "height": 132
    },
    "id": "hlm2EdWbjQNW",
    "outputId": "1254a7da-8acd-46fa-d650-977674ac8231"
   },
   "outputs": [
    {
     "name": "stdout",
     "output_type": "stream",
     "text": [
      "\n",
      "Количество пропущенных значений до заполнения пропусков:\n"
     ]
    },
    {
     "data": {
      "text/html": [
       "<div>\n",
       "<style scoped>\n",
       "    .dataframe tbody tr th:only-of-type {\n",
       "        vertical-align: middle;\n",
       "    }\n",
       "\n",
       "    .dataframe tbody tr th {\n",
       "        vertical-align: top;\n",
       "    }\n",
       "\n",
       "    .dataframe thead th {\n",
       "        text-align: right;\n",
       "    }\n",
       "</style>\n",
       "<table border=\"1\" class=\"dataframe\">\n",
       "  <thead>\n",
       "    <tr style=\"text-align: right;\">\n",
       "      <th></th>\n",
       "      <th>category</th>\n",
       "      <th>transaction_amt_rur</th>\n",
       "      <th>party_rk</th>\n",
       "      <th>financial_account_type_cd</th>\n",
       "      <th>transaction_dttm</th>\n",
       "    </tr>\n",
       "  </thead>\n",
       "  <tbody>\n",
       "    <tr>\n",
       "      <th>0</th>\n",
       "      <td>1235227</td>\n",
       "      <td>6</td>\n",
       "      <td>0</td>\n",
       "      <td>0</td>\n",
       "      <td>0</td>\n",
       "    </tr>\n",
       "  </tbody>\n",
       "</table>\n",
       "</div>"
      ],
      "text/plain": [
       "   category  transaction_amt_rur  party_rk  financial_account_type_cd  \\\n",
       "0   1235227                    6         0                          0   \n",
       "\n",
       "   transaction_dttm  \n",
       "0                 0  "
      ]
     },
     "execution_count": 23,
     "metadata": {},
     "output_type": "execute_result"
    }
   ],
   "source": [
    "print(\"\\nКоличество пропущенных значений до заполнения пропусков:\")\n",
    "df_train_out.isna().sum().to_frame().sort_values(0, ascending = False).T"
   ]
  },
  {
   "cell_type": "markdown",
   "metadata": {},
   "source": [
    "Для заполнения пропусков числовых переменных используются несколько методов, но мы будем использовать самый простой: в случае числового признака заменяем на среднее значение по столбцу (тк мы ранее удалили выбросы, то это среднее будет не смещенное), если это категориальный признак, то заменяем на моду. "
   ]
  },
  {
   "cell_type": "code",
   "execution_count": 46,
   "metadata": {},
   "outputs": [],
   "source": [
    "df_train_out['transaction_amt_rur'] = df_train_out['transaction_amt_rur'].fillna(df_train_out['transaction_amt_rur'].mean())"
   ]
  },
  {
   "cell_type": "code",
   "execution_count": 47,
   "metadata": {},
   "outputs": [],
   "source": [
    "df_train_out['category'] = df_train_out['category'].fillna(df_train_out['category'].mode()[0])"
   ]
  },
  {
   "cell_type": "code",
   "execution_count": 34,
   "metadata": {},
   "outputs": [
    {
     "name": "stdout",
     "output_type": "stream",
     "text": [
      "\n",
      "Количество пропущенных значений после заполнения пропусков:\n"
     ]
    },
    {
     "data": {
      "text/html": [
       "<div>\n",
       "<style scoped>\n",
       "    .dataframe tbody tr th:only-of-type {\n",
       "        vertical-align: middle;\n",
       "    }\n",
       "\n",
       "    .dataframe tbody tr th {\n",
       "        vertical-align: top;\n",
       "    }\n",
       "\n",
       "    .dataframe thead th {\n",
       "        text-align: right;\n",
       "    }\n",
       "</style>\n",
       "<table border=\"1\" class=\"dataframe\">\n",
       "  <thead>\n",
       "    <tr style=\"text-align: right;\">\n",
       "      <th></th>\n",
       "      <th>party_rk</th>\n",
       "      <th>financial_account_type_cd</th>\n",
       "      <th>transaction_dttm</th>\n",
       "      <th>transaction_amt_rur</th>\n",
       "      <th>category</th>\n",
       "    </tr>\n",
       "  </thead>\n",
       "  <tbody>\n",
       "    <tr>\n",
       "      <th>0</th>\n",
       "      <td>0</td>\n",
       "      <td>0</td>\n",
       "      <td>0</td>\n",
       "      <td>0</td>\n",
       "      <td>0</td>\n",
       "    </tr>\n",
       "  </tbody>\n",
       "</table>\n",
       "</div>"
      ],
      "text/plain": [
       "   party_rk  financial_account_type_cd  transaction_dttm  transaction_amt_rur  \\\n",
       "0         0                          0                 0                    0   \n",
       "\n",
       "   category  \n",
       "0         0  "
      ]
     },
     "execution_count": 34,
     "metadata": {},
     "output_type": "execute_result"
    }
   ],
   "source": [
    "print(\"\\nКоличество пропущенных значений после заполнения пропусков:\")\n",
    "df_train_out.isna().sum().to_frame().sort_values(0, ascending = False).T"
   ]
  },
  {
   "cell_type": "markdown",
   "metadata": {},
   "source": [
    "##### Приведение категориальных признаков к числовому виду <a class=\"anchor\" id=\"ch2212\"></a>"
   ]
  },
  {
   "cell_type": "markdown",
   "metadata": {},
   "source": [
    "Модели, которые мы будем в дальнейшем применять, работают только с числовыми признаками, поэтому приведем категориальные признаки к числовым. В основном различают 2 способа: One-hot Encoding и LabelEncoder. Второй применятся в том случае, когда мы можем выявить в данных определенный порядок, в нашем случае в столбце category ранжировать мы не можем, поэтому будем использовать One-hot Encoding."
   ]
  },
  {
   "cell_type": "code",
   "execution_count": 39,
   "metadata": {},
   "outputs": [],
   "source": [
    "# функция для перевода категориального признака в числовой через One-hot Encoding\n",
    "def encode_and_bind(original_dataframe, feature_to_encode):\n",
    "    dummies = pd.get_dummies(original_dataframe[[feature_to_encode]])\n",
    "    res = pd.concat([original_dataframe, dummies], axis=1)\n",
    "    return(res)"
   ]
  },
  {
   "cell_type": "code",
   "execution_count": 48,
   "metadata": {},
   "outputs": [],
   "source": [
    "df_train_out_num = encode_and_bind(df_train_out, 'category')"
   ]
  },
  {
   "cell_type": "code",
   "execution_count": 50,
   "metadata": {},
   "outputs": [],
   "source": [
    "del df_train_out_num['category']"
   ]
  },
  {
   "cell_type": "code",
   "execution_count": 51,
   "metadata": {},
   "outputs": [
    {
     "data": {
      "text/html": [
       "<div>\n",
       "<style scoped>\n",
       "    .dataframe tbody tr th:only-of-type {\n",
       "        vertical-align: middle;\n",
       "    }\n",
       "\n",
       "    .dataframe tbody tr th {\n",
       "        vertical-align: top;\n",
       "    }\n",
       "\n",
       "    .dataframe thead th {\n",
       "        text-align: right;\n",
       "    }\n",
       "</style>\n",
       "<table border=\"1\" class=\"dataframe\">\n",
       "  <thead>\n",
       "    <tr style=\"text-align: right;\">\n",
       "      <th></th>\n",
       "      <th>party_rk</th>\n",
       "      <th>financial_account_type_cd</th>\n",
       "      <th>transaction_dttm</th>\n",
       "      <th>transaction_amt_rur</th>\n",
       "      <th>category_Duty Free</th>\n",
       "      <th>category_Авиабилеты</th>\n",
       "      <th>category_Автоуслуги</th>\n",
       "      <th>category_Аптеки</th>\n",
       "      <th>category_Аренда авто</th>\n",
       "      <th>category_Госсборы</th>\n",
       "      <th>...</th>\n",
       "      <th>category_Сувениры</th>\n",
       "      <th>category_Супермаркеты</th>\n",
       "      <th>category_Топливо</th>\n",
       "      <th>category_Транспорт</th>\n",
       "      <th>category_Турагентства</th>\n",
       "      <th>category_Фаст Фуд</th>\n",
       "      <th>category_Финансовые услуги</th>\n",
       "      <th>category_Фото/Видео</th>\n",
       "      <th>category_Цветы</th>\n",
       "      <th>category_Частные услуги</th>\n",
       "    </tr>\n",
       "  </thead>\n",
       "  <tbody>\n",
       "    <tr>\n",
       "      <th>0</th>\n",
       "      <td>20337</td>\n",
       "      <td>1</td>\n",
       "      <td>2019-01-01</td>\n",
       "      <td>84.00</td>\n",
       "      <td>0</td>\n",
       "      <td>0</td>\n",
       "      <td>0</td>\n",
       "      <td>0</td>\n",
       "      <td>0</td>\n",
       "      <td>0</td>\n",
       "      <td>...</td>\n",
       "      <td>1</td>\n",
       "      <td>0</td>\n",
       "      <td>0</td>\n",
       "      <td>0</td>\n",
       "      <td>0</td>\n",
       "      <td>0</td>\n",
       "      <td>0</td>\n",
       "      <td>0</td>\n",
       "      <td>0</td>\n",
       "      <td>0</td>\n",
       "    </tr>\n",
       "    <tr>\n",
       "      <th>1</th>\n",
       "      <td>63404</td>\n",
       "      <td>1</td>\n",
       "      <td>2019-01-01</td>\n",
       "      <td>410.00</td>\n",
       "      <td>0</td>\n",
       "      <td>0</td>\n",
       "      <td>0</td>\n",
       "      <td>0</td>\n",
       "      <td>0</td>\n",
       "      <td>0</td>\n",
       "      <td>...</td>\n",
       "      <td>0</td>\n",
       "      <td>0</td>\n",
       "      <td>0</td>\n",
       "      <td>0</td>\n",
       "      <td>0</td>\n",
       "      <td>1</td>\n",
       "      <td>0</td>\n",
       "      <td>0</td>\n",
       "      <td>0</td>\n",
       "      <td>0</td>\n",
       "    </tr>\n",
       "    <tr>\n",
       "      <th>2</th>\n",
       "      <td>24789</td>\n",
       "      <td>2</td>\n",
       "      <td>2019-01-01</td>\n",
       "      <td>701.44</td>\n",
       "      <td>0</td>\n",
       "      <td>0</td>\n",
       "      <td>0</td>\n",
       "      <td>0</td>\n",
       "      <td>0</td>\n",
       "      <td>0</td>\n",
       "      <td>...</td>\n",
       "      <td>0</td>\n",
       "      <td>1</td>\n",
       "      <td>0</td>\n",
       "      <td>0</td>\n",
       "      <td>0</td>\n",
       "      <td>0</td>\n",
       "      <td>0</td>\n",
       "      <td>0</td>\n",
       "      <td>0</td>\n",
       "      <td>0</td>\n",
       "    </tr>\n",
       "    <tr>\n",
       "      <th>4</th>\n",
       "      <td>12232</td>\n",
       "      <td>2</td>\n",
       "      <td>2019-01-01</td>\n",
       "      <td>734.53</td>\n",
       "      <td>0</td>\n",
       "      <td>0</td>\n",
       "      <td>0</td>\n",
       "      <td>0</td>\n",
       "      <td>0</td>\n",
       "      <td>0</td>\n",
       "      <td>...</td>\n",
       "      <td>0</td>\n",
       "      <td>1</td>\n",
       "      <td>0</td>\n",
       "      <td>0</td>\n",
       "      <td>0</td>\n",
       "      <td>0</td>\n",
       "      <td>0</td>\n",
       "      <td>0</td>\n",
       "      <td>0</td>\n",
       "      <td>0</td>\n",
       "    </tr>\n",
       "    <tr>\n",
       "      <th>5</th>\n",
       "      <td>51074</td>\n",
       "      <td>2</td>\n",
       "      <td>2019-01-01</td>\n",
       "      <td>366.60</td>\n",
       "      <td>0</td>\n",
       "      <td>0</td>\n",
       "      <td>0</td>\n",
       "      <td>0</td>\n",
       "      <td>0</td>\n",
       "      <td>0</td>\n",
       "      <td>...</td>\n",
       "      <td>0</td>\n",
       "      <td>1</td>\n",
       "      <td>0</td>\n",
       "      <td>0</td>\n",
       "      <td>0</td>\n",
       "      <td>0</td>\n",
       "      <td>0</td>\n",
       "      <td>0</td>\n",
       "      <td>0</td>\n",
       "      <td>0</td>\n",
       "    </tr>\n",
       "    <tr>\n",
       "      <th>...</th>\n",
       "      <td>...</td>\n",
       "      <td>...</td>\n",
       "      <td>...</td>\n",
       "      <td>...</td>\n",
       "      <td>...</td>\n",
       "      <td>...</td>\n",
       "      <td>...</td>\n",
       "      <td>...</td>\n",
       "      <td>...</td>\n",
       "      <td>...</td>\n",
       "      <td>...</td>\n",
       "      <td>...</td>\n",
       "      <td>...</td>\n",
       "      <td>...</td>\n",
       "      <td>...</td>\n",
       "      <td>...</td>\n",
       "      <td>...</td>\n",
       "      <td>...</td>\n",
       "      <td>...</td>\n",
       "      <td>...</td>\n",
       "      <td>...</td>\n",
       "    </tr>\n",
       "    <tr>\n",
       "      <th>11987612</th>\n",
       "      <td>44990</td>\n",
       "      <td>1</td>\n",
       "      <td>2019-12-31</td>\n",
       "      <td>121.00</td>\n",
       "      <td>0</td>\n",
       "      <td>0</td>\n",
       "      <td>0</td>\n",
       "      <td>0</td>\n",
       "      <td>0</td>\n",
       "      <td>0</td>\n",
       "      <td>...</td>\n",
       "      <td>0</td>\n",
       "      <td>0</td>\n",
       "      <td>0</td>\n",
       "      <td>0</td>\n",
       "      <td>0</td>\n",
       "      <td>1</td>\n",
       "      <td>0</td>\n",
       "      <td>0</td>\n",
       "      <td>0</td>\n",
       "      <td>0</td>\n",
       "    </tr>\n",
       "    <tr>\n",
       "      <th>11987613</th>\n",
       "      <td>53023</td>\n",
       "      <td>2</td>\n",
       "      <td>2019-12-31</td>\n",
       "      <td>102.29</td>\n",
       "      <td>0</td>\n",
       "      <td>0</td>\n",
       "      <td>0</td>\n",
       "      <td>0</td>\n",
       "      <td>0</td>\n",
       "      <td>0</td>\n",
       "      <td>...</td>\n",
       "      <td>0</td>\n",
       "      <td>1</td>\n",
       "      <td>0</td>\n",
       "      <td>0</td>\n",
       "      <td>0</td>\n",
       "      <td>0</td>\n",
       "      <td>0</td>\n",
       "      <td>0</td>\n",
       "      <td>0</td>\n",
       "      <td>0</td>\n",
       "    </tr>\n",
       "    <tr>\n",
       "      <th>11987614</th>\n",
       "      <td>78716</td>\n",
       "      <td>1</td>\n",
       "      <td>2019-12-31</td>\n",
       "      <td>175.00</td>\n",
       "      <td>0</td>\n",
       "      <td>0</td>\n",
       "      <td>0</td>\n",
       "      <td>0</td>\n",
       "      <td>0</td>\n",
       "      <td>0</td>\n",
       "      <td>...</td>\n",
       "      <td>0</td>\n",
       "      <td>0</td>\n",
       "      <td>0</td>\n",
       "      <td>1</td>\n",
       "      <td>0</td>\n",
       "      <td>0</td>\n",
       "      <td>0</td>\n",
       "      <td>0</td>\n",
       "      <td>0</td>\n",
       "      <td>0</td>\n",
       "    </tr>\n",
       "    <tr>\n",
       "      <th>11987615</th>\n",
       "      <td>73104</td>\n",
       "      <td>2</td>\n",
       "      <td>2019-12-31</td>\n",
       "      <td>185.99</td>\n",
       "      <td>0</td>\n",
       "      <td>0</td>\n",
       "      <td>0</td>\n",
       "      <td>0</td>\n",
       "      <td>0</td>\n",
       "      <td>0</td>\n",
       "      <td>...</td>\n",
       "      <td>0</td>\n",
       "      <td>1</td>\n",
       "      <td>0</td>\n",
       "      <td>0</td>\n",
       "      <td>0</td>\n",
       "      <td>0</td>\n",
       "      <td>0</td>\n",
       "      <td>0</td>\n",
       "      <td>0</td>\n",
       "      <td>0</td>\n",
       "    </tr>\n",
       "    <tr>\n",
       "      <th>11987616</th>\n",
       "      <td>42916</td>\n",
       "      <td>1</td>\n",
       "      <td>2019-12-31</td>\n",
       "      <td>431.00</td>\n",
       "      <td>0</td>\n",
       "      <td>0</td>\n",
       "      <td>0</td>\n",
       "      <td>0</td>\n",
       "      <td>0</td>\n",
       "      <td>0</td>\n",
       "      <td>...</td>\n",
       "      <td>0</td>\n",
       "      <td>0</td>\n",
       "      <td>0</td>\n",
       "      <td>0</td>\n",
       "      <td>0</td>\n",
       "      <td>1</td>\n",
       "      <td>0</td>\n",
       "      <td>0</td>\n",
       "      <td>0</td>\n",
       "      <td>0</td>\n",
       "    </tr>\n",
       "  </tbody>\n",
       "</table>\n",
       "<p>10148296 rows × 40 columns</p>\n",
       "</div>"
      ],
      "text/plain": [
       "          party_rk  financial_account_type_cd transaction_dttm  \\\n",
       "0            20337                          1       2019-01-01   \n",
       "1            63404                          1       2019-01-01   \n",
       "2            24789                          2       2019-01-01   \n",
       "4            12232                          2       2019-01-01   \n",
       "5            51074                          2       2019-01-01   \n",
       "...            ...                        ...              ...   \n",
       "11987612     44990                          1       2019-12-31   \n",
       "11987613     53023                          2       2019-12-31   \n",
       "11987614     78716                          1       2019-12-31   \n",
       "11987615     73104                          2       2019-12-31   \n",
       "11987616     42916                          1       2019-12-31   \n",
       "\n",
       "          transaction_amt_rur  category_Duty Free  category_Авиабилеты  \\\n",
       "0                       84.00                   0                    0   \n",
       "1                      410.00                   0                    0   \n",
       "2                      701.44                   0                    0   \n",
       "4                      734.53                   0                    0   \n",
       "5                      366.60                   0                    0   \n",
       "...                       ...                 ...                  ...   \n",
       "11987612               121.00                   0                    0   \n",
       "11987613               102.29                   0                    0   \n",
       "11987614               175.00                   0                    0   \n",
       "11987615               185.99                   0                    0   \n",
       "11987616               431.00                   0                    0   \n",
       "\n",
       "          category_Автоуслуги  category_Аптеки  category_Аренда авто  \\\n",
       "0                           0                0                     0   \n",
       "1                           0                0                     0   \n",
       "2                           0                0                     0   \n",
       "4                           0                0                     0   \n",
       "5                           0                0                     0   \n",
       "...                       ...              ...                   ...   \n",
       "11987612                    0                0                     0   \n",
       "11987613                    0                0                     0   \n",
       "11987614                    0                0                     0   \n",
       "11987615                    0                0                     0   \n",
       "11987616                    0                0                     0   \n",
       "\n",
       "          category_Госсборы  ...  category_Сувениры  category_Супермаркеты  \\\n",
       "0                         0  ...                  1                      0   \n",
       "1                         0  ...                  0                      0   \n",
       "2                         0  ...                  0                      1   \n",
       "4                         0  ...                  0                      1   \n",
       "5                         0  ...                  0                      1   \n",
       "...                     ...  ...                ...                    ...   \n",
       "11987612                  0  ...                  0                      0   \n",
       "11987613                  0  ...                  0                      1   \n",
       "11987614                  0  ...                  0                      0   \n",
       "11987615                  0  ...                  0                      1   \n",
       "11987616                  0  ...                  0                      0   \n",
       "\n",
       "          category_Топливо  category_Транспорт  category_Турагентства  \\\n",
       "0                        0                   0                      0   \n",
       "1                        0                   0                      0   \n",
       "2                        0                   0                      0   \n",
       "4                        0                   0                      0   \n",
       "5                        0                   0                      0   \n",
       "...                    ...                 ...                    ...   \n",
       "11987612                 0                   0                      0   \n",
       "11987613                 0                   0                      0   \n",
       "11987614                 0                   1                      0   \n",
       "11987615                 0                   0                      0   \n",
       "11987616                 0                   0                      0   \n",
       "\n",
       "          category_Фаст Фуд  category_Финансовые услуги  category_Фото/Видео  \\\n",
       "0                         0                           0                    0   \n",
       "1                         1                           0                    0   \n",
       "2                         0                           0                    0   \n",
       "4                         0                           0                    0   \n",
       "5                         0                           0                    0   \n",
       "...                     ...                         ...                  ...   \n",
       "11987612                  1                           0                    0   \n",
       "11987613                  0                           0                    0   \n",
       "11987614                  0                           0                    0   \n",
       "11987615                  0                           0                    0   \n",
       "11987616                  1                           0                    0   \n",
       "\n",
       "          category_Цветы  category_Частные услуги  \n",
       "0                      0                        0  \n",
       "1                      0                        0  \n",
       "2                      0                        0  \n",
       "4                      0                        0  \n",
       "5                      0                        0  \n",
       "...                  ...                      ...  \n",
       "11987612               0                        0  \n",
       "11987613               0                        0  \n",
       "11987614               0                        0  \n",
       "11987615               0                        0  \n",
       "11987616               0                        0  \n",
       "\n",
       "[10148296 rows x 40 columns]"
      ]
     },
     "execution_count": 51,
     "metadata": {},
     "output_type": "execute_result"
    }
   ],
   "source": [
    "df_train_out_num"
   ]
  },
  {
   "cell_type": "markdown",
   "metadata": {
    "id": "FsFKWLXpg3ur"
   },
   "source": [
    "### df_socdem <a class=\"anchor\" id=\"ch222\"></a>"
   ]
  },
  {
   "cell_type": "markdown",
   "metadata": {
    "id": "-tej2wtxjQNZ"
   },
   "source": [
    "В данной таблице содержится персональная информация клиентов, где\n",
    "<ul>\n",
    "<li><strong>party_rk</strong> - уникальный идентификационный номер клиента</li> \n",
    "<li><strong>gender_cd</strong> - пол клиента (F - женщина / M - мужчина / не указан)</li>\n",
    "<li><strong>age</strong> - возраст клиента</li>\n",
    "<li><strong>marital_status_desc</strong> - семейное положение (один из 7 вариантов: Женат/замужем / Вдовец, вдова / Холост/не замужем / Гражданский брак / Разведен (а) / Не проживает с супругом (ой) / Не указано)</li>\n",
    "<li><strong>children_cnt</strong> - количество детей</li>\n",
    "<li><strong>region_flg</strong> - бинарная характеристика региона клиента</li>\n",
    "</ul>\n",
    "<strong>Первичным ключом</strong> таблицы является атрибут party_rk."
   ]
  },
  {
   "cell_type": "code",
   "execution_count": 38,
   "metadata": {
    "colab": {
     "base_uri": "https://localhost:8080/",
     "height": 202
    },
    "id": "3n9sELRYg3ur",
    "outputId": "02b2e1be-5cae-4231-914c-62439e7cb196"
   },
   "outputs": [
    {
     "data": {
      "text/html": [
       "<div>\n",
       "<style scoped>\n",
       "    .dataframe tbody tr th:only-of-type {\n",
       "        vertical-align: middle;\n",
       "    }\n",
       "\n",
       "    .dataframe tbody tr th {\n",
       "        vertical-align: top;\n",
       "    }\n",
       "\n",
       "    .dataframe thead th {\n",
       "        text-align: right;\n",
       "    }\n",
       "</style>\n",
       "<table border=\"1\" class=\"dataframe\">\n",
       "  <thead>\n",
       "    <tr style=\"text-align: right;\">\n",
       "      <th></th>\n",
       "      <th>party_rk</th>\n",
       "      <th>gender_cd</th>\n",
       "      <th>age</th>\n",
       "      <th>marital_status_desc</th>\n",
       "      <th>children_cnt</th>\n",
       "      <th>region_flg</th>\n",
       "    </tr>\n",
       "  </thead>\n",
       "  <tbody>\n",
       "    <tr>\n",
       "      <th>0</th>\n",
       "      <td>61243</td>\n",
       "      <td>F</td>\n",
       "      <td>70.0</td>\n",
       "      <td>NaN</td>\n",
       "      <td>0</td>\n",
       "      <td>0</td>\n",
       "    </tr>\n",
       "    <tr>\n",
       "      <th>1</th>\n",
       "      <td>66535</td>\n",
       "      <td>F</td>\n",
       "      <td>25.0</td>\n",
       "      <td>NaN</td>\n",
       "      <td>0</td>\n",
       "      <td>0</td>\n",
       "    </tr>\n",
       "    <tr>\n",
       "      <th>2</th>\n",
       "      <td>83721</td>\n",
       "      <td>M</td>\n",
       "      <td>55.0</td>\n",
       "      <td>Женат/замужем</td>\n",
       "      <td>0</td>\n",
       "      <td>0</td>\n",
       "    </tr>\n",
       "    <tr>\n",
       "      <th>3</th>\n",
       "      <td>88238</td>\n",
       "      <td>F</td>\n",
       "      <td>35.0</td>\n",
       "      <td>NaN</td>\n",
       "      <td>0</td>\n",
       "      <td>0</td>\n",
       "    </tr>\n",
       "    <tr>\n",
       "      <th>4</th>\n",
       "      <td>57179</td>\n",
       "      <td>F</td>\n",
       "      <td>30.0</td>\n",
       "      <td>Женат/замужем</td>\n",
       "      <td>0</td>\n",
       "      <td>0</td>\n",
       "    </tr>\n",
       "  </tbody>\n",
       "</table>\n",
       "</div>"
      ],
      "text/plain": [
       "   party_rk gender_cd   age marital_status_desc  children_cnt  region_flg\n",
       "0     61243         F  70.0                 NaN             0           0\n",
       "1     66535         F  25.0                 NaN             0           0\n",
       "2     83721         M  55.0       Женат/замужем             0           0\n",
       "3     88238         F  35.0                 NaN             0           0\n",
       "4     57179         F  30.0       Женат/замужем             0           0"
      ]
     },
     "execution_count": 38,
     "metadata": {},
     "output_type": "execute_result"
    }
   ],
   "source": [
    "df_socdem.head()"
   ]
  },
  {
   "cell_type": "markdown",
   "metadata": {
    "id": "UsADiDT6jQNZ"
   },
   "source": [
    "##### Первичный анализ <a class=\"anchor\" id=\"ch2221\"></a>"
   ]
  },
  {
   "cell_type": "code",
   "execution_count": 39,
   "metadata": {
    "colab": {
     "base_uri": "https://localhost:8080/"
    },
    "id": "_sMktzDmjQNa",
    "outputId": "bb74136e-6d5c-4bee-a29a-3b8c8e151f7f"
   },
   "outputs": [
    {
     "name": "stdout",
     "output_type": "stream",
     "text": [
      "Количество строк: 50000, количество столбцов: 6\n"
     ]
    }
   ],
   "source": [
    "print('Количество строк: {}, количество столбцов: {}'.format(df_socdem.shape[0], df_socdem.shape[1]))"
   ]
  },
  {
   "cell_type": "markdown",
   "metadata": {},
   "source": [
    "Проверим на всякий случай, что у нас party_rk это первичный ключ. "
   ]
  },
  {
   "cell_type": "code",
   "execution_count": null,
   "metadata": {},
   "outputs": [],
   "source": [
    "print('Количество уникальных значений party_rk: {}'.format(len(df_socdem['party_rk'].unique())))"
   ]
  },
  {
   "cell_type": "code",
   "execution_count": 58,
   "metadata": {
    "colab": {
     "base_uri": "https://localhost:8080/"
    },
    "id": "yQf6KwRXjQNa",
    "outputId": "a6e5f287-6fb7-4536-950f-0809c77c95df"
   },
   "outputs": [
    {
     "name": "stdout",
     "output_type": "stream",
     "text": [
      "<class 'pandas.core.frame.DataFrame'>\n",
      "RangeIndex: 50000 entries, 0 to 49999\n",
      "Data columns (total 6 columns):\n",
      " #   Column               Non-Null Count  Dtype  \n",
      "---  ------               --------------  -----  \n",
      " 0   party_rk             50000 non-null  int64  \n",
      " 1   gender_cd            49989 non-null  object \n",
      " 2   age                  50000 non-null  float64\n",
      " 3   marital_status_desc  37594 non-null  object \n",
      " 4   children_cnt         50000 non-null  int64  \n",
      " 5   region_flg           50000 non-null  int64  \n",
      "dtypes: float64(1), int64(3), object(2)\n",
      "memory usage: 2.3+ MB\n"
     ]
    }
   ],
   "source": [
    "df_socdem.info()"
   ]
  },
  {
   "cell_type": "code",
   "execution_count": 59,
   "metadata": {
    "colab": {
     "base_uri": "https://localhost:8080/",
     "height": 294
    },
    "id": "6xlmDLsEjQNa",
    "outputId": "84e7b02a-7932-4e41-ad2d-19f6fd540f02"
   },
   "outputs": [
    {
     "data": {
      "text/html": [
       "<div>\n",
       "<style scoped>\n",
       "    .dataframe tbody tr th:only-of-type {\n",
       "        vertical-align: middle;\n",
       "    }\n",
       "\n",
       "    .dataframe tbody tr th {\n",
       "        vertical-align: top;\n",
       "    }\n",
       "\n",
       "    .dataframe thead th {\n",
       "        text-align: right;\n",
       "    }\n",
       "</style>\n",
       "<table border=\"1\" class=\"dataframe\">\n",
       "  <thead>\n",
       "    <tr style=\"text-align: right;\">\n",
       "      <th></th>\n",
       "      <th>party_rk</th>\n",
       "      <th>age</th>\n",
       "      <th>children_cnt</th>\n",
       "      <th>region_flg</th>\n",
       "    </tr>\n",
       "  </thead>\n",
       "  <tbody>\n",
       "    <tr>\n",
       "      <th>count</th>\n",
       "      <td>50000.00000</td>\n",
       "      <td>50000.000000</td>\n",
       "      <td>50000.000000</td>\n",
       "      <td>50000.000000</td>\n",
       "    </tr>\n",
       "    <tr>\n",
       "      <th>mean</th>\n",
       "      <td>47339.73202</td>\n",
       "      <td>39.062300</td>\n",
       "      <td>0.388660</td>\n",
       "      <td>0.091900</td>\n",
       "    </tr>\n",
       "    <tr>\n",
       "      <th>std</th>\n",
       "      <td>27317.74524</td>\n",
       "      <td>11.675057</td>\n",
       "      <td>0.968928</td>\n",
       "      <td>0.288888</td>\n",
       "    </tr>\n",
       "    <tr>\n",
       "      <th>min</th>\n",
       "      <td>1.00000</td>\n",
       "      <td>15.000000</td>\n",
       "      <td>0.000000</td>\n",
       "      <td>0.000000</td>\n",
       "    </tr>\n",
       "    <tr>\n",
       "      <th>25%</th>\n",
       "      <td>23669.75000</td>\n",
       "      <td>30.000000</td>\n",
       "      <td>0.000000</td>\n",
       "      <td>0.000000</td>\n",
       "    </tr>\n",
       "    <tr>\n",
       "      <th>50%</th>\n",
       "      <td>47434.50000</td>\n",
       "      <td>35.000000</td>\n",
       "      <td>0.000000</td>\n",
       "      <td>0.000000</td>\n",
       "    </tr>\n",
       "    <tr>\n",
       "      <th>75%</th>\n",
       "      <td>70961.50000</td>\n",
       "      <td>45.000000</td>\n",
       "      <td>0.000000</td>\n",
       "      <td>0.000000</td>\n",
       "    </tr>\n",
       "    <tr>\n",
       "      <th>max</th>\n",
       "      <td>94610.00000</td>\n",
       "      <td>100.000000</td>\n",
       "      <td>4.000000</td>\n",
       "      <td>1.000000</td>\n",
       "    </tr>\n",
       "  </tbody>\n",
       "</table>\n",
       "</div>"
      ],
      "text/plain": [
       "          party_rk           age  children_cnt    region_flg\n",
       "count  50000.00000  50000.000000  50000.000000  50000.000000\n",
       "mean   47339.73202     39.062300      0.388660      0.091900\n",
       "std    27317.74524     11.675057      0.968928      0.288888\n",
       "min        1.00000     15.000000      0.000000      0.000000\n",
       "25%    23669.75000     30.000000      0.000000      0.000000\n",
       "50%    47434.50000     35.000000      0.000000      0.000000\n",
       "75%    70961.50000     45.000000      0.000000      0.000000\n",
       "max    94610.00000    100.000000      4.000000      1.000000"
      ]
     },
     "execution_count": 59,
     "metadata": {},
     "output_type": "execute_result"
    }
   ],
   "source": [
    "df_socdem.describe()"
   ]
  },
  {
   "cell_type": "markdown",
   "metadata": {},
   "source": [
    "Заметим, что максимальное значение возраста может достигать значения 100, так что, вероятно, это может быть выбросом. Проверим это в разделе \"Удаление выбросов\". "
   ]
  },
  {
   "cell_type": "code",
   "execution_count": 63,
   "metadata": {
    "colab": {
     "base_uri": "https://localhost:8080/",
     "height": 448
    },
    "id": "R9Wra_sxjQNa",
    "outputId": "18edad45-0902-49a4-f7df-ded702269ba1"
   },
   "outputs": [
    {
     "data": {
      "image/png": "[encoded data removed]",
      "text/plain": [
       "<Figure size 648x288 with 2 Axes>"
      ]
     },
     "metadata": {},
     "output_type": "display_data"
    }
   ],
   "source": [
    "fig, (ax1, ax2) = plt.subplots(1,2, figsize=(9,4))\n",
    "\n",
    "female = df_socdem[df_socdem['gender_cd'] == 'F']\n",
    "male = df_socdem[df_socdem['gender_cd'] == 'M']\n",
    "\n",
    "sns.distplot(female['age'], bins=12 ,ax=ax1)\n",
    "sns.distplot(male['age'], bins=12, ax=ax2)\n",
    "\n",
    "ax1.set_title('Age distr among females');\n",
    "ax2.set_title('Age distr among males');"
   ]
  },
  {
   "cell_type": "markdown",
   "metadata": {},
   "source": [
    "По графику можно сделать вывод, что возраст мужчин в среднем больше, чем возраст женщин. "
   ]
  },
  {
   "cell_type": "markdown",
   "metadata": {
    "id": "UN3Xx_8GjQNa"
   },
   "source": [
    "Добавим категориальный признак AgeGroup, позволяющий разделить всех клиентов на 6 групп в соответствии с их возрастом:"
   ]
  },
  {
   "cell_type": "code",
   "execution_count": 84,
   "metadata": {
    "id": "ux3ij6Uv_7mg"
   },
   "outputs": [],
   "source": [
    "df_socdem.loc[(df_socdem.age < 21),  'AgeGroup'] = '0-21'\n",
    "df_socdem.loc[(21 <= df_socdem.age),  'AgeGroup'] = '21-29'\n",
    "df_socdem.loc[(30 <= df_socdem.age),  'AgeGroup'] = '30-40'\n",
    "df_socdem.loc[(41 <= df_socdem.age),  'AgeGroup'] = '41-54'\n",
    "df_socdem.loc[(54 <= df_socdem.age),  'AgeGroup'] = '55-65'\n",
    "df_socdem.loc[(65 <= df_socdem.age),  'AgeGroup'] = '65+'"
   ]
  },
  {
   "cell_type": "code",
   "execution_count": 72,
   "metadata": {
    "colab": {
     "base_uri": "https://localhost:8080/",
     "height": 414
    },
    "id": "ZTnk0uZAAMkx",
    "outputId": "d784445e-63d2-4efd-8bf9-4fb4dd1d6ce3",
    "scrolled": true
   },
   "outputs": [
    {
     "data": {
      "text/html": [
       "<div>\n",
       "<style scoped>\n",
       "    .dataframe tbody tr th:only-of-type {\n",
       "        vertical-align: middle;\n",
       "    }\n",
       "\n",
       "    .dataframe tbody tr th {\n",
       "        vertical-align: top;\n",
       "    }\n",
       "\n",
       "    .dataframe thead th {\n",
       "        text-align: right;\n",
       "    }\n",
       "</style>\n",
       "<table border=\"1\" class=\"dataframe\">\n",
       "  <thead>\n",
       "    <tr style=\"text-align: right;\">\n",
       "      <th></th>\n",
       "      <th>party_rk</th>\n",
       "      <th>gender_cd</th>\n",
       "      <th>age</th>\n",
       "      <th>marital_status_desc</th>\n",
       "      <th>children_cnt</th>\n",
       "      <th>region_flg</th>\n",
       "      <th>AgeGroup</th>\n",
       "    </tr>\n",
       "  </thead>\n",
       "  <tbody>\n",
       "    <tr>\n",
       "      <th>0</th>\n",
       "      <td>61243</td>\n",
       "      <td>F</td>\n",
       "      <td>70.0</td>\n",
       "      <td>NaN</td>\n",
       "      <td>0</td>\n",
       "      <td>0</td>\n",
       "      <td>65+</td>\n",
       "    </tr>\n",
       "    <tr>\n",
       "      <th>1</th>\n",
       "      <td>66535</td>\n",
       "      <td>F</td>\n",
       "      <td>25.0</td>\n",
       "      <td>NaN</td>\n",
       "      <td>0</td>\n",
       "      <td>0</td>\n",
       "      <td>21-29</td>\n",
       "    </tr>\n",
       "    <tr>\n",
       "      <th>2</th>\n",
       "      <td>83721</td>\n",
       "      <td>M</td>\n",
       "      <td>55.0</td>\n",
       "      <td>Женат/замужем</td>\n",
       "      <td>0</td>\n",
       "      <td>0</td>\n",
       "      <td>55-65</td>\n",
       "    </tr>\n",
       "    <tr>\n",
       "      <th>3</th>\n",
       "      <td>88238</td>\n",
       "      <td>F</td>\n",
       "      <td>35.0</td>\n",
       "      <td>NaN</td>\n",
       "      <td>0</td>\n",
       "      <td>0</td>\n",
       "      <td>30-40</td>\n",
       "    </tr>\n",
       "    <tr>\n",
       "      <th>4</th>\n",
       "      <td>57179</td>\n",
       "      <td>F</td>\n",
       "      <td>30.0</td>\n",
       "      <td>Женат/замужем</td>\n",
       "      <td>0</td>\n",
       "      <td>0</td>\n",
       "      <td>30-40</td>\n",
       "    </tr>\n",
       "    <tr>\n",
       "      <th>...</th>\n",
       "      <td>...</td>\n",
       "      <td>...</td>\n",
       "      <td>...</td>\n",
       "      <td>...</td>\n",
       "      <td>...</td>\n",
       "      <td>...</td>\n",
       "      <td>...</td>\n",
       "    </tr>\n",
       "    <tr>\n",
       "      <th>49995</th>\n",
       "      <td>54994</td>\n",
       "      <td>M</td>\n",
       "      <td>40.0</td>\n",
       "      <td>Женат/замужем</td>\n",
       "      <td>0</td>\n",
       "      <td>0</td>\n",
       "      <td>30-40</td>\n",
       "    </tr>\n",
       "    <tr>\n",
       "      <th>49996</th>\n",
       "      <td>63391</td>\n",
       "      <td>M</td>\n",
       "      <td>35.0</td>\n",
       "      <td>Холост/не замужем</td>\n",
       "      <td>0</td>\n",
       "      <td>0</td>\n",
       "      <td>30-40</td>\n",
       "    </tr>\n",
       "    <tr>\n",
       "      <th>49997</th>\n",
       "      <td>5418</td>\n",
       "      <td>F</td>\n",
       "      <td>55.0</td>\n",
       "      <td>Холост/не замужем</td>\n",
       "      <td>0</td>\n",
       "      <td>0</td>\n",
       "      <td>55-65</td>\n",
       "    </tr>\n",
       "    <tr>\n",
       "      <th>49998</th>\n",
       "      <td>50273</td>\n",
       "      <td>F</td>\n",
       "      <td>35.0</td>\n",
       "      <td>Женат/замужем</td>\n",
       "      <td>0</td>\n",
       "      <td>0</td>\n",
       "      <td>30-40</td>\n",
       "    </tr>\n",
       "    <tr>\n",
       "      <th>49999</th>\n",
       "      <td>77268</td>\n",
       "      <td>F</td>\n",
       "      <td>35.0</td>\n",
       "      <td>NaN</td>\n",
       "      <td>0</td>\n",
       "      <td>0</td>\n",
       "      <td>30-40</td>\n",
       "    </tr>\n",
       "  </tbody>\n",
       "</table>\n",
       "<p>50000 rows × 7 columns</p>\n",
       "</div>"
      ],
      "text/plain": [
       "       party_rk gender_cd   age marital_status_desc  children_cnt  region_flg  \\\n",
       "0         61243         F  70.0                 NaN             0           0   \n",
       "1         66535         F  25.0                 NaN             0           0   \n",
       "2         83721         M  55.0       Женат/замужем             0           0   \n",
       "3         88238         F  35.0                 NaN             0           0   \n",
       "4         57179         F  30.0       Женат/замужем             0           0   \n",
       "...         ...       ...   ...                 ...           ...         ...   \n",
       "49995     54994         M  40.0       Женат/замужем             0           0   \n",
       "49996     63391         M  35.0   Холост/не замужем             0           0   \n",
       "49997      5418         F  55.0   Холост/не замужем             0           0   \n",
       "49998     50273         F  35.0       Женат/замужем             0           0   \n",
       "49999     77268         F  35.0                 NaN             0           0   \n",
       "\n",
       "      AgeGroup  \n",
       "0          65+  \n",
       "1        21-29  \n",
       "2        55-65  \n",
       "3        30-40  \n",
       "4        30-40  \n",
       "...        ...  \n",
       "49995    30-40  \n",
       "49996    30-40  \n",
       "49997    55-65  \n",
       "49998    30-40  \n",
       "49999    30-40  \n",
       "\n",
       "[50000 rows x 7 columns]"
      ]
     },
     "execution_count": 72,
     "metadata": {},
     "output_type": "execute_result"
    }
   ],
   "source": [
    "df_socdem"
   ]
  },
  {
   "cell_type": "code",
   "execution_count": 85,
   "metadata": {},
   "outputs": [],
   "source": [
    "# удалим ненужный столбец\n",
    "del df_socdem['age']"
   ]
  },
  {
   "cell_type": "markdown",
   "metadata": {},
   "source": [
    "##### Заполнение пропусков <a class=\"anchor\" id=\"ch2223\"></a>"
   ]
  },
  {
   "cell_type": "code",
   "execution_count": 76,
   "metadata": {},
   "outputs": [
    {
     "name": "stdout",
     "output_type": "stream",
     "text": [
      "\n",
      "Количество пропущенных значений:\n"
     ]
    },
    {
     "data": {
      "text/html": [
       "<div>\n",
       "<style scoped>\n",
       "    .dataframe tbody tr th:only-of-type {\n",
       "        vertical-align: middle;\n",
       "    }\n",
       "\n",
       "    .dataframe tbody tr th {\n",
       "        vertical-align: top;\n",
       "    }\n",
       "\n",
       "    .dataframe thead th {\n",
       "        text-align: right;\n",
       "    }\n",
       "</style>\n",
       "<table border=\"1\" class=\"dataframe\">\n",
       "  <thead>\n",
       "    <tr style=\"text-align: right;\">\n",
       "      <th></th>\n",
       "      <th>marital_status_desc</th>\n",
       "      <th>gender_cd</th>\n",
       "      <th>party_rk</th>\n",
       "      <th>children_cnt</th>\n",
       "      <th>region_flg</th>\n",
       "      <th>AgeGroup</th>\n",
       "    </tr>\n",
       "  </thead>\n",
       "  <tbody>\n",
       "    <tr>\n",
       "      <th>0</th>\n",
       "      <td>12406</td>\n",
       "      <td>11</td>\n",
       "      <td>0</td>\n",
       "      <td>0</td>\n",
       "      <td>0</td>\n",
       "      <td>0</td>\n",
       "    </tr>\n",
       "  </tbody>\n",
       "</table>\n",
       "</div>"
      ],
      "text/plain": [
       "   marital_status_desc  gender_cd  party_rk  children_cnt  region_flg  \\\n",
       "0                12406         11         0             0           0   \n",
       "\n",
       "   AgeGroup  \n",
       "0         0  "
      ]
     },
     "execution_count": 76,
     "metadata": {},
     "output_type": "execute_result"
    }
   ],
   "source": [
    "print(\"\\nКоличество пропущенных значений до заполнения пропусков:\")\n",
    "df_socdem.isna().sum().to_frame().sort_values(0, ascending = False).T"
   ]
  },
  {
   "cell_type": "markdown",
   "metadata": {},
   "source": [
    "Вместо пропущенных значений в колонках 'marital_status_desc' и 'gender_cd' запишем значение unknown, что будет означать, что пользователь не указала своего статуса или пола. "
   ]
  },
  {
   "cell_type": "code",
   "execution_count": 86,
   "metadata": {},
   "outputs": [],
   "source": [
    "df_socdem['gender_cd'] = df_socdem['gender_cd'].fillna('unknown')\n",
    "df_socdem['marital_status_desc'] = df_socdem['marital_status_desc'].fillna('unknown')"
   ]
  },
  {
   "cell_type": "code",
   "execution_count": 78,
   "metadata": {},
   "outputs": [
    {
     "name": "stdout",
     "output_type": "stream",
     "text": [
      "\n",
      "Количество пропущенных значений после заполнения пропусков:\n"
     ]
    },
    {
     "data": {
      "text/html": [
       "<div>\n",
       "<style scoped>\n",
       "    .dataframe tbody tr th:only-of-type {\n",
       "        vertical-align: middle;\n",
       "    }\n",
       "\n",
       "    .dataframe tbody tr th {\n",
       "        vertical-align: top;\n",
       "    }\n",
       "\n",
       "    .dataframe thead th {\n",
       "        text-align: right;\n",
       "    }\n",
       "</style>\n",
       "<table border=\"1\" class=\"dataframe\">\n",
       "  <thead>\n",
       "    <tr style=\"text-align: right;\">\n",
       "      <th></th>\n",
       "      <th>party_rk</th>\n",
       "      <th>gender_cd</th>\n",
       "      <th>marital_status_desc</th>\n",
       "      <th>children_cnt</th>\n",
       "      <th>region_flg</th>\n",
       "      <th>AgeGroup</th>\n",
       "    </tr>\n",
       "  </thead>\n",
       "  <tbody>\n",
       "    <tr>\n",
       "      <th>0</th>\n",
       "      <td>0</td>\n",
       "      <td>0</td>\n",
       "      <td>0</td>\n",
       "      <td>0</td>\n",
       "      <td>0</td>\n",
       "      <td>0</td>\n",
       "    </tr>\n",
       "  </tbody>\n",
       "</table>\n",
       "</div>"
      ],
      "text/plain": [
       "   party_rk  gender_cd  marital_status_desc  children_cnt  region_flg  \\\n",
       "0         0          0                    0             0           0   \n",
       "\n",
       "   AgeGroup  \n",
       "0         0  "
      ]
     },
     "execution_count": 78,
     "metadata": {},
     "output_type": "execute_result"
    }
   ],
   "source": [
    "print(\"\\nКоличество пропущенных значений после заполнения пропусков:\")\n",
    "df_socdem.isna().sum().to_frame().sort_values(0, ascending = False).T"
   ]
  },
  {
   "cell_type": "markdown",
   "metadata": {
    "id": "U6jFw9LcjQNb"
   },
   "source": [
    "##### Приведение категориальных признаков к числовому виду <a class=\"anchor\" id=\"ch2222\"></a>"
   ]
  },
  {
   "cell_type": "markdown",
   "metadata": {},
   "source": [
    "Заменим признак AgeGroup на числовые значения с помощью LabelEncoder, так как внутри этого признака сожно выявить порядок. "
   ]
  },
  {
   "cell_type": "code",
   "execution_count": 87,
   "metadata": {
    "id": "4jPElkk2CuqZ"
   },
   "outputs": [],
   "source": [
    "# AgeGroup - категориальный признак, переведем его в тип int\n",
    "le_age = preprocessing.LabelEncoder()\n",
    "le_age.fit(df_socdem['AgeGroup'])\n",
    "df_socdem['AgeGroup'] = le_age.transform(df_socdem['AgeGroup'])"
   ]
  },
  {
   "cell_type": "markdown",
   "metadata": {},
   "source": [
    "Остальные колонки 'gender_cd' и 'material_status_desc' заменим при помощи One-hot Encoding. "
   ]
  },
  {
   "cell_type": "code",
   "execution_count": 88,
   "metadata": {},
   "outputs": [],
   "source": [
    "df_socdem_num = encode_and_bind(df_socdem, 'gender_cd')\n",
    "df_socdem_num_ = encode_and_bind(df_socdem_num, 'marital_status_desc')"
   ]
  },
  {
   "cell_type": "code",
   "execution_count": 90,
   "metadata": {},
   "outputs": [],
   "source": [
    "del df_socdem_num_['marital_status_desc']\n",
    "del df_socdem_num_['gender_cd']"
   ]
  },
  {
   "cell_type": "code",
   "execution_count": 91,
   "metadata": {},
   "outputs": [
    {
     "data": {
      "text/html": [
       "<div>\n",
       "<style scoped>\n",
       "    .dataframe tbody tr th:only-of-type {\n",
       "        vertical-align: middle;\n",
       "    }\n",
       "\n",
       "    .dataframe tbody tr th {\n",
       "        vertical-align: top;\n",
       "    }\n",
       "\n",
       "    .dataframe thead th {\n",
       "        text-align: right;\n",
       "    }\n",
       "</style>\n",
       "<table border=\"1\" class=\"dataframe\">\n",
       "  <thead>\n",
       "    <tr style=\"text-align: right;\">\n",
       "      <th></th>\n",
       "      <th>party_rk</th>\n",
       "      <th>children_cnt</th>\n",
       "      <th>region_flg</th>\n",
       "      <th>AgeGroup</th>\n",
       "      <th>gender_cd_F</th>\n",
       "      <th>gender_cd_M</th>\n",
       "      <th>gender_cd_unknown</th>\n",
       "      <th>marital_status_desc_unknown</th>\n",
       "      <th>marital_status_desc_Вдовец, вдова</th>\n",
       "      <th>marital_status_desc_Гражданский брак</th>\n",
       "      <th>marital_status_desc_Женат/замужем</th>\n",
       "      <th>marital_status_desc_Не проживает с супругом (ой)</th>\n",
       "      <th>marital_status_desc_Разведен (а)</th>\n",
       "      <th>marital_status_desc_Холост/не замужем</th>\n",
       "    </tr>\n",
       "  </thead>\n",
       "  <tbody>\n",
       "    <tr>\n",
       "      <th>0</th>\n",
       "      <td>61243</td>\n",
       "      <td>0</td>\n",
       "      <td>0</td>\n",
       "      <td>5</td>\n",
       "      <td>1</td>\n",
       "      <td>0</td>\n",
       "      <td>0</td>\n",
       "      <td>1</td>\n",
       "      <td>0</td>\n",
       "      <td>0</td>\n",
       "      <td>0</td>\n",
       "      <td>0</td>\n",
       "      <td>0</td>\n",
       "      <td>0</td>\n",
       "    </tr>\n",
       "    <tr>\n",
       "      <th>1</th>\n",
       "      <td>66535</td>\n",
       "      <td>0</td>\n",
       "      <td>0</td>\n",
       "      <td>1</td>\n",
       "      <td>1</td>\n",
       "      <td>0</td>\n",
       "      <td>0</td>\n",
       "      <td>1</td>\n",
       "      <td>0</td>\n",
       "      <td>0</td>\n",
       "      <td>0</td>\n",
       "      <td>0</td>\n",
       "      <td>0</td>\n",
       "      <td>0</td>\n",
       "    </tr>\n",
       "    <tr>\n",
       "      <th>2</th>\n",
       "      <td>83721</td>\n",
       "      <td>0</td>\n",
       "      <td>0</td>\n",
       "      <td>4</td>\n",
       "      <td>0</td>\n",
       "      <td>1</td>\n",
       "      <td>0</td>\n",
       "      <td>0</td>\n",
       "      <td>0</td>\n",
       "      <td>0</td>\n",
       "      <td>1</td>\n",
       "      <td>0</td>\n",
       "      <td>0</td>\n",
       "      <td>0</td>\n",
       "    </tr>\n",
       "    <tr>\n",
       "      <th>3</th>\n",
       "      <td>88238</td>\n",
       "      <td>0</td>\n",
       "      <td>0</td>\n",
       "      <td>2</td>\n",
       "      <td>1</td>\n",
       "      <td>0</td>\n",
       "      <td>0</td>\n",
       "      <td>1</td>\n",
       "      <td>0</td>\n",
       "      <td>0</td>\n",
       "      <td>0</td>\n",
       "      <td>0</td>\n",
       "      <td>0</td>\n",
       "      <td>0</td>\n",
       "    </tr>\n",
       "    <tr>\n",
       "      <th>4</th>\n",
       "      <td>57179</td>\n",
       "      <td>0</td>\n",
       "      <td>0</td>\n",
       "      <td>2</td>\n",
       "      <td>1</td>\n",
       "      <td>0</td>\n",
       "      <td>0</td>\n",
       "      <td>0</td>\n",
       "      <td>0</td>\n",
       "      <td>0</td>\n",
       "      <td>1</td>\n",
       "      <td>0</td>\n",
       "      <td>0</td>\n",
       "      <td>0</td>\n",
       "    </tr>\n",
       "  </tbody>\n",
       "</table>\n",
       "</div>"
      ],
      "text/plain": [
       "   party_rk  children_cnt  region_flg  AgeGroup  gender_cd_F  gender_cd_M  \\\n",
       "0     61243             0           0         5            1            0   \n",
       "1     66535             0           0         1            1            0   \n",
       "2     83721             0           0         4            0            1   \n",
       "3     88238             0           0         2            1            0   \n",
       "4     57179             0           0         2            1            0   \n",
       "\n",
       "   gender_cd_unknown  marital_status_desc_unknown  \\\n",
       "0                  0                            1   \n",
       "1                  0                            1   \n",
       "2                  0                            0   \n",
       "3                  0                            1   \n",
       "4                  0                            0   \n",
       "\n",
       "   marital_status_desc_Вдовец, вдова  marital_status_desc_Гражданский брак  \\\n",
       "0                                  0                                     0   \n",
       "1                                  0                                     0   \n",
       "2                                  0                                     0   \n",
       "3                                  0                                     0   \n",
       "4                                  0                                     0   \n",
       "\n",
       "   marital_status_desc_Женат/замужем  \\\n",
       "0                                  0   \n",
       "1                                  0   \n",
       "2                                  1   \n",
       "3                                  0   \n",
       "4                                  1   \n",
       "\n",
       "   marital_status_desc_Не проживает с супругом (ой)  \\\n",
       "0                                                 0   \n",
       "1                                                 0   \n",
       "2                                                 0   \n",
       "3                                                 0   \n",
       "4                                                 0   \n",
       "\n",
       "   marital_status_desc_Разведен (а)  marital_status_desc_Холост/не замужем  \n",
       "0                                 0                                      0  \n",
       "1                                 0                                      0  \n",
       "2                                 0                                      0  \n",
       "3                                 0                                      0  \n",
       "4                                 0                                      0  "
      ]
     },
     "execution_count": 91,
     "metadata": {},
     "output_type": "execute_result"
    }
   ],
   "source": [
    "df_socdem_num_.head()"
   ]
  },
  {
   "cell_type": "markdown",
   "metadata": {
    "id": "Cbcalxrdg3uv"
   },
   "source": [
    "### df_balance <a class=\"anchor\" id=\"ch223\"></a>"
   ]
  },
  {
   "cell_type": "markdown",
   "metadata": {
    "id": "d9Ig95sVjQNd"
   },
   "source": [
    "В данной таблице содержится ежемесячная информация о изменениях баланса клиентов, где\n",
    "<ul>\n",
    "<li><strong>party_rk</strong> - уникальный идентификационный номер клиента</li> \n",
    "<li><strong>account_rk</strong> - уникальный идентификационный номер счета</li>\n",
    "<li><strong>prev_month</strong> - дата последнего дня (t-1)-го месяца в формате ГГГГ-ММ-ДД</li>\n",
    "<li><strong>cur_month</strong> - дата последнего дня t-го месяца в формате ГГГГ-ММ-ДД</li>\n",
    "<li><strong>balance_chng</strong> - изменение баланса в течение периода времени [prev_month, cur_month]</li>\n",
    "</ul>\n",
    "<strong>Первичный ключ</strong> таблицы является составным из двух атрибутов: account_rk + prev_month."
   ]
  },
  {
   "cell_type": "code",
   "execution_count": 92,
   "metadata": {
    "colab": {
     "base_uri": "https://localhost:8080/",
     "height": 202
    },
    "id": "xejy-rSTg3uv",
    "outputId": "a5828616-b722-40b6-85be-2996fdc0cc2f"
   },
   "outputs": [
    {
     "data": {
      "text/html": [
       "<div>\n",
       "<style scoped>\n",
       "    .dataframe tbody tr th:only-of-type {\n",
       "        vertical-align: middle;\n",
       "    }\n",
       "\n",
       "    .dataframe tbody tr th {\n",
       "        vertical-align: top;\n",
       "    }\n",
       "\n",
       "    .dataframe thead th {\n",
       "        text-align: right;\n",
       "    }\n",
       "</style>\n",
       "<table border=\"1\" class=\"dataframe\">\n",
       "  <thead>\n",
       "    <tr style=\"text-align: right;\">\n",
       "      <th></th>\n",
       "      <th>party_rk</th>\n",
       "      <th>account_rk</th>\n",
       "      <th>prev_month</th>\n",
       "      <th>cur_month</th>\n",
       "      <th>balance_chng</th>\n",
       "    </tr>\n",
       "  </thead>\n",
       "  <tbody>\n",
       "    <tr>\n",
       "      <th>0</th>\n",
       "      <td>51607</td>\n",
       "      <td>55309</td>\n",
       "      <td>2018-12-31</td>\n",
       "      <td>2019-01-31</td>\n",
       "      <td>15000.0</td>\n",
       "    </tr>\n",
       "    <tr>\n",
       "      <th>1</th>\n",
       "      <td>59074</td>\n",
       "      <td>70471</td>\n",
       "      <td>2018-12-31</td>\n",
       "      <td>2019-01-31</td>\n",
       "      <td>0.0</td>\n",
       "    </tr>\n",
       "    <tr>\n",
       "      <th>2</th>\n",
       "      <td>33941</td>\n",
       "      <td>33065</td>\n",
       "      <td>2018-12-31</td>\n",
       "      <td>2019-01-31</td>\n",
       "      <td>-15000.0</td>\n",
       "    </tr>\n",
       "    <tr>\n",
       "      <th>3</th>\n",
       "      <td>9336</td>\n",
       "      <td>8611</td>\n",
       "      <td>2018-12-31</td>\n",
       "      <td>2019-01-31</td>\n",
       "      <td>-50000.0</td>\n",
       "    </tr>\n",
       "    <tr>\n",
       "      <th>4</th>\n",
       "      <td>13958</td>\n",
       "      <td>8421</td>\n",
       "      <td>2018-12-31</td>\n",
       "      <td>2019-01-31</td>\n",
       "      <td>-20000.0</td>\n",
       "    </tr>\n",
       "  </tbody>\n",
       "</table>\n",
       "</div>"
      ],
      "text/plain": [
       "   party_rk  account_rk  prev_month   cur_month  balance_chng\n",
       "0     51607       55309  2018-12-31  2019-01-31       15000.0\n",
       "1     59074       70471  2018-12-31  2019-01-31           0.0\n",
       "2     33941       33065  2018-12-31  2019-01-31      -15000.0\n",
       "3      9336        8611  2018-12-31  2019-01-31      -50000.0\n",
       "4     13958        8421  2018-12-31  2019-01-31      -20000.0"
      ]
     },
     "execution_count": 92,
     "metadata": {},
     "output_type": "execute_result"
    }
   ],
   "source": [
    "df_balance.head()"
   ]
  },
  {
   "cell_type": "markdown",
   "metadata": {
    "id": "N-052NnNjQNe"
   },
   "source": [
    "##### Первичный анализ <a class=\"anchor\" id=\"ch2231\"></a>"
   ]
  },
  {
   "cell_type": "code",
   "execution_count": 93,
   "metadata": {
    "colab": {
     "base_uri": "https://localhost:8080/"
    },
    "id": "RAmWmBcjg3uw",
    "outputId": "1bf629a9-2f1a-41c9-d3eb-de3035074cfe"
   },
   "outputs": [
    {
     "name": "stdout",
     "output_type": "stream",
     "text": [
      "Количество строк: 614434, количество столбцов: 5\n"
     ]
    }
   ],
   "source": [
    "print('Количество строк: {}, количество столбцов: {}'.format(df_balance.shape[0], df_balance.shape[1]))"
   ]
  },
  {
   "cell_type": "code",
   "execution_count": 94,
   "metadata": {
    "colab": {
     "base_uri": "https://localhost:8080/"
    },
    "id": "_kTyTlOvg3ux",
    "outputId": "19f01560-db50-4537-8e28-f49a96d11b6d"
   },
   "outputs": [
    {
     "name": "stdout",
     "output_type": "stream",
     "text": [
      "<class 'pandas.core.frame.DataFrame'>\n",
      "RangeIndex: 614434 entries, 0 to 614433\n",
      "Data columns (total 5 columns):\n",
      " #   Column        Non-Null Count   Dtype  \n",
      "---  ------        --------------   -----  \n",
      " 0   party_rk      614434 non-null  int64  \n",
      " 1   account_rk    614434 non-null  int64  \n",
      " 2   prev_month    612832 non-null  object \n",
      " 3   cur_month     612832 non-null  object \n",
      " 4   balance_chng  612832 non-null  float64\n",
      "dtypes: float64(1), int64(2), object(2)\n",
      "memory usage: 23.4+ MB\n"
     ]
    }
   ],
   "source": [
    "df_balance.info()"
   ]
  },
  {
   "cell_type": "markdown",
   "metadata": {},
   "source": [
    "Переведем признаки 'prev_month' и 'cur_month' в тип datetime."
   ]
  },
  {
   "cell_type": "code",
   "execution_count": 95,
   "metadata": {},
   "outputs": [],
   "source": [
    "df_balance['prev_month'] = pd.to_datetime(df_balance['prev_month'])\n",
    "df_balance['cur_month'] = pd.to_datetime(df_balance['cur_month'])"
   ]
  },
  {
   "cell_type": "code",
   "execution_count": 96,
   "metadata": {
    "colab": {
     "base_uri": "https://localhost:8080/",
     "height": 414
    },
    "id": "Uojzl69lHQdb",
    "outputId": "e29278ad-33f3-4a24-a125-887afb93eeb3"
   },
   "outputs": [
    {
     "data": {
      "text/html": [
       "<div>\n",
       "<style scoped>\n",
       "    .dataframe tbody tr th:only-of-type {\n",
       "        vertical-align: middle;\n",
       "    }\n",
       "\n",
       "    .dataframe tbody tr th {\n",
       "        vertical-align: top;\n",
       "    }\n",
       "\n",
       "    .dataframe thead th {\n",
       "        text-align: right;\n",
       "    }\n",
       "</style>\n",
       "<table border=\"1\" class=\"dataframe\">\n",
       "  <thead>\n",
       "    <tr style=\"text-align: right;\">\n",
       "      <th></th>\n",
       "      <th>party_rk</th>\n",
       "      <th>account_rk</th>\n",
       "      <th>prev_month</th>\n",
       "      <th>cur_month</th>\n",
       "      <th>balance_chng</th>\n",
       "    </tr>\n",
       "  </thead>\n",
       "  <tbody>\n",
       "    <tr>\n",
       "      <th>0</th>\n",
       "      <td>51607</td>\n",
       "      <td>55309</td>\n",
       "      <td>2018-12-31</td>\n",
       "      <td>2019-01-31</td>\n",
       "      <td>15000.0</td>\n",
       "    </tr>\n",
       "    <tr>\n",
       "      <th>1</th>\n",
       "      <td>59074</td>\n",
       "      <td>70471</td>\n",
       "      <td>2018-12-31</td>\n",
       "      <td>2019-01-31</td>\n",
       "      <td>0.0</td>\n",
       "    </tr>\n",
       "    <tr>\n",
       "      <th>2</th>\n",
       "      <td>33941</td>\n",
       "      <td>33065</td>\n",
       "      <td>2018-12-31</td>\n",
       "      <td>2019-01-31</td>\n",
       "      <td>-15000.0</td>\n",
       "    </tr>\n",
       "    <tr>\n",
       "      <th>3</th>\n",
       "      <td>9336</td>\n",
       "      <td>8611</td>\n",
       "      <td>2018-12-31</td>\n",
       "      <td>2019-01-31</td>\n",
       "      <td>-50000.0</td>\n",
       "    </tr>\n",
       "    <tr>\n",
       "      <th>4</th>\n",
       "      <td>13958</td>\n",
       "      <td>8421</td>\n",
       "      <td>2018-12-31</td>\n",
       "      <td>2019-01-31</td>\n",
       "      <td>-20000.0</td>\n",
       "    </tr>\n",
       "    <tr>\n",
       "      <th>...</th>\n",
       "      <td>...</td>\n",
       "      <td>...</td>\n",
       "      <td>...</td>\n",
       "      <td>...</td>\n",
       "      <td>...</td>\n",
       "    </tr>\n",
       "    <tr>\n",
       "      <th>614429</th>\n",
       "      <td>13734</td>\n",
       "      <td>124222</td>\n",
       "      <td>NaT</td>\n",
       "      <td>NaT</td>\n",
       "      <td>NaN</td>\n",
       "    </tr>\n",
       "    <tr>\n",
       "      <th>614430</th>\n",
       "      <td>33502</td>\n",
       "      <td>125615</td>\n",
       "      <td>NaT</td>\n",
       "      <td>NaT</td>\n",
       "      <td>NaN</td>\n",
       "    </tr>\n",
       "    <tr>\n",
       "      <th>614431</th>\n",
       "      <td>8735</td>\n",
       "      <td>123871</td>\n",
       "      <td>NaT</td>\n",
       "      <td>NaT</td>\n",
       "      <td>NaN</td>\n",
       "    </tr>\n",
       "    <tr>\n",
       "      <th>614432</th>\n",
       "      <td>91302</td>\n",
       "      <td>122557</td>\n",
       "      <td>NaT</td>\n",
       "      <td>NaT</td>\n",
       "      <td>NaN</td>\n",
       "    </tr>\n",
       "    <tr>\n",
       "      <th>614433</th>\n",
       "      <td>25510</td>\n",
       "      <td>124828</td>\n",
       "      <td>NaT</td>\n",
       "      <td>NaT</td>\n",
       "      <td>NaN</td>\n",
       "    </tr>\n",
       "  </tbody>\n",
       "</table>\n",
       "<p>614434 rows × 5 columns</p>\n",
       "</div>"
      ],
      "text/plain": [
       "        party_rk  account_rk prev_month  cur_month  balance_chng\n",
       "0          51607       55309 2018-12-31 2019-01-31       15000.0\n",
       "1          59074       70471 2018-12-31 2019-01-31           0.0\n",
       "2          33941       33065 2018-12-31 2019-01-31      -15000.0\n",
       "3           9336        8611 2018-12-31 2019-01-31      -50000.0\n",
       "4          13958        8421 2018-12-31 2019-01-31      -20000.0\n",
       "...          ...         ...        ...        ...           ...\n",
       "614429     13734      124222        NaT        NaT           NaN\n",
       "614430     33502      125615        NaT        NaT           NaN\n",
       "614431      8735      123871        NaT        NaT           NaN\n",
       "614432     91302      122557        NaT        NaT           NaN\n",
       "614433     25510      124828        NaT        NaT           NaN\n",
       "\n",
       "[614434 rows x 5 columns]"
      ]
     },
     "execution_count": 96,
     "metadata": {},
     "output_type": "execute_result"
    }
   ],
   "source": [
    "df_balance"
   ]
  },
  {
   "cell_type": "markdown",
   "metadata": {
    "id": "onkID43KjQNg"
   },
   "source": [
    "##### Заполнение пропусков <a class=\"anchor\" id=\"ch2233\"></a>"
   ]
  },
  {
   "cell_type": "code",
   "execution_count": 97,
   "metadata": {},
   "outputs": [
    {
     "name": "stdout",
     "output_type": "stream",
     "text": [
      "\n",
      "Количество пропущенных значений до заполнения пропусков:\n"
     ]
    },
    {
     "data": {
      "text/html": [
       "<div>\n",
       "<style scoped>\n",
       "    .dataframe tbody tr th:only-of-type {\n",
       "        vertical-align: middle;\n",
       "    }\n",
       "\n",
       "    .dataframe tbody tr th {\n",
       "        vertical-align: top;\n",
       "    }\n",
       "\n",
       "    .dataframe thead th {\n",
       "        text-align: right;\n",
       "    }\n",
       "</style>\n",
       "<table border=\"1\" class=\"dataframe\">\n",
       "  <thead>\n",
       "    <tr style=\"text-align: right;\">\n",
       "      <th></th>\n",
       "      <th>prev_month</th>\n",
       "      <th>cur_month</th>\n",
       "      <th>balance_chng</th>\n",
       "      <th>party_rk</th>\n",
       "      <th>account_rk</th>\n",
       "    </tr>\n",
       "  </thead>\n",
       "  <tbody>\n",
       "    <tr>\n",
       "      <th>0</th>\n",
       "      <td>1602</td>\n",
       "      <td>1602</td>\n",
       "      <td>1602</td>\n",
       "      <td>0</td>\n",
       "      <td>0</td>\n",
       "    </tr>\n",
       "  </tbody>\n",
       "</table>\n",
       "</div>"
      ],
      "text/plain": [
       "   prev_month  cur_month  balance_chng  party_rk  account_rk\n",
       "0        1602       1602          1602         0           0"
      ]
     },
     "execution_count": 97,
     "metadata": {},
     "output_type": "execute_result"
    }
   ],
   "source": [
    "print(\"\\nКоличество пропущенных значений до заполнения пропусков:\")\n",
    "df_balance.isna().sum().to_frame().sort_values(0, ascending = False).T"
   ]
  },
  {
   "cell_type": "markdown",
   "metadata": {},
   "source": [
    "В тех строчках, где у нас пропущенные значения 'prev_month' и 'cur_month', нет смысла вставлять туда  моду, так как мы работаем с датами."
   ]
  },
  {
   "cell_type": "code",
   "execution_count": 98,
   "metadata": {
    "id": "OgIzaPaJF23w"
   },
   "outputs": [],
   "source": [
    "df_balance = df_balance.dropna(subset=[\"prev_month\"],axis =0)\n",
    "df_balance = df_balance.dropna(subset=[\"cur_month\"],axis = 0)"
   ]
  },
  {
   "cell_type": "code",
   "execution_count": 99,
   "metadata": {
    "colab": {
     "base_uri": "https://localhost:8080/",
     "height": 414
    },
    "id": "z2HoHMkYjQNh",
    "outputId": "04fa5c51-102b-4ee3-c666-bec305d562d0"
   },
   "outputs": [
    {
     "name": "stdout",
     "output_type": "stream",
     "text": [
      "\n",
      "Количество пропущенных значений до заполнения пропусков:\n"
     ]
    },
    {
     "data": {
      "text/html": [
       "<div>\n",
       "<style scoped>\n",
       "    .dataframe tbody tr th:only-of-type {\n",
       "        vertical-align: middle;\n",
       "    }\n",
       "\n",
       "    .dataframe tbody tr th {\n",
       "        vertical-align: top;\n",
       "    }\n",
       "\n",
       "    .dataframe thead th {\n",
       "        text-align: right;\n",
       "    }\n",
       "</style>\n",
       "<table border=\"1\" class=\"dataframe\">\n",
       "  <thead>\n",
       "    <tr style=\"text-align: right;\">\n",
       "      <th></th>\n",
       "      <th>party_rk</th>\n",
       "      <th>account_rk</th>\n",
       "      <th>prev_month</th>\n",
       "      <th>cur_month</th>\n",
       "      <th>balance_chng</th>\n",
       "    </tr>\n",
       "  </thead>\n",
       "  <tbody>\n",
       "    <tr>\n",
       "      <th>0</th>\n",
       "      <td>0</td>\n",
       "      <td>0</td>\n",
       "      <td>0</td>\n",
       "      <td>0</td>\n",
       "      <td>0</td>\n",
       "    </tr>\n",
       "  </tbody>\n",
       "</table>\n",
       "</div>"
      ],
      "text/plain": [
       "   party_rk  account_rk  prev_month  cur_month  balance_chng\n",
       "0         0           0           0          0             0"
      ]
     },
     "execution_count": 99,
     "metadata": {},
     "output_type": "execute_result"
    }
   ],
   "source": [
    "print(\"\\nКоличество пропущенных значений до заполнения пропусков:\")\n",
    "df_balance.isna().sum().to_frame().sort_values(0, ascending = False).T"
   ]
  },
  {
   "cell_type": "markdown",
   "metadata": {},
   "source": [
    "##### Удаление выбросов <a class=\"anchor\" id=\"ch2233\"></a>"
   ]
  },
  {
   "cell_type": "code",
   "execution_count": 101,
   "metadata": {},
   "outputs": [
    {
     "data": {
      "image/png": "[encoded data removed]",
      "text/plain": [
       "<Figure size 432x288 with 1 Axes>"
      ]
     },
     "metadata": {},
     "output_type": "display_data"
    }
   ],
   "source": [
    "sns.boxplot(x=df_balance['balance_chng']);"
   ]
  },
  {
   "cell_type": "code",
   "execution_count": 102,
   "metadata": {},
   "outputs": [],
   "source": [
    "Q1 = df_balance['balance_chng'].quantile(0.25)\n",
    "Q3 = df_balance['balance_chng'].quantile(0.75)\n",
    "IQR = Q3 - Q1\n",
    "df_balance_out = df_balance[~((df_balance['balance_chng'] < (Q1 - 1.5 * IQR)) | (df_balance['balance_chng'] > (Q3 + 1.5 * IQR)))]"
   ]
  },
  {
   "cell_type": "code",
   "execution_count": 103,
   "metadata": {},
   "outputs": [
    {
     "name": "stdout",
     "output_type": "stream",
     "text": [
      "Количество строк до удаления выбросов: 612832, количество столбцов: 5\n",
      "Количество строк после удаления выбросов: 466458, количество столбцов: 5\n"
     ]
    }
   ],
   "source": [
    "print('Количество строк до удаления выбросов: {}, количество столбцов: {}'.format(df_balance.shape[0], df_balance.shape[1]))\n",
    "print('Количество строк после удаления выбросов: {}, количество столбцов: {}'.format(df_balance_out.shape[0], df_balance_out.shape[1]))"
   ]
  },
  {
   "cell_type": "code",
   "execution_count": 104,
   "metadata": {},
   "outputs": [
    {
     "data": {
      "image/png": "[encoded data removed]",
      "text/plain": [
       "<Figure size 432x288 with 1 Axes>"
      ]
     },
     "metadata": {},
     "output_type": "display_data"
    }
   ],
   "source": [
    "sns.boxplot(x=df_balance_out['balance_chng']);"
   ]
  },
  {
   "cell_type": "code",
   "execution_count": 105,
   "metadata": {},
   "outputs": [
    {
     "data": {
      "text/html": [
       "<div>\n",
       "<style scoped>\n",
       "    .dataframe tbody tr th:only-of-type {\n",
       "        vertical-align: middle;\n",
       "    }\n",
       "\n",
       "    .dataframe tbody tr th {\n",
       "        vertical-align: top;\n",
       "    }\n",
       "\n",
       "    .dataframe thead th {\n",
       "        text-align: right;\n",
       "    }\n",
       "</style>\n",
       "<table border=\"1\" class=\"dataframe\">\n",
       "  <thead>\n",
       "    <tr style=\"text-align: right;\">\n",
       "      <th></th>\n",
       "      <th>party_rk</th>\n",
       "      <th>account_rk</th>\n",
       "      <th>prev_month</th>\n",
       "      <th>cur_month</th>\n",
       "      <th>balance_chng</th>\n",
       "    </tr>\n",
       "  </thead>\n",
       "  <tbody>\n",
       "    <tr>\n",
       "      <th>1</th>\n",
       "      <td>59074</td>\n",
       "      <td>70471</td>\n",
       "      <td>2018-12-31</td>\n",
       "      <td>2019-01-31</td>\n",
       "      <td>0.0</td>\n",
       "    </tr>\n",
       "    <tr>\n",
       "      <th>5</th>\n",
       "      <td>46840</td>\n",
       "      <td>48834</td>\n",
       "      <td>2018-12-31</td>\n",
       "      <td>2019-01-31</td>\n",
       "      <td>-5000.0</td>\n",
       "    </tr>\n",
       "    <tr>\n",
       "      <th>6</th>\n",
       "      <td>51748</td>\n",
       "      <td>52590</td>\n",
       "      <td>2018-12-31</td>\n",
       "      <td>2019-01-31</td>\n",
       "      <td>0.0</td>\n",
       "    </tr>\n",
       "    <tr>\n",
       "      <th>7</th>\n",
       "      <td>11781</td>\n",
       "      <td>8193</td>\n",
       "      <td>2018-12-31</td>\n",
       "      <td>2019-01-31</td>\n",
       "      <td>-10000.0</td>\n",
       "    </tr>\n",
       "    <tr>\n",
       "      <th>8</th>\n",
       "      <td>4489</td>\n",
       "      <td>3769</td>\n",
       "      <td>2018-12-31</td>\n",
       "      <td>2019-01-31</td>\n",
       "      <td>0.0</td>\n",
       "    </tr>\n",
       "  </tbody>\n",
       "</table>\n",
       "</div>"
      ],
      "text/plain": [
       "   party_rk  account_rk prev_month  cur_month  balance_chng\n",
       "1     59074       70471 2018-12-31 2019-01-31           0.0\n",
       "5     46840       48834 2018-12-31 2019-01-31       -5000.0\n",
       "6     51748       52590 2018-12-31 2019-01-31           0.0\n",
       "7     11781        8193 2018-12-31 2019-01-31      -10000.0\n",
       "8      4489        3769 2018-12-31 2019-01-31           0.0"
      ]
     },
     "execution_count": 105,
     "metadata": {},
     "output_type": "execute_result"
    }
   ],
   "source": [
    "df_balance_out.head()"
   ]
  },
  {
   "cell_type": "markdown",
   "metadata": {
    "id": "D4wHQonAg3u0"
   },
   "source": [
    "### df_stories_texts <a class=\"anchor\" id=\"ch224\"></a>"
   ]
  },
  {
   "cell_type": "markdown",
   "metadata": {
    "id": "QirP4sZvjQNh"
   },
   "source": [
    "В данной таблице содержится информация об историях, выкладываемых Тинькоффом, где\n",
    "<ul>\n",
    "<li><strong>story_id</strong> - уникальный идентификационный номер истории</li> \n",
    "<li><strong>name</strong> - заголовок истории</li>\n",
    "<li><strong>story_text</strong> - текст истории</li>\n",
    "</ul>\n",
    "<strong>Первичным ключом</strong> таблицы является атрибут story_id."
   ]
  },
  {
   "cell_type": "code",
   "execution_count": null,
   "metadata": {
    "colab": {
     "base_uri": "https://localhost:8080/",
     "height": 202
    },
    "id": "epI7MGmgg3u1",
    "outputId": "650d5b6e-ec93-4200-d555-d207a5fe3d1d"
   },
   "outputs": [
    {
     "data": {
      "text/html": [
       "<div>\n",
       "<style scoped>\n",
       "    .dataframe tbody tr th:only-of-type {\n",
       "        vertical-align: middle;\n",
       "    }\n",
       "\n",
       "    .dataframe tbody tr th {\n",
       "        vertical-align: top;\n",
       "    }\n",
       "\n",
       "    .dataframe thead th {\n",
       "        text-align: right;\n",
       "    }\n",
       "</style>\n",
       "<table border=\"1\" class=\"dataframe\">\n",
       "  <thead>\n",
       "    <tr style=\"text-align: right;\">\n",
       "      <th></th>\n",
       "      <th>story_id</th>\n",
       "      <th>name</th>\n",
       "      <th>story_text</th>\n",
       "    </tr>\n",
       "  </thead>\n",
       "  <tbody>\n",
       "    <tr>\n",
       "      <th>0</th>\n",
       "      <td>794</td>\n",
       "      <td>Профессия: свадебный организатор</td>\n",
       "      <td>[\"\",\"Как стать свадебным организатором\",\"Это Л...</td>\n",
       "    </tr>\n",
       "    <tr>\n",
       "      <th>1</th>\n",
       "      <td>821</td>\n",
       "      <td>Бизнес: магазин электроники</td>\n",
       "      <td>[\"\",\"Как открыть интернет-магазин электроники\"...</td>\n",
       "    </tr>\n",
       "    <tr>\n",
       "      <th>2</th>\n",
       "      <td>824</td>\n",
       "      <td>Как у них: Сингапур</td>\n",
       "      <td>[\"\",\"Жизнь в Сингапуре\",\"Это Славина. Вместе с...</td>\n",
       "    </tr>\n",
       "    <tr>\n",
       "      <th>3</th>\n",
       "      <td>839</td>\n",
       "      <td>Студии йоги</td>\n",
       "      <td>[\"\",\"Студии йоги\",\"7 московских студий, где мо...</td>\n",
       "    </tr>\n",
       "    <tr>\n",
       "      <th>4</th>\n",
       "      <td>848</td>\n",
       "      <td>Как получать больше кэшбэка</td>\n",
       "      <td>[\"\",\"Как получать больше кэшбэка\",\"Подключите ...</td>\n",
       "    </tr>\n",
       "  </tbody>\n",
       "</table>\n",
       "</div>"
      ],
      "text/plain": [
       "   story_id  ...                                         story_text\n",
       "0       794  ...  [\"\",\"Как стать свадебным организатором\",\"Это Л...\n",
       "1       821  ...  [\"\",\"Как открыть интернет-магазин электроники\"...\n",
       "2       824  ...  [\"\",\"Жизнь в Сингапуре\",\"Это Славина. Вместе с...\n",
       "3       839  ...  [\"\",\"Студии йоги\",\"7 московских студий, где мо...\n",
       "4       848  ...  [\"\",\"Как получать больше кэшбэка\",\"Подключите ...\n",
       "\n",
       "[5 rows x 3 columns]"
      ]
     },
     "execution_count": 41,
     "metadata": {},
     "output_type": "execute_result"
    }
   ],
   "source": [
    "df_story_texts.head()"
   ]
  },
  {
   "cell_type": "markdown",
   "metadata": {
    "id": "kmaiL4wkjQNh"
   },
   "source": [
    "##### Первичный анализ <a class=\"anchor\" id=\"ch2241\"></a>"
   ]
  },
  {
   "cell_type": "code",
   "execution_count": null,
   "metadata": {
    "id": "k6NB0UKIjQNh",
    "outputId": "4f591da5-bcf2-492a-e4ea-3c7d96796774"
   },
   "outputs": [
    {
     "name": "stdout",
     "output_type": "stream",
     "text": [
      "Количество строк: 1631, количество столбцов: 3\n"
     ]
    }
   ],
   "source": [
    "print('Количество строк: {}, количество столбцов: {}'.format(df_story_texts.shape[0], df_story_texts.shape[1]))"
   ]
  },
  {
   "cell_type": "code",
   "execution_count": null,
   "metadata": {
    "colab": {
     "base_uri": "https://localhost:8080/"
    },
    "id": "jAWydCtC5Qvv",
    "outputId": "2167fa65-c030-472f-8c32-11e8adfdc30c"
   },
   "outputs": [
    {
     "name": "stdout",
     "output_type": "stream",
     "text": [
      "<class 'pandas.core.frame.DataFrame'>\n",
      "RangeIndex: 1631 entries, 0 to 1630\n",
      "Data columns (total 3 columns):\n",
      " #   Column      Non-Null Count  Dtype \n",
      "---  ------      --------------  ----- \n",
      " 0   story_id    1631 non-null   int64 \n",
      " 1   name        1401 non-null   object\n",
      " 2   story_text  1631 non-null   object\n",
      "dtypes: int64(1), object(2)\n",
      "memory usage: 38.4+ KB\n"
     ]
    }
   ],
   "source": [
    "df_story_texts.info()"
   ]
  },
  {
   "cell_type": "markdown",
   "metadata": {
    "id": "HT246EmgjQNi"
   },
   "source": [
    "##### Заполнение пропусков <a class=\"anchor\" id=\"ch2243\"></a>"
   ]
  },
  {
   "cell_type": "code",
   "execution_count": 106,
   "metadata": {
    "colab": {
     "base_uri": "https://localhost:8080/",
     "height": 112
    },
    "id": "YYGwjFM0g3u3",
    "outputId": "3f667223-dc11-4b6d-f24e-259870248f06"
   },
   "outputs": [
    {
     "name": "stdout",
     "output_type": "stream",
     "text": [
      "\n",
      "Количество пропущенных значений:\n"
     ]
    },
    {
     "data": {
      "text/html": [
       "<div>\n",
       "<style scoped>\n",
       "    .dataframe tbody tr th:only-of-type {\n",
       "        vertical-align: middle;\n",
       "    }\n",
       "\n",
       "    .dataframe tbody tr th {\n",
       "        vertical-align: top;\n",
       "    }\n",
       "\n",
       "    .dataframe thead th {\n",
       "        text-align: right;\n",
       "    }\n",
       "</style>\n",
       "<table border=\"1\" class=\"dataframe\">\n",
       "  <thead>\n",
       "    <tr style=\"text-align: right;\">\n",
       "      <th></th>\n",
       "      <th>name</th>\n",
       "      <th>story_id</th>\n",
       "      <th>story_text</th>\n",
       "    </tr>\n",
       "  </thead>\n",
       "  <tbody>\n",
       "    <tr>\n",
       "      <th>0</th>\n",
       "      <td>230</td>\n",
       "      <td>0</td>\n",
       "      <td>0</td>\n",
       "    </tr>\n",
       "  </tbody>\n",
       "</table>\n",
       "</div>"
      ],
      "text/plain": [
       "   name  story_id  story_text\n",
       "0   230         0           0"
      ]
     },
     "execution_count": 106,
     "metadata": {},
     "output_type": "execute_result"
    }
   ],
   "source": [
    "print(\"\\nКоличество пропущенных значений:\")\n",
    "df_story_texts.isna().sum().to_frame().sort_values(0, ascending = False).T"
   ]
  },
  {
   "cell_type": "code",
   "execution_count": 107,
   "metadata": {},
   "outputs": [],
   "source": [
    "df_story_texts['name'] = df_story_texts['name'].fillna('Unknown')"
   ]
  },
  {
   "cell_type": "code",
   "execution_count": 108,
   "metadata": {},
   "outputs": [
    {
     "name": "stdout",
     "output_type": "stream",
     "text": [
      "\n",
      "Количество пропущенных значений:\n"
     ]
    },
    {
     "data": {
      "text/html": [
       "<div>\n",
       "<style scoped>\n",
       "    .dataframe tbody tr th:only-of-type {\n",
       "        vertical-align: middle;\n",
       "    }\n",
       "\n",
       "    .dataframe tbody tr th {\n",
       "        vertical-align: top;\n",
       "    }\n",
       "\n",
       "    .dataframe thead th {\n",
       "        text-align: right;\n",
       "    }\n",
       "</style>\n",
       "<table border=\"1\" class=\"dataframe\">\n",
       "  <thead>\n",
       "    <tr style=\"text-align: right;\">\n",
       "      <th></th>\n",
       "      <th>story_id</th>\n",
       "      <th>name</th>\n",
       "      <th>story_text</th>\n",
       "    </tr>\n",
       "  </thead>\n",
       "  <tbody>\n",
       "    <tr>\n",
       "      <th>0</th>\n",
       "      <td>0</td>\n",
       "      <td>0</td>\n",
       "      <td>0</td>\n",
       "    </tr>\n",
       "  </tbody>\n",
       "</table>\n",
       "</div>"
      ],
      "text/plain": [
       "   story_id  name  story_text\n",
       "0         0     0           0"
      ]
     },
     "execution_count": 108,
     "metadata": {},
     "output_type": "execute_result"
    }
   ],
   "source": [
    "print(\"\\nКоличество пропущенных значений:\")\n",
    "df_story_texts.isna().sum().to_frame().sort_values(0, ascending = False).T"
   ]
  },
  {
   "cell_type": "code",
   "execution_count": 112,
   "metadata": {},
   "outputs": [
    {
     "name": "stdout",
     "output_type": "stream",
     "text": [
      "Всего топиков стори: 1106\n"
     ]
    }
   ],
   "source": [
    "print('Всего топиков стори: {}'.format(df_story_texts['name'].nunique()))"
   ]
  },
  {
   "cell_type": "markdown",
   "metadata": {
    "id": "g8OMghWQg3u3"
   },
   "source": [
    "### df_stories_logs <a class=\"anchor\" id=\"ch225\"></a>"
   ]
  },
  {
   "cell_type": "markdown",
   "metadata": {
    "id": "NdQu_lTZjQNj"
   },
   "source": [
    "В данной таблице содержится информация о действиях клиентов относительно историй, где\n",
    "<ul>\n",
    "<li><strong>party_rk</strong> - уникальный идентификационный номер клиента</li> \n",
    "<li><strong>date_time</strong> - дата и время действия клиента в формате ГГГГ-ММ-ДД ЧЧ:ММ:СС </li>\n",
    "<li><strong>story_id</strong> - уникальный идентификационный номер истории</li>\n",
    "<li><strong>category</strong> - уникальный идентификационный номер категории действия</li>\n",
    "<li><strong>event</strong> - наименование действия (like / dislike / ...)</li>\n",
    "</ul>\n",
    "<strong>Первичный ключ</strong> таблицы является составным из двух атрибутов: party_rk + date_time."
   ]
  },
  {
   "cell_type": "code",
   "execution_count": null,
   "metadata": {
    "colab": {
     "base_uri": "https://localhost:8080/",
     "height": 202
    },
    "id": "odp-Xo5qg3u4",
    "outputId": "74a9751d-f4a4-4f80-84ec-90ffa9dac17d"
   },
   "outputs": [
    {
     "data": {
      "text/html": [
       "<div>\n",
       "<style scoped>\n",
       "    .dataframe tbody tr th:only-of-type {\n",
       "        vertical-align: middle;\n",
       "    }\n",
       "\n",
       "    .dataframe tbody tr th {\n",
       "        vertical-align: top;\n",
       "    }\n",
       "\n",
       "    .dataframe thead th {\n",
       "        text-align: right;\n",
       "    }\n",
       "</style>\n",
       "<table border=\"1\" class=\"dataframe\">\n",
       "  <thead>\n",
       "    <tr style=\"text-align: right;\">\n",
       "      <th></th>\n",
       "      <th>party_rk</th>\n",
       "      <th>date_time</th>\n",
       "      <th>story_id</th>\n",
       "      <th>category</th>\n",
       "      <th>event</th>\n",
       "    </tr>\n",
       "  </thead>\n",
       "  <tbody>\n",
       "    <tr>\n",
       "      <th>0</th>\n",
       "      <td>64266</td>\n",
       "      <td>2019-12-01 13:05:31</td>\n",
       "      <td>3840</td>\n",
       "      <td>39</td>\n",
       "      <td>like</td>\n",
       "    </tr>\n",
       "    <tr>\n",
       "      <th>1</th>\n",
       "      <td>55721</td>\n",
       "      <td>2019-12-01 13:18:08</td>\n",
       "      <td>3857</td>\n",
       "      <td>39</td>\n",
       "      <td>like</td>\n",
       "    </tr>\n",
       "    <tr>\n",
       "      <th>2</th>\n",
       "      <td>27563</td>\n",
       "      <td>2019-12-01 13:25:40</td>\n",
       "      <td>3174</td>\n",
       "      <td>78</td>\n",
       "      <td>like</td>\n",
       "    </tr>\n",
       "    <tr>\n",
       "      <th>3</th>\n",
       "      <td>61223</td>\n",
       "      <td>2019-12-01 13:25:20</td>\n",
       "      <td>3857</td>\n",
       "      <td>39</td>\n",
       "      <td>like</td>\n",
       "    </tr>\n",
       "    <tr>\n",
       "      <th>4</th>\n",
       "      <td>61223</td>\n",
       "      <td>2019-12-01 13:29:05</td>\n",
       "      <td>3765</td>\n",
       "      <td>73</td>\n",
       "      <td>like</td>\n",
       "    </tr>\n",
       "  </tbody>\n",
       "</table>\n",
       "</div>"
      ],
      "text/plain": [
       "   party_rk            date_time  story_id  category event\n",
       "0     64266  2019-12-01 13:05:31      3840        39  like\n",
       "1     55721  2019-12-01 13:18:08      3857        39  like\n",
       "2     27563  2019-12-01 13:25:40      3174        78  like\n",
       "3     61223  2019-12-01 13:25:20      3857        39  like\n",
       "4     61223  2019-12-01 13:29:05      3765        73  like"
      ]
     },
     "execution_count": 56,
     "metadata": {},
     "output_type": "execute_result"
    }
   ],
   "source": [
    "df_stories_logs.head()"
   ]
  },
  {
   "cell_type": "markdown",
   "metadata": {
    "id": "qFEZyweojQNj"
   },
   "source": [
    "##### Первичный анализ <a class=\"anchor\" id=\"ch2251\"></a>"
   ]
  },
  {
   "cell_type": "code",
   "execution_count": null,
   "metadata": {
    "colab": {
     "base_uri": "https://localhost:8080/"
    },
    "id": "bWSQIbAig3u4",
    "outputId": "00b77831-6c36-4348-f0b7-0bfff64af9eb"
   },
   "outputs": [
    {
     "name": "stdout",
     "output_type": "stream",
     "text": [
      "Количество строк: 13820, количество столбцов: 5\n"
     ]
    }
   ],
   "source": [
    "print('Количество строк: {}, количество столбцов: {}'.format(df_stories_logs.shape[0], df_stories_logs.shape[1]))"
   ]
  },
  {
   "cell_type": "code",
   "execution_count": null,
   "metadata": {
    "colab": {
     "base_uri": "https://localhost:8080/"
    },
    "id": "DVbeKSRxg3u5",
    "outputId": "302ff829-0357-49c8-f890-ac4b55a859d8"
   },
   "outputs": [
    {
     "name": "stdout",
     "output_type": "stream",
     "text": [
      "<class 'pandas.core.frame.DataFrame'>\n",
      "RangeIndex: 13820 entries, 0 to 13819\n",
      "Data columns (total 5 columns):\n",
      " #   Column     Non-Null Count  Dtype \n",
      "---  ------     --------------  ----- \n",
      " 0   party_rk   13820 non-null  int64 \n",
      " 1   date_time  13820 non-null  object\n",
      " 2   story_id   13820 non-null  int64 \n",
      " 3   category   13820 non-null  int64 \n",
      " 4   event      13820 non-null  object\n",
      "dtypes: int64(3), object(2)\n",
      "memory usage: 540.0+ KB\n"
     ]
    }
   ],
   "source": [
    "df_stories_logs.info()"
   ]
  },
  {
   "cell_type": "markdown",
   "metadata": {
    "id": "hn0uUKxbjQNj"
   },
   "source": [
    "Заметим, что у признака 'date_time', который представляет из себя дату, тип object, хотя должен быть тип datetime."
   ]
  },
  {
   "cell_type": "code",
   "execution_count": 113,
   "metadata": {
    "id": "iqA_t7pGg3u6"
   },
   "outputs": [],
   "source": [
    "df_stories_logs['date_time'] = pd.to_datetime(df_stories_logs['date_time'])"
   ]
  },
  {
   "cell_type": "code",
   "execution_count": 114,
   "metadata": {
    "colab": {
     "base_uri": "https://localhost:8080/",
     "height": 846
    },
    "id": "Ml-0VvXzg3u7",
    "outputId": "bfa008d5-703c-450f-933c-1a03f2dea8d9",
    "scrolled": true
   },
   "outputs": [
    {
     "data": {
      "text/html": [
       "<div>\n",
       "<style scoped>\n",
       "    .dataframe tbody tr th:only-of-type {\n",
       "        vertical-align: middle;\n",
       "    }\n",
       "\n",
       "    .dataframe tbody tr th {\n",
       "        vertical-align: top;\n",
       "    }\n",
       "\n",
       "    .dataframe thead th {\n",
       "        text-align: right;\n",
       "    }\n",
       "</style>\n",
       "<table border=\"1\" class=\"dataframe\">\n",
       "  <thead>\n",
       "    <tr style=\"text-align: right;\">\n",
       "      <th></th>\n",
       "      <th>index</th>\n",
       "      <th>event</th>\n",
       "    </tr>\n",
       "  </thead>\n",
       "  <tbody>\n",
       "    <tr>\n",
       "      <th>0</th>\n",
       "      <td>like</td>\n",
       "      <td>5920</td>\n",
       "    </tr>\n",
       "    <tr>\n",
       "      <th>1</th>\n",
       "      <td>favorite</td>\n",
       "      <td>5028</td>\n",
       "    </tr>\n",
       "    <tr>\n",
       "      <th>2</th>\n",
       "      <td>dislike</td>\n",
       "      <td>763</td>\n",
       "    </tr>\n",
       "    <tr>\n",
       "      <th>3</th>\n",
       "      <td>14]</td>\n",
       "      <td>592</td>\n",
       "    </tr>\n",
       "    <tr>\n",
       "      <th>4</th>\n",
       "      <td>77]</td>\n",
       "      <td>551</td>\n",
       "    </tr>\n",
       "    <tr>\n",
       "      <th>5</th>\n",
       "      <td>153</td>\n",
       "      <td>208</td>\n",
       "    </tr>\n",
       "    <tr>\n",
       "      <th>6</th>\n",
       "      <td>180</td>\n",
       "      <td>108</td>\n",
       "    </tr>\n",
       "    <tr>\n",
       "      <th>7</th>\n",
       "      <td>177</td>\n",
       "      <td>99</td>\n",
       "    </tr>\n",
       "    <tr>\n",
       "      <th>8</th>\n",
       "      <td>176</td>\n",
       "      <td>72</td>\n",
       "    </tr>\n",
       "    <tr>\n",
       "      <th>9</th>\n",
       "      <td>54]</td>\n",
       "      <td>54</td>\n",
       "    </tr>\n",
       "    <tr>\n",
       "      <th>10</th>\n",
       "      <td>19]</td>\n",
       "      <td>53</td>\n",
       "    </tr>\n",
       "    <tr>\n",
       "      <th>11</th>\n",
       "      <td>174</td>\n",
       "      <td>49</td>\n",
       "    </tr>\n",
       "    <tr>\n",
       "      <th>12</th>\n",
       "      <td>175</td>\n",
       "      <td>48</td>\n",
       "    </tr>\n",
       "    <tr>\n",
       "      <th>13</th>\n",
       "      <td>164</td>\n",
       "      <td>48</td>\n",
       "    </tr>\n",
       "    <tr>\n",
       "      <th>14</th>\n",
       "      <td>48</td>\n",
       "      <td>45</td>\n",
       "    </tr>\n",
       "    <tr>\n",
       "      <th>15</th>\n",
       "      <td>160</td>\n",
       "      <td>38</td>\n",
       "    </tr>\n",
       "    <tr>\n",
       "      <th>16</th>\n",
       "      <td>163</td>\n",
       "      <td>33</td>\n",
       "    </tr>\n",
       "    <tr>\n",
       "      <th>17</th>\n",
       "      <td>161</td>\n",
       "      <td>31</td>\n",
       "    </tr>\n",
       "    <tr>\n",
       "      <th>18</th>\n",
       "      <td>170</td>\n",
       "      <td>25</td>\n",
       "    </tr>\n",
       "    <tr>\n",
       "      <th>19</th>\n",
       "      <td>159</td>\n",
       "      <td>18</td>\n",
       "    </tr>\n",
       "    <tr>\n",
       "      <th>20</th>\n",
       "      <td>101]</td>\n",
       "      <td>14</td>\n",
       "    </tr>\n",
       "    <tr>\n",
       "      <th>21</th>\n",
       "      <td>182</td>\n",
       "      <td>9</td>\n",
       "    </tr>\n",
       "    <tr>\n",
       "      <th>22</th>\n",
       "      <td>76</td>\n",
       "      <td>6</td>\n",
       "    </tr>\n",
       "    <tr>\n",
       "      <th>23</th>\n",
       "      <td>102]</td>\n",
       "      <td>5</td>\n",
       "    </tr>\n",
       "    <tr>\n",
       "      <th>24</th>\n",
       "      <td>55]</td>\n",
       "      <td>2</td>\n",
       "    </tr>\n",
       "    <tr>\n",
       "      <th>25</th>\n",
       "      <td>173</td>\n",
       "      <td>1</td>\n",
       "    </tr>\n",
       "  </tbody>\n",
       "</table>\n",
       "</div>"
      ],
      "text/plain": [
       "       index  event\n",
       "0       like   5920\n",
       "1   favorite   5028\n",
       "2    dislike    763\n",
       "3        14]    592\n",
       "4        77]    551\n",
       "5        153    208\n",
       "6        180    108\n",
       "7        177     99\n",
       "8        176     72\n",
       "9        54]     54\n",
       "10       19]     53\n",
       "11       174     49\n",
       "12       175     48\n",
       "13       164     48\n",
       "14        48     45\n",
       "15       160     38\n",
       "16       163     33\n",
       "17       161     31\n",
       "18       170     25\n",
       "19       159     18\n",
       "20      101]     14\n",
       "21       182      9\n",
       "22        76      6\n",
       "23      102]      5\n",
       "24       55]      2\n",
       "25       173      1"
      ]
     },
     "execution_count": 114,
     "metadata": {},
     "output_type": "execute_result"
    }
   ],
   "source": [
    "df_stories_logs['event'].value_counts().reset_index()"
   ]
  },
  {
   "cell_type": "markdown",
   "metadata": {
    "id": "KpF0cGVLg3u7"
   },
   "source": [
    "Удалим строки с непонятными (числовыми) значениями по признаку 'index' "
   ]
  },
  {
   "cell_type": "code",
   "execution_count": 115,
   "metadata": {
    "id": "PaThRyi-g3u7"
   },
   "outputs": [],
   "source": [
    "df_stories_logs = df_stories_logs[(df_stories_logs['event'] == 'like') | (df_stories_logs['event'] =='dislike') | (df_stories_logs['event'] =='favorite')] "
   ]
  },
  {
   "cell_type": "code",
   "execution_count": 116,
   "metadata": {},
   "outputs": [
    {
     "data": {
      "text/html": [
       "<div>\n",
       "<style scoped>\n",
       "    .dataframe tbody tr th:only-of-type {\n",
       "        vertical-align: middle;\n",
       "    }\n",
       "\n",
       "    .dataframe tbody tr th {\n",
       "        vertical-align: top;\n",
       "    }\n",
       "\n",
       "    .dataframe thead th {\n",
       "        text-align: right;\n",
       "    }\n",
       "</style>\n",
       "<table border=\"1\" class=\"dataframe\">\n",
       "  <thead>\n",
       "    <tr style=\"text-align: right;\">\n",
       "      <th></th>\n",
       "      <th>party_rk</th>\n",
       "      <th>date_time</th>\n",
       "      <th>story_id</th>\n",
       "      <th>category</th>\n",
       "      <th>event</th>\n",
       "    </tr>\n",
       "  </thead>\n",
       "  <tbody>\n",
       "    <tr>\n",
       "      <th>0</th>\n",
       "      <td>64266</td>\n",
       "      <td>2019-12-01 13:05:31</td>\n",
       "      <td>3840</td>\n",
       "      <td>39</td>\n",
       "      <td>like</td>\n",
       "    </tr>\n",
       "    <tr>\n",
       "      <th>1</th>\n",
       "      <td>55721</td>\n",
       "      <td>2019-12-01 13:18:08</td>\n",
       "      <td>3857</td>\n",
       "      <td>39</td>\n",
       "      <td>like</td>\n",
       "    </tr>\n",
       "    <tr>\n",
       "      <th>2</th>\n",
       "      <td>27563</td>\n",
       "      <td>2019-12-01 13:25:40</td>\n",
       "      <td>3174</td>\n",
       "      <td>78</td>\n",
       "      <td>like</td>\n",
       "    </tr>\n",
       "    <tr>\n",
       "      <th>3</th>\n",
       "      <td>61223</td>\n",
       "      <td>2019-12-01 13:25:20</td>\n",
       "      <td>3857</td>\n",
       "      <td>39</td>\n",
       "      <td>like</td>\n",
       "    </tr>\n",
       "    <tr>\n",
       "      <th>4</th>\n",
       "      <td>61223</td>\n",
       "      <td>2019-12-01 13:29:05</td>\n",
       "      <td>3765</td>\n",
       "      <td>73</td>\n",
       "      <td>like</td>\n",
       "    </tr>\n",
       "  </tbody>\n",
       "</table>\n",
       "</div>"
      ],
      "text/plain": [
       "   party_rk           date_time  story_id  category event\n",
       "0     64266 2019-12-01 13:05:31      3840        39  like\n",
       "1     55721 2019-12-01 13:18:08      3857        39  like\n",
       "2     27563 2019-12-01 13:25:40      3174        78  like\n",
       "3     61223 2019-12-01 13:25:20      3857        39  like\n",
       "4     61223 2019-12-01 13:29:05      3765        73  like"
      ]
     },
     "execution_count": 116,
     "metadata": {},
     "output_type": "execute_result"
    }
   ],
   "source": [
    "df_stories_logs.head()"
   ]
  },
  {
   "cell_type": "markdown",
   "metadata": {
    "id": "lxV4sd1rjQNk"
   },
   "source": [
    "##### Приведение категориальных признаков к числовому виду <a class=\"anchor\" id=\"ch2252\"></a>"
   ]
  },
  {
   "cell_type": "code",
   "execution_count": 117,
   "metadata": {},
   "outputs": [],
   "source": [
    "# заменим в стобце event категориальные значение на числа\n",
    "df_stories_logs['event_cat'] = np.where(df_stories_logs['event'] == 'dislike' , 0, df_stories_logs['event'])\n",
    "df_stories_logs['event_cat'] = np.where(df_stories_logs['event'] == 'like' , 1, df_stories_logs['event_cat'])\n",
    "df_stories_logs['event_cat'] = np.where(df_stories_logs['event'] == 'favorite' , 2, df_stories_logs['event_cat'])"
   ]
  },
  {
   "cell_type": "code",
   "execution_count": 125,
   "metadata": {},
   "outputs": [
    {
     "data": {
      "text/html": [
       "<div>\n",
       "<style scoped>\n",
       "    .dataframe tbody tr th:only-of-type {\n",
       "        vertical-align: middle;\n",
       "    }\n",
       "\n",
       "    .dataframe tbody tr th {\n",
       "        vertical-align: top;\n",
       "    }\n",
       "\n",
       "    .dataframe thead th {\n",
       "        text-align: right;\n",
       "    }\n",
       "</style>\n",
       "<table border=\"1\" class=\"dataframe\">\n",
       "  <thead>\n",
       "    <tr style=\"text-align: right;\">\n",
       "      <th></th>\n",
       "      <th>party_rk</th>\n",
       "      <th>date_time</th>\n",
       "      <th>story_id</th>\n",
       "      <th>category</th>\n",
       "      <th>event</th>\n",
       "      <th>event_cat</th>\n",
       "    </tr>\n",
       "  </thead>\n",
       "  <tbody>\n",
       "    <tr>\n",
       "      <th>0</th>\n",
       "      <td>64266</td>\n",
       "      <td>2019-12-01 13:05:31</td>\n",
       "      <td>3840</td>\n",
       "      <td>39</td>\n",
       "      <td>like</td>\n",
       "      <td>1</td>\n",
       "    </tr>\n",
       "    <tr>\n",
       "      <th>1</th>\n",
       "      <td>55721</td>\n",
       "      <td>2019-12-01 13:18:08</td>\n",
       "      <td>3857</td>\n",
       "      <td>39</td>\n",
       "      <td>like</td>\n",
       "      <td>1</td>\n",
       "    </tr>\n",
       "    <tr>\n",
       "      <th>2</th>\n",
       "      <td>27563</td>\n",
       "      <td>2019-12-01 13:25:40</td>\n",
       "      <td>3174</td>\n",
       "      <td>78</td>\n",
       "      <td>like</td>\n",
       "      <td>1</td>\n",
       "    </tr>\n",
       "    <tr>\n",
       "      <th>3</th>\n",
       "      <td>61223</td>\n",
       "      <td>2019-12-01 13:25:20</td>\n",
       "      <td>3857</td>\n",
       "      <td>39</td>\n",
       "      <td>like</td>\n",
       "      <td>1</td>\n",
       "    </tr>\n",
       "    <tr>\n",
       "      <th>4</th>\n",
       "      <td>61223</td>\n",
       "      <td>2019-12-01 13:29:05</td>\n",
       "      <td>3765</td>\n",
       "      <td>73</td>\n",
       "      <td>like</td>\n",
       "      <td>1</td>\n",
       "    </tr>\n",
       "  </tbody>\n",
       "</table>\n",
       "</div>"
      ],
      "text/plain": [
       "   party_rk           date_time  story_id  category event event_cat\n",
       "0     64266 2019-12-01 13:05:31      3840        39  like         1\n",
       "1     55721 2019-12-01 13:18:08      3857        39  like         1\n",
       "2     27563 2019-12-01 13:25:40      3174        78  like         1\n",
       "3     61223 2019-12-01 13:25:20      3857        39  like         1\n",
       "4     61223 2019-12-01 13:29:05      3765        73  like         1"
      ]
     },
     "execution_count": 125,
     "metadata": {},
     "output_type": "execute_result"
    }
   ],
   "source": [
    "df_stories_logs.head()"
   ]
  },
  {
   "cell_type": "code",
   "execution_count": 138,
   "metadata": {},
   "outputs": [],
   "source": [
    "del df_stories_logs['event']"
   ]
  },
  {
   "cell_type": "markdown",
   "metadata": {
    "id": "9vSMPhWPjQNl"
   },
   "source": [
    "##### Заполнение пропусков <a class=\"anchor\" id=\"ch2253\"></a>"
   ]
  },
  {
   "cell_type": "code",
   "execution_count": 126,
   "metadata": {
    "colab": {
     "base_uri": "https://localhost:8080/",
     "height": 112
    },
    "id": "VWEpt8cog3u8",
    "outputId": "c79ce9cf-a5f0-4e99-da32-947fc5a395c4"
   },
   "outputs": [
    {
     "name": "stdout",
     "output_type": "stream",
     "text": [
      "\n",
      "Количество пропущенных значений:\n"
     ]
    },
    {
     "data": {
      "text/html": [
       "<div>\n",
       "<style scoped>\n",
       "    .dataframe tbody tr th:only-of-type {\n",
       "        vertical-align: middle;\n",
       "    }\n",
       "\n",
       "    .dataframe tbody tr th {\n",
       "        vertical-align: top;\n",
       "    }\n",
       "\n",
       "    .dataframe thead th {\n",
       "        text-align: right;\n",
       "    }\n",
       "</style>\n",
       "<table border=\"1\" class=\"dataframe\">\n",
       "  <thead>\n",
       "    <tr style=\"text-align: right;\">\n",
       "      <th></th>\n",
       "      <th>party_rk</th>\n",
       "      <th>date_time</th>\n",
       "      <th>story_id</th>\n",
       "      <th>category</th>\n",
       "      <th>event</th>\n",
       "      <th>event_cat</th>\n",
       "    </tr>\n",
       "  </thead>\n",
       "  <tbody>\n",
       "    <tr>\n",
       "      <th>0</th>\n",
       "      <td>0</td>\n",
       "      <td>0</td>\n",
       "      <td>0</td>\n",
       "      <td>0</td>\n",
       "      <td>0</td>\n",
       "      <td>0</td>\n",
       "    </tr>\n",
       "  </tbody>\n",
       "</table>\n",
       "</div>"
      ],
      "text/plain": [
       "   party_rk  date_time  story_id  category  event  event_cat\n",
       "0         0          0         0         0      0          0"
      ]
     },
     "execution_count": 126,
     "metadata": {},
     "output_type": "execute_result"
    }
   ],
   "source": [
    "print(\"\\nКоличество пропущенных значений:\")\n",
    "df_stories_logs.isna().sum().to_frame().sort_values(0, ascending = False).T"
   ]
  },
  {
   "cell_type": "markdown",
   "metadata": {
    "id": "JYYoLCqig3u8"
   },
   "source": [
    "### df_products <a class=\"anchor\" id=\"ch226\"></a>"
   ]
  },
  {
   "cell_type": "markdown",
   "metadata": {
    "id": "RwXmA6eGjQNm"
   },
   "source": [
    "В данной таблице содержится информация о связи пользователей с некоторыми категориями продуктов, где\n",
    "<ul>\n",
    "<li><strong>party_rk</strong> - уникальный идентификационный номер клиента</li> \n",
    "<li><strong>product1 - ... - product7</strong> - связи пользователя и соответствующего продукта </li>\n",
    "</ul>\n",
    "<strong>Первичным ключом</strong> таблицы является атрибут party_rk."
   ]
  },
  {
   "cell_type": "code",
   "execution_count": 127,
   "metadata": {
    "colab": {
     "base_uri": "https://localhost:8080/",
     "height": 204
    },
    "id": "izbakO8Ig3u8",
    "outputId": "c51bd6ea-2659-40a3-a6c7-90e7f1e227b0"
   },
   "outputs": [
    {
     "data": {
      "text/html": [
       "<div>\n",
       "<style scoped>\n",
       "    .dataframe tbody tr th:only-of-type {\n",
       "        vertical-align: middle;\n",
       "    }\n",
       "\n",
       "    .dataframe tbody tr th {\n",
       "        vertical-align: top;\n",
       "    }\n",
       "\n",
       "    .dataframe thead th {\n",
       "        text-align: right;\n",
       "    }\n",
       "</style>\n",
       "<table border=\"1\" class=\"dataframe\">\n",
       "  <thead>\n",
       "    <tr style=\"text-align: right;\">\n",
       "      <th></th>\n",
       "      <th>party_rk</th>\n",
       "      <th>product1</th>\n",
       "      <th>product2</th>\n",
       "      <th>product3</th>\n",
       "      <th>product4</th>\n",
       "      <th>product5</th>\n",
       "      <th>product6</th>\n",
       "      <th>product7</th>\n",
       "    </tr>\n",
       "  </thead>\n",
       "  <tbody>\n",
       "    <tr>\n",
       "      <th>0</th>\n",
       "      <td>74874</td>\n",
       "      <td>1</td>\n",
       "      <td>1</td>\n",
       "      <td>0</td>\n",
       "      <td>0</td>\n",
       "      <td>0</td>\n",
       "      <td>0</td>\n",
       "      <td>0</td>\n",
       "    </tr>\n",
       "    <tr>\n",
       "      <th>1</th>\n",
       "      <td>83618</td>\n",
       "      <td>0</td>\n",
       "      <td>0</td>\n",
       "      <td>1</td>\n",
       "      <td>1</td>\n",
       "      <td>1</td>\n",
       "      <td>0</td>\n",
       "      <td>0</td>\n",
       "    </tr>\n",
       "    <tr>\n",
       "      <th>2</th>\n",
       "      <td>73766</td>\n",
       "      <td>0</td>\n",
       "      <td>0</td>\n",
       "      <td>0</td>\n",
       "      <td>1</td>\n",
       "      <td>1</td>\n",
       "      <td>0</td>\n",
       "      <td>0</td>\n",
       "    </tr>\n",
       "    <tr>\n",
       "      <th>3</th>\n",
       "      <td>60218</td>\n",
       "      <td>0</td>\n",
       "      <td>1</td>\n",
       "      <td>0</td>\n",
       "      <td>0</td>\n",
       "      <td>0</td>\n",
       "      <td>0</td>\n",
       "      <td>0</td>\n",
       "    </tr>\n",
       "    <tr>\n",
       "      <th>4</th>\n",
       "      <td>47253</td>\n",
       "      <td>0</td>\n",
       "      <td>0</td>\n",
       "      <td>0</td>\n",
       "      <td>1</td>\n",
       "      <td>1</td>\n",
       "      <td>0</td>\n",
       "      <td>0</td>\n",
       "    </tr>\n",
       "  </tbody>\n",
       "</table>\n",
       "</div>"
      ],
      "text/plain": [
       "   party_rk  product1  product2  product3  product4  product5  product6  \\\n",
       "0     74874         1         1         0         0         0         0   \n",
       "1     83618         0         0         1         1         1         0   \n",
       "2     73766         0         0         0         1         1         0   \n",
       "3     60218         0         1         0         0         0         0   \n",
       "4     47253         0         0         0         1         1         0   \n",
       "\n",
       "   product7  \n",
       "0         0  \n",
       "1         0  \n",
       "2         0  \n",
       "3         0  \n",
       "4         0  "
      ]
     },
     "execution_count": 127,
     "metadata": {},
     "output_type": "execute_result"
    }
   ],
   "source": [
    "df_products.head()"
   ]
  },
  {
   "cell_type": "markdown",
   "metadata": {
    "id": "qqYN0x1GjQNm"
   },
   "source": [
    "##### Первичный анализ <a class=\"anchor\" id=\"ch2261\"></a>"
   ]
  },
  {
   "cell_type": "code",
   "execution_count": 128,
   "metadata": {
    "colab": {
     "base_uri": "https://localhost:8080/"
    },
    "id": "Ql07VqkEg3u9",
    "outputId": "c677e1c3-7a31-42e3-a049-5270cec73e10"
   },
   "outputs": [
    {
     "name": "stdout",
     "output_type": "stream",
     "text": [
      "Количество строк: 50000, количество столбцов: 8\n"
     ]
    }
   ],
   "source": [
    "print('Количество строк: {}, количество столбцов: {}'.format(df_products.shape[0], df_products.shape[1]))"
   ]
  },
  {
   "cell_type": "code",
   "execution_count": 129,
   "metadata": {
    "colab": {
     "base_uri": "https://localhost:8080/"
    },
    "id": "gaLPGS5Wg3u9",
    "outputId": "51214521-b8a5-46f1-b963-4654f599b461"
   },
   "outputs": [
    {
     "name": "stdout",
     "output_type": "stream",
     "text": [
      "<class 'pandas.core.frame.DataFrame'>\n",
      "RangeIndex: 50000 entries, 0 to 49999\n",
      "Data columns (total 8 columns):\n",
      " #   Column    Non-Null Count  Dtype\n",
      "---  ------    --------------  -----\n",
      " 0   party_rk  50000 non-null  int64\n",
      " 1   product1  50000 non-null  int64\n",
      " 2   product2  50000 non-null  int64\n",
      " 3   product3  50000 non-null  int64\n",
      " 4   product4  50000 non-null  int64\n",
      " 5   product5  50000 non-null  int64\n",
      " 6   product6  50000 non-null  int64\n",
      " 7   product7  50000 non-null  int64\n",
      "dtypes: int64(8)\n",
      "memory usage: 3.1 MB\n"
     ]
    }
   ],
   "source": [
    "df_products.info()"
   ]
  },
  {
   "cell_type": "markdown",
   "metadata": {},
   "source": [
    "Проверим, являются ли значения во всех столбцах бинарными. "
   ]
  },
  {
   "cell_type": "code",
   "execution_count": 130,
   "metadata": {},
   "outputs": [
    {
     "data": {
      "text/plain": [
       "0    42582\n",
       "1     7418\n",
       "Name: product1, dtype: int64"
      ]
     },
     "execution_count": 130,
     "metadata": {},
     "output_type": "execute_result"
    }
   ],
   "source": [
    "df_products['product1'].value_counts()"
   ]
  },
  {
   "cell_type": "code",
   "execution_count": 131,
   "metadata": {},
   "outputs": [
    {
     "data": {
      "text/plain": [
       "1    30983\n",
       "0    19017\n",
       "Name: product2, dtype: int64"
      ]
     },
     "execution_count": 131,
     "metadata": {},
     "output_type": "execute_result"
    }
   ],
   "source": [
    "df_products['product2'].value_counts()"
   ]
  },
  {
   "cell_type": "code",
   "execution_count": 132,
   "metadata": {},
   "outputs": [
    {
     "data": {
      "text/plain": [
       "0    42625\n",
       "1     7375\n",
       "Name: product3, dtype: int64"
      ]
     },
     "execution_count": 132,
     "metadata": {},
     "output_type": "execute_result"
    }
   ],
   "source": [
    "df_products['product3'].value_counts()"
   ]
  },
  {
   "cell_type": "code",
   "execution_count": 133,
   "metadata": {},
   "outputs": [
    {
     "data": {
      "text/plain": [
       "1    32560\n",
       "0    17440\n",
       "Name: product4, dtype: int64"
      ]
     },
     "execution_count": 133,
     "metadata": {},
     "output_type": "execute_result"
    }
   ],
   "source": [
    "df_products['product4'].value_counts()"
   ]
  },
  {
   "cell_type": "code",
   "execution_count": 134,
   "metadata": {},
   "outputs": [
    {
     "data": {
      "text/plain": [
       "1    29704\n",
       "0    20296\n",
       "Name: product5, dtype: int64"
      ]
     },
     "execution_count": 134,
     "metadata": {},
     "output_type": "execute_result"
    }
   ],
   "source": [
    "df_products['product5'].value_counts()"
   ]
  },
  {
   "cell_type": "code",
   "execution_count": 135,
   "metadata": {},
   "outputs": [
    {
     "data": {
      "text/plain": [
       "0    47348\n",
       "1     2652\n",
       "Name: product6, dtype: int64"
      ]
     },
     "execution_count": 135,
     "metadata": {},
     "output_type": "execute_result"
    }
   ],
   "source": [
    "df_products['product6'].value_counts()"
   ]
  },
  {
   "cell_type": "code",
   "execution_count": 136,
   "metadata": {},
   "outputs": [
    {
     "data": {
      "text/plain": [
       "0    42280\n",
       "1     7720\n",
       "Name: product7, dtype: int64"
      ]
     },
     "execution_count": 136,
     "metadata": {},
     "output_type": "execute_result"
    }
   ],
   "source": [
    "df_products['product7'].value_counts()"
   ]
  },
  {
   "cell_type": "markdown",
   "metadata": {},
   "source": [
    "Да, все признаки являются бинарными. "
   ]
  },
  {
   "cell_type": "markdown",
   "metadata": {
    "id": "SjUnu67vjQNn"
   },
   "source": [
    "##### Заполнение пропусков <a class=\"anchor\" id=\"ch2263\"></a>"
   ]
  },
  {
   "cell_type": "code",
   "execution_count": null,
   "metadata": {
    "colab": {
     "base_uri": "https://localhost:8080/",
     "height": 114
    },
    "id": "J-d3coH7g3u-",
    "outputId": "64557651-d185-4336-8489-622b14ba5bff"
   },
   "outputs": [
    {
     "name": "stdout",
     "output_type": "stream",
     "text": [
      "\n",
      "Количество пропущенных значений:\n"
     ]
    },
    {
     "data": {
      "text/html": [
       "<div>\n",
       "<style scoped>\n",
       "    .dataframe tbody tr th:only-of-type {\n",
       "        vertical-align: middle;\n",
       "    }\n",
       "\n",
       "    .dataframe tbody tr th {\n",
       "        vertical-align: top;\n",
       "    }\n",
       "\n",
       "    .dataframe thead th {\n",
       "        text-align: right;\n",
       "    }\n",
       "</style>\n",
       "<table border=\"1\" class=\"dataframe\">\n",
       "  <thead>\n",
       "    <tr style=\"text-align: right;\">\n",
       "      <th></th>\n",
       "      <th>party_rk</th>\n",
       "      <th>product1</th>\n",
       "      <th>product2</th>\n",
       "      <th>product3</th>\n",
       "      <th>product4</th>\n",
       "      <th>product5</th>\n",
       "      <th>product6</th>\n",
       "      <th>product7</th>\n",
       "    </tr>\n",
       "  </thead>\n",
       "  <tbody>\n",
       "    <tr>\n",
       "      <th>0</th>\n",
       "      <td>0</td>\n",
       "      <td>0</td>\n",
       "      <td>0</td>\n",
       "      <td>0</td>\n",
       "      <td>0</td>\n",
       "      <td>0</td>\n",
       "      <td>0</td>\n",
       "      <td>0</td>\n",
       "    </tr>\n",
       "  </tbody>\n",
       "</table>\n",
       "</div>"
      ],
      "text/plain": [
       "   party_rk  product1  product2  product3  product4  product5  product6  \\\n",
       "0         0         0         0         0         0         0         0   \n",
       "\n",
       "   product7  \n",
       "0         0  "
      ]
     },
     "execution_count": 86,
     "metadata": {},
     "output_type": "execute_result"
    }
   ],
   "source": [
    "print(\"\\nКоличество пропущенных значений:\")\n",
    "df_products.isna().sum().to_frame().sort_values(0, ascending = False).T"
   ]
  },
  {
   "cell_type": "markdown",
   "metadata": {
    "id": "J3pVxuuKg3vB"
   },
   "source": [
    "## Визуализация данных  <a class=\"anchor\" id=\"ch4\"></a>"
   ]
  },
  {
   "cell_type": "code",
   "execution_count": null,
   "metadata": {
    "id": "_zTpdlTwg3vB"
   },
   "outputs": [],
   "source": [
    "df_cluster = pd.merge(df_train, df_socdem)"
   ]
  },
  {
   "cell_type": "code",
   "execution_count": null,
   "metadata": {
    "id": "Rp27iiHqg3vB"
   },
   "outputs": [],
   "source": [
    "df_category_trans = df_cluster.groupby(\"category\")['transaction_amt_rur'].sum().reset_index().sort_values(by = 'transaction_amt_rur', ascending = False)"
   ]
  },
  {
   "cell_type": "code",
   "execution_count": null,
   "metadata": {
    "id": "Z68djSryg3vB"
   },
   "outputs": [],
   "source": [
    "plt.figure(figsize=(10,7))\n",
    "sns.barplot(x=\"transaction_amt_rur\", y=\"category\", data=df_category_trans, orient = 'h');"
   ]
  },
  {
   "cell_type": "code",
   "execution_count": null,
   "metadata": {
    "id": "L1sx1bKog3vC"
   },
   "outputs": [],
   "source": [
    "df_distr = pd.pivot_table(data = df_cluster[['age', 'transaction_amt_rur', 'children_cnt', 'gender_cd', 'category']], index = ['gender_cd', 'category'])"
   ]
  },
  {
   "cell_type": "code",
   "execution_count": null,
   "metadata": {
    "id": "it1dKhc1g3vC"
   },
   "outputs": [],
   "source": [
    "df_distr = df_distr.reset_index()"
   ]
  },
  {
   "cell_type": "code",
   "execution_count": null,
   "metadata": {
    "id": "f0OGEmsrg3vC"
   },
   "outputs": [],
   "source": [
    "plt.figure(figsize=(16,10))\n",
    "sns.lineplot(data= df_distr, x=df_distr['category'], y=df_distr['transaction_amt_rur'], hue=df_distr['gender_cd'])\n",
    "plt.xticks(rotation=90);"
   ]
  },
  {
   "cell_type": "markdown",
   "metadata": {},
   "source": [
    "## Feature Engineering  <a class=\"anchor\" id=\"ch9\"></a>"
   ]
  },
  {
   "cell_type": "markdown",
   "metadata": {},
   "source": [
    "Создадим <strong> новые признаки </strong> для единой итоговой таблицы, характеризующие совершаемые клиентами транзакции в различных категориях. Новые характеристики будут отражать  \n",
    "<ul>\n",
    "    <li>средние траты по категориям,</li>\n",
    "    <li>частоту покупок (в т.ч. повторных покупок в одной категории), </li>\n",
    "    <li>статистику активности клиентов в интернете по данным категориям товаров и т.д.</li>\n",
    "</ul>"
   ]
  },
  {
   "cell_type": "markdown",
   "metadata": {},
   "source": [
    "### Признак №1 <a class=\"anchor\" id=\"ch91\"></a>"
   ]
  },
  {
   "cell_type": "markdown",
   "metadata": {},
   "source": [
    "<strong>Признак:</strong> рейтинг категорий, которые лайкнул пользователь. Для того, чтобы его посчитать, смотрим на то, сколько лайков юзер поставил на стори той или иной категории и делим это на суммарное количество лайков по всем категориям. "
   ]
  },
  {
   "cell_type": "markdown",
   "metadata": {},
   "source": [
    "$\\frac{\\mbox{(Количество лайков у человека в конкретной категории в данном месяце)}}{\\mbox{(Общее количество лайков человека в конкретном месяце)}}$"
   ]
  },
  {
   "cell_type": "code",
   "execution_count": 387,
   "metadata": {},
   "outputs": [
    {
     "data": {
      "text/html": [
       "<div>\n",
       "<style scoped>\n",
       "    .dataframe tbody tr th:only-of-type {\n",
       "        vertical-align: middle;\n",
       "    }\n",
       "\n",
       "    .dataframe tbody tr th {\n",
       "        vertical-align: top;\n",
       "    }\n",
       "\n",
       "    .dataframe thead th {\n",
       "        text-align: right;\n",
       "    }\n",
       "</style>\n",
       "<table border=\"1\" class=\"dataframe\">\n",
       "  <thead>\n",
       "    <tr style=\"text-align: right;\">\n",
       "      <th></th>\n",
       "      <th>party_rk</th>\n",
       "      <th>date_time</th>\n",
       "      <th>story_id</th>\n",
       "      <th>category</th>\n",
       "      <th>event_cat</th>\n",
       "      <th>Month</th>\n",
       "    </tr>\n",
       "  </thead>\n",
       "  <tbody>\n",
       "    <tr>\n",
       "      <th>0</th>\n",
       "      <td>64266</td>\n",
       "      <td>2019-12-01 13:05:31</td>\n",
       "      <td>3840</td>\n",
       "      <td>39</td>\n",
       "      <td>1</td>\n",
       "      <td>12</td>\n",
       "    </tr>\n",
       "    <tr>\n",
       "      <th>1</th>\n",
       "      <td>55721</td>\n",
       "      <td>2019-12-01 13:18:08</td>\n",
       "      <td>3857</td>\n",
       "      <td>39</td>\n",
       "      <td>1</td>\n",
       "      <td>12</td>\n",
       "    </tr>\n",
       "    <tr>\n",
       "      <th>2</th>\n",
       "      <td>27563</td>\n",
       "      <td>2019-12-01 13:25:40</td>\n",
       "      <td>3174</td>\n",
       "      <td>78</td>\n",
       "      <td>1</td>\n",
       "      <td>12</td>\n",
       "    </tr>\n",
       "    <tr>\n",
       "      <th>3</th>\n",
       "      <td>61223</td>\n",
       "      <td>2019-12-01 13:25:20</td>\n",
       "      <td>3857</td>\n",
       "      <td>39</td>\n",
       "      <td>1</td>\n",
       "      <td>12</td>\n",
       "    </tr>\n",
       "    <tr>\n",
       "      <th>4</th>\n",
       "      <td>61223</td>\n",
       "      <td>2019-12-01 13:29:05</td>\n",
       "      <td>3765</td>\n",
       "      <td>73</td>\n",
       "      <td>1</td>\n",
       "      <td>12</td>\n",
       "    </tr>\n",
       "    <tr>\n",
       "      <th>...</th>\n",
       "      <td>...</td>\n",
       "      <td>...</td>\n",
       "      <td>...</td>\n",
       "      <td>...</td>\n",
       "      <td>...</td>\n",
       "      <td>...</td>\n",
       "    </tr>\n",
       "    <tr>\n",
       "      <th>13815</th>\n",
       "      <td>19043</td>\n",
       "      <td>2019-12-31 22:52:40</td>\n",
       "      <td>4117</td>\n",
       "      <td>71</td>\n",
       "      <td>1</td>\n",
       "      <td>12</td>\n",
       "    </tr>\n",
       "    <tr>\n",
       "      <th>13816</th>\n",
       "      <td>19043</td>\n",
       "      <td>2019-12-31 22:53:13</td>\n",
       "      <td>4120</td>\n",
       "      <td>39</td>\n",
       "      <td>1</td>\n",
       "      <td>12</td>\n",
       "    </tr>\n",
       "    <tr>\n",
       "      <th>13817</th>\n",
       "      <td>10195</td>\n",
       "      <td>2019-12-31 23:32:50</td>\n",
       "      <td>4117</td>\n",
       "      <td>71</td>\n",
       "      <td>2</td>\n",
       "      <td>12</td>\n",
       "    </tr>\n",
       "    <tr>\n",
       "      <th>13818</th>\n",
       "      <td>10195</td>\n",
       "      <td>2019-12-31 23:33:32</td>\n",
       "      <td>4120</td>\n",
       "      <td>39</td>\n",
       "      <td>1</td>\n",
       "      <td>12</td>\n",
       "    </tr>\n",
       "    <tr>\n",
       "      <th>13819</th>\n",
       "      <td>10195</td>\n",
       "      <td>2019-12-31 23:32:43</td>\n",
       "      <td>4117</td>\n",
       "      <td>71</td>\n",
       "      <td>1</td>\n",
       "      <td>12</td>\n",
       "    </tr>\n",
       "  </tbody>\n",
       "</table>\n",
       "<p>11711 rows × 6 columns</p>\n",
       "</div>"
      ],
      "text/plain": [
       "       party_rk           date_time  story_id  category event_cat  Month\n",
       "0         64266 2019-12-01 13:05:31      3840        39         1     12\n",
       "1         55721 2019-12-01 13:18:08      3857        39         1     12\n",
       "2         27563 2019-12-01 13:25:40      3174        78         1     12\n",
       "3         61223 2019-12-01 13:25:20      3857        39         1     12\n",
       "4         61223 2019-12-01 13:29:05      3765        73         1     12\n",
       "...         ...                 ...       ...       ...       ...    ...\n",
       "13815     19043 2019-12-31 22:52:40      4117        71         1     12\n",
       "13816     19043 2019-12-31 22:53:13      4120        39         1     12\n",
       "13817     10195 2019-12-31 23:32:50      4117        71         2     12\n",
       "13818     10195 2019-12-31 23:33:32      4120        39         1     12\n",
       "13819     10195 2019-12-31 23:32:43      4117        71         1     12\n",
       "\n",
       "[11711 rows x 6 columns]"
      ]
     },
     "execution_count": 387,
     "metadata": {},
     "output_type": "execute_result"
    }
   ],
   "source": [
    "df_stories_logs"
   ]
  },
  {
   "cell_type": "code",
   "execution_count": 388,
   "metadata": {},
   "outputs": [
    {
     "data": {
      "text/html": [
       "<div>\n",
       "<style scoped>\n",
       "    .dataframe tbody tr th:only-of-type {\n",
       "        vertical-align: middle;\n",
       "    }\n",
       "\n",
       "    .dataframe tbody tr th {\n",
       "        vertical-align: top;\n",
       "    }\n",
       "\n",
       "    .dataframe thead th {\n",
       "        text-align: right;\n",
       "    }\n",
       "</style>\n",
       "<table border=\"1\" class=\"dataframe\">\n",
       "  <thead>\n",
       "    <tr style=\"text-align: right;\">\n",
       "      <th></th>\n",
       "      <th>party_rk</th>\n",
       "      <th>category</th>\n",
       "      <th>number_likes</th>\n",
       "    </tr>\n",
       "  </thead>\n",
       "  <tbody>\n",
       "    <tr>\n",
       "      <th>0</th>\n",
       "      <td>61243</td>\n",
       "      <td>39</td>\n",
       "      <td>0.0</td>\n",
       "    </tr>\n",
       "    <tr>\n",
       "      <th>1</th>\n",
       "      <td>61243</td>\n",
       "      <td>78</td>\n",
       "      <td>0.0</td>\n",
       "    </tr>\n",
       "    <tr>\n",
       "      <th>2</th>\n",
       "      <td>61243</td>\n",
       "      <td>73</td>\n",
       "      <td>0.0</td>\n",
       "    </tr>\n",
       "    <tr>\n",
       "      <th>3</th>\n",
       "      <td>61243</td>\n",
       "      <td>81</td>\n",
       "      <td>0.0</td>\n",
       "    </tr>\n",
       "    <tr>\n",
       "      <th>4</th>\n",
       "      <td>61243</td>\n",
       "      <td>44</td>\n",
       "      <td>0.0</td>\n",
       "    </tr>\n",
       "    <tr>\n",
       "      <th>...</th>\n",
       "      <td>...</td>\n",
       "      <td>...</td>\n",
       "      <td>...</td>\n",
       "    </tr>\n",
       "    <tr>\n",
       "      <th>2749995</th>\n",
       "      <td>77268</td>\n",
       "      <td>21</td>\n",
       "      <td>0.0</td>\n",
       "    </tr>\n",
       "    <tr>\n",
       "      <th>2749996</th>\n",
       "      <td>77268</td>\n",
       "      <td>64</td>\n",
       "      <td>0.0</td>\n",
       "    </tr>\n",
       "    <tr>\n",
       "      <th>2749997</th>\n",
       "      <td>77268</td>\n",
       "      <td>77</td>\n",
       "      <td>0.0</td>\n",
       "    </tr>\n",
       "    <tr>\n",
       "      <th>2749998</th>\n",
       "      <td>77268</td>\n",
       "      <td>79</td>\n",
       "      <td>0.0</td>\n",
       "    </tr>\n",
       "    <tr>\n",
       "      <th>2749999</th>\n",
       "      <td>77268</td>\n",
       "      <td>75</td>\n",
       "      <td>0.0</td>\n",
       "    </tr>\n",
       "  </tbody>\n",
       "</table>\n",
       "<p>2750000 rows × 3 columns</p>\n",
       "</div>"
      ],
      "text/plain": [
       "         party_rk  category  number_likes\n",
       "0           61243        39           0.0\n",
       "1           61243        78           0.0\n",
       "2           61243        73           0.0\n",
       "3           61243        81           0.0\n",
       "4           61243        44           0.0\n",
       "...           ...       ...           ...\n",
       "2749995     77268        21           0.0\n",
       "2749996     77268        64           0.0\n",
       "2749997     77268        77           0.0\n",
       "2749998     77268        79           0.0\n",
       "2749999     77268        75           0.0\n",
       "\n",
       "[2750000 rows x 3 columns]"
      ]
     },
     "execution_count": 388,
     "metadata": {},
     "output_type": "execute_result"
    }
   ],
   "source": [
    "# создадим таблицу, с количеством лайков каждого пользователя в конкректной категории\n",
    "party_ids = []\n",
    "\n",
    "for i in df_socdem_num_['party_rk'].unique():\n",
    "    for j in range(55):\n",
    "        party_ids.append(i)\n",
    "        \n",
    "a_likes = list(df_stories_logs['category'].unique()) * 50000\n",
    "temple_likes = pd.DataFrame({'party_rk': party_ids, 'category': a})\n",
    "df_stories_logs['Month'] = pd.DatetimeIndex(df_stories_logs['date_time']).month\n",
    "df_stories_logs_likes = df_stories_logs[((df_stories_logs['Month'] == 10) | (df_stories_logs['Month'] == 11)) &\n",
    "                                   (df_stories_logs['event_cat'] == 1)]\n",
    "df_stories_logs_new_likes = df_stories_logs_likes.copy()\n",
    "del df_stories_logs_new_likes['date_time']\n",
    "del df_stories_logs_new_likes['story_id']\n",
    "del df_stories_logs_new_likes['Month']\n",
    "df_cat_likes = pd.DataFrame(df_stories_logs_new_likes.groupby([\"party_rk\", \"category\", 'event_cat'])['event_cat'].count())\n",
    "df_cat_likes.columns = ['number_likes']\n",
    "df_cat_likes.reset_index(inplace = True)\n",
    "df_cat_likes_1 = pd.merge(temple_likes, df_cat_likes, how='left')\n",
    "df_cat_likes_1['number_likes'] = df_cat_likes_1['number_likes'].fillna(0)\n",
    "del df_cat_likes_1['event_cat']\n",
    "df_cat_likes_1"
   ]
  },
  {
   "cell_type": "code",
   "execution_count": 389,
   "metadata": {},
   "outputs": [
    {
     "data": {
      "text/html": [
       "<div>\n",
       "<style scoped>\n",
       "    .dataframe tbody tr th:only-of-type {\n",
       "        vertical-align: middle;\n",
       "    }\n",
       "\n",
       "    .dataframe tbody tr th {\n",
       "        vertical-align: top;\n",
       "    }\n",
       "\n",
       "    .dataframe thead th {\n",
       "        text-align: right;\n",
       "    }\n",
       "</style>\n",
       "<table border=\"1\" class=\"dataframe\">\n",
       "  <thead>\n",
       "    <tr style=\"text-align: right;\">\n",
       "      <th></th>\n",
       "      <th>party_rk</th>\n",
       "      <th>sum_number_likes</th>\n",
       "    </tr>\n",
       "  </thead>\n",
       "  <tbody>\n",
       "    <tr>\n",
       "      <th>0</th>\n",
       "      <td>1</td>\n",
       "      <td>0.0</td>\n",
       "    </tr>\n",
       "    <tr>\n",
       "      <th>1</th>\n",
       "      <td>5</td>\n",
       "      <td>0.0</td>\n",
       "    </tr>\n",
       "    <tr>\n",
       "      <th>2</th>\n",
       "      <td>7</td>\n",
       "      <td>0.0</td>\n",
       "    </tr>\n",
       "    <tr>\n",
       "      <th>3</th>\n",
       "      <td>8</td>\n",
       "      <td>0.0</td>\n",
       "    </tr>\n",
       "    <tr>\n",
       "      <th>4</th>\n",
       "      <td>9</td>\n",
       "      <td>0.0</td>\n",
       "    </tr>\n",
       "    <tr>\n",
       "      <th>...</th>\n",
       "      <td>...</td>\n",
       "      <td>...</td>\n",
       "    </tr>\n",
       "    <tr>\n",
       "      <th>49995</th>\n",
       "      <td>94603</td>\n",
       "      <td>0.0</td>\n",
       "    </tr>\n",
       "    <tr>\n",
       "      <th>49996</th>\n",
       "      <td>94606</td>\n",
       "      <td>0.0</td>\n",
       "    </tr>\n",
       "    <tr>\n",
       "      <th>49997</th>\n",
       "      <td>94607</td>\n",
       "      <td>0.0</td>\n",
       "    </tr>\n",
       "    <tr>\n",
       "      <th>49998</th>\n",
       "      <td>94608</td>\n",
       "      <td>0.0</td>\n",
       "    </tr>\n",
       "    <tr>\n",
       "      <th>49999</th>\n",
       "      <td>94610</td>\n",
       "      <td>0.0</td>\n",
       "    </tr>\n",
       "  </tbody>\n",
       "</table>\n",
       "<p>50000 rows × 2 columns</p>\n",
       "</div>"
      ],
      "text/plain": [
       "       party_rk  sum_number_likes\n",
       "0             1               0.0\n",
       "1             5               0.0\n",
       "2             7               0.0\n",
       "3             8               0.0\n",
       "4             9               0.0\n",
       "...         ...               ...\n",
       "49995     94603               0.0\n",
       "49996     94606               0.0\n",
       "49997     94607               0.0\n",
       "49998     94608               0.0\n",
       "49999     94610               0.0\n",
       "\n",
       "[50000 rows x 2 columns]"
      ]
     },
     "execution_count": 389,
     "metadata": {},
     "output_type": "execute_result"
    }
   ],
   "source": [
    "# создадим таблицу с суммарным количеством лайков по каждому пользователю\n",
    "df_cat_likes_likes_all_cat = df_cat_likes_1[['party_rk', 'number_likes']]\n",
    "df_cat_likes_likes_all_cat.columns = ['party_rk', 'sum_number_likes']\n",
    "df_cat_likes_likes_all_cat = df_cat_likes_likes_all_cat.groupby(['party_rk'])['sum_number_likes'].agg('sum').reset_index()\n",
    "df_cat_likes_likes_all_cat"
   ]
  },
  {
   "cell_type": "code",
   "execution_count": 390,
   "metadata": {},
   "outputs": [
    {
     "data": {
      "text/html": [
       "<div>\n",
       "<style scoped>\n",
       "    .dataframe tbody tr th:only-of-type {\n",
       "        vertical-align: middle;\n",
       "    }\n",
       "\n",
       "    .dataframe tbody tr th {\n",
       "        vertical-align: top;\n",
       "    }\n",
       "\n",
       "    .dataframe thead th {\n",
       "        text-align: right;\n",
       "    }\n",
       "</style>\n",
       "<table border=\"1\" class=\"dataframe\">\n",
       "  <thead>\n",
       "    <tr style=\"text-align: right;\">\n",
       "      <th></th>\n",
       "      <th>party_rk</th>\n",
       "      <th>category</th>\n",
       "      <th>freq_likes</th>\n",
       "    </tr>\n",
       "  </thead>\n",
       "  <tbody>\n",
       "    <tr>\n",
       "      <th>0</th>\n",
       "      <td>61243</td>\n",
       "      <td>39</td>\n",
       "      <td>0.0</td>\n",
       "    </tr>\n",
       "    <tr>\n",
       "      <th>1</th>\n",
       "      <td>61243</td>\n",
       "      <td>78</td>\n",
       "      <td>0.0</td>\n",
       "    </tr>\n",
       "    <tr>\n",
       "      <th>2</th>\n",
       "      <td>61243</td>\n",
       "      <td>73</td>\n",
       "      <td>0.0</td>\n",
       "    </tr>\n",
       "    <tr>\n",
       "      <th>3</th>\n",
       "      <td>61243</td>\n",
       "      <td>81</td>\n",
       "      <td>0.0</td>\n",
       "    </tr>\n",
       "    <tr>\n",
       "      <th>4</th>\n",
       "      <td>61243</td>\n",
       "      <td>44</td>\n",
       "      <td>0.0</td>\n",
       "    </tr>\n",
       "    <tr>\n",
       "      <th>...</th>\n",
       "      <td>...</td>\n",
       "      <td>...</td>\n",
       "      <td>...</td>\n",
       "    </tr>\n",
       "    <tr>\n",
       "      <th>2749995</th>\n",
       "      <td>77268</td>\n",
       "      <td>21</td>\n",
       "      <td>0.0</td>\n",
       "    </tr>\n",
       "    <tr>\n",
       "      <th>2749996</th>\n",
       "      <td>77268</td>\n",
       "      <td>64</td>\n",
       "      <td>0.0</td>\n",
       "    </tr>\n",
       "    <tr>\n",
       "      <th>2749997</th>\n",
       "      <td>77268</td>\n",
       "      <td>77</td>\n",
       "      <td>0.0</td>\n",
       "    </tr>\n",
       "    <tr>\n",
       "      <th>2749998</th>\n",
       "      <td>77268</td>\n",
       "      <td>79</td>\n",
       "      <td>0.0</td>\n",
       "    </tr>\n",
       "    <tr>\n",
       "      <th>2749999</th>\n",
       "      <td>77268</td>\n",
       "      <td>75</td>\n",
       "      <td>0.0</td>\n",
       "    </tr>\n",
       "  </tbody>\n",
       "</table>\n",
       "<p>2750000 rows × 3 columns</p>\n",
       "</div>"
      ],
      "text/plain": [
       "         party_rk  category  freq_likes\n",
       "0           61243        39         0.0\n",
       "1           61243        78         0.0\n",
       "2           61243        73         0.0\n",
       "3           61243        81         0.0\n",
       "4           61243        44         0.0\n",
       "...           ...       ...         ...\n",
       "2749995     77268        21         0.0\n",
       "2749996     77268        64         0.0\n",
       "2749997     77268        77         0.0\n",
       "2749998     77268        79         0.0\n",
       "2749999     77268        75         0.0\n",
       "\n",
       "[2750000 rows x 3 columns]"
      ]
     },
     "execution_count": 390,
     "metadata": {},
     "output_type": "execute_result"
    }
   ],
   "source": [
    "# создадим таблицу, где будет храниться информация о частоте лайков для каждого пользователя и категории\n",
    "df_temp1_likes = pd.merge(df_cat_likes_1, df_cat_likes_likes_all_cat, how = 'left')\n",
    "df_temp1_likes['freq_likes'] = 1.0 * df_temp1_likes['number_likes']/df_temp1_likes['sum_number_likes']\n",
    "df_temp1_likes = df_temp1_likes[['party_rk', 'category', 'freq_likes']]\n",
    "df_temp1_likes.fillna(0, inplace = True)\n",
    "df_temp1_likes"
   ]
  },
  {
   "cell_type": "code",
   "execution_count": 395,
   "metadata": {},
   "outputs": [],
   "source": [
    "df_new_likes = pd.DataFrame({'party_rk': df_socdem_num_['party_rk'].unique()})\n",
    "for i in df_temp1_likes['category'].unique():\n",
    "    df_temp_for_likes = df_temp1_likes[df_temp1_likes['category'] == i]\n",
    "    del df_temp_for_likes['category']\n",
    "    df_new_likes_ = pd.merge(df_new_likes, df_temp_for_likes, left_on = 'party_rk', right_on = 'party_rk', how = 'left')\n",
    "    df_new_likes = df_new_likes_.copy()"
   ]
  },
  {
   "cell_type": "code",
   "execution_count": 404,
   "metadata": {},
   "outputs": [],
   "source": [
    "s_likes = ['party_rk']\n",
    "for i in df_temp1_likes['category'].unique():\n",
    "    string_name = 'feature1_' + str(i) \n",
    "    s_likes.append(string_name)\n",
    "df_new_likes.columns = s_likes\n",
    "df_new_likes_final = df_new_likes.copy()"
   ]
  },
  {
   "cell_type": "markdown",
   "metadata": {},
   "source": [
    "### Признак №2 <a class=\"anchor\" id=\"ch92\"></a>"
   ]
  },
  {
   "cell_type": "markdown",
   "metadata": {},
   "source": [
    "<strong>Признак:</strong> рейтинг категорий, которые дизлайкнул пользователь. Для того, чтобы его посчитать, смотрим на то, сколько дизлайков юзер поставил на стори той или иной категории и делим это на суммарное количество дизлайков по всем категориям. "
   ]
  },
  {
   "cell_type": "markdown",
   "metadata": {},
   "source": [
    "$\\frac{\\mbox{(Количество дизлайков у человека в конкретной категории в данном месяце)}}{\\mbox{(Общее количество дизлайков человека в конкретном месяце)}}$"
   ]
  },
  {
   "cell_type": "code",
   "execution_count": 408,
   "metadata": {},
   "outputs": [
    {
     "data": {
      "text/html": [
       "<div>\n",
       "<style scoped>\n",
       "    .dataframe tbody tr th:only-of-type {\n",
       "        vertical-align: middle;\n",
       "    }\n",
       "\n",
       "    .dataframe tbody tr th {\n",
       "        vertical-align: top;\n",
       "    }\n",
       "\n",
       "    .dataframe thead th {\n",
       "        text-align: right;\n",
       "    }\n",
       "</style>\n",
       "<table border=\"1\" class=\"dataframe\">\n",
       "  <thead>\n",
       "    <tr style=\"text-align: right;\">\n",
       "      <th></th>\n",
       "      <th>party_rk</th>\n",
       "      <th>category</th>\n",
       "      <th>number_dislikes</th>\n",
       "    </tr>\n",
       "  </thead>\n",
       "  <tbody>\n",
       "    <tr>\n",
       "      <th>0</th>\n",
       "      <td>61243</td>\n",
       "      <td>39</td>\n",
       "      <td>0.0</td>\n",
       "    </tr>\n",
       "    <tr>\n",
       "      <th>1</th>\n",
       "      <td>61243</td>\n",
       "      <td>78</td>\n",
       "      <td>0.0</td>\n",
       "    </tr>\n",
       "    <tr>\n",
       "      <th>2</th>\n",
       "      <td>61243</td>\n",
       "      <td>73</td>\n",
       "      <td>0.0</td>\n",
       "    </tr>\n",
       "    <tr>\n",
       "      <th>3</th>\n",
       "      <td>61243</td>\n",
       "      <td>81</td>\n",
       "      <td>0.0</td>\n",
       "    </tr>\n",
       "    <tr>\n",
       "      <th>4</th>\n",
       "      <td>61243</td>\n",
       "      <td>44</td>\n",
       "      <td>0.0</td>\n",
       "    </tr>\n",
       "    <tr>\n",
       "      <th>...</th>\n",
       "      <td>...</td>\n",
       "      <td>...</td>\n",
       "      <td>...</td>\n",
       "    </tr>\n",
       "    <tr>\n",
       "      <th>2749995</th>\n",
       "      <td>77268</td>\n",
       "      <td>21</td>\n",
       "      <td>0.0</td>\n",
       "    </tr>\n",
       "    <tr>\n",
       "      <th>2749996</th>\n",
       "      <td>77268</td>\n",
       "      <td>64</td>\n",
       "      <td>0.0</td>\n",
       "    </tr>\n",
       "    <tr>\n",
       "      <th>2749997</th>\n",
       "      <td>77268</td>\n",
       "      <td>77</td>\n",
       "      <td>0.0</td>\n",
       "    </tr>\n",
       "    <tr>\n",
       "      <th>2749998</th>\n",
       "      <td>77268</td>\n",
       "      <td>79</td>\n",
       "      <td>0.0</td>\n",
       "    </tr>\n",
       "    <tr>\n",
       "      <th>2749999</th>\n",
       "      <td>77268</td>\n",
       "      <td>75</td>\n",
       "      <td>0.0</td>\n",
       "    </tr>\n",
       "  </tbody>\n",
       "</table>\n",
       "<p>2750000 rows × 3 columns</p>\n",
       "</div>"
      ],
      "text/plain": [
       "         party_rk  category  number_dislikes\n",
       "0           61243        39              0.0\n",
       "1           61243        78              0.0\n",
       "2           61243        73              0.0\n",
       "3           61243        81              0.0\n",
       "4           61243        44              0.0\n",
       "...           ...       ...              ...\n",
       "2749995     77268        21              0.0\n",
       "2749996     77268        64              0.0\n",
       "2749997     77268        77              0.0\n",
       "2749998     77268        79              0.0\n",
       "2749999     77268        75              0.0\n",
       "\n",
       "[2750000 rows x 3 columns]"
      ]
     },
     "execution_count": 408,
     "metadata": {},
     "output_type": "execute_result"
    }
   ],
   "source": [
    "# создадим таблицу, с количеством дизлайков каждого пользователя в конкректной категории\n",
    "a_dislikes = list(df_stories_logs['category'].unique()) * 50000\n",
    "temple_dislikes = pd.DataFrame({'party_rk': party_ids, 'category': a})\n",
    "df_stories_logs['Month'] = pd.DatetimeIndex(df_stories_logs['date_time']).month\n",
    "df_stories_logs_dislikes = df_stories_logs[((df_stories_logs['Month'] == 10) | (df_stories_logs['Month'] == 11)) &\n",
    "                                   (df_stories_logs['event_cat'] == 0)]\n",
    "df_stories_logs_new_dislikes = df_stories_logs_dislikes.copy()\n",
    "del df_stories_logs_new_dislikes['date_time']\n",
    "del df_stories_logs_new_dislikes['story_id']\n",
    "del df_stories_logs_new_dislikes['Month']\n",
    "df_cat_dislikes = pd.DataFrame(df_stories_logs_new_dislikes.groupby([\"party_rk\", \"category\", 'event_cat'])['event_cat'].count())\n",
    "df_cat_dislikes.columns = ['number_dislikes']\n",
    "df_cat_dislikes.reset_index(inplace = True)\n",
    "df_cat_dislikes_1 = pd.merge(temple_dislikes, df_cat_dislikes, how='left')\n",
    "df_cat_dislikes_1['number_dislikes'] = df_cat_dislikes_1['number_dislikes'].fillna(0)\n",
    "del df_cat_dislikes_1['event_cat']\n",
    "df_cat_dislikes_1"
   ]
  },
  {
   "cell_type": "code",
   "execution_count": 410,
   "metadata": {},
   "outputs": [
    {
     "data": {
      "text/html": [
       "<div>\n",
       "<style scoped>\n",
       "    .dataframe tbody tr th:only-of-type {\n",
       "        vertical-align: middle;\n",
       "    }\n",
       "\n",
       "    .dataframe tbody tr th {\n",
       "        vertical-align: top;\n",
       "    }\n",
       "\n",
       "    .dataframe thead th {\n",
       "        text-align: right;\n",
       "    }\n",
       "</style>\n",
       "<table border=\"1\" class=\"dataframe\">\n",
       "  <thead>\n",
       "    <tr style=\"text-align: right;\">\n",
       "      <th></th>\n",
       "      <th>party_rk</th>\n",
       "      <th>sum_number_dislikes</th>\n",
       "    </tr>\n",
       "  </thead>\n",
       "  <tbody>\n",
       "    <tr>\n",
       "      <th>0</th>\n",
       "      <td>1</td>\n",
       "      <td>0.0</td>\n",
       "    </tr>\n",
       "    <tr>\n",
       "      <th>1</th>\n",
       "      <td>5</td>\n",
       "      <td>0.0</td>\n",
       "    </tr>\n",
       "    <tr>\n",
       "      <th>2</th>\n",
       "      <td>7</td>\n",
       "      <td>0.0</td>\n",
       "    </tr>\n",
       "    <tr>\n",
       "      <th>3</th>\n",
       "      <td>8</td>\n",
       "      <td>0.0</td>\n",
       "    </tr>\n",
       "    <tr>\n",
       "      <th>4</th>\n",
       "      <td>9</td>\n",
       "      <td>0.0</td>\n",
       "    </tr>\n",
       "    <tr>\n",
       "      <th>...</th>\n",
       "      <td>...</td>\n",
       "      <td>...</td>\n",
       "    </tr>\n",
       "    <tr>\n",
       "      <th>49995</th>\n",
       "      <td>94603</td>\n",
       "      <td>0.0</td>\n",
       "    </tr>\n",
       "    <tr>\n",
       "      <th>49996</th>\n",
       "      <td>94606</td>\n",
       "      <td>0.0</td>\n",
       "    </tr>\n",
       "    <tr>\n",
       "      <th>49997</th>\n",
       "      <td>94607</td>\n",
       "      <td>0.0</td>\n",
       "    </tr>\n",
       "    <tr>\n",
       "      <th>49998</th>\n",
       "      <td>94608</td>\n",
       "      <td>0.0</td>\n",
       "    </tr>\n",
       "    <tr>\n",
       "      <th>49999</th>\n",
       "      <td>94610</td>\n",
       "      <td>0.0</td>\n",
       "    </tr>\n",
       "  </tbody>\n",
       "</table>\n",
       "<p>50000 rows × 2 columns</p>\n",
       "</div>"
      ],
      "text/plain": [
       "       party_rk  sum_number_dislikes\n",
       "0             1                  0.0\n",
       "1             5                  0.0\n",
       "2             7                  0.0\n",
       "3             8                  0.0\n",
       "4             9                  0.0\n",
       "...         ...                  ...\n",
       "49995     94603                  0.0\n",
       "49996     94606                  0.0\n",
       "49997     94607                  0.0\n",
       "49998     94608                  0.0\n",
       "49999     94610                  0.0\n",
       "\n",
       "[50000 rows x 2 columns]"
      ]
     },
     "execution_count": 410,
     "metadata": {},
     "output_type": "execute_result"
    }
   ],
   "source": [
    "# создадим таблицу с суммарным количеством дизлайков по каждому пользователю\n",
    "df_cat_dislikes_dislikes_all_cat = df_cat_dislikes_1[['party_rk', 'number_dislikes']]\n",
    "df_cat_dislikes_dislikes_all_cat.columns = ['party_rk', 'sum_number_dislikes']\n",
    "df_cat_dislikes_dislikes_all_cat = df_cat_dislikes_dislikes_all_cat.groupby(['party_rk'])['sum_number_dislikes'].agg('sum').reset_index()\n",
    "df_cat_dislikes_dislikes_all_cat"
   ]
  },
  {
   "cell_type": "code",
   "execution_count": 413,
   "metadata": {},
   "outputs": [
    {
     "data": {
      "text/html": [
       "<div>\n",
       "<style scoped>\n",
       "    .dataframe tbody tr th:only-of-type {\n",
       "        vertical-align: middle;\n",
       "    }\n",
       "\n",
       "    .dataframe tbody tr th {\n",
       "        vertical-align: top;\n",
       "    }\n",
       "\n",
       "    .dataframe thead th {\n",
       "        text-align: right;\n",
       "    }\n",
       "</style>\n",
       "<table border=\"1\" class=\"dataframe\">\n",
       "  <thead>\n",
       "    <tr style=\"text-align: right;\">\n",
       "      <th></th>\n",
       "      <th>party_rk</th>\n",
       "      <th>category</th>\n",
       "      <th>freq_dislikes</th>\n",
       "    </tr>\n",
       "  </thead>\n",
       "  <tbody>\n",
       "    <tr>\n",
       "      <th>0</th>\n",
       "      <td>61243</td>\n",
       "      <td>39</td>\n",
       "      <td>0.0</td>\n",
       "    </tr>\n",
       "    <tr>\n",
       "      <th>1</th>\n",
       "      <td>61243</td>\n",
       "      <td>78</td>\n",
       "      <td>0.0</td>\n",
       "    </tr>\n",
       "    <tr>\n",
       "      <th>2</th>\n",
       "      <td>61243</td>\n",
       "      <td>73</td>\n",
       "      <td>0.0</td>\n",
       "    </tr>\n",
       "    <tr>\n",
       "      <th>3</th>\n",
       "      <td>61243</td>\n",
       "      <td>81</td>\n",
       "      <td>0.0</td>\n",
       "    </tr>\n",
       "    <tr>\n",
       "      <th>4</th>\n",
       "      <td>61243</td>\n",
       "      <td>44</td>\n",
       "      <td>0.0</td>\n",
       "    </tr>\n",
       "    <tr>\n",
       "      <th>...</th>\n",
       "      <td>...</td>\n",
       "      <td>...</td>\n",
       "      <td>...</td>\n",
       "    </tr>\n",
       "    <tr>\n",
       "      <th>2749995</th>\n",
       "      <td>77268</td>\n",
       "      <td>21</td>\n",
       "      <td>0.0</td>\n",
       "    </tr>\n",
       "    <tr>\n",
       "      <th>2749996</th>\n",
       "      <td>77268</td>\n",
       "      <td>64</td>\n",
       "      <td>0.0</td>\n",
       "    </tr>\n",
       "    <tr>\n",
       "      <th>2749997</th>\n",
       "      <td>77268</td>\n",
       "      <td>77</td>\n",
       "      <td>0.0</td>\n",
       "    </tr>\n",
       "    <tr>\n",
       "      <th>2749998</th>\n",
       "      <td>77268</td>\n",
       "      <td>79</td>\n",
       "      <td>0.0</td>\n",
       "    </tr>\n",
       "    <tr>\n",
       "      <th>2749999</th>\n",
       "      <td>77268</td>\n",
       "      <td>75</td>\n",
       "      <td>0.0</td>\n",
       "    </tr>\n",
       "  </tbody>\n",
       "</table>\n",
       "<p>2750000 rows × 3 columns</p>\n",
       "</div>"
      ],
      "text/plain": [
       "         party_rk  category  freq_dislikes\n",
       "0           61243        39            0.0\n",
       "1           61243        78            0.0\n",
       "2           61243        73            0.0\n",
       "3           61243        81            0.0\n",
       "4           61243        44            0.0\n",
       "...           ...       ...            ...\n",
       "2749995     77268        21            0.0\n",
       "2749996     77268        64            0.0\n",
       "2749997     77268        77            0.0\n",
       "2749998     77268        79            0.0\n",
       "2749999     77268        75            0.0\n",
       "\n",
       "[2750000 rows x 3 columns]"
      ]
     },
     "execution_count": 413,
     "metadata": {},
     "output_type": "execute_result"
    }
   ],
   "source": [
    "# создадим таблицу, где будет храниться информация о частоте лайков для каждого пользователя и категории\n",
    "df_temp1_dislikes = pd.merge(df_cat_dislikes_1, df_cat_dislikes_dislikes_all_cat, how = 'left')\n",
    "df_temp1_dislikes['freq_dislikes'] = 1.0 * df_temp1_dislikes['number_dislikes']/df_temp1_dislikes['sum_number_dislikes']\n",
    "df_temp1_dislikes = df_temp1_dislikes[['party_rk', 'category', 'freq_dislikes']]\n",
    "df_temp1_dislikes.fillna(0, inplace = True)\n",
    "df_temp1_dislikes"
   ]
  },
  {
   "cell_type": "code",
   "execution_count": 414,
   "metadata": {},
   "outputs": [],
   "source": [
    "df_new_dislikes = pd.DataFrame({'party_rk': df_socdem_num_['party_rk'].unique()})\n",
    "for i in df_temp1_dislikes['category'].unique():\n",
    "    df_temp_for_dislikes = df_temp1_dislikes[df_temp1_dislikes['category'] == i]\n",
    "    del df_temp_for_dislikes['category']\n",
    "    df_new_dislikes_ = pd.merge(df_new_dislikes, df_temp_for_dislikes, left_on = 'party_rk', right_on = 'party_rk', how = 'left')\n",
    "    df_new_dislikes = df_new_dislikes_.copy()"
   ]
  },
  {
   "cell_type": "code",
   "execution_count": 430,
   "metadata": {},
   "outputs": [],
   "source": [
    "s_dislikes = ['party_rk']\n",
    "for i in df_temp1_dislikes['category'].unique():\n",
    "    string_name = 'feature2_' + str(i) \n",
    "    s_dislikes.append(string_name)\n",
    "df_new_dislikes.columns = s_dislikes\n",
    "df_new_dislikes_final = df_new_dislikes.copy()"
   ]
  },
  {
   "cell_type": "code",
   "execution_count": 431,
   "metadata": {},
   "outputs": [
    {
     "data": {
      "text/html": [
       "<div>\n",
       "<style scoped>\n",
       "    .dataframe tbody tr th:only-of-type {\n",
       "        vertical-align: middle;\n",
       "    }\n",
       "\n",
       "    .dataframe tbody tr th {\n",
       "        vertical-align: top;\n",
       "    }\n",
       "\n",
       "    .dataframe thead th {\n",
       "        text-align: right;\n",
       "    }\n",
       "</style>\n",
       "<table border=\"1\" class=\"dataframe\">\n",
       "  <thead>\n",
       "    <tr style=\"text-align: right;\">\n",
       "      <th></th>\n",
       "      <th>party_rk</th>\n",
       "      <th>feature2_39</th>\n",
       "      <th>feature2_78</th>\n",
       "      <th>feature2_73</th>\n",
       "      <th>feature2_81</th>\n",
       "      <th>feature2_44</th>\n",
       "      <th>feature2_16</th>\n",
       "      <th>feature2_68</th>\n",
       "      <th>feature2_15</th>\n",
       "      <th>feature2_71</th>\n",
       "      <th>...</th>\n",
       "      <th>feature2_17</th>\n",
       "      <th>feature2_72</th>\n",
       "      <th>feature2_42</th>\n",
       "      <th>feature2_1</th>\n",
       "      <th>feature2_23</th>\n",
       "      <th>feature2_21</th>\n",
       "      <th>feature2_64</th>\n",
       "      <th>feature2_77</th>\n",
       "      <th>feature2_79</th>\n",
       "      <th>feature2_75</th>\n",
       "    </tr>\n",
       "  </thead>\n",
       "  <tbody>\n",
       "    <tr>\n",
       "      <th>0</th>\n",
       "      <td>61243</td>\n",
       "      <td>0.0</td>\n",
       "      <td>0.0</td>\n",
       "      <td>0.0</td>\n",
       "      <td>0.0</td>\n",
       "      <td>0.0</td>\n",
       "      <td>0.0</td>\n",
       "      <td>0.0</td>\n",
       "      <td>0.0</td>\n",
       "      <td>0.0</td>\n",
       "      <td>...</td>\n",
       "      <td>0.0</td>\n",
       "      <td>0.0</td>\n",
       "      <td>0.0</td>\n",
       "      <td>0.0</td>\n",
       "      <td>0.0</td>\n",
       "      <td>0.0</td>\n",
       "      <td>0.0</td>\n",
       "      <td>0.0</td>\n",
       "      <td>0.0</td>\n",
       "      <td>0.0</td>\n",
       "    </tr>\n",
       "    <tr>\n",
       "      <th>1</th>\n",
       "      <td>66535</td>\n",
       "      <td>0.0</td>\n",
       "      <td>0.0</td>\n",
       "      <td>0.0</td>\n",
       "      <td>0.0</td>\n",
       "      <td>0.0</td>\n",
       "      <td>0.0</td>\n",
       "      <td>0.0</td>\n",
       "      <td>0.0</td>\n",
       "      <td>0.0</td>\n",
       "      <td>...</td>\n",
       "      <td>0.0</td>\n",
       "      <td>0.0</td>\n",
       "      <td>0.0</td>\n",
       "      <td>0.0</td>\n",
       "      <td>0.0</td>\n",
       "      <td>0.0</td>\n",
       "      <td>0.0</td>\n",
       "      <td>0.0</td>\n",
       "      <td>0.0</td>\n",
       "      <td>0.0</td>\n",
       "    </tr>\n",
       "    <tr>\n",
       "      <th>2</th>\n",
       "      <td>83721</td>\n",
       "      <td>0.0</td>\n",
       "      <td>0.0</td>\n",
       "      <td>0.0</td>\n",
       "      <td>0.0</td>\n",
       "      <td>0.0</td>\n",
       "      <td>0.0</td>\n",
       "      <td>0.0</td>\n",
       "      <td>0.0</td>\n",
       "      <td>0.0</td>\n",
       "      <td>...</td>\n",
       "      <td>0.0</td>\n",
       "      <td>0.0</td>\n",
       "      <td>0.0</td>\n",
       "      <td>0.0</td>\n",
       "      <td>0.0</td>\n",
       "      <td>0.0</td>\n",
       "      <td>0.0</td>\n",
       "      <td>0.0</td>\n",
       "      <td>0.0</td>\n",
       "      <td>0.0</td>\n",
       "    </tr>\n",
       "    <tr>\n",
       "      <th>3</th>\n",
       "      <td>88238</td>\n",
       "      <td>0.0</td>\n",
       "      <td>0.0</td>\n",
       "      <td>0.0</td>\n",
       "      <td>0.0</td>\n",
       "      <td>0.0</td>\n",
       "      <td>0.0</td>\n",
       "      <td>0.0</td>\n",
       "      <td>0.0</td>\n",
       "      <td>0.0</td>\n",
       "      <td>...</td>\n",
       "      <td>0.0</td>\n",
       "      <td>0.0</td>\n",
       "      <td>0.0</td>\n",
       "      <td>0.0</td>\n",
       "      <td>0.0</td>\n",
       "      <td>0.0</td>\n",
       "      <td>0.0</td>\n",
       "      <td>0.0</td>\n",
       "      <td>0.0</td>\n",
       "      <td>0.0</td>\n",
       "    </tr>\n",
       "    <tr>\n",
       "      <th>4</th>\n",
       "      <td>57179</td>\n",
       "      <td>0.0</td>\n",
       "      <td>0.0</td>\n",
       "      <td>0.0</td>\n",
       "      <td>0.0</td>\n",
       "      <td>0.0</td>\n",
       "      <td>0.0</td>\n",
       "      <td>0.0</td>\n",
       "      <td>0.0</td>\n",
       "      <td>0.0</td>\n",
       "      <td>...</td>\n",
       "      <td>0.0</td>\n",
       "      <td>0.0</td>\n",
       "      <td>0.0</td>\n",
       "      <td>0.0</td>\n",
       "      <td>0.0</td>\n",
       "      <td>0.0</td>\n",
       "      <td>0.0</td>\n",
       "      <td>0.0</td>\n",
       "      <td>0.0</td>\n",
       "      <td>0.0</td>\n",
       "    </tr>\n",
       "  </tbody>\n",
       "</table>\n",
       "<p>5 rows × 56 columns</p>\n",
       "</div>"
      ],
      "text/plain": [
       "   party_rk  feature2_39  feature2_78  feature2_73  feature2_81  feature2_44  \\\n",
       "0     61243          0.0          0.0          0.0          0.0          0.0   \n",
       "1     66535          0.0          0.0          0.0          0.0          0.0   \n",
       "2     83721          0.0          0.0          0.0          0.0          0.0   \n",
       "3     88238          0.0          0.0          0.0          0.0          0.0   \n",
       "4     57179          0.0          0.0          0.0          0.0          0.0   \n",
       "\n",
       "   feature2_16  feature2_68  feature2_15  feature2_71  ...  feature2_17  \\\n",
       "0          0.0          0.0          0.0          0.0  ...          0.0   \n",
       "1          0.0          0.0          0.0          0.0  ...          0.0   \n",
       "2          0.0          0.0          0.0          0.0  ...          0.0   \n",
       "3          0.0          0.0          0.0          0.0  ...          0.0   \n",
       "4          0.0          0.0          0.0          0.0  ...          0.0   \n",
       "\n",
       "   feature2_72  feature2_42  feature2_1  feature2_23  feature2_21  \\\n",
       "0          0.0          0.0         0.0          0.0          0.0   \n",
       "1          0.0          0.0         0.0          0.0          0.0   \n",
       "2          0.0          0.0         0.0          0.0          0.0   \n",
       "3          0.0          0.0         0.0          0.0          0.0   \n",
       "4          0.0          0.0         0.0          0.0          0.0   \n",
       "\n",
       "   feature2_64  feature2_77  feature2_79  feature2_75  \n",
       "0          0.0          0.0          0.0          0.0  \n",
       "1          0.0          0.0          0.0          0.0  \n",
       "2          0.0          0.0          0.0          0.0  \n",
       "3          0.0          0.0          0.0          0.0  \n",
       "4          0.0          0.0          0.0          0.0  \n",
       "\n",
       "[5 rows x 56 columns]"
      ]
     },
     "execution_count": 431,
     "metadata": {},
     "output_type": "execute_result"
    }
   ],
   "source": [
    "df_new_dislikes_final.head()"
   ]
  },
  {
   "cell_type": "markdown",
   "metadata": {},
   "source": [
    "### Признак №3 <a class=\"anchor\" id=\"ch93\"></a>"
   ]
  },
  {
   "cell_type": "markdown",
   "metadata": {},
   "source": [
    "<strong>Признак:</strong> рейтинг категорий, которые пользователь отнес к категории 'favorites'. Для того, чтобы его посчитать, смотрим на то, сколько 'favorites' юзер поставил на стори той или иной категории и делим это на суммарное количество 'favorites' по всем категориям. "
   ]
  },
  {
   "cell_type": "markdown",
   "metadata": {},
   "source": [
    "$\\frac{\\mbox{(Количество 'favorites' у человека в конкретной категории в данном месяце)}}{\\mbox{(Общее количество 'favorites' человека в конкретном месяце)}}$"
   ]
  },
  {
   "cell_type": "code",
   "execution_count": 419,
   "metadata": {},
   "outputs": [
    {
     "data": {
      "text/html": [
       "<div>\n",
       "<style scoped>\n",
       "    .dataframe tbody tr th:only-of-type {\n",
       "        vertical-align: middle;\n",
       "    }\n",
       "\n",
       "    .dataframe tbody tr th {\n",
       "        vertical-align: top;\n",
       "    }\n",
       "\n",
       "    .dataframe thead th {\n",
       "        text-align: right;\n",
       "    }\n",
       "</style>\n",
       "<table border=\"1\" class=\"dataframe\">\n",
       "  <thead>\n",
       "    <tr style=\"text-align: right;\">\n",
       "      <th></th>\n",
       "      <th>party_rk</th>\n",
       "      <th>category</th>\n",
       "      <th>number_favs</th>\n",
       "    </tr>\n",
       "  </thead>\n",
       "  <tbody>\n",
       "    <tr>\n",
       "      <th>0</th>\n",
       "      <td>61243</td>\n",
       "      <td>39</td>\n",
       "      <td>0.0</td>\n",
       "    </tr>\n",
       "    <tr>\n",
       "      <th>1</th>\n",
       "      <td>61243</td>\n",
       "      <td>78</td>\n",
       "      <td>0.0</td>\n",
       "    </tr>\n",
       "    <tr>\n",
       "      <th>2</th>\n",
       "      <td>61243</td>\n",
       "      <td>73</td>\n",
       "      <td>0.0</td>\n",
       "    </tr>\n",
       "    <tr>\n",
       "      <th>3</th>\n",
       "      <td>61243</td>\n",
       "      <td>81</td>\n",
       "      <td>0.0</td>\n",
       "    </tr>\n",
       "    <tr>\n",
       "      <th>4</th>\n",
       "      <td>61243</td>\n",
       "      <td>44</td>\n",
       "      <td>0.0</td>\n",
       "    </tr>\n",
       "    <tr>\n",
       "      <th>...</th>\n",
       "      <td>...</td>\n",
       "      <td>...</td>\n",
       "      <td>...</td>\n",
       "    </tr>\n",
       "    <tr>\n",
       "      <th>2749995</th>\n",
       "      <td>77268</td>\n",
       "      <td>21</td>\n",
       "      <td>0.0</td>\n",
       "    </tr>\n",
       "    <tr>\n",
       "      <th>2749996</th>\n",
       "      <td>77268</td>\n",
       "      <td>64</td>\n",
       "      <td>0.0</td>\n",
       "    </tr>\n",
       "    <tr>\n",
       "      <th>2749997</th>\n",
       "      <td>77268</td>\n",
       "      <td>77</td>\n",
       "      <td>0.0</td>\n",
       "    </tr>\n",
       "    <tr>\n",
       "      <th>2749998</th>\n",
       "      <td>77268</td>\n",
       "      <td>79</td>\n",
       "      <td>0.0</td>\n",
       "    </tr>\n",
       "    <tr>\n",
       "      <th>2749999</th>\n",
       "      <td>77268</td>\n",
       "      <td>75</td>\n",
       "      <td>0.0</td>\n",
       "    </tr>\n",
       "  </tbody>\n",
       "</table>\n",
       "<p>2750000 rows × 3 columns</p>\n",
       "</div>"
      ],
      "text/plain": [
       "         party_rk  category  number_favs\n",
       "0           61243        39          0.0\n",
       "1           61243        78          0.0\n",
       "2           61243        73          0.0\n",
       "3           61243        81          0.0\n",
       "4           61243        44          0.0\n",
       "...           ...       ...          ...\n",
       "2749995     77268        21          0.0\n",
       "2749996     77268        64          0.0\n",
       "2749997     77268        77          0.0\n",
       "2749998     77268        79          0.0\n",
       "2749999     77268        75          0.0\n",
       "\n",
       "[2750000 rows x 3 columns]"
      ]
     },
     "execution_count": 419,
     "metadata": {},
     "output_type": "execute_result"
    }
   ],
   "source": [
    "# создадим таблицу, с количеством 'favorites' каждого пользователя в конкректной категории\n",
    "a_favs = list(df_stories_logs['category'].unique()) * 50000\n",
    "temple_favs = pd.DataFrame({'party_rk': party_ids, 'category': a})\n",
    "df_stories_logs['Month'] = pd.DatetimeIndex(df_stories_logs['date_time']).month\n",
    "df_stories_logs_favs = df_stories_logs[((df_stories_logs['Month'] == 10) | (df_stories_logs['Month'] == 11)) &\n",
    "                                   (df_stories_logs['event_cat'] == 0)]\n",
    "df_stories_logs_new_favs = df_stories_logs_favs.copy()\n",
    "del df_stories_logs_new_favs['date_time']\n",
    "del df_stories_logs_new_favs['story_id']\n",
    "del df_stories_logs_new_favs['Month']\n",
    "df_cat_favs = pd.DataFrame(df_stories_logs_new_favs.groupby([\"party_rk\", \"category\", 'event_cat'])['event_cat'].count())\n",
    "df_cat_favs.columns = ['number_favs']\n",
    "df_cat_favs.reset_index(inplace = True)\n",
    "df_cat_favs_1 = pd.merge(temple_favs, df_cat_favs, how='left')\n",
    "df_cat_favs_1['number_favs'] = df_cat_favs_1['number_favs'].fillna(0)\n",
    "del df_cat_favs_1['event_cat']\n",
    "df_cat_favs_1"
   ]
  },
  {
   "cell_type": "code",
   "execution_count": 421,
   "metadata": {},
   "outputs": [
    {
     "data": {
      "text/html": [
       "<div>\n",
       "<style scoped>\n",
       "    .dataframe tbody tr th:only-of-type {\n",
       "        vertical-align: middle;\n",
       "    }\n",
       "\n",
       "    .dataframe tbody tr th {\n",
       "        vertical-align: top;\n",
       "    }\n",
       "\n",
       "    .dataframe thead th {\n",
       "        text-align: right;\n",
       "    }\n",
       "</style>\n",
       "<table border=\"1\" class=\"dataframe\">\n",
       "  <thead>\n",
       "    <tr style=\"text-align: right;\">\n",
       "      <th></th>\n",
       "      <th>party_rk</th>\n",
       "      <th>sum_number_favs</th>\n",
       "    </tr>\n",
       "  </thead>\n",
       "  <tbody>\n",
       "    <tr>\n",
       "      <th>0</th>\n",
       "      <td>1</td>\n",
       "      <td>0.0</td>\n",
       "    </tr>\n",
       "    <tr>\n",
       "      <th>1</th>\n",
       "      <td>5</td>\n",
       "      <td>0.0</td>\n",
       "    </tr>\n",
       "    <tr>\n",
       "      <th>2</th>\n",
       "      <td>7</td>\n",
       "      <td>0.0</td>\n",
       "    </tr>\n",
       "    <tr>\n",
       "      <th>3</th>\n",
       "      <td>8</td>\n",
       "      <td>0.0</td>\n",
       "    </tr>\n",
       "    <tr>\n",
       "      <th>4</th>\n",
       "      <td>9</td>\n",
       "      <td>0.0</td>\n",
       "    </tr>\n",
       "    <tr>\n",
       "      <th>...</th>\n",
       "      <td>...</td>\n",
       "      <td>...</td>\n",
       "    </tr>\n",
       "    <tr>\n",
       "      <th>49995</th>\n",
       "      <td>94603</td>\n",
       "      <td>0.0</td>\n",
       "    </tr>\n",
       "    <tr>\n",
       "      <th>49996</th>\n",
       "      <td>94606</td>\n",
       "      <td>0.0</td>\n",
       "    </tr>\n",
       "    <tr>\n",
       "      <th>49997</th>\n",
       "      <td>94607</td>\n",
       "      <td>0.0</td>\n",
       "    </tr>\n",
       "    <tr>\n",
       "      <th>49998</th>\n",
       "      <td>94608</td>\n",
       "      <td>0.0</td>\n",
       "    </tr>\n",
       "    <tr>\n",
       "      <th>49999</th>\n",
       "      <td>94610</td>\n",
       "      <td>0.0</td>\n",
       "    </tr>\n",
       "  </tbody>\n",
       "</table>\n",
       "<p>50000 rows × 2 columns</p>\n",
       "</div>"
      ],
      "text/plain": [
       "       party_rk  sum_number_favs\n",
       "0             1              0.0\n",
       "1             5              0.0\n",
       "2             7              0.0\n",
       "3             8              0.0\n",
       "4             9              0.0\n",
       "...         ...              ...\n",
       "49995     94603              0.0\n",
       "49996     94606              0.0\n",
       "49997     94607              0.0\n",
       "49998     94608              0.0\n",
       "49999     94610              0.0\n",
       "\n",
       "[50000 rows x 2 columns]"
      ]
     },
     "execution_count": 421,
     "metadata": {},
     "output_type": "execute_result"
    }
   ],
   "source": [
    "# создадим таблицу с суммарным количеством 'favorites' по каждому пользователю\n",
    "df_cat_favs_favs_all_cat = df_cat_favs_1[['party_rk', 'number_favs']]\n",
    "df_cat_favs_favs_all_cat.columns = ['party_rk', 'sum_number_favs']\n",
    "df_cat_favs_favs_all_cat = df_cat_favs_favs_all_cat.groupby(['party_rk'])['sum_number_favs'].agg('sum').reset_index()\n",
    "df_cat_favs_favs_all_cat"
   ]
  },
  {
   "cell_type": "code",
   "execution_count": 422,
   "metadata": {},
   "outputs": [
    {
     "data": {
      "text/html": [
       "<div>\n",
       "<style scoped>\n",
       "    .dataframe tbody tr th:only-of-type {\n",
       "        vertical-align: middle;\n",
       "    }\n",
       "\n",
       "    .dataframe tbody tr th {\n",
       "        vertical-align: top;\n",
       "    }\n",
       "\n",
       "    .dataframe thead th {\n",
       "        text-align: right;\n",
       "    }\n",
       "</style>\n",
       "<table border=\"1\" class=\"dataframe\">\n",
       "  <thead>\n",
       "    <tr style=\"text-align: right;\">\n",
       "      <th></th>\n",
       "      <th>party_rk</th>\n",
       "      <th>category</th>\n",
       "      <th>freq_favs</th>\n",
       "    </tr>\n",
       "  </thead>\n",
       "  <tbody>\n",
       "    <tr>\n",
       "      <th>0</th>\n",
       "      <td>61243</td>\n",
       "      <td>39</td>\n",
       "      <td>0.0</td>\n",
       "    </tr>\n",
       "    <tr>\n",
       "      <th>1</th>\n",
       "      <td>61243</td>\n",
       "      <td>78</td>\n",
       "      <td>0.0</td>\n",
       "    </tr>\n",
       "    <tr>\n",
       "      <th>2</th>\n",
       "      <td>61243</td>\n",
       "      <td>73</td>\n",
       "      <td>0.0</td>\n",
       "    </tr>\n",
       "    <tr>\n",
       "      <th>3</th>\n",
       "      <td>61243</td>\n",
       "      <td>81</td>\n",
       "      <td>0.0</td>\n",
       "    </tr>\n",
       "    <tr>\n",
       "      <th>4</th>\n",
       "      <td>61243</td>\n",
       "      <td>44</td>\n",
       "      <td>0.0</td>\n",
       "    </tr>\n",
       "    <tr>\n",
       "      <th>...</th>\n",
       "      <td>...</td>\n",
       "      <td>...</td>\n",
       "      <td>...</td>\n",
       "    </tr>\n",
       "    <tr>\n",
       "      <th>2749995</th>\n",
       "      <td>77268</td>\n",
       "      <td>21</td>\n",
       "      <td>0.0</td>\n",
       "    </tr>\n",
       "    <tr>\n",
       "      <th>2749996</th>\n",
       "      <td>77268</td>\n",
       "      <td>64</td>\n",
       "      <td>0.0</td>\n",
       "    </tr>\n",
       "    <tr>\n",
       "      <th>2749997</th>\n",
       "      <td>77268</td>\n",
       "      <td>77</td>\n",
       "      <td>0.0</td>\n",
       "    </tr>\n",
       "    <tr>\n",
       "      <th>2749998</th>\n",
       "      <td>77268</td>\n",
       "      <td>79</td>\n",
       "      <td>0.0</td>\n",
       "    </tr>\n",
       "    <tr>\n",
       "      <th>2749999</th>\n",
       "      <td>77268</td>\n",
       "      <td>75</td>\n",
       "      <td>0.0</td>\n",
       "    </tr>\n",
       "  </tbody>\n",
       "</table>\n",
       "<p>2750000 rows × 3 columns</p>\n",
       "</div>"
      ],
      "text/plain": [
       "         party_rk  category  freq_favs\n",
       "0           61243        39        0.0\n",
       "1           61243        78        0.0\n",
       "2           61243        73        0.0\n",
       "3           61243        81        0.0\n",
       "4           61243        44        0.0\n",
       "...           ...       ...        ...\n",
       "2749995     77268        21        0.0\n",
       "2749996     77268        64        0.0\n",
       "2749997     77268        77        0.0\n",
       "2749998     77268        79        0.0\n",
       "2749999     77268        75        0.0\n",
       "\n",
       "[2750000 rows x 3 columns]"
      ]
     },
     "execution_count": 422,
     "metadata": {},
     "output_type": "execute_result"
    }
   ],
   "source": [
    "# создадим таблицу, где будет храниться информация о частоте 'favorites' для каждого пользователя и категории\n",
    "df_temp1_favs = pd.merge(df_cat_favs_1, df_cat_favs_favs_all_cat, how = 'left')\n",
    "df_temp1_favs['freq_favs'] = 1.0 * df_temp1_favs['number_favs']/df_temp1_favs['sum_number_favs']\n",
    "df_temp1_favs= df_temp1_favs[['party_rk', 'category', 'freq_favs']]\n",
    "df_temp1_favs.fillna(0, inplace = True)\n",
    "df_temp1_favs"
   ]
  },
  {
   "cell_type": "code",
   "execution_count": 423,
   "metadata": {},
   "outputs": [],
   "source": [
    "df_new_favs = pd.DataFrame({'party_rk': df_socdem_num_['party_rk'].unique()})\n",
    "for i in df_temp1_favs['category'].unique():\n",
    "    df_temp_for_favs = df_temp1_favs[df_temp1_favs['category'] == i]\n",
    "    del df_temp_for_favs['category']\n",
    "    df_new_favs_ = pd.merge(df_new_favs, df_temp_for_favs, left_on = 'party_rk', right_on = 'party_rk', how = 'left')\n",
    "    df_new_favs = df_new_favs_.copy()"
   ]
  },
  {
   "cell_type": "code",
   "execution_count": 428,
   "metadata": {},
   "outputs": [],
   "source": [
    "s_favs = ['party_rk']\n",
    "for i in df_temp1_favs['category'].unique():\n",
    "    string_name = 'feature3_' + str(i) \n",
    "    s_favs.append(string_name)\n",
    "df_new_favs.columns = s_favs\n",
    "df_new_favs_final = df_new_favs.copy()"
   ]
  },
  {
   "cell_type": "code",
   "execution_count": 429,
   "metadata": {},
   "outputs": [
    {
     "data": {
      "text/html": [
       "<div>\n",
       "<style scoped>\n",
       "    .dataframe tbody tr th:only-of-type {\n",
       "        vertical-align: middle;\n",
       "    }\n",
       "\n",
       "    .dataframe tbody tr th {\n",
       "        vertical-align: top;\n",
       "    }\n",
       "\n",
       "    .dataframe thead th {\n",
       "        text-align: right;\n",
       "    }\n",
       "</style>\n",
       "<table border=\"1\" class=\"dataframe\">\n",
       "  <thead>\n",
       "    <tr style=\"text-align: right;\">\n",
       "      <th></th>\n",
       "      <th>party_rk</th>\n",
       "      <th>feature3_39</th>\n",
       "      <th>feature3_78</th>\n",
       "      <th>feature3_73</th>\n",
       "      <th>feature3_81</th>\n",
       "      <th>feature3_44</th>\n",
       "      <th>feature3_16</th>\n",
       "      <th>feature3_68</th>\n",
       "      <th>feature3_15</th>\n",
       "      <th>feature3_71</th>\n",
       "      <th>...</th>\n",
       "      <th>feature3_17</th>\n",
       "      <th>feature3_72</th>\n",
       "      <th>feature3_42</th>\n",
       "      <th>feature3_1</th>\n",
       "      <th>feature3_23</th>\n",
       "      <th>feature3_21</th>\n",
       "      <th>feature3_64</th>\n",
       "      <th>feature3_77</th>\n",
       "      <th>feature3_79</th>\n",
       "      <th>feature3_75</th>\n",
       "    </tr>\n",
       "  </thead>\n",
       "  <tbody>\n",
       "    <tr>\n",
       "      <th>0</th>\n",
       "      <td>61243</td>\n",
       "      <td>0.0</td>\n",
       "      <td>0.0</td>\n",
       "      <td>0.0</td>\n",
       "      <td>0.0</td>\n",
       "      <td>0.0</td>\n",
       "      <td>0.0</td>\n",
       "      <td>0.0</td>\n",
       "      <td>0.0</td>\n",
       "      <td>0.0</td>\n",
       "      <td>...</td>\n",
       "      <td>0.0</td>\n",
       "      <td>0.0</td>\n",
       "      <td>0.0</td>\n",
       "      <td>0.0</td>\n",
       "      <td>0.0</td>\n",
       "      <td>0.0</td>\n",
       "      <td>0.0</td>\n",
       "      <td>0.0</td>\n",
       "      <td>0.0</td>\n",
       "      <td>0.0</td>\n",
       "    </tr>\n",
       "    <tr>\n",
       "      <th>1</th>\n",
       "      <td>66535</td>\n",
       "      <td>0.0</td>\n",
       "      <td>0.0</td>\n",
       "      <td>0.0</td>\n",
       "      <td>0.0</td>\n",
       "      <td>0.0</td>\n",
       "      <td>0.0</td>\n",
       "      <td>0.0</td>\n",
       "      <td>0.0</td>\n",
       "      <td>0.0</td>\n",
       "      <td>...</td>\n",
       "      <td>0.0</td>\n",
       "      <td>0.0</td>\n",
       "      <td>0.0</td>\n",
       "      <td>0.0</td>\n",
       "      <td>0.0</td>\n",
       "      <td>0.0</td>\n",
       "      <td>0.0</td>\n",
       "      <td>0.0</td>\n",
       "      <td>0.0</td>\n",
       "      <td>0.0</td>\n",
       "    </tr>\n",
       "    <tr>\n",
       "      <th>2</th>\n",
       "      <td>83721</td>\n",
       "      <td>0.0</td>\n",
       "      <td>0.0</td>\n",
       "      <td>0.0</td>\n",
       "      <td>0.0</td>\n",
       "      <td>0.0</td>\n",
       "      <td>0.0</td>\n",
       "      <td>0.0</td>\n",
       "      <td>0.0</td>\n",
       "      <td>0.0</td>\n",
       "      <td>...</td>\n",
       "      <td>0.0</td>\n",
       "      <td>0.0</td>\n",
       "      <td>0.0</td>\n",
       "      <td>0.0</td>\n",
       "      <td>0.0</td>\n",
       "      <td>0.0</td>\n",
       "      <td>0.0</td>\n",
       "      <td>0.0</td>\n",
       "      <td>0.0</td>\n",
       "      <td>0.0</td>\n",
       "    </tr>\n",
       "    <tr>\n",
       "      <th>3</th>\n",
       "      <td>88238</td>\n",
       "      <td>0.0</td>\n",
       "      <td>0.0</td>\n",
       "      <td>0.0</td>\n",
       "      <td>0.0</td>\n",
       "      <td>0.0</td>\n",
       "      <td>0.0</td>\n",
       "      <td>0.0</td>\n",
       "      <td>0.0</td>\n",
       "      <td>0.0</td>\n",
       "      <td>...</td>\n",
       "      <td>0.0</td>\n",
       "      <td>0.0</td>\n",
       "      <td>0.0</td>\n",
       "      <td>0.0</td>\n",
       "      <td>0.0</td>\n",
       "      <td>0.0</td>\n",
       "      <td>0.0</td>\n",
       "      <td>0.0</td>\n",
       "      <td>0.0</td>\n",
       "      <td>0.0</td>\n",
       "    </tr>\n",
       "    <tr>\n",
       "      <th>4</th>\n",
       "      <td>57179</td>\n",
       "      <td>0.0</td>\n",
       "      <td>0.0</td>\n",
       "      <td>0.0</td>\n",
       "      <td>0.0</td>\n",
       "      <td>0.0</td>\n",
       "      <td>0.0</td>\n",
       "      <td>0.0</td>\n",
       "      <td>0.0</td>\n",
       "      <td>0.0</td>\n",
       "      <td>...</td>\n",
       "      <td>0.0</td>\n",
       "      <td>0.0</td>\n",
       "      <td>0.0</td>\n",
       "      <td>0.0</td>\n",
       "      <td>0.0</td>\n",
       "      <td>0.0</td>\n",
       "      <td>0.0</td>\n",
       "      <td>0.0</td>\n",
       "      <td>0.0</td>\n",
       "      <td>0.0</td>\n",
       "    </tr>\n",
       "  </tbody>\n",
       "</table>\n",
       "<p>5 rows × 56 columns</p>\n",
       "</div>"
      ],
      "text/plain": [
       "   party_rk  feature3_39  feature3_78  feature3_73  feature3_81  feature3_44  \\\n",
       "0     61243          0.0          0.0          0.0          0.0          0.0   \n",
       "1     66535          0.0          0.0          0.0          0.0          0.0   \n",
       "2     83721          0.0          0.0          0.0          0.0          0.0   \n",
       "3     88238          0.0          0.0          0.0          0.0          0.0   \n",
       "4     57179          0.0          0.0          0.0          0.0          0.0   \n",
       "\n",
       "   feature3_16  feature3_68  feature3_15  feature3_71  ...  feature3_17  \\\n",
       "0          0.0          0.0          0.0          0.0  ...          0.0   \n",
       "1          0.0          0.0          0.0          0.0  ...          0.0   \n",
       "2          0.0          0.0          0.0          0.0  ...          0.0   \n",
       "3          0.0          0.0          0.0          0.0  ...          0.0   \n",
       "4          0.0          0.0          0.0          0.0  ...          0.0   \n",
       "\n",
       "   feature3_72  feature3_42  feature3_1  feature3_23  feature3_21  \\\n",
       "0          0.0          0.0         0.0          0.0          0.0   \n",
       "1          0.0          0.0         0.0          0.0          0.0   \n",
       "2          0.0          0.0         0.0          0.0          0.0   \n",
       "3          0.0          0.0         0.0          0.0          0.0   \n",
       "4          0.0          0.0         0.0          0.0          0.0   \n",
       "\n",
       "   feature3_64  feature3_77  feature3_79  feature3_75  \n",
       "0          0.0          0.0          0.0          0.0  \n",
       "1          0.0          0.0          0.0          0.0  \n",
       "2          0.0          0.0          0.0          0.0  \n",
       "3          0.0          0.0          0.0          0.0  \n",
       "4          0.0          0.0          0.0          0.0  \n",
       "\n",
       "[5 rows x 56 columns]"
      ]
     },
     "execution_count": 429,
     "metadata": {},
     "output_type": "execute_result"
    }
   ],
   "source": [
    "df_new_favs_final.head()"
   ]
  },
  {
   "cell_type": "markdown",
   "metadata": {},
   "source": [
    "### Признак №4 <a class=\"anchor\" id=\"ch94\"></a>"
   ]
  },
  {
   "cell_type": "markdown",
   "metadata": {},
   "source": [
    "<strong>Признак:</strong> средняя сумма в месяц, потраченная пользователем на конкретную категорию (подсчет по последним трем месяцам)."
   ]
  },
  {
   "cell_type": "markdown",
   "metadata": {},
   "source": [
    "Получим 37 новых столбцов для единой итоговой таблицы."
   ]
  },
  {
   "cell_type": "markdown",
   "metadata": {},
   "source": [
    "Укажем даты начала и конца периода из крайних трех месяцев тренировочной выборки:"
   ]
  },
  {
   "cell_type": "code",
   "execution_count": null,
   "metadata": {},
   "outputs": [],
   "source": [
    "date1 = datetime.datetime(2019,11,30)\n",
    "date4 = datetime.datetime(2019,8,31)"
   ]
  },
  {
   "cell_type": "code",
   "execution_count": null,
   "metadata": {},
   "outputs": [],
   "source": [
    "# Функция для вывода транзакций в указанном периоде\n",
    "def cutDate(start_date, stop_date):\n",
    "    v1_1 = df_train[df_train['transaction_dttm'] <= stop_date]\n",
    "    pre_cut = v1_1[start_date < v1_1['transaction_dttm']]\n",
    "    final_cut = pre_cut['party_rk'].to_frame()\n",
    "    return pre_cut, final_cut"
   ]
  },
  {
   "cell_type": "code",
   "execution_count": null,
   "metadata": {
    "scrolled": true
   },
   "outputs": [],
   "source": [
    "# Выпишем все party_rk всех пользователей\n",
    "df_pr4 = df_socdem['party_rk'].to_frame()\n",
    "\n",
    "# Выведем все транзакции, совершаемые в периоде времени [date4, date1]\n",
    "month_3_pre_cut, month_3_final_cut  = cutDate(date4, date1)\n",
    "month_3_pre_cut"
   ]
  },
  {
   "cell_type": "code",
   "execution_count": null,
   "metadata": {},
   "outputs": [],
   "source": [
    "# Пройдем по каждой из 37 категорий и посчитаем среднюю сумму трат, сгруппированных по пользователям, \n",
    "# а затем занесем новый получившийся столбец в общую таблицу df_pr4\n",
    "\n",
    "res4 = pd.DataFrame()\n",
    "for i in range(37):\n",
    "    v4_1 = month_3_pre_cut[month_3_pre_cut['category'] == i]\n",
    "    v4_2 = v4_1[['party_rk', 'transaction_amt_rur']]\n",
    "    feature4 = v4_2.groupby(['party_rk']).mean()\n",
    "    name2 = 'feature_4_' + str(i)\n",
    "    feature4 = feature4.rename(columns={'transaction_amt_rur': name2}) \n",
    "    df_pr4 = pd.merge(df_pr4, feature4, left_on='party_rk', right_on='party_rk', how='left') "
   ]
  },
  {
   "cell_type": "code",
   "execution_count": null,
   "metadata": {},
   "outputs": [],
   "source": [
    "# Заполним нулями все поля для пользователей, которые ничего не покупали в рассматриваемой категории за данные 3 месяца\n",
    "final_feature4 = df_pr4.fillna(0)"
   ]
  },
  {
   "cell_type": "markdown",
   "metadata": {},
   "source": [
    "Получаем таблицу, 37-ью столбцами которой являются категории покупок, строками - пользователи, а на перечении стоит искомый признак:"
   ]
  },
  {
   "cell_type": "code",
   "execution_count": null,
   "metadata": {},
   "outputs": [],
   "source": [
    "final_feature4"
   ]
  },
  {
   "cell_type": "markdown",
   "metadata": {},
   "source": [
    "### Признак №5 <a class=\"anchor\" id=\"ch95\"></a>"
   ]
  },
  {
   "cell_type": "markdown",
   "metadata": {},
   "source": [
    "### Признак №6 <a class=\"anchor\" id=\"ch96\"></a>"
   ]
  },
  {
   "cell_type": "markdown",
   "metadata": {},
   "source": [
    "### Признак №7 <a class=\"anchor\" id=\"ch97\"></a>"
   ]
  },
  {
   "cell_type": "markdown",
   "metadata": {},
   "source": [
    "### Признак №8 <a class=\"anchor\" id=\"ch98\"></a>"
   ]
  },
  {
   "cell_type": "markdown",
   "metadata": {},
   "source": [
    "<strong>Признак:   </strong> \n",
    "$\\frac{\\mbox{(Количество покупок у человека в конкретной категории в данном месяце)}}{\\mbox{(Общее количество транзакций человека в конкретном месяце)}}$\n",
    "\n",
    "Посчитаем данный признак поочередно для трёх месяцев. Получим \n",
    "\n",
    "$\\mbox{Количество категорий}\\cdot 3\\mbox{ месяца} = 37\\cdot3=111$ - новых столбцов для итоговой единой таблицы."
   ]
  },
  {
   "cell_type": "markdown",
   "metadata": {},
   "source": [
    "Укажем даты начала и конца крайних трех месяцев тренировочной выборки:"
   ]
  },
  {
   "cell_type": "code",
   "execution_count": 89,
   "metadata": {},
   "outputs": [],
   "source": [
    "date1 = datetime.datetime(2019,11,30)\n",
    "date2 = datetime.datetime(2019,10,31)\n",
    "date3 = datetime.datetime(2019,9,30)\n",
    "date4 = datetime.datetime(2019,8,31)"
   ]
  },
  {
   "cell_type": "markdown",
   "metadata": {},
   "source": [
    "Создадим 3 датафрейма, в которых столбцом будет party_rk, а в строках будут все покупки, совершенные клиентами в\n",
    " соответствующем месяце:"
   ]
  },
  {
   "cell_type": "code",
   "execution_count": null,
   "metadata": {},
   "outputs": [],
   "source": [
    "# Выпишем все party_rk всех пользователей\n",
    "df_pr8_0 = df_socdem['party_rk'].to_frame()\n",
    "\n",
    "\n",
    "# Функция для вывода транзакций в указанном периоде\n",
    "def cutDate(start_date, stop_date):\n",
    "    v1_1 = df_train[df_train['transaction_dttm'] <= stop_date]\n",
    "    pre_cut = v1_1[start_date < v1_1['transaction_dttm']]\n",
    "    final_cut = pre_cut['party_rk'].to_frame()\n",
    "    return pre_cut, final_cut\n",
    "\n",
    "\n",
    "# Функция для вычисления 8-ого признака\n",
    "def findFeature8(pre_cut, final_cut, df_pr8, num):\n",
    "    res8 = pd.DataFrame()\n",
    "    for i in range(37):\n",
    "        v1_4 = pre_cut[pre_cut['category'] == i]\n",
    "        v1_5 = v1_4['party_rk'].to_frame()\n",
    "        numerator = v1_5['party_rk'].value_counts().to_frame().reset_index()\n",
    "        res8 = denominator.merge(numerator, on='index')\n",
    "        feature8 = res8['party_rk_y'] / res8['party_rk_x']\n",
    "        name1 = 'feature' + str(num) +'_8_' + str(i)\n",
    "        res8[name1] = feature8\n",
    "        fin8 = pd.DataFrame()\n",
    "        fin8['party_rk'] = res8['index']\n",
    "        fin8[name1] = feature8\n",
    "        df_pr8 = pd.merge(df_pr8, fin8, left_on='party_rk', right_on='party_rk', how='left')\n",
    "    return df_pr8\n",
    "\n",
    "# Запустим функции для получения столбцов-признаков\n",
    "pre_cut1, final_cut1 = cutDate(date2, date1)\n",
    "pre_cut2, final_cut2 = cutDate(date3, date2)\n",
    "pre_cut3, final_cut3 = cutDate(date4, date3)   \n",
    "    \n",
    "df_pr8_1 = findFeature8(pre_cut1, final_cut1, df_pr8_0, 1)\n",
    "df_pr8_2 = findFeature8(pre_cut2, final_cut2, df_pr8_1, 2)\n",
    "df_pr8_3 = findFeature8(pre_cut3, final_cut3, df_pr8_2, 3)\n",
    "\n",
    "\n",
    "# Заполним нулями все поля, характеризующие пользователя + категорию + месяц, когда покупки вообще не совершались\n",
    "final_feature8 = df_pr8_3.fillna(0)"
   ]
  },
  {
   "cell_type": "markdown",
   "metadata": {},
   "source": [
    "Получаем таблицу, столбцами которой являются Один из 3 месяцев + Одна из 37 категорий, строками - пользователи, а на перечении стоит искомый признак:"
   ]
  },
  {
   "cell_type": "code",
   "execution_count": null,
   "metadata": {},
   "outputs": [],
   "source": [
    "final_feature8"
   ]
  },
  {
   "cell_type": "markdown",
   "metadata": {},
   "source": [
    "## Создание единой таблицы  <a class=\"anchor\" id=\"ch10\"></a>"
   ]
  },
  {
   "cell_type": "code",
   "execution_count": null,
   "metadata": {},
   "outputs": [],
   "source": []
  }
 ],
 "metadata": {
  "colab": {
   "collapsed_sections": [
    "Gjlkz_OGg3uf",
    "-4eX5_e4g3uk",
    "FsFKWLXpg3ur",
    "Cbcalxrdg3uv",
    "D4wHQonAg3u0",
    "g8OMghWQg3u3",
    "JYYoLCqig3u8"
   ],
   "name": "temp_version.ipynb",
   "provenance": []
  },
  "kernelspec": {
   "display_name": "Python 3",
   "language": "python",
   "name": "python3"
  },
  "language_info": {
   "codemirror_mode": {
    "name": "ipython",
    "version": 3
   },
   "file_extension": ".py",
   "mimetype": "text/x-python",
   "name": "python",
   "nbconvert_exporter": "python",
   "pygments_lexer": "ipython3",
   "version": "3.8.8"
  }
 },
 "nbformat": 4,
 "nbformat_minor": 1
}
